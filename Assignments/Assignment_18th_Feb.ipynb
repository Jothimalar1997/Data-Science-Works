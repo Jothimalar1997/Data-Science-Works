{
  "nbformat": 4,
  "nbformat_minor": 0,
  "metadata": {
    "colab": {
      "provenance": []
    },
    "kernelspec": {
      "name": "python3",
      "display_name": "Python 3"
    },
    "language_info": {
      "name": "python"
    }
  },
  "cells": [
    {
      "cell_type": "code",
      "execution_count": 1,
      "metadata": {
        "colab": {
          "base_uri": "https://localhost:8080/",
          "height": 70
        },
        "id": "mMUQwqWxneDb",
        "outputId": "1ebcb5f5-7997-4200-dd5f-53ea91fa6dea"
      },
      "outputs": [
        {
          "output_type": "execute_result",
          "data": {
            "text/plain": [
              "'API stands for Appliaction Programming Interface. It is a software interface that allows two homogenous or heterogenous appliactions to interact with ecah other.\\nAPI is tha collection of software functions and procedure.\\nIt acts as an intermediate layer that process data transfer between different applications.\\nExamples:\\n(i) Universal logins - Allows user to login to websites by useing facebook,twitter and email\\n(ii) Travel booking apps\\n(iii) Payment via gpay, phonepe'"
            ],
            "application/vnd.google.colaboratory.intrinsic+json": {
              "type": "string"
            }
          },
          "metadata": {},
          "execution_count": 1
        }
      ],
      "source": [
        "# 1) API\n",
        "'''API stands for Appliaction Programming Interface. It is a software interface that allows two homogenous or heterogenous appliactions to interact with ecah other.\n",
        "API is tha collection of software functions and procedure.\n",
        "It acts as an intermediate layer that process data transfer between different applications.\n",
        "Examples:\n",
        "(i) Universal logins - Allows user to login to websites by useing facebook,twitter and email\n",
        "(ii) Travel booking apps\n",
        "(iii) Payment via gpay, phonepe'''"
      ]
    },
    {
      "cell_type": "code",
      "source": [
        "# 2) Advantages and Disadvantages of API:\n",
        "'''Advantages:\n",
        "(i) Helps in simplification of code of the client-side.\n",
        "(ii) Never calls a particular service. eg: client interaction with API gataway.\n",
        "(iii) It encloses the whole internal structure of web applications.\n",
        "(iv) Expose service data to browser.\n",
        "(v) Supports traditional CRUD operations as it uses HTTP verbs.\n",
        "(vi) It is easy to define.\n",
        "Disadvantages:\n",
        "(i) Web application services will be shown only if the API is upto date.\n",
        "(ii) Time complexity increases in case of heavyweight process. \n",
        "(iii) Maintenance cost is very high.\n",
        "(iv) API creation is time consuming.'''"
      ],
      "metadata": {
        "colab": {
          "base_uri": "https://localhost:8080/",
          "height": 88
        },
        "id": "OodCH4rppqV6",
        "outputId": "2282c260-aed2-4b66-e6e2-6ceedce3524d"
      },
      "execution_count": 2,
      "outputs": [
        {
          "output_type": "execute_result",
          "data": {
            "text/plain": [
              "'Advantages:\\n(i) Helps in simplification of code of the client-side.\\n(ii) Never calls a particular service. eg: client interaction with API gataway.\\n(iii) It encloses the whole internal structure of web applications.\\n(iv) Expose service data to browser.\\n(v) Supports traditional CRUD operations as it uses HTTP verbs.\\n(vi) It is easy to define.\\nDisadvantages:\\n(i) Web application services will be shown only if the API is upto date.\\n(ii) Time complexity increases in case of heavyweight process. \\n(iii) Maintenance cost is very high.\\n(iv) API creation is time consuming.'"
            ],
            "application/vnd.google.colaboratory.intrinsic+json": {
              "type": "string"
            }
          },
          "metadata": {},
          "execution_count": 2
        }
      ]
    },
    {
      "cell_type": "code",
      "source": [
        "# 3) Difference between API and Web API:\n",
        "'''(i) API uses TCP,SMTP AND HTTP protocols. Web API uses Http protocols.\n",
        "(ii) All API's are not web services. But all web services are API.\n",
        "(iii) API supports xml,json or any other formats. Web API supports xml.\n",
        "(iv) API is light weight architecture. Since Web API uses SOAP protocol it is not light weight.'''"
      ],
      "metadata": {
        "colab": {
          "base_uri": "https://localhost:8080/",
          "height": 53
        },
        "id": "5z5HTuNUr_dY",
        "outputId": "edfbfc30-b1bd-4903-b0a3-9add78b73215"
      },
      "execution_count": 3,
      "outputs": [
        {
          "output_type": "execute_result",
          "data": {
            "text/plain": [
              "\"(i) API uses TCP,SMTP AND HTTP protocols. Web API uses Http protocols.\\n(ii) All API's are not web services. But all web services are API.\\n(iii) API supports xml,json or any other formats. Web API supports xml.\\n(iv) API is light weight architecture. Since Web API uses SOAP protocol it is not light weight.\""
            ],
            "application/vnd.google.colaboratory.intrinsic+json": {
              "type": "string"
            }
          },
          "metadata": {},
          "execution_count": 3
        }
      ]
    },
    {
      "cell_type": "code",
      "source": [
        "# 4) REST and SOAP architectures:\n",
        "'''REST:\n",
        "(i) REST stands for Representational state transfer.\n",
        "(ii) It is a client Server architecture where client sends the request and server sends the response.\n",
        "(iii) It is stateless.\n",
        "(iv) It consists of cache where the responses from the server is cached.\n",
        "(v) It has uniform interface which uses HTTP verbs-get,put,post,delete and other hyperlinks\n",
        "SOAP:\n",
        "(i) SOAP -Simple object access protocol\n",
        "(ii) It is a networl protocol used to exchange structured data.\n",
        "(iii) It uses Xml for data transfer.\n",
        "(iv) It consists of header,body and envelope in data transfer.\n",
        "Disadvantage of SOAP:\n",
        "(i)  SOAP uses xml and it doesnot use any other format.\n",
        "(ii) Platform is slow since its payload is large.\n",
        "(iii) It is hard to test in browsers.\n",
        "(iv) It does not hold any stateful reference to remote objects.'''"
      ],
      "metadata": {
        "colab": {
          "base_uri": "https://localhost:8080/",
          "height": 105
        },
        "id": "MGQAxzkbwjo-",
        "outputId": "756726f5-8d5f-4adb-895b-7f0a36fd278f"
      },
      "execution_count": 4,
      "outputs": [
        {
          "output_type": "execute_result",
          "data": {
            "text/plain": [
              "'REST:\\n(i) REST stands for Representational state transfer.\\n(ii) It is a client Server architecture where client sends the request and server sends the response.\\n(iii) It is stateless.\\n(iv) It consists of cache where the responses from the server is cached.\\n(v) It has uniform interface which uses HTTP verbs-get,put,post,delete and other hyperlinks\\nSOAP:\\n(i) SOAP -Simple object access protocol\\n(ii) It is a networl protocol used to exchange structured data.\\n(iii) It uses Xml for data transfer.\\n(iv) It consists of header,body and envelope in data transfer.\\nDisadvantage of SOAP:\\n(i)  SOAP uses xml and it doesnot use any other format.\\n(ii) Platform is slow since its payload is large.\\n(iii) It is hard to test in browsers.\\n(iv) It does not hold any stateful reference to remote objects.'"
            ],
            "application/vnd.google.colaboratory.intrinsic+json": {
              "type": "string"
            }
          },
          "metadata": {},
          "execution_count": 4
        }
      ]
    },
    {
      "cell_type": "code",
      "source": [
        "# 5) Differnce between REST and SOAP architecture:\n",
        "'''(i) REST -Representational state transfer. SOAP -Simple object access protocol.\n",
        "(ii) REST uses Http protocol. SOAP uses TCP/SMTP protocol.\n",
        "(iii) REST is known for simplicity,scalibilty and flexibilty. SOAP is not much suited for scalability and fleibilty.\n",
        "(iv) REST is less secure. SOAP is more secure.\n",
        "(v) REST is mostly used in web based applications. SOAP is mostly used in offline appliactions.\n",
        "(vi) REST is less-structured. SOAP is highly structured.'''"
      ],
      "metadata": {
        "colab": {
          "base_uri": "https://localhost:8080/",
          "height": 70
        },
        "id": "6lX4sYvIt9kH",
        "outputId": "3580ab90-18be-46c1-ced3-f05144f3b21d"
      },
      "execution_count": 5,
      "outputs": [
        {
          "output_type": "execute_result",
          "data": {
            "text/plain": [
              "'(i) REST -Representational state transfer. SOAP -Simple object access protocol.\\n(ii) REST uses Http protocol. SOAP uses TCP/SMTP protocol.\\n(iii) REST is known for simplicity,scalibilty and flexibilty. SOAP is not much suited for scalability and fleibilty.\\n(iv) REST is less secure. SOAP is more secure.\\n(v) REST is mostly used in web based applications. SOAP is mostly used in offline appliactions.\\n(vi) REST is less-structured. SOAP is highly structured.'"
            ],
            "application/vnd.google.colaboratory.intrinsic+json": {
              "type": "string"
            }
          },
          "metadata": {},
          "execution_count": 5
        }
      ]
    }
  ]
}