{
  "nbformat": 4,
  "nbformat_minor": 0,
  "metadata": {
    "colab": {
      "provenance": []
    },
    "kernelspec": {
      "name": "python3",
      "display_name": "Python 3"
    },
    "language_info": {
      "name": "python"
    }
  },
  "cells": [
    {
      "cell_type": "code",
      "source": [
        "# 1) Characteristics of Tuple:\n",
        "'''(i) Tuple performs similar oprations that of list but it is Immutable.\n",
        "   (ii) It has only 2 functions- index(),count().\n",
        "   (iii) It is enclosed within () brackets.\n",
        "   (iv) It is ordered collection and can store duplicate elements'''\n",
        "\n",
        "# Yes, Tuple is Immutable"
      ],
      "metadata": {
        "colab": {
          "base_uri": "https://localhost:8080/",
          "height": 53
        },
        "id": "NUVeY40zQETb",
        "outputId": "c9f5181b-fe05-4b40-c6a1-193344d3cf10"
      },
      "execution_count": 1,
      "outputs": [
        {
          "output_type": "execute_result",
          "data": {
            "text/plain": [
              "'(i) Tuple performs similar oprations that of list but it is Immutable.\\n   (ii) It has only 2 functions- index(),count().\\n   (iii) It is enclosed within () brackets.\\n   (iv) It is ordered collection and can store duplicate elements'"
            ],
            "application/vnd.google.colaboratory.intrinsic+json": {
              "type": "string"
            }
          },
          "metadata": {},
          "execution_count": 1
        }
      ]
    },
    {
      "cell_type": "code",
      "source": [
        "# 2) Methods in Tuple:\n",
        "''' Tuple has only 2 methods- index(),count(). Since Tuple is immutable, manipulation operations such as add,remove,item assignments can't be done as of list'''\n",
        "tuple1=(1,4,\"python\",2.3,True,\"python\",\"programming\")\n",
        "print(tuple1.index(\"programming\"))\n",
        "print(tuple1.count(\"python\"))\n"
      ],
      "metadata": {
        "colab": {
          "base_uri": "https://localhost:8080/"
        },
        "id": "nzhxdO6SQ6U4",
        "outputId": "9fed3e8a-4f52-4f68-decf-58f04b530adb"
      },
      "execution_count": 2,
      "outputs": [
        {
          "output_type": "stream",
          "name": "stdout",
          "text": [
            "6\n",
            "2\n"
          ]
        }
      ]
    },
    {
      "cell_type": "code",
      "source": [
        "# 3) To remove duplicate elements in the given list:\n",
        "  # Set collection data type does not allow duplicate values in python.\n",
        "List={1,1,1,2,1,3,1,4,2,1,2,2,2,3,2,4,3,1,3,2,3,3,3,4,4,1,4,2,4,3,4,4}\n",
        "set1=set(List)\n",
        "print(set1)\n"
      ],
      "metadata": {
        "colab": {
          "base_uri": "https://localhost:8080/"
        },
        "id": "QsqZxUY4SkVA",
        "outputId": "fa069c50-245b-4464-a81b-9d738dde8f33"
      },
      "execution_count": 3,
      "outputs": [
        {
          "output_type": "stream",
          "name": "stdout",
          "text": [
            "{1, 2, 3, 4}\n"
          ]
        }
      ]
    },
    {
      "cell_type": "code",
      "source": [
        "# 4) union() and update() methods in set:\n",
        "'''union() method returns a new set which contains all the elements from both sets.\n",
        "    update() method returns the first set with the elements in the second set.'''\n",
        "set1={1,2,3,4}\n",
        "set2={3,4,5,6}\n",
        "print(set1.union(set2))\n",
        "set2.update(set1)\n",
        "print(set2)"
      ],
      "metadata": {
        "colab": {
          "base_uri": "https://localhost:8080/"
        },
        "id": "7B8m7ALETUkV",
        "outputId": "bf933945-7690-4942-c8a9-c3b5da6b9c9d"
      },
      "execution_count": 4,
      "outputs": [
        {
          "output_type": "stream",
          "name": "stdout",
          "text": [
            "{1, 2, 3, 4, 5, 6}\n",
            "{1, 2, 3, 4, 5, 6}\n"
          ]
        }
      ]
    },
    {
      "cell_type": "code",
      "source": [
        "# 5) Dictionary:\n",
        "'''Dictionary is an ordered collection datatype which stores the values in Key:value pair.\n",
        "It does not allow duplicate values.'''\n",
        "dic={\"country\":\"India\",\"state\":\"Tamil nadu\",\"city\":\"chennai\"}\n",
        "print(dic)"
      ],
      "metadata": {
        "colab": {
          "base_uri": "https://localhost:8080/"
        },
        "id": "oQzNSv4wV6pw",
        "outputId": "52e0b061-c44b-42b7-e66b-352962bd13f9"
      },
      "execution_count": 5,
      "outputs": [
        {
          "output_type": "stream",
          "name": "stdout",
          "text": [
            "{'country': 'India', 'state': 'Tamil nadu', 'city': 'chennai'}\n"
          ]
        }
      ]
    },
    {
      "cell_type": "code",
      "source": [
        "# 6) Nested Dictionary:\n",
        "# Yes, We can create a nested dictionary\n",
        "dic={1:{\"colors\":[\"Blue\",\"Green\",\"Red\"]},2:{\"objects\":[\"Ball\",\"Book\",\"Table\"]}}\n",
        "print(dic)"
      ],
      "metadata": {
        "colab": {
          "base_uri": "https://localhost:8080/"
        },
        "id": "9382ipYsW5yS",
        "outputId": "aa255364-b518-4307-a521-59bb5a27c18e"
      },
      "execution_count": 6,
      "outputs": [
        {
          "output_type": "stream",
          "name": "stdout",
          "text": [
            "{1: {'colors': ['Blue', 'Green', 'Red']}, 2: {'objects': ['Ball', 'Book', 'Table']}}\n"
          ]
        }
      ]
    },
    {
      "cell_type": "code",
      "source": [
        "# 7) setdefault() method:\n",
        "dic1={\"language\":\"Python\",\"course\":\"Data Science Masters\"}\n",
        "dic1.setdefault(\"topics\",[\"Python\",\"Machine Learning\",\"Deep Learning\"])\n",
        "print(dic1)"
      ],
      "metadata": {
        "colab": {
          "base_uri": "https://localhost:8080/"
        },
        "id": "pDRtjyAPaG1l",
        "outputId": "bc3f37c0-01b9-4dcd-86a8-298d99cc0b9a"
      },
      "execution_count": 7,
      "outputs": [
        {
          "output_type": "stream",
          "name": "stdout",
          "text": [
            "{'language': 'Python', 'course': 'Data Science Masters', 'topics': ['Python', 'Machine Learning', 'Deep Learning']}\n"
          ]
        }
      ]
    },
    {
      "cell_type": "code",
      "source": [
        "# 8) Three view objects in dictionary:\n",
        "'''dict.keys(),dict.values(),dict.items() are the three view objects in dictionary.'''\n",
        "dict1={'sport':'cricket','Teams':['India','Australia','England','South Africa','Sri Lanka','New Zealand']}\n",
        "print(\"Keys:\",dict1.keys())\n",
        "print(\"Values:\",dict1.values())\n",
        "print(\"Items:\",dict1.items())"
      ],
      "metadata": {
        "colab": {
          "base_uri": "https://localhost:8080/"
        },
        "id": "gQQA9HLZbJYR",
        "outputId": "2187d886-0515-4606-c57d-69952085f591"
      },
      "execution_count": 8,
      "outputs": [
        {
          "output_type": "stream",
          "name": "stdout",
          "text": [
            "Keys: dict_keys(['sport', 'Teams'])\n",
            "Values: dict_values(['cricket', ['India', 'Australia', 'England', 'South Africa', 'Sri Lanka', 'New Zealand']])\n",
            "Items: dict_items([('sport', 'cricket'), ('Teams', ['India', 'Australia', 'England', 'South Africa', 'Sri Lanka', 'New Zealand'])])\n"
          ]
        }
      ]
    }
  ]
}