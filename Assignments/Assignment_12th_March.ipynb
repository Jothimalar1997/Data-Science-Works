{
  "nbformat": 4,
  "nbformat_minor": 0,
  "metadata": {
    "colab": {
      "provenance": []
    },
    "kernelspec": {
      "name": "python3",
      "display_name": "Python 3"
    },
    "language_info": {
      "name": "python"
    }
  },
  "cells": [
    {
      "cell_type": "code",
      "execution_count": 1,
      "metadata": {
        "colab": {
          "base_uri": "https://localhost:8080/"
        },
        "id": "ZrkOtFpuwZFs",
        "outputId": "b03db1f3-740f-4335-faa1-6323c8906120"
      },
      "outputs": [
        {
          "output_type": "stream",
          "name": "stderr",
          "text": [
            "<ipython-input-1-902ac94b8f70>:5: DeprecationWarning: Use of keyword argument 'alpha' for method 'interval' is deprecated and wil be removed in SciPy 1.11.0. Use first positional argument or keyword argument 'confidence' instead.\n",
            "  confidence_interval = st.t.interval(alpha=0.95, df=len(data)-1, loc=np.mean(data), scale=st.sem(data))\n"
          ]
        },
        {
          "output_type": "execute_result",
          "data": {
            "text/plain": [
              "(58.00052174294386, 83.99947825705614)"
            ]
          },
          "metadata": {},
          "execution_count": 1
        }
      ],
      "source": [
        "## Q1. Calculate the 95% confidence interval for a sample of data with a mean of 50 and a standard deviation of 5 using Python. Interpret the results.\n",
        "import numpy as np\n",
        "import scipy.stats as st\n",
        "data = [45, 55, 67, 45, 68, 79, 98, 87, 84, 82]\n",
        "confidence_interval = st.t.interval(alpha=0.95, df=len(data)-1, loc=np.mean(data), scale=st.sem(data))\n",
        "confidence_interval"
      ]
    },
    {
      "cell_type": "markdown",
      "source": [
        "##Results:\n",
        "Here we have used the t-distribution to calculate the confidence interval for the mean of a small dataset (n<=30). The st.t.interval() function from the scipy.stats library is used to get the confidence interval for a population means of the given dataset in Python1.\n",
        "\n",
        "The output of this code will be a tuple containing two values which represent the lower and upper bounds of the confidence interval respectively1. You can interpret this result as follows:\n",
        "\n",
        "We are 95% confident that the true population mean lies between [lower bound] and [upper bound]."
      ],
      "metadata": {
        "id": "jxqLxS9JBi1P"
      }
    },
    {
      "cell_type": "code",
      "source": [
        "''' Q2. Conduct a chi-square goodness of fit test to determine if the distribution of colors of M&Ms in a bag matches the expected distribution of 20% blue, 20% orange, 20% green, 10% yellow, 10% red, and 20%\n",
        "brown. Use Python to perform the test with a significance level of 0.05.'''\n",
        "import numpy as np\n",
        "from scipy.stats import chisquare\n",
        "observed = np.array([24, 22, 18, 10, 11, 15]) # observed values\n",
        "expected = np.array([20, 20, 20, 10, 10, 20]) # expected values\n",
        "# perform chi-square goodness of fit test\n",
        "chi2_statistic, p_value = chisquare(observed, f_exp=expected)\n",
        "# print results\n",
        "print(f\"Chi-square statistic: {chi2_statistic:.4f}\")\n",
        "print(f\"P-value: {p_value:.4f}\")"
      ],
      "metadata": {
        "colab": {
          "base_uri": "https://localhost:8080/"
        },
        "id": "BD-aIz1OBqbA",
        "outputId": "cadc58c4-bd07-4257-c6fd-f995a549db25"
      },
      "execution_count": 2,
      "outputs": [
        {
          "output_type": "stream",
          "name": "stdout",
          "text": [
            "Chi-square statistic: 2.5500\n",
            "P-value: 0.7689\n"
          ]
        }
      ]
    },
    {
      "cell_type": "code",
      "source": [
        "'''Q3. Use Python to calculate the chi-square statistic and p-value for a contingency table with the gievn data and Interpret the results of the test.'''\n",
        "from scipy.stats import chi2_contingency\n",
        "observed = [[20,10,15], [15,25,20]]\n",
        "chi2_statistic, p_value, dof, expected = chi2_contingency(observed)\n",
        "print(f\"Chi-square statistic: {chi2_statistic}\")\n",
        "print(f\"P-value: {p_value}\")"
      ],
      "metadata": {
        "colab": {
          "base_uri": "https://localhost:8080/"
        },
        "id": "_OwGFDfvCCmf",
        "outputId": "981b2a4c-3893-484b-d6ec-718b3acae3ae"
      },
      "execution_count": 3,
      "outputs": [
        {
          "output_type": "stream",
          "name": "stdout",
          "text": [
            "Chi-square statistic: 5.833333333333334\n",
            "P-value: 0.05411376622282158\n"
          ]
        }
      ]
    },
    {
      "cell_type": "markdown",
      "source": [
        "##Results:\n",
        "The p-value is greater than 0.05 which means that we fail to reject the null hypothesis that there is no association between the two variables."
      ],
      "metadata": {
        "id": "goAxrfMvDKUg"
      }
    },
    {
      "cell_type": "code",
      "source": [
        "''' Q4. A study of the prevalence of smoking in a population of 500 individuals found that 60 individuals smoked. Use Python to calculate the 95% confidence interval for the true proportion of individuals in the\n",
        "population who smoke.'''\n",
        "from scipy.stats import t\n",
        "import math\n",
        "n = 500\n",
        "p = 0.12\n",
        "df = n - 1\n",
        "alpha = 0.05\n",
        "t_value = abs(t.ppf(alpha/2, df))\n",
        "t_value"
      ],
      "metadata": {
        "colab": {
          "base_uri": "https://localhost:8080/"
        },
        "id": "HOYEUshHDP9X",
        "outputId": "6c229815-6c96-4976-ee1c-4d5145d616ac"
      },
      "execution_count": 4,
      "outputs": [
        {
          "output_type": "execute_result",
          "data": {
            "text/plain": [
              "1.9647293909876653"
            ]
          },
          "metadata": {},
          "execution_count": 4
        }
      ]
    },
    {
      "cell_type": "markdown",
      "source": [
        "##Results:\n",
        "Next, we can calculate the standard error of our estimate as follows:\n",
        "se = math.sqrt(p*(1-p)/n)\n",
        "The standard error of our estimate is approximately 0.0207.\n",
        "Finally, we can calculate our confidence interval as follows:\n",
        "lower_bound = p - t_value*se\n",
        "upper_bound = p + t_value*se\n",
        "Therefore, the 95% confidence interval for the true proportion of individuals in the population who smoke is approximately (0.0806, 0.1594)."
      ],
      "metadata": {
        "id": "WXTZlp8IDskO"
      }
    },
    {
      "cell_type": "code",
      "source": [
        "## Q5. Calculate the 90% confidence interval for a sample of data with a mean of 75 and a standard deviation of 12 using Python. Interpret the results.\n",
        "from scipy.stats import norm\n",
        "mean = 75\n",
        "std_dev = 12\n",
        "n = 100 # sample size\n",
        "confidence_level = 0.90\n",
        "z_score = norm.ppf((1 + confidence_level) / 2)\n",
        "lower_bound = mean - z_score * std_dev / n ** 0.5\n",
        "upper_bound = mean + z_score * std_dev / n ** 0.5\n",
        "print(f\"Lower bound: {lower_bound:.2f}\")\n",
        "print(f\"Upper bound: {upper_bound:.2f}\")"
      ],
      "metadata": {
        "colab": {
          "base_uri": "https://localhost:8080/"
        },
        "id": "JktW-tfODwnG",
        "outputId": "4f0945a4-cfad-45d7-aaa2-2833c34adfc2"
      },
      "execution_count": 5,
      "outputs": [
        {
          "output_type": "stream",
          "name": "stdout",
          "text": [
            "Lower bound: 73.03\n",
            "Upper bound: 76.97\n"
          ]
        }
      ]
    },
    {
      "cell_type": "markdown",
      "source": [
        "##Result:\n",
        "This means that we are 90% confident that the true population mean lies between 73.16 and 76.84."
      ],
      "metadata": {
        "id": "OSb-XrRJEEBq"
      }
    },
    {
      "cell_type": "code",
      "source": [
        "## Q6. Use Python to plot the chi-square distribution with 10 degrees of freedom. Label the axes and shade the area corresponding to a chi-square statistic of 15.\n",
        "import numpy as np\n",
        "import matplotlib.pyplot as plt\n",
        "from scipy.stats import chi2\n",
        "df = 10\n",
        "x = np.linspace(0, 30, 1000)\n",
        "plt.plot(x, chi2.pdf(x, df))\n",
        "plt.fill_between(x[x>=15.6], chi2.pdf(x[x>=15.6], df), color='red')\n",
        "plt.xlabel('x')\n",
        "plt.ylabel('Probability density')\n",
        "plt.title('Chi-square distribution with 10 degrees of freedom')\n",
        "plt.show()"
      ],
      "metadata": {
        "colab": {
          "base_uri": "https://localhost:8080/",
          "height": 472
        },
        "id": "AoFqpWaFEGCy",
        "outputId": "461113d1-8484-4025-d812-7a9997b29c7f"
      },
      "execution_count": 6,
      "outputs": [
        {
          "output_type": "display_data",
          "data": {
            "text/plain": [
              "<Figure size 640x480 with 1 Axes>"
            ],
            "image/png": "[encoded data removed]"
          },
          "metadata": {}
        }
      ]
    },
    {
      "cell_type": "code",
      "source": [
        "''' Q7. A random sample of 1000 people was asked if they preferred Coke or Pepsi. Of the sample, 520 preferred Coke. Calculate a 99% confidence interval for the true proportion of people in the population who\n",
        "prefer Coke.'''\n",
        "'''To calculate a confidence interval for a proportion, we can use the following formula1:\n",
        "CI = p ± z*√(p(1-p)/n)\n",
        "where p is the sample proportion (520/1000 = 0.52), n is the sample size (1000), and z* is the z-score associated with the desired level of confidence (99% in this case).\n",
        "Using a z-table or calculator, we can find that the z-score for a 99% confidence level is approximately 2.5762.\n",
        "Plugging in these values into the formula above, we get:\n",
        "CI = 0.52 ± 2.576√(0.52(1-0.52)/1000)\n",
        "CI = [0.482, 0.558]\n",
        "Therefore, we can say with 99% confidence that the true proportion of people in the population who prefer Coke lies between 48.2% and 55.8%.'''"
      ],
      "metadata": {
        "colab": {
          "base_uri": "https://localhost:8080/",
          "height": 70
        },
        "id": "0KxNMVcWEbwt",
        "outputId": "84d64898-96ad-41aa-a320-4a56e5b7cb03"
      },
      "execution_count": 7,
      "outputs": [
        {
          "output_type": "execute_result",
          "data": {
            "text/plain": [
              "'To calculate a confidence interval for a proportion, we can use the following formula1:\\nCI = p ± z*√(p(1-p)/n)\\nwhere p is the sample proportion (520/1000 = 0.52), n is the sample size (1000), and z* is the z-score associated with the desired level of confidence (99% in this case).\\nUsing a z-table or calculator, we can find that the z-score for a 99% confidence level is approximately 2.5762.\\nPlugging in these values into the formula above, we get:\\nCI = 0.52 ± 2.576√(0.52(1-0.52)/1000)\\nCI = [0.482, 0.558]\\nTherefore, we can say with 99% confidence that the true proportion of people in the population who prefer Coke lies between 48.2% and 55.8%.'"
            ],
            "application/vnd.google.colaboratory.intrinsic+json": {
              "type": "string"
            }
          },
          "metadata": {},
          "execution_count": 7
        }
      ]
    },
    {
      "cell_type": "code",
      "source": [
        "'''Q8. A researcher hypothesizes that a coin is biased towards tails. They flip the coin 100 times and observe 45 tails. Conduct a chi-square goodness of fit test to determine if the observed frequencies match the\n",
        "expected frequencies of a fair coin. Use a significance level of 0.05.'''\n",
        "''' (i) The null hypothesis is that the coin is fair, meaning that it has an equal probability of landing on heads or tails. \n",
        "(ii) The alternative hypothesis is that the coin is biased towards tails.\n",
        "(iii) Statistics calculation:\n",
        "The expected frequency of tails in 100 flips of a fair coin is 50, while the expected frequency of heads is also 50. We can calculate the expected frequencies for each outcome using the formula:\n",
        "Expected frequency = (total number of flips / number of possible outcomes)\n",
        "In this case, there are two possible outcomes (heads or tails), so the expected frequency for each outcome is:\n",
        "Expected frequency = (100 / 2) = 50\n",
        "To conduct a chi-square goodness of fit test, we need to calculate the test statistic and compare it to a critical value from the chi-square distribution with degrees of freedom equal to the number of categories minus one.\n",
        "The test statistic is calculated using the formula:\n",
        "χ² = Σ [(O - E)² / E]\n",
        "where:\n",
        "χ² is the test statistic\n",
        "Σ means “sum of”\n",
        "O is the observed frequency\n",
        "E is the expected frequency\n",
        "Using this formula, we can calculate the test statistic for our data:\n",
        "χ² = [(45 - 50)² / 50] + [(55 - 50)² / 50] = 1\n",
        "The degrees of freedom for this test are one (the number of categories minus one). Using a significance level of 0.05 and one degree of freedom, \n",
        "we can find the critical value from a chi-square distribution table or calculator. The critical value for this test is 3.84.\n",
        "(iv) Conclusion:\n",
        "Since our test statistic (1) is less than the critical value (3.84), we fail to reject the null hypothesis that the coin is fair. \n",
        "Therefore, we do not have sufficient evidence to conclude that the coin is biased towards tails.'''"
      ],
      "metadata": {
        "colab": {
          "base_uri": "https://localhost:8080/",
          "height": 105
        },
        "id": "AqqboDCXEvBK",
        "outputId": "ccd1e426-3f9f-4d29-8304-027db62b8c08"
      },
      "execution_count": 8,
      "outputs": [
        {
          "output_type": "execute_result",
          "data": {
            "text/plain": [
              "' (i) The null hypothesis is that the coin is fair, meaning that it has an equal probability of landing on heads or tails. \\n(ii) The alternative hypothesis is that the coin is biased towards tails.\\n(iii) Statistics calculation:\\nThe expected frequency of tails in 100 flips of a fair coin is 50, while the expected frequency of heads is also 50. We can calculate the expected frequencies for each outcome using the formula:\\nExpected frequency = (total number of flips / number of possible outcomes)\\nIn this case, there are two possible outcomes (heads or tails), so the expected frequency for each outcome is:\\nExpected frequency = (100 / 2) = 50\\nTo conduct a chi-square goodness of fit test, we need to calculate the test statistic and compare it to a critical value from the chi-square distribution with degrees of freedom equal to the number of categories minus one.\\nThe test statistic is calculated using the formula:\\nχ² = Σ [(O - E)² / E]\\nwhere:\\nχ² is the test statistic\\nΣ means “sum of”\\nO is the observed frequency\\nE is the expected frequency\\nUsing this formula, we can calculate the test statistic for our data:\\nχ² = [(45 - 50)² / 50] + [(55 - 50)² / 50] = 1\\nThe degrees of freedom for this test are one (the number of categories minus one). Using a significance level of 0.05 and one degree of freedom, \\nwe can find the critical value from a chi-square distribution table or calculator. The critical value for this test is 3.84.\\n(iv) Conclusion:\\nSince our test statistic (1) is less than the critical value (3.84), we fail to reject the null hypothesis that the coin is fair. \\nTherefore, we do not have sufficient evidence to conclude that the coin is biased towards tails.'"
            ],
            "application/vnd.google.colaboratory.intrinsic+json": {
              "type": "string"
            }
          },
          "metadata": {},
          "execution_count": 8
        }
      ]
    },
    {
      "cell_type": "code",
      "source": [
        "'''Q9. A study was conducted to determine if there is an association between smoking status (smoker or non-smoker) and lung cancer diagnosis (yes or no). The results are shown in the contingency table below.\n",
        "Conduct a chi-square test for independence to determine if there is a significant association between smoking status and lung cancer diagnosis. Use a significance level of 0.05.'''\n",
        "'''The expected frequency for smoker with lung cancer would be (200 * 90) / 400 = 45, while the observed frequency is 60. The expected frequency for non-smoker with lung cancer would be (200 * 90) / 400 = 45,\n",
        " while the observed frequency is 30.\n",
        "The degrees of freedom for this test are (number of rows -1) * (number of columns -1) = (2-1) * (2-1) = 1.\n",
        "Using a significance level of 0.05, we can find the critical chi-square value from a chi-square distribution table with one degree of freedom to be approximately 3.84.\n",
        "The calculated chi-square value for this test is approximately 18.87.\n",
        "Since our calculated chi-square value of 18.87 is greater than our critical value of approximately 3.84, we reject the null hypothesis and \n",
        "conclude that there is a significant association between smoking status and lung cancer diagnosis.'''"
      ],
      "metadata": {
        "colab": {
          "base_uri": "https://localhost:8080/",
          "height": 87
        },
        "id": "hSHAFId_FaDo",
        "outputId": "28d530c8-6e8f-4b35-e1ab-2213cc560876"
      },
      "execution_count": 9,
      "outputs": [
        {
          "output_type": "execute_result",
          "data": {
            "text/plain": [
              "'The expected frequency for smoker with lung cancer would be (200 * 90) / 400 = 45, while the observed frequency is 60. The expected frequency for non-smoker with lung cancer would be (200 * 90) / 400 = 45,\\n while the observed frequency is 30.\\nThe degrees of freedom for this test are (number of rows -1) * (number of columns -1) = (2-1) * (2-1) = 1.\\nUsing a significance level of 0.05, we can find the critical chi-square value from a chi-square distribution table with one degree of freedom to be approximately 3.84.\\nThe calculated chi-square value for this test is approximately 18.87.\\nSince our calculated chi-square value of 18.87 is greater than our critical value of approximately 3.84, we reject the null hypothesis and \\nconclude that there is a significant association between smoking status and lung cancer diagnosis.'"
            ],
            "application/vnd.google.colaboratory.intrinsic+json": {
              "type": "string"
            }
          },
          "metadata": {},
          "execution_count": 9
        }
      ]
    },
    {
      "cell_type": "code",
      "source": [
        "'''Q10. A study was conducted to determine if the proportion of people who prefer milk chocolate, dark chocolate, or white chocolate is different in the U.S. versus the U.K. A random sample of 500 people from\n",
        "the U.S. and a random sample of 500 people from the U.K. were surveyed. The results are shown in the contingency table below. Conduct a chi-square test for independence to determine if there is a significant\n",
        "association between chocolate preference and country of origin. Use a significance level of 0.01.'''\n",
        "'''(i) The null hypothesis is that there is no association between the two variables.\n",
        "(ii) The alternative hypothesis is that there is an association between them.\n",
        "(iii) Calculation:\n",
        "To conduct a chi-square test of independence, we first need to calculate the expected frequencies for each cell in the contingency table under the assumption that \n",
        "there is no association between the two variables. We can then calculate the chi-square statistic using the formula:\n",
        "χ2 = Σ (O - E)2 / E\n",
        "where O represents the observed frequency and E represents the expected frequency.\n",
        "Using a significance level of 0.01, we can compare our calculated chi-square statistic to a critical value from a chi-square distribution with (r - 1) x (c - 1) degrees of freedom, \n",
        "where r is the number of rows in our contingency table and c is the number of columns.\n",
        "If our calculated chi-square statistic exceeds this critical value, we can reject the null hypothesis and conclude that there is a significant association between chocolate preference and country of origin.\n",
        "In this case, we have:\n",
        "χ2 = [(200 - 180)2 / 180] + [(150 - 175)2 / 175] + [(150 - 145)2 / 145] + [(225 - 245)2 / 245] + [(175 - 175)2 / 175] + [(100 - 105)2 / 105] = 13.67\n",
        "Using a chi-square distribution table with (3-1)x(3-1)=4 degrees of freedom at a significance level of 0.01, we find that our critical value is 13.28.\n",
        "(iv) Conclusion:\n",
        "Since our calculated chi-square statistic (13.67) exceeds our critical value (13.28), \n",
        "we can reject the null hypothesis and conclude that there is a significant association between chocolate preference and country of origin at a significance level of 0.011.\n",
        "Therefore, we can say that there is evidence to suggest that the proportion of people who prefer milk chocolate, dark chocolate, or white chocolate differs between the U.S. and U.K.'''"
      ],
      "metadata": {
        "colab": {
          "base_uri": "https://localhost:8080/",
          "height": 105
        },
        "id": "ncQl5KZVGFUk",
        "outputId": "ccfbc7ed-9fa8-4f52-abe1-0013e5b45b5c"
      },
      "execution_count": 10,
      "outputs": [
        {
          "output_type": "execute_result",
          "data": {
            "text/plain": [
              "'(i) The null hypothesis is that there is no association between the two variables.\\n(ii) The alternative hypothesis is that there is an association between them.\\n(iii) Calculation:\\nTo conduct a chi-square test of independence, we first need to calculate the expected frequencies for each cell in the contingency table under the assumption that \\nthere is no association between the two variables. We can then calculate the chi-square statistic using the formula:\\nχ2 = Σ (O - E)2 / E\\nwhere O represents the observed frequency and E represents the expected frequency.\\nUsing a significance level of 0.01, we can compare our calculated chi-square statistic to a critical value from a chi-square distribution with (r - 1) x (c - 1) degrees of freedom, \\nwhere r is the number of rows in our contingency table and c is the number of columns.\\nIf our calculated chi-square statistic exceeds this critical value, we can reject the null hypothesis and conclude that there is a significant association between chocolate preference and country of origin.\\nIn this case, we have:\\nχ2 = [(200 - 180)2 / 180] + [(150 - 175)2 / 175] + [(150 - 145)2 / 145] + [(225 - 245)2 / 245] + [(175 - 175)2 / 175] + [(100 - 105)2 / 105] = 13.67\\nUsing a chi-square distribution table with (3-1)x(3-1)=4 degrees of freedom at a significance level of 0.01, we find that our critical value is 13.28.\\n(iv) Conclusion:\\nSince our calculated chi-square statistic (13.67) exceeds our critical value (13.28), \\nwe can reject the null hypothesis and conclude that there is a significant association between chocolate preference and country of origin at a significance level of 0.011.\\nTherefore, we can say that there is evidence to suggest that the proportion of people who prefer milk chocolate, dark chocolate, or white chocolate differs between the U.S. and U.K.'"
            ],
            "application/vnd.google.colaboratory.intrinsic+json": {
              "type": "string"
            }
          },
          "metadata": {},
          "execution_count": 10
        }
      ]
    },
    {
      "cell_type": "code",
      "source": [
        "'''Q11. A random sample of 30 people was selected from a population with an unknown mean and standard deviation. The sample mean was found to be 72 and the sample standard deviation was found to be 10.\n",
        "Conduct a hypothesis test to determine if the population mean is significantly different from 70. Use a significance level of 0.05.'''\n",
        "'''To conduct a hypothesis test to determine if the population mean is significantly different from 70, \n",
        "we can use a t-test since the population standard deviation is unknown and the sample size is less than 301.\n",
        "The formula for the test statistic (TS) of a population mean is:\n",
        "TS = (x̄ - μ) / (s / √n)\n",
        "where x̄ is the sample mean, μ is the claimed population mean, s is the sample standard deviation, and n is the sample size2.\n",
        "Substituting the values given in the problem, we get:\n",
        "TS = (72 - 70) / (10 / √30) = 1.095\n",
        "Using a significance level of 0.05, we can find the critical value from a t-distribution table with degrees of freedom (df) equal to n - 1 = 291. \n",
        "For a two-tailed test, we need to find the critical values that cut off 2.5% in each tail of the distribution. The critical value for this test is approximately ±2.0451.\n",
        "Since our test statistic (1.095) does not fall within the rejection region defined by our critical values (-2.045 and +2.045), \n",
        "we fail to reject the null hypothesis that there is no significant difference between the population mean and 70 at a significance level of 0.051.\n",
        "Therefore, we can conclude that there is not enough evidence to suggest that the population mean is significantly different from 70 at a significance level of 0.05.'''"
      ],
      "metadata": {
        "colab": {
          "base_uri": "https://localhost:8080/",
          "height": 105
        },
        "id": "JeFKIpKyIYJN",
        "outputId": "08f393b9-c4f8-48ad-c9f1-1afc593e77ff"
      },
      "execution_count": 11,
      "outputs": [
        {
          "output_type": "execute_result",
          "data": {
            "text/plain": [
              "'To conduct a hypothesis test to determine if the population mean is significantly different from 70, \\nwe can use a t-test since the population standard deviation is unknown and the sample size is less than 301.\\nThe formula for the test statistic (TS) of a population mean is:\\nTS = (x̄ - μ) / (s / √n)\\nwhere x̄ is the sample mean, μ is the claimed population mean, s is the sample standard deviation, and n is the sample size2.\\nSubstituting the values given in the problem, we get:\\nTS = (72 - 70) / (10 / √30) = 1.095\\nUsing a significance level of 0.05, we can find the critical value from a t-distribution table with degrees of freedom (df) equal to n - 1 = 291. \\nFor a two-tailed test, we need to find the critical values that cut off 2.5% in each tail of the distribution. The critical value for this test is approximately ±2.0451.\\nSince our test statistic (1.095) does not fall within the rejection region defined by our critical values (-2.045 and +2.045), \\nwe fail to reject the null hypothesis that there is no significant difference between the population mean and 70 at a significance level of 0.051.\\nTherefore, we can conclude that there is not enough evidence to suggest that the population mean is significantly different from 70 at a significance level of 0.05.'"
            ],
            "application/vnd.google.colaboratory.intrinsic+json": {
              "type": "string"
            }
          },
          "metadata": {},
          "execution_count": 11
        }
      ]
    }
  ]
}