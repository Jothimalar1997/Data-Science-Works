{
  "nbformat": 4,
  "nbformat_minor": 0,
  "metadata": {
    "colab": {
      "provenance": []
    },
    "kernelspec": {
      "name": "python3",
      "display_name": "Python 3"
    },
    "language_info": {
      "name": "python"
    }
  },
  "cells": [
    {
      "cell_type": "code",
      "execution_count": 1,
      "metadata": {
        "id": "S4yT3ZlyidnG",
        "colab": {
          "base_uri": "https://localhost:8080/",
          "height": 36
        },
        "outputId": "1aac58f5-4692-4827-fd6b-ff6c25615cee"
      },
      "outputs": [
        {
          "output_type": "execute_result",
          "data": {
            "text/plain": [
              "' The best regression metric for this situation would be Mean Squared Error (MSE) as it measures the average squared difference between predicted and actual values.'"
            ],
            "application/vnd.google.colaboratory.intrinsic+json": {
              "type": "string"
            }
          },
          "metadata": {},
          "execution_count": 1
        }
      ],
      "source": [
        "'''Q1. In order to predict house price based on several characteristics, such as location, square footage,\n",
        "number of bedrooms, etc., you are developing an SVM regression model. Which regression metric in this\n",
        "situation would be the best to employ?'''\n",
        "''' The best regression metric for this situation would be Mean Squared Error (MSE) as it measures the average squared difference between predicted and actual values.'''"
      ]
    },
    {
      "cell_type": "code",
      "source": [
        "'''Q2. You have built an SVM regression model and are trying to decide between using MSE or R-squared as\n",
        "your evaluation metric. Which metric would be more appropriate if your goal is to predict the actual price\n",
        "of a house as accurately as possible?'''\n",
        "''' Mean Squared Error (MSE) would be more appropriate in this scenario as it measures the average squared differences between predicted and actual values, which is more relevant to predicting the actual price of a house accurately.'''"
      ],
      "metadata": {
        "colab": {
          "base_uri": "https://localhost:8080/",
          "height": 36
        },
        "id": "f3Ae6NUhvvow",
        "outputId": "dec250b6-c22f-414f-f264-40a17fb628dc"
      },
      "execution_count": 2,
      "outputs": [
        {
          "output_type": "execute_result",
          "data": {
            "text/plain": [
              "' Mean Squared Error (MSE) would be more appropriate in this scenario as it measures the average squared differences between predicted and actual values, which is more relevant to predicting the actual price of a house accurately.'"
            ],
            "application/vnd.google.colaboratory.intrinsic+json": {
              "type": "string"
            }
          },
          "metadata": {},
          "execution_count": 2
        }
      ]
    },
    {
      "cell_type": "code",
      "source": [
        "'''Q3. You have a dataset with a significant number of outliers and are trying to select an appropriate\n",
        "regression metric to use with your SVM model. Which metric would be the most appropriate in this\n",
        "scenario?'''\n",
        "''' Mean Absolute Error (MAE) would be the most appropriate metric in this scenario as it is less sensitive to outliers compared to other regression metrics like MSE and RMSE.'''"
      ],
      "metadata": {
        "colab": {
          "base_uri": "https://localhost:8080/",
          "height": 36
        },
        "id": "F9z86_lbvxi9",
        "outputId": "439f0a7d-672a-4a26-fb7a-f9582036ac4e"
      },
      "execution_count": 3,
      "outputs": [
        {
          "output_type": "execute_result",
          "data": {
            "text/plain": [
              "' Mean Absolute Error (MAE) would be the most appropriate metric in this scenario as it is less sensitive to outliers compared to other regression metrics like MSE and RMSE.'"
            ],
            "application/vnd.google.colaboratory.intrinsic+json": {
              "type": "string"
            }
          },
          "metadata": {},
          "execution_count": 3
        }
      ]
    },
    {
      "cell_type": "code",
      "source": [
        "'''Q4. You have built an SVM regression model using a polynomial kernel and are trying to select the best\n",
        "metric to evaluate its performance. You have calculated both MSE and RMSE and found that both values\n",
        "are very close. Which metric should you choose to use in this case?'''\n",
        "''' In this case, RMSE should be chosen over MSE as it provides a more interpretable error value by taking the square root of the MSE value.'''"
      ],
      "metadata": {
        "colab": {
          "base_uri": "https://localhost:8080/",
          "height": 36
        },
        "id": "VfsKQm7kvznv",
        "outputId": "6ab0da52-2fde-4ea4-eea0-88fdded1f084"
      },
      "execution_count": 4,
      "outputs": [
        {
          "output_type": "execute_result",
          "data": {
            "text/plain": [
              "' In this case, RMSE should be chosen over MSE as it provides a more interpretable error value by taking the square root of the MSE value.'"
            ],
            "application/vnd.google.colaboratory.intrinsic+json": {
              "type": "string"
            }
          },
          "metadata": {},
          "execution_count": 4
        }
      ]
    },
    {
      "cell_type": "code",
      "source": [
        "'''Q5. You are comparing the performance of different SVM regression models using different kernels (linear,\n",
        "polynomial, and RBF) and are trying to select the best evaluation metric. Which metric would be most\n",
        "appropriate if your goal is to measure how well the model explains the variance in the target variable?'''\n",
        "''' R-squared would be most appropriate in this scenario as it measures how well the model explains the variance in the target variable.'''"
      ],
      "metadata": {
        "colab": {
          "base_uri": "https://localhost:8080/",
          "height": 36
        },
        "id": "5Lz9nKKmv1zu",
        "outputId": "f08dcd5d-f819-4364-d978-8197e2a097d3"
      },
      "execution_count": 5,
      "outputs": [
        {
          "output_type": "execute_result",
          "data": {
            "text/plain": [
              "' R-squared would be most appropriate in this scenario as it measures how well the model explains the variance in the target variable.'"
            ],
            "application/vnd.google.colaboratory.intrinsic+json": {
              "type": "string"
            }
          },
          "metadata": {},
          "execution_count": 5
        }
      ]
    }
  ]
}