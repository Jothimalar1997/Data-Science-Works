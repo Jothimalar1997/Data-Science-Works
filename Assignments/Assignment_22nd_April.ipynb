{
  "nbformat": 4,
  "nbformat_minor": 0,
  "metadata": {
    "colab": {
      "provenance": []
    },
    "kernelspec": {
      "name": "python3",
      "display_name": "Python 3"
    },
    "language_info": {
      "name": "python"
    }
  },
  "cells": [
    {
      "cell_type": "code",
      "execution_count": 1,
      "metadata": {
        "colab": {
          "base_uri": "https://localhost:8080/"
        },
        "id": "xwCmeHfsIbQJ",
        "outputId": "8d917145-995e-4408-81da-8e2efc7fe982"
      },
      "outputs": [
        {
          "output_type": "stream",
          "name": "stdout",
          "text": [
            "Test set score: 0.97\n"
          ]
        }
      ],
      "source": [
        "## Q1. Write a Python code to implement the KNN classifier algorithm on load_iris dataset in sklearn.datasets.\n",
        "from sklearn.datasets import load_iris\n",
        "from sklearn.neighbors import KNeighborsClassifier\n",
        "from sklearn.model_selection import train_test_split\n",
        "iris = load_iris()\n",
        "X_train, X_test, y_train, y_test = train_test_split(iris['data'], iris['target'], random_state=0)\n",
        "knn = KNeighborsClassifier(n_neighbors=1)\n",
        "knn.fit(X_train, y_train)\n",
        "print(\"Test set score: {:.2f}\".format(knn.score(X_test, y_test)))"
      ]
    },
    {
      "cell_type": "code",
      "source": [
        "## Q2. Write a Python code to implement the KNN regressor algorithm on load_boston dataset in sklearn.datasets.\n",
        "'''from sklearn.datasets import load_boston\n",
        "from sklearn.neighbors import KNeighborsRegressor\n",
        "from sklearn.model_selection import train_test_split\n",
        "from sklearn.metrics import mean_squared_error\n",
        "\n",
        "# Load the Boston house-prices dataset\n",
        "boston = load_boston()\n",
        "\n",
        "# Split the data into training and test sets\n",
        "X_train, X_test, y_train, y_test = train_test_split(boston.data, boston.target, test_size=0.2, random_state=42)\n",
        "\n",
        "# Initialize the KNN regressor\n",
        "knn_regressor = KNeighborsRegressor(n_neighbors=5)\n",
        "\n",
        "# Fit the KNN regressor to the training data\n",
        "knn_regressor.fit(X_train, y_train)\n",
        "\n",
        "# Predict the target values for the test data\n",
        "y_pred = knn_regressor.predict(X_test)\n",
        "\n",
        "# Calculate the mean squared error of the predictions\n",
        "mse = mean_squared_error(y_test, y_pred)\n",
        "\n",
        "print('Mean squared error:', mse)\n",
        "print(\"Test set score: {:.2f}\".format(knn.score(X_test, y_test)))'''  #If we exectute it gives error as follows=> ImportError: `load_boston` has been removed from scikit-learn since version 1.2."
      ],
      "metadata": {
        "colab": {
          "base_uri": "https://localhost:8080/",
          "height": 91
        },
        "id": "tcSHnxJzI87l",
        "outputId": "b6a6c6dc-86d5-46ac-fc77-7a74d9580c54"
      },
      "execution_count": 2,
      "outputs": [
        {
          "output_type": "execute_result",
          "data": {
            "text/plain": [
              "'from sklearn.datasets import load_boston\\nfrom sklearn.neighbors import KNeighborsRegressor\\nfrom sklearn.model_selection import train_test_split\\nfrom sklearn.metrics import mean_squared_error\\n\\n# Load the Boston house-prices dataset\\nboston = load_boston()\\n\\n# Split the data into training and test sets\\nX_train, X_test, y_train, y_test = train_test_split(boston.data, boston.target, test_size=0.2, random_state=42)\\n\\n# Initialize the KNN regressor\\nknn_regressor = KNeighborsRegressor(n_neighbors=5)\\n\\n# Fit the KNN regressor to the training data\\nknn_regressor.fit(X_train, y_train)\\n\\n# Predict the target values for the test data\\ny_pred = knn_regressor.predict(X_test)\\n\\n# Calculate the mean squared error of the predictions\\nmse = mean_squared_error(y_test, y_pred)\\n\\nprint(\\'Mean squared error:\\', mse)\\nprint(\"Test set score: {:.2f}\".format(knn.score(X_test, y_test)))'"
            ],
            "application/vnd.google.colaboratory.intrinsic+json": {
              "type": "string"
            }
          },
          "metadata": {},
          "execution_count": 2
        }
      ]
    },
    {
      "cell_type": "code",
      "source": [
        "## Q3. Write a Python code snippet to find the optimal value of K for the KNN classifier algorithm using cross-validation on load_iris dataset in sklearn.datasets.\n",
        "from sklearn.datasets import load_iris\n",
        "from sklearn.neighbors import KNeighborsClassifier\n",
        "from sklearn.model_selection import cross_val_score\n",
        "iris = load_iris()\n",
        "X = iris.data\n",
        "y = iris.target\n",
        "k_range = range(1, 100)\n",
        "k_scores = []\n",
        "for k in k_range:\n",
        "    knn = KNeighborsClassifier(n_neighbors=k)\n",
        "    scores = cross_val_score(knn, X, y, cv=10, scoring='accuracy')\n",
        "    k_scores.append(scores.mean())\n",
        "print(\"Optimal value of k: \", k_range[k_scores.index(max(k_scores))])"
      ],
      "metadata": {
        "colab": {
          "base_uri": "https://localhost:8080/"
        },
        "id": "PdyAJ_ZHLsYQ",
        "outputId": "476debb7-95d8-42f1-c111-338571b731cd"
      },
      "execution_count": 3,
      "outputs": [
        {
          "output_type": "stream",
          "name": "stdout",
          "text": [
            "Optimal value of k:  13\n"
          ]
        }
      ]
    },
    {
      "cell_type": "code",
      "source": [
        "## Q4. Implement the KNN regressor algorithm with feature scaling on load_boston dataset in sklearn.datasets.\n",
        "'''from sklearn.datasets import load_boston\n",
        "from sklearn.model_selection import train_test_split\n",
        "from sklearn.preprocessing import StandardScaler\n",
        "from sklearn.neighbors import KNeighborsRegressor\n",
        "from sklearn.metrics import mean_squared_error\n",
        "\n",
        "# Load the dataset\n",
        "boston = load_boston()\n",
        "X, y = boston.data, boston.target\n",
        "\n",
        "# Split the data into training and testing sets\n",
        "X_train, X_test, y_train, y_test = train_test_split(X, y, random_state=42)\n",
        "\n",
        "# Scale the features\n",
        "scaler = StandardScaler()\n",
        "X_train_scaled = scaler.fit_transform(X_train)\n",
        "X_test_scaled = scaler.transform(X_test)\n",
        "\n",
        "# Train the model\n",
        "knn = KNeighborsRegressor()\n",
        "knn.fit(X_train_scaled, y_train)\n",
        "\n",
        "# Make predictions\n",
        "y_pred = knn.predict(X_test_scaled)\n",
        "\n",
        "# Evaluate the model\n",
        "mse = mean_squared_error(y_test, y_pred)\n",
        "print(\"Mean squared error:\", mse)'''                   #If we exectute it gives error as follows=> ImportError: `load_boston` has been removed from scikit-learn since version 1.2."
      ],
      "metadata": {
        "colab": {
          "base_uri": "https://localhost:8080/",
          "height": 91
        },
        "id": "8B96wODmMLFI",
        "outputId": "decc1456-3e60-48b2-be6d-138ae617653c"
      },
      "execution_count": 4,
      "outputs": [
        {
          "output_type": "execute_result",
          "data": {
            "text/plain": [
              "'from sklearn.datasets import load_boston\\nfrom sklearn.model_selection import train_test_split\\nfrom sklearn.preprocessing import StandardScaler\\nfrom sklearn.neighbors import KNeighborsRegressor\\nfrom sklearn.metrics import mean_squared_error\\n\\n# Load the dataset\\nboston = load_boston()\\nX, y = boston.data, boston.target\\n\\n# Split the data into training and testing sets\\nX_train, X_test, y_train, y_test = train_test_split(X, y, random_state=42)\\n\\n# Scale the features\\nscaler = StandardScaler()\\nX_train_scaled = scaler.fit_transform(X_train)\\nX_test_scaled = scaler.transform(X_test)\\n\\n# Train the model\\nknn = KNeighborsRegressor()\\nknn.fit(X_train_scaled, y_train)\\n\\n# Make predictions\\ny_pred = knn.predict(X_test_scaled)\\n\\n# Evaluate the model\\nmse = mean_squared_error(y_test, y_pred)\\nprint(\"Mean squared error:\", mse)'"
            ],
            "application/vnd.google.colaboratory.intrinsic+json": {
              "type": "string"
            }
          },
          "metadata": {},
          "execution_count": 4
        }
      ]
    },
    {
      "cell_type": "code",
      "source": [
        "## Q5. Write a Python code snippet to implement the KNN classifier algorithm with weighted voting on load_iris dataset in sklearn.datasets.\n",
        "from sklearn.datasets import load_iris\n",
        "from sklearn.neighbors import KNeighborsClassifier\n",
        "iris = load_iris()\n",
        "X = iris.data\n",
        "y = iris.target\n",
        "knn = KNeighborsClassifier(n_neighbors=5, weights='distance')\n",
        "knn.fit(X, y)\n",
        "print(\"Test set accuracy: {:.2f}\".format(knn.score(X, y)))"
      ],
      "metadata": {
        "colab": {
          "base_uri": "https://localhost:8080/"
        },
        "id": "Mlk_gJ-GMd29",
        "outputId": "939830ca-d020-4e41-c462-b0ba26761187"
      },
      "execution_count": 5,
      "outputs": [
        {
          "output_type": "stream",
          "name": "stdout",
          "text": [
            "Test set accuracy: 1.00\n"
          ]
        }
      ]
    },
    {
      "cell_type": "code",
      "source": [
        "## Q6. Implement a function to standardise the features before applying KNN classifier.\n",
        "from sklearn.datasets import load_iris\n",
        "from sklearn.neighbors import KNeighborsClassifier\n",
        "from sklearn.preprocessing import StandardScaler\n",
        "from sklearn.model_selection import train_test_split\n",
        "iris = load_iris()\n",
        "X = iris.data\n",
        "y = iris.target\n",
        "scaler = StandardScaler()\n",
        "X_std = scaler.fit_transform(X)\n",
        "knn = KNeighborsClassifier(n_neighbors=5, weights='distance')\n",
        "knn.fit(X_std, y)\n",
        "print(\"Test set accuracy: {:.2f}\".format(knn.score(X_std, y)))"
      ],
      "metadata": {
        "colab": {
          "base_uri": "https://localhost:8080/"
        },
        "id": "d1gkyONeMx59",
        "outputId": "d2462497-069f-4ba5-dcec-531422cf15ee"
      },
      "execution_count": 6,
      "outputs": [
        {
          "output_type": "stream",
          "name": "stdout",
          "text": [
            "Test set accuracy: 1.00\n"
          ]
        }
      ]
    },
    {
      "cell_type": "code",
      "source": [
        "## Q7. Write a Python function to calculate the euclidean distance between two points.\n",
        "import math\n",
        "def euclidean_distance(point1, point2):\n",
        "    distance = 0\n",
        "    for i in range(len(point1)):\n",
        "        distance += (point1[i] - point2[i]) ** 2\n",
        "    return math.sqrt(distance)\n",
        "point1 = [1, 2, 3]\n",
        "point2 = [4, 5, 6]\n",
        "distance = euclidean_distance(point1, point2)\n",
        "print(distance)"
      ],
      "metadata": {
        "colab": {
          "base_uri": "https://localhost:8080/"
        },
        "id": "wqcpCx8iNGJ2",
        "outputId": "ea6ce9c3-0d46-4529-85d2-11d313c980a8"
      },
      "execution_count": 7,
      "outputs": [
        {
          "output_type": "stream",
          "name": "stdout",
          "text": [
            "5.196152422706632\n"
          ]
        }
      ]
    },
    {
      "cell_type": "code",
      "source": [
        "## Q8. Write a Python function to calculate the manhattan distance between two points.\n",
        "def manhattan_distance(point1, point2):\n",
        "    \"\"\"\n",
        "    Calculate the Manhattan distance between two points\n",
        "    :param point1: tuple (x, y) representing the first point\n",
        "    :param point2: tuple (x, y) representing the second point\n",
        "    :return: Manhattan distance between the two points\n",
        "    \"\"\"\n",
        "    x1, y1 = point1\n",
        "    x2, y2 = point2\n",
        "    return abs(x2 - x1) + abs(y2 - y1)\n",
        "point1 = (0, 0)\n",
        "point2 = (3, 4)\n",
        "distance = manhattan_distance(point1, point2)\n",
        "print(distance)"
      ],
      "metadata": {
        "colab": {
          "base_uri": "https://localhost:8080/"
        },
        "id": "X-3ZioMHTE4K",
        "outputId": "38a9158d-1786-4869-c54e-a0f29934900f"
      },
      "execution_count": 8,
      "outputs": [
        {
          "output_type": "stream",
          "name": "stdout",
          "text": [
            "7\n"
          ]
        }
      ]
    }
  ]
}