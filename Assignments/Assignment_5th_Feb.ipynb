{
  "nbformat": 4,
  "nbformat_minor": 0,
  "metadata": {
    "colab": {
      "provenance": []
    },
    "kernelspec": {
      "name": "python3",
      "display_name": "Python 3"
    },
    "language_info": {
      "name": "python"
    }
  },
  "cells": [
    {
      "cell_type": "code",
      "execution_count": 1,
      "metadata": {
        "colab": {
          "base_uri": "https://localhost:8080/"
        },
        "id": "8_wWugg6g1i7",
        "outputId": "8363fcd4-870a-4e87-f446-af27c369e275"
      },
      "outputs": [
        {
          "output_type": "stream",
          "name": "stdout",
          "text": [
            "Animal1 is a dog, Animal2 is a cat\n"
          ]
        }
      ],
      "source": [
        "# 1) Class and Object:\n",
        "'''(i) Class is a user defined blueprint from which ojjects are created. It consists of data and methods.\n",
        "Class is created by using the keyword class.\n",
        "(ii) Object is an instance of class. It consists of state,behaviour and identity.\n",
        "State-Represented by the attribute of an object. It reflects the properties of an object.\n",
        "Behaviour-Represented by the method of an object. It reflects the response of the object to other objects.\n",
        "Identity-Gives unique name to the object and enables one object to interact with the other object.'''\n",
        "class Animal:\n",
        "    animal1='dog'\n",
        "    animal2='cat'\n",
        "    def name(self):\n",
        "      print(f\"Animal1 is a {self.animal1}, Animal2 is a {self.animal2}\")\n",
        "animal_obj=Animal()\n",
        "animal_obj.name()"
      ]
    },
    {
      "cell_type": "code",
      "source": [
        "# 2) Four pillars of oops:\n",
        "'''Abstraction, Encapsulation, Polymorphism and Inheritance are the four pillars of oops.\n",
        "Abstraction- Hides the internal implementation of process/method from the user\n",
        "Encapsulation- Used to prevent the direct access of data by the user. It wraps the data and method together as a single unit.\n",
        "Polymorphism- Same function can be used for different data types. It exists in multiple forms.\n",
        "Inheritance- Inherits the properties and behaviours from the parent class to the child class'''"
      ],
      "metadata": {
        "id": "SJ1iAGjikblp",
        "colab": {
          "base_uri": "https://localhost:8080/",
          "height": 70
        },
        "outputId": "3153d7ce-ca8c-444b-996f-46fa169f3838"
      },
      "execution_count": 2,
      "outputs": [
        {
          "output_type": "execute_result",
          "data": {
            "text/plain": [
              "'Abstraction, Encapsulation, Polymorphism and Inheritance are the four pillars of oops.\\nAbstraction- Hides the internal implementation of process/method from the user\\nEncapsulation- Used to prevent the direct access of data by the user. It wraps the data and method together as a single unit.\\nPolymorphism- Same function can be used for different data types. It exists in multiple forms.\\nInheritance- Inherits the properties and behaviours from the parent class to the child class'"
            ],
            "application/vnd.google.colaboratory.intrinsic+json": {
              "type": "string"
            }
          },
          "metadata": {},
          "execution_count": 2
        }
      ]
    },
    {
      "cell_type": "code",
      "source": [
        "# 3)__init__ function:\n",
        "#__init__ function acts as the constructor in python. It is used to initialise the object when it is created.\n",
        "class student:\n",
        "  def __init__(self,course):\n",
        "    self.course_name=course\n",
        "  def show(self):\n",
        "    print(f\"course name:{self.course_name}\")\n",
        "obj=student(\"python\")\n",
        "obj.show()"
      ],
      "metadata": {
        "colab": {
          "base_uri": "https://localhost:8080/"
        },
        "id": "y-eDn_zqDRS9",
        "outputId": "adf3131a-a8b6-4278-8d17-f40aa03bf9a7"
      },
      "execution_count": 3,
      "outputs": [
        {
          "output_type": "stream",
          "name": "stdout",
          "text": [
            "course name:python\n"
          ]
        }
      ]
    },
    {
      "cell_type": "code",
      "source": [
        "# 4) self:\n",
        "'''self acts as a pointer or reference to the class. It binds the attributes with the given aruguments. It is always used as first parameter in the method.\n",
        "It always points to the current object.'''\n",
        "class student:\n",
        "  def __init__(self,course):\n",
        "    self.course_name=course\n",
        "  def show(self):\n",
        "    print(f\"course name:{self.course_name}\")\n",
        "obj=student(\"python\")\n",
        "obj.show()"
      ],
      "metadata": {
        "colab": {
          "base_uri": "https://localhost:8080/"
        },
        "id": "6YzmnPYVHhdV",
        "outputId": "d0f9f370-55ab-4ce4-b51d-79692b3cb1cc"
      },
      "execution_count": 4,
      "outputs": [
        {
          "output_type": "stream",
          "name": "stdout",
          "text": [
            "course name:python\n"
          ]
        }
      ]
    },
    {
      "cell_type": "code",
      "source": [
        "# 5) Inheritance:\n",
        "'''Inheritance is the one of the core concepts of oops. It helps to inherit the properties and behaviours of parent class to child class.\n",
        "It provides code reusability.\n",
        "There are two types of inheritance in python-Multiple and Multi-level\n",
        "In Multi-level inheritance, a class inherits b class and b class inherits c class\n",
        "In Multiple inheritance, single class is derived from more than one parent class'''\n",
        "print(\"Example for Multiple inheritance\")\n",
        "class class1:                             \n",
        "  def show1(self):\n",
        "    print(\"This is from class1\")\n",
        "class class2:\n",
        "  def show2(self):\n",
        "    print(\"This is from class2\")\n",
        "class class3(class1,class2):               # Multiple inheritance\n",
        "  def show3(self):\n",
        "    print(\"This is from class3\")\n",
        "class3_obj=class3()\n",
        "class3_obj.show1()                         # Object of class3 prints the method in class1\n",
        "print(\"----------------------------------\")\n",
        "print(\"Example for Multi-level inheritance\")\n",
        "class class4:                             \n",
        "  def show4(self):\n",
        "    print(\"This is from class4\")\n",
        "class class5(class4):\n",
        "  def show5(self):\n",
        "    print(\"This is from class5\")\n",
        "class class6(class5):               # Multi-level inheritance\n",
        "  def show6(self):\n",
        "    print(\"This is from class6\")\n",
        "class6_obj=class6()\n",
        "class6_obj.show5()                  # Object of class6 prints method in class5"
      ],
      "metadata": {
        "colab": {
          "base_uri": "https://localhost:8080/"
        },
        "id": "5mLgq9EOIauu",
        "outputId": "43088e0d-ff84-4c13-f61b-c886ac06b1bd"
      },
      "execution_count": 5,
      "outputs": [
        {
          "output_type": "stream",
          "name": "stdout",
          "text": [
            "Example for Multiple inheritance\n",
            "This is from class1\n",
            "----------------------------------\n",
            "Example for Multi-level inheritance\n",
            "This is from class5\n"
          ]
        }
      ]
    }
  ]
}