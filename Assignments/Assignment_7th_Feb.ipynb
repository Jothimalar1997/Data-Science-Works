{
  "nbformat": 4,
  "nbformat_minor": 0,
  "metadata": {
    "colab": {
      "provenance": []
    },
    "kernelspec": {
      "name": "python3",
      "display_name": "Python 3"
    },
    "language_info": {
      "name": "python"
    }
  },
  "cells": [
    {
      "cell_type": "code",
      "source": [
        "# 1) Valid password or not:\n",
        "lower=upper=special=number=0\n",
        "password=input(\"Enter the password: \")\n",
        "if(len(password)==10):\n",
        "  for i in password:\n",
        "     if(i.islower()):lower+=1\n",
        "     elif(i.isupper()):upper+=1\n",
        "     elif(i.isnumeric()):number+=1\n",
        "     else:special+=1\n",
        "  if(lower>=2 and upper>=2 and number>=1 and special==3):print(\"Valid password\")\n",
        "  else:print(\"Invalid password\")\n",
        "else:print(\"Invalid password\")"
      ],
      "metadata": {
        "colab": {
          "base_uri": "https://localhost:8080/"
        },
        "id": "Dd9bUdiJLsju",
        "outputId": "e26f54c5-6a6d-4f59-faf2-0f93056f8292"
      },
      "execution_count": 10,
      "outputs": [
        {
          "output_type": "stream",
          "name": "stdout",
          "text": [
            "Enter the password: HeLLo!@#45\n",
            "Valid password\n"
          ]
        }
      ]
    },
    {
      "cell_type": "code",
      "execution_count": 2,
      "metadata": {
        "colab": {
          "base_uri": "https://localhost:8080/"
        },
        "id": "RDLI8eqFDftP",
        "outputId": "ab4c26cd-c074-4761-aab4-2d9b5c54b7c6"
      },
      "outputs": [
        {
          "output_type": "stream",
          "name": "stdout",
          "text": [
            "Enter the string: Python\n",
            "Enter the letter: p\n",
            "Python does not starts with the p\n"
          ]
        }
      ],
      "source": [
        "# 2)(i) To check if the string starts with the particular letter\n",
        "String=input(\"Enter the string: \")\n",
        "Letter=input(\"Enter the letter: \")\n",
        "value=(True if String[0]==Letter else False)\n",
        "if(value==True): print(f\"{String} starts with the {Letter}\")\n",
        "else: print(f\"{String} does not starts with the {Letter}\")"
      ]
    },
    {
      "cell_type": "code",
      "source": [
        "# 2)(ii) To check if the string is numeric\n",
        "String=input(\"Enter the string: \")\n",
        "value=(True if(str.isnumeric(String)) else False)\n",
        "if value==True: print(\"The string is numeric\")\n",
        "else: print(\"The string is not numeric\")\n"
      ],
      "metadata": {
        "colab": {
          "base_uri": "https://localhost:8080/"
        },
        "id": "t2t8T_68FM1-",
        "outputId": "223ef25d-9a16-425b-e632-4f5072f1c53b"
      },
      "execution_count": 3,
      "outputs": [
        {
          "output_type": "stream",
          "name": "stdout",
          "text": [
            "Enter the string: 12345\n",
            "The string is numeric\n"
          ]
        }
      ]
    },
    {
      "cell_type": "code",
      "source": [
        "# 2)(iii) To sort the list of tuple:\n",
        "list1=[(\"mango\",99),(\"orange\",80),(\"grapes\",1000)]\n",
        "list1.sort(key=lambda list1:list1[0])\n",
        "print(list1)"
      ],
      "metadata": {
        "colab": {
          "base_uri": "https://localhost:8080/"
        },
        "id": "uD-m7ZI9GfF7",
        "outputId": "3cf93be0-3350-41e7-f4f4-fd64d41baadd"
      },
      "execution_count": 4,
      "outputs": [
        {
          "output_type": "stream",
          "name": "stdout",
          "text": [
            "[('grapes', 1000), ('mango', 99), ('orange', 80)]\n"
          ]
        }
      ]
    },
    {
      "cell_type": "code",
      "source": [
        "# 2)(iv) Square of numbers from 1 to 10\n",
        "list1=range(1,11)\n",
        "list2=list(i**2 for i in list1)\n",
        "print(list2)"
      ],
      "metadata": {
        "colab": {
          "base_uri": "https://localhost:8080/"
        },
        "id": "m9afMcBqH8G8",
        "outputId": "53ffd6dc-7f9a-4be9-fec9-aa6ba34dba32"
      },
      "execution_count": 5,
      "outputs": [
        {
          "output_type": "stream",
          "name": "stdout",
          "text": [
            "[1, 4, 9, 16, 25, 36, 49, 64, 81, 100]\n"
          ]
        }
      ]
    },
    {
      "cell_type": "code",
      "source": [
        "# 2)(v) Cube root of numbers from 1 to 10\n",
        "list1=range(1,11)\n",
        "list2=list(i**3 for i in list1)\n",
        "print(list2)"
      ],
      "metadata": {
        "colab": {
          "base_uri": "https://localhost:8080/"
        },
        "id": "y_xC8OglIUXc",
        "outputId": "611fe9bd-7016-4b14-ae67-8df6535b244e"
      },
      "execution_count": 6,
      "outputs": [
        {
          "output_type": "stream",
          "name": "stdout",
          "text": [
            "[1, 8, 27, 64, 125, 216, 343, 512, 729, 1000]\n"
          ]
        }
      ]
    },
    {
      "cell_type": "code",
      "source": [
        "# 2)(vi) Check if the number is even\n",
        "num=int(input(\"Enter the number to check if it is even or not: \"))\n",
        "print(\"Even\" if(num%2==0) else \"Not even\")\n"
      ],
      "metadata": {
        "colab": {
          "base_uri": "https://localhost:8080/"
        },
        "id": "x67IVgW4Ih61",
        "outputId": "f0a00dd0-ba4b-4330-923d-a13049f15b0e"
      },
      "execution_count": 7,
      "outputs": [
        {
          "output_type": "stream",
          "name": "stdout",
          "text": [
            "Enter the number to check if it is even or not: 7\n",
            "Not even\n"
          ]
        }
      ]
    },
    {
      "cell_type": "code",
      "source": [
        "# 2)(vii) Filter odd numbers from the list\n",
        "list1=[1,2,3,4,5,6,7,8,9,10]\n",
        "list2=list(filter(lambda x:x%2!=0,list1))\n",
        "print(list2)"
      ],
      "metadata": {
        "colab": {
          "base_uri": "https://localhost:8080/"
        },
        "id": "wdcVjwRJKKib",
        "outputId": "8ff7136e-45ba-4728-b679-75fbb1131547"
      },
      "execution_count": 8,
      "outputs": [
        {
          "output_type": "stream",
          "name": "stdout",
          "text": [
            "[1, 3, 5, 7, 9]\n"
          ]
        }
      ]
    },
    {
      "cell_type": "code",
      "source": [
        "# 2)(viii) Sort list of integers into positive and negative integer lists:\n",
        "list1=[1,2,3,4,5,6,-1,-2,-3,-4,-5,0]\n",
        "positive=list(filter(lambda x:x>=0,list1))\n",
        "negative=list(filter(lambda x:x<0,list1))\n",
        "print(f\"Positive list: {positive}\")\n",
        "print(f\"Negative list: {negative}\")"
      ],
      "metadata": {
        "colab": {
          "base_uri": "https://localhost:8080/"
        },
        "id": "NV3yYdpIKis3",
        "outputId": "c97d28a5-68ca-4576-e13e-baffd7a5e5f8"
      },
      "execution_count": 9,
      "outputs": [
        {
          "output_type": "stream",
          "name": "stdout",
          "text": [
            "Positive list: [1, 2, 3, 4, 5, 6, 0]\n",
            "Negative list: [-1, -2, -3, -4, -5]\n"
          ]
        }
      ]
    }
  ]
}