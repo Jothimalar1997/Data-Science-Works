{
  "nbformat": 4,
  "nbformat_minor": 0,
  "metadata": {
    "colab": {
      "provenance": []
    },
    "kernelspec": {
      "name": "python3",
      "display_name": "Python 3"
    },
    "language_info": {
      "name": "python"
    }
  },
  "cells": [
    {
      "cell_type": "code",
      "execution_count": 1,
      "metadata": {
        "colab": {
          "base_uri": "https://localhost:8080/"
        },
        "id": "akFopfJbka3d",
        "outputId": "b472d34a-7372-43ac-a0b9-e6608c322d15"
      },
      "outputs": [
        {
          "output_type": "stream",
          "name": "stdout",
          "text": [
            "name_of_vehicle:Nexon,max_speed:250,average_of_vehicle:100\n"
          ]
        }
      ],
      "source": [
        "# 1) init method:\n",
        "class vehicle:\n",
        "  def __init__(self,name_of_vehicle,max_speed,average_of_vehicle):\n",
        "    self.name_of_vehicle=name_of_vehicle\n",
        "    self.max_speed=max_speed\n",
        "    self.average_of_vehicle=average_of_vehicle\n",
        "  def show(self):\n",
        "    print(f\"name_of_vehicle:{self.name_of_vehicle},max_speed:{self.max_speed},average_of_vehicle:{self.average_of_vehicle}\")\n",
        "vehicle_obj=vehicle(\"Nexon\",250,100)\n",
        "vehicle_obj.show()"
      ]
    },
    {
      "cell_type": "code",
      "source": [
        "# 2) child class:\n",
        "class vehicle:\n",
        "  def __init__(self,name_of_vehicle,max_speed,average_of_vehicle):\n",
        "    self.name_of_vehicle=name_of_vehicle\n",
        "    self.max_speed=max_speed\n",
        "    self.average_of_vehicle=average_of_vehicle\n",
        "class car(vehicle):\n",
        "   def seating_capacity(self,capacity):\n",
        "       self.capacity=capacity\n",
        "car_obj=car(\"Nexon\",250,100)\n",
        "car_obj.seating_capacity(4)\n",
        "print(\"car name:\",car_obj.name_of_vehicle)\n",
        "print(\"car capacity:\",car_obj.capacity)"
      ],
      "metadata": {
        "colab": {
          "base_uri": "https://localhost:8080/"
        },
        "id": "wLX6lDWimA5c",
        "outputId": "2edacdad-9b34-4b98-e0ff-2f398f0661a6"
      },
      "execution_count": 2,
      "outputs": [
        {
          "output_type": "stream",
          "name": "stdout",
          "text": [
            "car name: Nexon\n",
            "car capacity: 4\n"
          ]
        }
      ]
    },
    {
      "cell_type": "code",
      "source": [
        "# 3) Multiple inheritance:\n",
        "#Multiple inheritance inherits the properties and behaviour from two parent classes.\n",
        "class class1:\n",
        "  def show1(self):\n",
        "    print(\"This is from class1\")\n",
        "class class2:\n",
        "  def show2(self):\n",
        "    print(\"This is from class2\")\n",
        "class class3(class1,class2):\n",
        "  def show3(self):\n",
        "    print(\"This is from class3\")\n",
        "class3_obj=class3()\n",
        "class3_obj.show1()\n",
        "class3_obj.show2()\n",
        "class3_obj.show3()"
      ],
      "metadata": {
        "colab": {
          "base_uri": "https://localhost:8080/"
        },
        "id": "kgTFeSBixE3I",
        "outputId": "3279ac2f-7eae-4412-ca00-d015f2ba7dc2"
      },
      "execution_count": 3,
      "outputs": [
        {
          "output_type": "stream",
          "name": "stdout",
          "text": [
            "This is from class1\n",
            "This is from class2\n",
            "This is from class3\n"
          ]
        }
      ]
    },
    {
      "cell_type": "code",
      "source": [
        "# 4) Getters and Setters:\n",
        "'''Getters and Setters are used in Data Encapsulation.\n",
        "It is mainly used to prevent the direct access to the class fields.'''\n",
        "class student:\n",
        "  def __init__(self,age=0):\n",
        "    self._age=age\n",
        "  def get_age(self):\n",
        "    return self._age\n",
        "  def set_age(self,age):\n",
        "    self._age=age\n",
        "student_obj=student()\n",
        "student_obj.set_age(24)\n",
        "print(f\"Student age:{student_obj.get_age()}\")"
      ],
      "metadata": {
        "colab": {
          "base_uri": "https://localhost:8080/"
        },
        "id": "GpQcNoi1y-1A",
        "outputId": "78b0dd19-95c3-47f5-fe8f-8dd0b5f5467e"
      },
      "execution_count": 4,
      "outputs": [
        {
          "output_type": "stream",
          "name": "stdout",
          "text": [
            "Student age:24\n"
          ]
        }
      ]
    },
    {
      "cell_type": "code",
      "source": [
        "# 5) Method Overriding:\n",
        "'''Method overiding provides the specific implementation of a method in child class that is already defined in one of its parent class.\n",
        "when a method is said to have overridden, the child class has the method with same name,same parameters and same return type as of the method in parent class.'''\n",
        "class parent:\n",
        "  def show(self):\n",
        "    print(\"This is from parent class\")\n",
        "class child(parent):\n",
        "  def show(self):\n",
        "    print(\"This is from child class\")\n",
        "parent_obj=parent()\n",
        "child_obj=child()\n",
        "parent_obj.show()\n",
        "child_obj.show()"
      ],
      "metadata": {
        "colab": {
          "base_uri": "https://localhost:8080/"
        },
        "id": "6QlpHGHl27ub",
        "outputId": "962cec0b-15b6-4abd-9d5a-518b37f06c5e"
      },
      "execution_count": 5,
      "outputs": [
        {
          "output_type": "stream",
          "name": "stdout",
          "text": [
            "This is from parent class\n",
            "This is from child class\n"
          ]
        }
      ]
    }
  ]
}