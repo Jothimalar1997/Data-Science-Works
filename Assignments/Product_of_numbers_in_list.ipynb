{
  "cells": [
    {
      "cell_type": "code",
      "source": [
        "from functools import reduce\n",
        "list1=[1,2,3,4,[44,55,66,True],False,(34,56,78,89,34),{1,2,3,3,2,1},{1:34,\"key2\":[55,67,78,89],4:(45,22,61,34)},[56,'data science'],'Machine Learning']\n",
        "list2=[]     # List for Integer values\n",
        "for i in list1:\n",
        "  if(type(i)==int):\n",
        "    list2.append(i)\n",
        "  elif(type(i)==list or type(i)==set or type(i)==tuple):\n",
        "    list3=list(i)\n",
        "    for j in list3:\n",
        "       if(type(j)==int):\n",
        "           list2.append(j)\n",
        "  elif(type(i)==dict):\n",
        "    list4=list(i.keys())\n",
        "    for k in i.values():\n",
        "      if(type(k)==int):\n",
        "         list4.append(k)\n",
        "      elif(type(k)==list or type(k)==set or type(k)==tuple):\n",
        "         list5=list(k)\n",
        "         for p in list5:\n",
        "            if(type(p)==int):\n",
        "                list4.append(p)\n",
        "    for j in list4:\n",
        "       if(type(j)==int):\n",
        "           list2.append(j)\n",
        "print(\"List of integers:\",list2)   # Print Integer list\n",
        "product=(reduce(lambda x,y:x*y,list2))\n",
        "print(\"Product of all the numbers in the given list:\",product) # Print product of all numbers in the list"
      ],
      "metadata": {
        "colab": {
          "base_uri": "https://localhost:8080/"
        },
        "id": "5-LPDKQ94skx",
        "outputId": "5d17dc9c-fa65-4377-fdad-0b728a21e4df"
      },
      "execution_count": 2,
      "outputs": [
        {
          "output_type": "stream",
          "name": "stdout",
          "text": [
            "List of integers: [1, 2, 3, 4, 44, 55, 66, 34, 56, 78, 89, 34, 1, 2, 3, 1, 4, 34, 55, 67, 78, 89, 45, 22, 61, 34, 56]\n",
            "Product of all the numbers in the given list: 4134711838987085478833841242112000\n"
          ]
        }
      ]
    }
  ],
  "metadata": {
    "colab": {
      "provenance": []
    },
    "kernelspec": {
      "display_name": "Python 3",
      "name": "python3"
    },
    "language_info": {
      "name": "python"
    }
  },
  "nbformat": 4,
  "nbformat_minor": 0
}