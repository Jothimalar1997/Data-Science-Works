{
  "nbformat": 4,
  "nbformat_minor": 0,
  "metadata": {
    "colab": {
      "provenance": []
    },
    "kernelspec": {
      "name": "python3",
      "display_name": "Python 3"
    },
    "language_info": {
      "name": "python"
    }
  },
  "cells": [
    {
      "cell_type": "code",
      "execution_count": 1,
      "metadata": {
        "colab": {
          "base_uri": "https://localhost:8080/",
          "height": 70
        },
        "id": "HKaQPn0nibDr",
        "outputId": "410e682d-05b9-4501-ed03-56abda71ec21"
      },
      "outputs": [
        {
          "output_type": "execute_result",
          "data": {
            "text/plain": [
              "'Probability density function is a function that provides the likelihood that the value of a random variable will fall between a certain range of values. \\nWe use the probability density function in the case of continuous random variables. \\nThe graph of a probability density function is in the form of a bell curve. The area that lies between any two specified values gives the probability of the outcome of the designated observation. \\nIf we differentiate the cumulative distribution function of a continuous random variable it results in the probability density function. \\nConversely, on integrating the probability density function we get the cumulative distribution function.'"
            ],
            "application/vnd.google.colaboratory.intrinsic+json": {
              "type": "string"
            }
          },
          "metadata": {},
          "execution_count": 1
        }
      ],
      "source": [
        "## Q1. What is the Probability density function?\n",
        "'''Probability density function is a function that provides the likelihood that the value of a random variable will fall between a certain range of values. \n",
        "We use the probability density function in the case of continuous random variables. \n",
        "The graph of a probability density function is in the form of a bell curve. The area that lies between any two specified values gives the probability of the outcome of the designated observation. \n",
        "If we differentiate the cumulative distribution function of a continuous random variable it results in the probability density function. \n",
        "Conversely, on integrating the probability density function we get the cumulative distribution function.'''"
      ]
    },
    {
      "cell_type": "code",
      "source": [
        "## Q2. What are the types of Probability distribution?\n",
        "'''There are two types of probability distribution :\n",
        "(i) Normal or Cumulative Probability Distribution- The cumulative probability distribution is also known as a continuous probability distribution. \n",
        "In this distribution, the set of possible outcomes can take on values in a continuous range.\n",
        "(ii) Binomial or Discrete Probability Distribution- A distribution is called a discrete probability distribution, where the set of outcomes are discrete in nature.'''"
      ],
      "metadata": {
        "colab": {
          "base_uri": "https://localhost:8080/",
          "height": 53
        },
        "id": "TewaEAS4kaap",
        "outputId": "e2027efc-10b4-44fc-92fa-f9937489d421"
      },
      "execution_count": 2,
      "outputs": [
        {
          "output_type": "execute_result",
          "data": {
            "text/plain": [
              "'There are two types of probability distribution :\\n(i) Normal or Cumulative Probability Distribution- The cumulative probability distribution is also known as a continuous probability distribution. \\nIn this distribution, the set of possible outcomes can take on values in a continuous range.\\n(ii) Binomial or Discrete Probability Distribution- A distribution is called a discrete probability distribution, where the set of outcomes are discrete in nature.'"
            ],
            "application/vnd.google.colaboratory.intrinsic+json": {
              "type": "string"
            }
          },
          "metadata": {},
          "execution_count": 2
        }
      ]
    },
    {
      "cell_type": "code",
      "source": [
        "## Q3. Write a Python function to calculate the probability density function of a normal distribution with given mean and standard deviation at a given point.\n",
        "import numpy as np\n",
        "import matplotlib.pyplot as plt\n",
        "\n",
        "# Creating a series of data of in range of 1-50.\n",
        "x = np.linspace(1,50,200)\n",
        "\n",
        "#Creating a Function.\n",
        "def normal_dist(x , mean , sd):\n",
        "    prob_density = (np.pi*sd) * np.exp(-0.5*((x-mean)/sd)**2)\n",
        "    return prob_density\n",
        "\n",
        "#Calculate mean and Standard deviation.\n",
        "mean = np.mean(x)\n",
        "sd = np.std(x)\n",
        "\n",
        "#Apply function to the data.\n",
        "pdf = normal_dist(x,mean,sd)\n",
        "\n",
        "#Plotting the Results\n",
        "plt.plot(x,pdf , color = 'red')\n",
        "plt.xlabel('Data points')\n",
        "plt.ylabel('Probability Density')"
      ],
      "metadata": {
        "colab": {
          "base_uri": "https://localhost:8080/",
          "height": 296
        },
        "id": "00qAb6rRXWkA",
        "outputId": "8fe5c883-444e-45e0-cd39-6ab6dad4a584"
      },
      "execution_count": 3,
      "outputs": [
        {
          "output_type": "execute_result",
          "data": {
            "text/plain": [
              "Text(0, 0.5, 'Probability Density')"
            ]
          },
          "metadata": {},
          "execution_count": 3
        },
        {
          "output_type": "display_data",
          "data": {
            "text/plain": [
              "<Figure size 432x288 with 1 Axes>"
            ],
            "image/png": "[encoded data removed]"
          },
          "metadata": {
            "needs_background": "light"
          }
        }
      ]
    },
    {
      "cell_type": "code",
      "source": [
        "## Q4. What are the properties of Binomial distribution? Give two examples of events where binomial distribution can be applied.\n",
        "'''The properties of the binomial distribution are:\n",
        "(i) There are two possible outcomes: true or false, success or failure, yes or no.\n",
        "(ii) There is ‘n’ number of independent trials or a fixed number of n times repeated trials.\n",
        "(iii) The probability of success or failure remains the same for each trial.\n",
        "(iv) Only the number of success is calculated out of n independent trials.\n",
        "(v) Every trial is an independent trial, which means the outcome of one trial does not affect the outcome of another trial.\n",
        "Eg:.\n",
        "(i) Taking a survey of positive and negative reviews from the public for any specific product or place.\n",
        "(ii) To find the number of male and female employees in an organisation.\n",
        "(iii) The number of votes collected by a candidate in an election is counted based on 0 or 1 probability.'''"
      ],
      "metadata": {
        "colab": {
          "base_uri": "https://localhost:8080/",
          "height": 87
        },
        "id": "MPZGbLBOYDEf",
        "outputId": "6f9cdcfa-2742-45ac-c40a-6eded72b9fdb"
      },
      "execution_count": 4,
      "outputs": [
        {
          "output_type": "execute_result",
          "data": {
            "text/plain": [
              "'The properties of the binomial distribution are:\\n(i) There are two possible outcomes: true or false, success or failure, yes or no.\\n(ii) There is ‘n’ number of independent trials or a fixed number of n times repeated trials.\\n(iii) The probability of success or failure remains the same for each trial.\\n(iv) Only the number of success is calculated out of n independent trials.\\n(v) Every trial is an independent trial, which means the outcome of one trial does not affect the outcome of another trial.\\nEg:.\\n(i) Taking a survey of positive and negative reviews from the public for any specific product or place.\\n(ii) To find the number of male and female employees in an organisation.\\n(iii) The number of votes collected by a candidate in an election is counted based on 0 or 1 probability.'"
            ],
            "application/vnd.google.colaboratory.intrinsic+json": {
              "type": "string"
            }
          },
          "metadata": {},
          "execution_count": 4
        }
      ]
    },
    {
      "cell_type": "code",
      "source": [
        "## Q5. Generate a random sample of size 1000 from a binomial distribution with probability of success 0.4 and plot a histogram of the results using matplotlib\n",
        "from numpy import random\n",
        "import matplotlib.pyplot as plt\n",
        "import seaborn as sns\n",
        "x = random.binomial(n=10, p=0.4, size=1000)\n",
        "sns.distplot(x, hist=True, kde=False)\n",
        "plt.show()"
      ],
      "metadata": {
        "colab": {
          "base_uri": "https://localhost:8080/",
          "height": 320
        },
        "id": "Oq1bCFDXZGMu",
        "outputId": "12dd4244-3e50-4891-f847-73ae0348c5b5"
      },
      "execution_count": 5,
      "outputs": [
        {
          "output_type": "stream",
          "name": "stderr",
          "text": [
            "/usr/local/lib/python3.9/dist-packages/seaborn/distributions.py:2619: FutureWarning: `distplot` is a deprecated function and will be removed in a future version. Please adapt your code to use either `displot` (a figure-level function with similar flexibility) or `histplot` (an axes-level function for histograms).\n",
            "  warnings.warn(msg, FutureWarning)\n"
          ]
        },
        {
          "output_type": "display_data",
          "data": {
            "text/plain": [
              "<Figure size 432x288 with 1 Axes>"
            ],
            "image/png": "[encoded data removed]"
          },
          "metadata": {
            "needs_background": "light"
          }
        }
      ]
    },
    {
      "cell_type": "code",
      "source": [
        "## Q6. Write a Python function to calculate the cumulative distribution function of a Poisson distribution with given mean at a given point\n",
        "import numpy as np\n",
        "import matplotlib.pyplot as plt\n",
        "from scipy.stats import poisson\n",
        "k = np.arange(0, 17)\n",
        "cdf = poisson.cdf(k, mu=7)\n",
        "cdf = np.round(cdf, 3)\n",
        "plt.plot(k, cdf, marker='o')\n",
        "plt.xlabel('k')\n",
        "plt.ylabel('Cumulative Probability')\n",
        "plt.show()"
      ],
      "metadata": {
        "colab": {
          "base_uri": "https://localhost:8080/",
          "height": 279
        },
        "id": "8OfuTAuXZx4g",
        "outputId": "b4ed6bdf-7f90-4ca3-ed6b-d34bfbd180c7"
      },
      "execution_count": 6,
      "outputs": [
        {
          "output_type": "display_data",
          "data": {
            "text/plain": [
              "<Figure size 432x288 with 1 Axes>"
            ],
            "image/png": "[encoded data removed]"
          },
          "metadata": {
            "needs_background": "light"
          }
        }
      ]
    },
    {
      "cell_type": "code",
      "source": [
        "## Q7. How Binomial distribution different from Poisson distribution?\n",
        "'''The difference between the binomial distribution and poisson distribution is \n",
        "(i) The number of possible outcomes. Although both distributions are discrete, the Binomial has just two possible outcomes (heads/tails, 0/1, etc). The Poisson has an infinite number of possible outcomes (x = 0,1,2,...,∞).\n",
        "(ii) In binomial distribution, Mean > Variance. In poisson distribution, Mean = Variance.\n",
        "(iii) Binomial Distribution is biparametric, i.e. it is featured by two parameters n and p whereas Poisson distribution is uniparametric, i.e. characterised by a single parameter m.\n",
        "(iv) There are a fixed number of attempts in the binomial distribution. On the other hand, an unlimited number of trials are there in a poisson distribution.\n",
        "(v) The success probability is constant in binomial distribution but in poisson distribution, there are an extremely small number of success chances.'''"
      ],
      "metadata": {
        "colab": {
          "base_uri": "https://localhost:8080/",
          "height": 87
        },
        "id": "ucZAOUC5b8XY",
        "outputId": "09b13b07-0ad3-438e-8216-a6feeb3ac38f"
      },
      "execution_count": 7,
      "outputs": [
        {
          "output_type": "execute_result",
          "data": {
            "text/plain": [
              "'The difference between the binomial distribution and poisson distribution is \\n(i) The number of possible outcomes. Although both distributions are discrete, the Binomial has just two possible outcomes (heads/tails, 0/1, etc). The Poisson has an infinite number of possible outcomes (x = 0,1,2,...,∞).\\n(ii) In binomial distribution, Mean > Variance. In poisson distribution, Mean = Variance.\\n(iii) Binomial Distribution is biparametric, i.e. it is featured by two parameters n and p whereas Poisson distribution is uniparametric, i.e. characterised by a single parameter m.\\n(iv) There are a fixed number of attempts in the binomial distribution. On the other hand, an unlimited number of trials are there in a poisson distribution.\\n(v) The success probability is constant in binomial distribution but in poisson distribution, there are an extremely small number of success chances.'"
            ],
            "application/vnd.google.colaboratory.intrinsic+json": {
              "type": "string"
            }
          },
          "metadata": {},
          "execution_count": 7
        }
      ]
    },
    {
      "cell_type": "code",
      "source": [
        "## Q8. Generate a random sample of size 1000 from a Poisson distribution with mean 5 and calculate the sample mean and variance:\n",
        "import numpy as np\n",
        "import matplotlib.pyplot as plt\n",
        "from scipy.stats import poisson\n",
        "data = poisson.rvs(mu=5, size=1000)\n",
        "print(\"Sample data: \",data)\n",
        "print(\"Sample mean: \",np.mean(data))\n",
        "print(\"Sample variance: \",np.var(data))"
      ],
      "metadata": {
        "colab": {
          "base_uri": "https://localhost:8080/"
        },
        "id": "QcTZe4sXdMvv",
        "outputId": "e2b68186-ebde-4fe9-b1f5-6cb2565d5f4e"
      },
      "execution_count": 8,
      "outputs": [
        {
          "output_type": "stream",
          "name": "stdout",
          "text": [
            "Sample data:  [ 5  7  4  5  1  4  5  7  7  8  3  5  6  6  2  5  5  6  5  3  6  2  4  6\n",
            "  4  2  7  4  2  5  2  5  4  5  1  9  1  6  4  4  3  2  3  4  2  6  4  4\n",
            "  4  3  4  8  6  7  3  1 10  6  8  4  5  5  7  3  3  3  5  7  4  4  9  7\n",
            "  3  1  7  7  1  4  3  4  1  6  3  7  2  4  9 11  7  1  4  3  2  6 10  7\n",
            "  2  9  4  8  0  7  5  6  3  8  3  3  2  7  6  6  4  3  7  5  6  6  3  4\n",
            "  7  6  3 12  7  6 10  3  3  4  2 10  6  4  5  4  6  6  2  3  4  5  9  7\n",
            "  5  4  6  4  8  6  5  2  2  7  5  3  0  4  3  3  3  5  5  5  7  7  0  4\n",
            "  7  3  2  6  9  5  8  8  3  7  2  3  7  5  4  7  6  5  6  6  2  4  2  4\n",
            "  4  4  5  9  4  2  4  4  4  7  7  4  3  3  6  5  6  3  7  1  4  5  1  3\n",
            "  6  6  9  4  3  4  4  4  6  4  3  3  5  6  7  7  1  6  5  8  5  9  4  7\n",
            "  3  4  3  4  4  3  5  5  3  3  2  4  4  8  6  6  5  6  6  9  3  5  4 10\n",
            "  4  7  5  4  4  5  4  7  5 12  5  4 11  3  4  5  6  8  9  3  7  6 11  5\n",
            "  8 10 10  5  5  4  6 10  4  7  4  6  6  3  1  7  2  5  6  5 10  4  8  4\n",
            "  4  5  2  9  3  4  6  2  3  6  7  6  8  7  4  8  5  5  7  3  5  5  6  6\n",
            "  3  4  5  6  5  3  7  7  5  4  6  3  8  4  5  4  4 13  3  2  2  6  5  7\n",
            "  2  3  3  3  0  4  4  9  4  6  5  4  5  5  5  6  3  3  5  8  3  8  6  9\n",
            "  4  5  3  7  4  8  5  4 15  5  5  4  7  2  8  7  6  5  7  5  5  4  8  6\n",
            "  1  3  6  9  4  2  6  3  5  5  8  5  5  6  8  1  6  6  2  5  3  6  3  5\n",
            "  7  2  3  5  5  5  6  7  5  4  4  4  4  8  8  3  3  5  4  3  8  7 11  6\n",
            "  3  4  8  8  3  3  3  2  8  4  3  7  8  2  4  6  2  4  5  7  4  2  4  4\n",
            "  1  4  6  4 10  1  6  2  5  6  9  7  4  3  7  7  3  5  2  9  8  5  3  4\n",
            "  4  7  9  5  5  6  5  7  4  6  5  6  3  3  0  5  2  4  9  5  5  8  5  3\n",
            "  9  9  5  6  6  1  4  6  5  6  1  5  5  1 10  6  7  5  6  3  2  4  1  5\n",
            "  4  5  5  4  2  5  4  3  6  1  4  0  7  4  6  8  7  4  4  4  5  3  7 11\n",
            "  5  8  1  3  5  2  4  5 10  7  5  8  6  9  3  6  9  6  5  4  4  4  5  4\n",
            "  7  5  9  5  6  6  3  5  9  5  6  4  7  5  7  7  5  4  2  3  8  3  3  7\n",
            "  4 10  3  7  9  8  4  6  4  7  6  7  5  3  4  6  4  4  7  7  1  4  2  5\n",
            "  3  5  6  2 12  4  2  3  2  8  9  8  8  5  6  6  7  6 11  7  9  8  5  8\n",
            "  3  8  5  2  4  2  4  4  5  8  2  2  5  6  3  4  5  8  3 10  4  7  7  7\n",
            "  4  4  2  5  4  5  3  4  4  5  5  4  3  7 10  8  5  8  4  4  5  8  6  4\n",
            "  7  3  2  6  4  1  3  4  6  3  7  6  4  6  5  3  5  8  5  3  4  6  2  3\n",
            "  6  4  7  5  6  1  2  5  6  8  7  8  5  6  4  4  5  6  2  6  4  8  2  5\n",
            "  3  6  6  8  4  6  5  4  6  1  6  4  3  3  6  5  0  6  6  5  2  3  0  8\n",
            "  6  8  5  4  4 10  4  5  4  6  5  6  9  6  5  7  4  4  8  2  4  7  7  6\n",
            "  3  4  8  0  4  7  3  4  3  5  9  1  7  6  5  4  5  5  2  3  2  8  4  2\n",
            "  6  6  3  5  4  8  5  1  9  6  7 13 10  7  2 10  6  4  8  5  6  5  6  4\n",
            "  6  2  7  8  5  3  4  5  8  5  7  8  4  5  7  8  1  8  6  6  5  3  3  5\n",
            "  4  5  6  6  7  7  6  4  4  3  5  5  2  6  7  7  9  7  2  9  5  8  7  3\n",
            "  4  4  5  6  5  5  3  6  7  6  5  7  2  4  5  2  7  2  4  5  5  5  5  4\n",
            "  4  6  6  5  5  6  2  4  6  3  3  4  5  3  5  6  5  5  2  6  3  4  2  5\n",
            "  3  6  6  2  7  5  7  7  4  5  9  8  4  5  6  4  7  0  8  6  5  3  1  7\n",
            "  4  4  9  6  1  5  4  2  4  5  4  6  5  2  7  7]\n",
            "Sample mean:  5.05\n",
            "Sample variance:  4.8835\n"
          ]
        }
      ]
    },
    {
      "cell_type": "code",
      "source": [
        "## Q9. How mean and variance are related in Binomial distribution and Poisson distribution?\n",
        "'''In binomial distribution, Mean > Variance. In poisson distribution, Mean = Variance.'''"
      ],
      "metadata": {
        "colab": {
          "base_uri": "https://localhost:8080/",
          "height": 35
        },
        "id": "bgfLdJRHgGAj",
        "outputId": "f88a97d9-79a0-48c7-e9a0-738da7dd580f"
      },
      "execution_count": 9,
      "outputs": [
        {
          "output_type": "execute_result",
          "data": {
            "text/plain": [
              "'In binomial distribution, Mean > Variance. In poisson distribution, Mean = Variance.'"
            ],
            "application/vnd.google.colaboratory.intrinsic+json": {
              "type": "string"
            }
          },
          "metadata": {},
          "execution_count": 9
        }
      ]
    },
    {
      "cell_type": "code",
      "source": [
        "## Q10. In normal distribution with respect to mean position, where does the least frequent data appear?\n",
        "'''Data near the mean are more frequent to occur when compared to data far away from mean.\n",
        "The least frequent data appear at the extreme ends in both directions from mean.'''"
      ],
      "metadata": {
        "colab": {
          "base_uri": "https://localhost:8080/",
          "height": 35
        },
        "id": "ZXaos0HjgNY7",
        "outputId": "b5bb91f3-76a7-49e3-af26-c3aed0282819"
      },
      "execution_count": 10,
      "outputs": [
        {
          "output_type": "execute_result",
          "data": {
            "text/plain": [
              "'Data near the mean are more frequent to occur when compared to data far away from mean.\\nThe least frequent data appear at the extreme ends in both directions from mean.'"
            ],
            "application/vnd.google.colaboratory.intrinsic+json": {
              "type": "string"
            }
          },
          "metadata": {},
          "execution_count": 10
        }
      ]
    }
  ]
}