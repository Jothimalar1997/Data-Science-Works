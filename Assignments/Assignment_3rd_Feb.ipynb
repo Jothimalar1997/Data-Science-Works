{
  "nbformat": 4,
  "nbformat_minor": 0,
  "metadata": {
    "colab": {
      "provenance": []
    },
    "kernelspec": {
      "name": "python3",
      "display_name": "Python 3"
    },
    "language_info": {
      "name": "python"
    }
  },
  "cells": [
    {
      "cell_type": "code",
      "execution_count": 1,
      "metadata": {
        "id": "RS7k5SP3uk4d",
        "colab": {
          "base_uri": "https://localhost:8080/"
        },
        "outputId": "96b5a32b-514f-433a-9fa9-9ce18c6dd826"
      },
      "outputs": [
        {
          "output_type": "execute_result",
          "data": {
            "text/plain": [
              "[1, 3, 5, 7, 9, 11, 13, 15, 17, 19, 21, 23, 25]"
            ]
          },
          "metadata": {},
          "execution_count": 1
        }
      ],
      "source": [
        "# 1) List of odd numbers in tha range of 1 to 25:\n",
        "# def keyword is used to define the function.\n",
        "def odd():\n",
        "  l=[]\n",
        "  for i in range(1,26):\n",
        "    if i%2!=0: \n",
        "      l.append(i)\n",
        "  return l\n",
        "odd()"
      ]
    },
    {
      "cell_type": "code",
      "source": [
        "#2) *args and **kwargs:\n",
        "'''To pass any number of values in the function *args is used.It returns the result in Tuple.\n",
        "To pass any number of key-value pair **kwargs is used. It returns the result in Dictionary'''\n",
        "\n",
        "def f1(*args):\n",
        "  l=[]\n",
        "  for i in args:\n",
        "    l.append(i)\n",
        "  return l\n",
        "def f2(**kwargs):\n",
        "  d={}\n",
        "  for key,value in kwargs.items():\n",
        "    d[key]=value \n",
        "  return d\n",
        "\n",
        "print(f1(1,3,5,True,\"Python\",2.3))\n",
        "print(f2(Day1='Python_Basics',Day2='String',Day3='Functions'))\n"
      ],
      "metadata": {
        "colab": {
          "base_uri": "https://localhost:8080/"
        },
        "id": "fO8Y2PY-wFgu",
        "outputId": "de5ec8f3-4f46-4957-ec8a-a47ba76c1053"
      },
      "execution_count": 2,
      "outputs": [
        {
          "output_type": "stream",
          "name": "stdout",
          "text": [
            "[1, 3, 5, True, 'Python', 2.3]\n",
            "{'Day1': 'Python_Basics', 'Day2': 'String', 'Day3': 'Functions'}\n"
          ]
        }
      ]
    },
    {
      "cell_type": "code",
      "source": [
        "# 3) Iterator:\n",
        "'''Iterator is an object used to iterate over the iterable objects like list,tuple,set.\n",
        "iter() method is used to initiate the iterator. It returns iterable objects.\n",
        "next() method is used to iterate over the iterable. This method raises the stopIteration to signal the end of the iteration'''\n",
        "string=\"python\"\n",
        "iterable_obj=iter(string)\n",
        "while iterable_obj:\n",
        "  try:\n",
        "    print(next(iterable_obj))\n",
        "  except StopIteration:\n",
        "    break\n",
        "    "
      ],
      "metadata": {
        "colab": {
          "base_uri": "https://localhost:8080/"
        },
        "id": "4N92bubWNVQn",
        "outputId": "6dc4188e-3ffa-4e45-f4b9-9a78899540c1"
      },
      "execution_count": 3,
      "outputs": [
        {
          "output_type": "stream",
          "name": "stdout",
          "text": [
            "p\n",
            "y\n",
            "t\n",
            "h\n",
            "o\n",
            "n\n"
          ]
        }
      ]
    },
    {
      "cell_type": "code",
      "source": [
        "# 4) Generator function:\n",
        "'''Generator function is defined like the normal function which returns generator objects. But whenever it generates the value it uses yield instead of return.\n",
        "Yield converts the normal function into generator function that returns the generator object. It is mostly used we need intermediate results'''\n",
        "def fibonacci(n):\n",
        "  a,b=0,1\n",
        "  for i in range(n):\n",
        "    yield a\n",
        "    a,b=b,a+b\n",
        "for i in fibonacci(6):\n",
        "  print(i)"
      ],
      "metadata": {
        "colab": {
          "base_uri": "https://localhost:8080/"
        },
        "id": "k1RhtSRQXlrn",
        "outputId": "9853e4de-92ec-4351-b6b9-0da0ff3f7696"
      },
      "execution_count": 4,
      "outputs": [
        {
          "output_type": "stream",
          "name": "stdout",
          "text": [
            "0\n",
            "1\n",
            "1\n",
            "2\n",
            "3\n",
            "5\n"
          ]
        }
      ]
    },
    {
      "cell_type": "code",
      "source": [
        "# 5) Generator function to print prime numbers less than 1000\n",
        "def prime_number(n):\n",
        "  \n",
        "  for i in range(2,n+1):\n",
        "    flag=0\n",
        "    if i==2: \n",
        "      yield i\n",
        "    else:\n",
        "     for j in range(2,i):\n",
        "      if(i%j==0):\n",
        "        flag=1\n",
        "        break\n",
        "     if flag==0: \n",
        "       yield i\n",
        "\n",
        "list1=[]\n",
        "for i in prime_number(1000):\n",
        "   list1.append(i)\n",
        "   if len(list1)==20:\n",
        "     print(list1)\n",
        "     break\n",
        "  \n",
        "\n"
      ],
      "metadata": {
        "colab": {
          "base_uri": "https://localhost:8080/"
        },
        "id": "RLaNOhncaEwb",
        "outputId": "be8347c3-fc0e-4733-b876-700de4827688"
      },
      "execution_count": 5,
      "outputs": [
        {
          "output_type": "stream",
          "name": "stdout",
          "text": [
            "[2, 3, 5, 7, 11, 13, 17, 19, 23, 29, 31, 37, 41, 43, 47, 53, 59, 61, 67, 71]\n"
          ]
        }
      ]
    }
  ]
}