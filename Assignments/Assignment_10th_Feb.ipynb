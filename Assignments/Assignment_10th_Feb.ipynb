{
  "nbformat": 4,
  "nbformat_minor": 0,
  "metadata": {
    "colab": {
      "provenance": []
    },
    "kernelspec": {
      "name": "python3",
      "display_name": "Python 3"
    },
    "language_info": {
      "name": "python"
    }
  },
  "cells": [
    {
      "cell_type": "code",
      "execution_count": 1,
      "metadata": {
        "colab": {
          "base_uri": "https://localhost:8080/"
        },
        "id": "HlwWrUluLnA-",
        "outputId": "98a2f90f-bee5-47e5-83d6-8250daaababa"
      },
      "outputs": [
        {
          "output_type": "stream",
          "name": "stdout",
          "text": [
            "Write mode overides the exisiting content with the new content.\n",
            "Write mode overides the exisiting content with the new content.Append mode appends the new content with the old content of the file.\n"
          ]
        }
      ],
      "source": [
        "# 1) Opening a file and it's modes:\n",
        "'''To open a file,open() function is used.\n",
        "Modes in open() function- Read(r),Write(w),Append(a),Binary(b),Text(t)'''\n",
        "with open(\"file1.txt\",\"w\") as f:         # write mode\n",
        "  f.write(\"Write mode overides the exisiting content with the new content.\")   \n",
        "with open(\"file1.txt\",\"r\") as f:         # read mode\n",
        "  print(f.read())\n",
        "with open(\"file1.txt\",\"a\") as f:         # append mode\n",
        "  f.write(\"Append mode appends the new content with the old content of the file.\")\n",
        "with open(\"file1.txt\",\"r\") as f:         # read mode\n",
        "  print(f.read())"
      ]
    },
    {
      "cell_type": "code",
      "source": [
        "# 2) Close function:\n",
        "'''Close function is used to close the file so it no longer refer to any file and it can be reused.\n",
        "After written, only after close function we can able to see the result.'''\n",
        "f1=open(\"file1.txt\",mode='w')\n",
        "f1.write(\"This is my file1\")\n",
        "f1.close()\n",
        "with open(\"file1.txt\",mode='r') as f:\n",
        "  data=f.read()\n",
        "print(data)"
      ],
      "metadata": {
        "colab": {
          "base_uri": "https://localhost:8080/"
        },
        "id": "q0DAi9CpN8vi",
        "outputId": "c675e2ee-5ef3-4b9e-e4b6-3388d0b0faef"
      },
      "execution_count": 2,
      "outputs": [
        {
          "output_type": "stream",
          "name": "stdout",
          "text": [
            "This is my file1\n"
          ]
        }
      ]
    },
    {
      "cell_type": "code",
      "source": [
        "# 3) Creating a file, opening and reading a file:\n",
        "with open(\"text1.txt\",mode=\"w\") as f:\n",
        " f.write(\"I want to become a Data Scientist\")\n",
        "with open(\"text1.txt\",mode='r') as f:\n",
        "  data=f.read()\n",
        "print(data)"
      ],
      "metadata": {
        "colab": {
          "base_uri": "https://localhost:8080/"
        },
        "id": "ESkfcPXkXNzE",
        "outputId": "cfffa8ff-0782-4748-93df-39afd45cc96e"
      },
      "execution_count": 3,
      "outputs": [
        {
          "output_type": "stream",
          "name": "stdout",
          "text": [
            "I want to become a Data Scientist\n"
          ]
        }
      ]
    },
    {
      "cell_type": "code",
      "source": [
        "# 3) read,readline,readlines:\n",
        "'''read reads the entire file and returns its string value.\n",
        "readline reads just one line from the file.\n",
        "readlines returns the list of string representing the lines of file.'''\n",
        "with open(\"text2.txt\",mode=\"w\") as f:\n",
        "  f.write(\"first line\\nsecond line\\nthird line\\nfourth line\\nfifth line\")\n",
        "print(\"output for read(): \")\n",
        "with open(\"text2.txt\",mode=\"r\") as f:\n",
        "  print(f.read())\n",
        "  f.seek(0)\n",
        "print(\"output for readline(): \")\n",
        "with open(\"text2.txt\",mode=\"r\") as f:\n",
        "  print(f.readline())\n",
        "print(\"output for readlines() that prints output of last 2 lines: \")\n",
        "with open(\"text2.txt\",mode=\"r\") as f:\n",
        "  print(f.readlines()[3:])"
      ],
      "metadata": {
        "colab": {
          "base_uri": "https://localhost:8080/"
        },
        "id": "cyCsjo9aYoWI",
        "outputId": "d1553187-3123-49c4-b233-ea3dc7029995"
      },
      "execution_count": 4,
      "outputs": [
        {
          "output_type": "stream",
          "name": "stdout",
          "text": [
            "output for read(): \n",
            "first line\n",
            "second line\n",
            "third line\n",
            "fourth line\n",
            "fifth line\n",
            "output for readline(): \n",
            "first line\n",
            "\n",
            "output for readlines() that prints output of last 2 lines: \n",
            "['fourth line\\n', 'fifth line']\n"
          ]
        }
      ]
    },
    {
      "cell_type": "code",
      "source": [
        "# 4) with statement along with open():\n",
        "'''with statement ensures that file is closed after writing is completed.\n",
        "with statement along with open() is used to avoid the error/bug that happens when we open a file that does not exists.\n",
        "If the file does not exists, it creates a dummy text in that current folder and opens. After writing the data, it closes the file\n",
        "automatically with the help of 'with' statement.'''"
      ],
      "metadata": {
        "colab": {
          "base_uri": "https://localhost:8080/",
          "height": 70
        },
        "id": "cU6LDsdjdf1y",
        "outputId": "723b7ef7-031a-4b61-908c-26affafd2b39"
      },
      "execution_count": 5,
      "outputs": [
        {
          "output_type": "execute_result",
          "data": {
            "text/plain": [
              "\"with statement ensures that file is closed after writing is completed.\\nwith statement along with open() is used to avoid the error/bug that happens when we open a file that does not exists.\\nIf the file does not exists, it creates a dummy text in that current folder and opens. After writing the data, it closes the file\\nautomatically with the help of 'with' statement.\""
            ],
            "application/vnd.google.colaboratory.intrinsic+json": {
              "type": "string"
            }
          },
          "metadata": {},
          "execution_count": 5
        }
      ]
    },
    {
      "cell_type": "code",
      "source": [
        "# 5) write and writelines():\n",
        "'''write() is used to write a string to the file\n",
        "writelines() is used to write a list of string to the file'''\n",
        "print(\"This is the example of write() function.This is within text3 file.\")\n",
        "with open(\"text3.txt\",mode=\"w\") as f:\n",
        "  f.write(\"I love python programming and want to become a Data Scientist.\")\n",
        "list1=[]\n",
        "with open(\"text3.txt\",mode=\"r\") as f:\n",
        "  print(f.read())\n",
        "with open(\"text4.txt\",mode=\"w\") as f:\n",
        "  for i in range(5):\n",
        "    line=f\"I'm in line {i}\"\n",
        "    list1.append(line+\"\\n\")\n",
        "  f.writelines(list1)\n",
        "print(\"---------------------\")\n",
        "print(\"This is the example of writelines() function.This is within text4 file.\")\n",
        "with open(\"text4.txt\",mode=\"r\") as f:\n",
        "  print(f.read())"
      ],
      "metadata": {
        "colab": {
          "base_uri": "https://localhost:8080/"
        },
        "id": "4hqkNhaxgL5S",
        "outputId": "92afb42a-8519-4f03-c607-ec075d752c80"
      },
      "execution_count": 6,
      "outputs": [
        {
          "output_type": "stream",
          "name": "stdout",
          "text": [
            "This is the example of write() function.This is within text3 file.\n",
            "I love python programming and want to become a Data Scientist.\n",
            "---------------------\n",
            "This is the example of writelines() function.This is within text4 file.\n",
            "I'm in line 0\n",
            "I'm in line 1\n",
            "I'm in line 2\n",
            "I'm in line 3\n",
            "I'm in line 4\n",
            "\n"
          ]
        }
      ]
    }
  ]
}