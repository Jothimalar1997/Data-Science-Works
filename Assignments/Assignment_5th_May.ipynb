{
  "nbformat": 4,
  "nbformat_minor": 0,
  "metadata": {
    "colab": {
      "provenance": []
    },
    "kernelspec": {
      "name": "python3",
      "display_name": "Python 3"
    },
    "language_info": {
      "name": "python"
    }
  },
  "cells": [
    {
      "cell_type": "code",
      "execution_count": 1,
      "metadata": {
        "colab": {
          "base_uri": "https://localhost:8080/",
          "height": 55
        },
        "id": "c9uNxXcMCe6g",
        "outputId": "dbf75024-36ea-41d0-c749-1e072bfab931"
      },
      "outputs": [
        {
          "output_type": "execute_result",
          "data": {
            "text/plain": [
              "'Time-dependent seasonal components are the time series component that reflects variability during a single year. \\nThis component usually reflects patterns of demand that occur throughout the year, such as increasing demand during the holiday season or increasing demand during the summer months.'"
            ],
            "application/vnd.google.colaboratory.intrinsic+json": {
              "type": "string"
            }
          },
          "metadata": {},
          "execution_count": 1
        }
      ],
      "source": [
        "## Q1. What is meant by time-dependent seasonal components?\n",
        "'''Time-dependent seasonal components are the time series component that reflects variability during a single year. \n",
        "This component usually reflects patterns of demand that occur throughout the year, such as increasing demand during the holiday season or increasing demand during the summer months.'''"
      ]
    },
    {
      "cell_type": "code",
      "source": [
        "## Q2. How can time-dependent seasonal components be identified in time series data?\n",
        "'''There are many tools that are useful for detecting seasonality in time series data. \n",
        "Background theory and knowledge of the data can provide insight into the presence and frequency of seasonality. \n",
        "Time series plots such as the seasonal subseries plot, the autocorrelation plot, or a spectral plot can help identify obvious seasonal trends in data.'''"
      ],
      "metadata": {
        "colab": {
          "base_uri": "https://localhost:8080/",
          "height": 55
        },
        "id": "aRoXhwVbCwHt",
        "outputId": "0fe3378f-aee4-4f8f-82b4-65b8983f0741"
      },
      "execution_count": 2,
      "outputs": [
        {
          "output_type": "execute_result",
          "data": {
            "text/plain": [
              "'There are many tools that are useful for detecting seasonality in time series data. \\nBackground theory and knowledge of the data can provide insight into the presence and frequency of seasonality. \\nTime series plots such as the seasonal subseries plot, the autocorrelation plot, or a spectral plot can help identify obvious seasonal trends in data.'"
            ],
            "application/vnd.google.colaboratory.intrinsic+json": {
              "type": "string"
            }
          },
          "metadata": {},
          "execution_count": 2
        }
      ]
    },
    {
      "cell_type": "code",
      "source": [
        "## Q3. What are the factors that can influence time-dependent seasonal components?\n",
        "'''The seasonal component consists of effects that are reasonably stable with respect to timing, direction and magnitude. \n",
        "It arises from systematic, calendar related influences such as natural conditions (weather fluctuations that are representative of the season), business and administrative procedures (start and end of the school term), social and cultural behavior.'''"
      ],
      "metadata": {
        "colab": {
          "base_uri": "https://localhost:8080/",
          "height": 55
        },
        "id": "5o1KxYVKC-H9",
        "outputId": "511b3c3d-219e-4b96-ebcd-848c65a09b40"
      },
      "execution_count": 3,
      "outputs": [
        {
          "output_type": "execute_result",
          "data": {
            "text/plain": [
              "'The seasonal component consists of effects that are reasonably stable with respect to timing, direction and magnitude. \\nIt arises from systematic, calendar related influences such as natural conditions (weather fluctuations that are representative of the season), business and administrative procedures (start and end of the school term), social and cultural behavior.'"
            ],
            "application/vnd.google.colaboratory.intrinsic+json": {
              "type": "string"
            }
          },
          "metadata": {},
          "execution_count": 3
        }
      ]
    },
    {
      "cell_type": "code",
      "source": [
        "## Q4. How are autoregression models used in time series analysis and forecasting?\n",
        "'''Autoregression is a time series model that uses observations from previous time steps as input to a regression equation to predict the value at the next time step.\n",
        "It is a very simple idea that can result in accurate forecasts on a range of time series problems. \n",
        "Autoregression modeling is a modeling technique used for time series data that assumes linear continuation of the series so that previous values in the time series can be used to predict futures values.'''"
      ],
      "metadata": {
        "colab": {
          "base_uri": "https://localhost:8080/",
          "height": 55
        },
        "id": "WOIAjHPRDL3O",
        "outputId": "fb78610e-858a-4d81-92ae-efad0c29d682"
      },
      "execution_count": 4,
      "outputs": [
        {
          "output_type": "execute_result",
          "data": {
            "text/plain": [
              "'Autoregression is a time series model that uses observations from previous time steps as input to a regression equation to predict the value at the next time step.\\nIt is a very simple idea that can result in accurate forecasts on a range of time series problems. \\nAutoregression modeling is a modeling technique used for time series data that assumes linear continuation of the series so that previous values in the time series can be used to predict futures values.'"
            ],
            "application/vnd.google.colaboratory.intrinsic+json": {
              "type": "string"
            }
          },
          "metadata": {},
          "execution_count": 4
        }
      ]
    },
    {
      "cell_type": "code",
      "source": [
        "## Q5. How do you use autoregression models to make predictions for future time points?\n",
        "'''An autoregression model makes an assumption that the observations at previous time steps are useful to predict the value at the next time step. \n",
        "This relationship between variables is called correlation. \n",
        "If both variables change in the same direction (e.g. go up together or down together), this is called a positive correlation.\n",
        "We can use the predict() function to create a forecast using the fitted AR model.'''"
      ],
      "metadata": {
        "colab": {
          "base_uri": "https://localhost:8080/",
          "height": 55
        },
        "id": "2nAf_VIrDaJf",
        "outputId": "8feb779a-5154-4b0b-955b-3ef4fec0e3ee"
      },
      "execution_count": 5,
      "outputs": [
        {
          "output_type": "execute_result",
          "data": {
            "text/plain": [
              "'An autoregression model makes an assumption that the observations at previous time steps are useful to predict the value at the next time step. \\nThis relationship between variables is called correlation. \\nIf both variables change in the same direction (e.g. go up together or down together), this is called a positive correlation.\\nWe can use the predict() function to create a forecast using the fitted AR model.'"
            ],
            "application/vnd.google.colaboratory.intrinsic+json": {
              "type": "string"
            }
          },
          "metadata": {},
          "execution_count": 5
        }
      ]
    },
    {
      "cell_type": "code",
      "source": [
        "## Q6. What is a moving average (MA) model and how does it differ from other time series models?\n",
        "'''A moving average model suggests that an upcoming data point will be equal to the average of past data points. \n",
        "This rudimentary model is powerful in smoothing out data sets so as to observe their overall trend, with little regard for outlying data points. \n",
        "However, it may smooth out the seasonality of some time series1. The moving average model is probably the most naive approach to time series modelling. \n",
        "This model simply states that the next observation is the mean of all past observations. Although simple, this model might be surprisingly good and it represents a good starting point.'''"
      ],
      "metadata": {
        "colab": {
          "base_uri": "https://localhost:8080/",
          "height": 73
        },
        "id": "1km-YOBdDp2Q",
        "outputId": "9769e101-66a2-425f-a808-698a3812d283"
      },
      "execution_count": 6,
      "outputs": [
        {
          "output_type": "execute_result",
          "data": {
            "text/plain": [
              "'A moving average model suggests that an upcoming data point will be equal to the average of past data points. \\nThis rudimentary model is powerful in smoothing out data sets so as to observe their overall trend, with little regard for outlying data points. \\nHowever, it may smooth out the seasonality of some time series1. The moving average model is probably the most naive approach to time series modelling. \\nThis model simply states that the next observation is the mean of all past observations. Although simple, this model might be surprisingly good and it represents a good starting point.'"
            ],
            "application/vnd.google.colaboratory.intrinsic+json": {
              "type": "string"
            }
          },
          "metadata": {},
          "execution_count": 6
        }
      ]
    },
    {
      "cell_type": "code",
      "source": [
        "## Q7. What is a mixed ARMA model and how does it differ from an AR or MA model?\n",
        "'''A mixed ARMA model is a model that is combined from the AR and MA models.\n",
        "In this model, the impact of previous lags along with the residuals is considered for forecasting the future values of the time series. \n",
        "Here β represents the coefficients of the AR model and α represents the coefficients of the MA model.'''"
      ],
      "metadata": {
        "colab": {
          "base_uri": "https://localhost:8080/",
          "height": 55
        },
        "id": "URY2gy5uD3_m",
        "outputId": "67974b1a-e39e-4f3c-bd7c-7753a1b7fe5b"
      },
      "execution_count": 7,
      "outputs": [
        {
          "output_type": "execute_result",
          "data": {
            "text/plain": [
              "'A mixed ARMA model is a model that is combined from the AR and MA models.\\nIn this model, the impact of previous lags along with the residuals is considered for forecasting the future values of the time series. \\nHere β represents the coefficients of the AR model and α represents the coefficients of the MA model.'"
            ],
            "application/vnd.google.colaboratory.intrinsic+json": {
              "type": "string"
            }
          },
          "metadata": {},
          "execution_count": 7
        }
      ]
    }
  ]
}