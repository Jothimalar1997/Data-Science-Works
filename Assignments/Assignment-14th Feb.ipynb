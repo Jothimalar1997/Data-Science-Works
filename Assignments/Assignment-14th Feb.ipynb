{
 "cells": [
  {
   "cell_type": "markdown",
   "id": "447bd6ea-ef77-45e1-96a8-4d68f1b581dd",
   "metadata": {},
   "source": [
    "## 1) Multi-Threading and its modules:"
   ]
  },
  {
   "cell_type": "markdown",
   "id": "db4aacf5-7f7f-4bc1-8746-39b826290e28",
   "metadata": {},
   "source": [
    "Thread is a sub process/light weight process within an process. Multiple thread exists within a process.\n",
    "Multithreading is a defined as the ability of the processor to exectute multiple threads simultaneously.\n",
    "Each thread contains its own register set and local variables.\n",
    "All threads of the program share the global variables and the code.\n",
    "\n",
    "MultiThreading allows the concurrent execution of two or more parts of the program for maximum utilization of CPU.\n",
    "\n",
    "Thread module and Threading module are used to handle threads in python."
   ]
  },
  {
   "cell_type": "markdown",
   "id": "c5148fe8-5fb9-4dc5-b291-6ffe537507b8",
   "metadata": {},
   "source": [
    "## 2) Threading module:"
   ]
  },
  {
   "cell_type": "markdown",
   "id": "db7a1de3-9f98-4ae6-94ab-6d398463247d",
   "metadata": {},
   "source": [
    "Threading module is used to expose all the methods of the thread and provides some addition methods:\n",
    "(i) threading.activeCount()-Returns the number of thread objects that are active\n",
    "(ii) threading.currentThread()-Returns the current thread object in the caller's thread control.\n",
    "(iii) threading.enumerate()-Returns a list of all thread objects that are currently active."
   ]
  },
  {
   "cell_type": "code",
   "execution_count": 5,
   "id": "ddab7389-a632-42dd-91db-b197be4beee9",
   "metadata": {},
   "outputs": [
    {
     "name": "stdout",
     "output_type": "stream",
     "text": [
      "Im from thread 1 and value of i is 10\n",
      "Im from thread 2 and value of i is 4\n",
      "Number of active threads : 10\n",
      "Current thread is : <_MainThread(MainThread, started 139653639866176)>\n",
      "List of threads : [<_MainThread(MainThread, started 139653639866176)>, <Thread(IOPub, started daemon 139653569336896)>, <Heartbeat(Heartbeat, started daemon 139653560944192)>, <Thread(Thread-3 (_watch_pipe_fd), started daemon 139653327869504)>, <Thread(Thread-4 (_watch_pipe_fd), started daemon 139653319476800)>, <ControlThread(Control, started daemon 139653311084096)>, <HistorySavingThread(IPythonHistorySavingThread, started 139653302691392)>, <ParentPollerUnix(Thread-2, started daemon 139653294298688)>, <Thread(Thread-9 (thread1), started 139652942001728)>, <Thread(Thread-10 (thread2), started 139652933609024)>]\n"
     ]
    }
   ],
   "source": [
    "import threading,time\n",
    "def thread1(i):\n",
    "    print(f\"Im from thread 1 and value of i is {i}\")\n",
    "    time.sleep(3)\n",
    "def thread2(i):\n",
    "    print(f\"Im from thread 2 and value of i is {i}\")\n",
    "    time.sleep(3)\n",
    "if __name__==\"__main__\":\n",
    "    t1=threading.Thread(target=thread1,args=(10,))\n",
    "    t2=threading.Thread(target=thread2,args=(4,))\n",
    "    t1.start()\n",
    "    t2.start()\n",
    "    print(\"Number of active threads :\",threading.active_count())\n",
    "    print(\"Current thread is :\",threading.current_thread())\n",
    "    print(\"List of threads :\",threading.enumerate())\n",
    "    t1.join\n",
    "    t2.join"
   ]
  },
  {
   "cell_type": "markdown",
   "id": "1eb6362c-522c-4d7e-932a-745f82e6e364",
   "metadata": {},
   "source": [
    "## 3) run(),start(),join(),isAlive():\n",
    "run()-Defines the entry point for a thread.\n",
    "start()-Starts a thread by calling the run method.\n",
    "join(time)-waits for the thread ton terminate.\n",
    "isAlive()-checks whether the thread is executing or not."
   ]
  },
  {
   "cell_type": "code",
   "execution_count": 15,
   "id": "f693f1cb-0822-4b6f-8116-0ac3909f0622",
   "metadata": {},
   "outputs": [
    {
     "name": "stdout",
     "output_type": "stream",
     "text": [
      "run() is called by threading.Thread.start()\n",
      "Status of the thread : False\n"
     ]
    }
   ],
   "source": [
    "class thread(threading.Thread):\n",
    "    def run(self):\n",
    "        print(\"run() is called by threading.Thread.start()\")\n",
    "if __name__==\"__main__\":\n",
    "    thread1=thread()\n",
    "    thread1.start()\n",
    "    thread1.join()\n",
    "    print(f\"Status of the thread : {thread1.is_alive()}\")"
   ]
  },
  {
   "cell_type": "markdown",
   "id": "ece885b3-7def-4fc5-8fc0-781a1c33882f",
   "metadata": {},
   "source": [
    "## 4) Program to create two threads that print the list of squares and list of cubes of the number:"
   ]
  },
  {
   "cell_type": "code",
   "execution_count": 22,
   "id": "ab842758-ca41-4f78-9305-c1a376eb25f5",
   "metadata": {},
   "outputs": [
    {
     "name": "stdout",
     "output_type": "stream",
     "text": [
      "Squares of the list: \n",
      "1\n",
      "4\n",
      "9\n",
      "16\n",
      "25\n",
      "cubes of the list: \n",
      "1\n",
      "8\n",
      "27\n",
      "64\n",
      "125\n"
     ]
    }
   ],
   "source": [
    "def square(num):\n",
    "   print(num*num)\n",
    "def cube(num):\n",
    "    print(num*num*num)\n",
    "if __name__==\"__main__\":\n",
    "    thread1=[threading.Thread(target=square,args=(i,)) for i in [1,2,3,4,5]]\n",
    "    thread2=[threading.Thread(target=cube,args=(i,)) for i in [1,2,3,4,5]]\n",
    "    print(\"Squares of the list: \")\n",
    "    for t1 in thread1:\n",
    "     t1.start()\n",
    "    print(\"cubes of the list: \")\n",
    "    for t2 in thread2:\n",
    "     t2.start()"
   ]
  },
  {
   "cell_type": "markdown",
   "id": "c2f993f6-2680-4ee7-ba43-2463ff14e9f7",
   "metadata": {},
   "source": [
    "## 5) Advantages and Disadvantages of Multithreading:"
   ]
  },
  {
   "cell_type": "markdown",
   "id": "b6106f1e-f9be-4b2d-9486-2777abe303e4",
   "metadata": {},
   "source": [
    "### Advantages:\n",
    " (i) Threads are independent of each other.\n",
    " (ii) Resources can be used efficiently since threads executes parallely.\n",
    " (iii) Enhances the performance of multi-processor machines.\n",
    "### Disadvantages:\n",
    " (i) Complexity increases with increase in number of threads.\n",
    " (ii) Necessary to maintain synchronisation while using shared resources among multiple threads.\n",
    " (iii) Process of constructing/synchronising the threads is cpu/memory intensive"
   ]
  },
  {
   "cell_type": "markdown",
   "id": "18b3ee6d-ba37-4d75-a902-717d9c947c06",
   "metadata": {},
   "source": [
    "## 6) Deadlocks and Race Conditions:"
   ]
  },
  {
   "cell_type": "markdown",
   "id": "44da166d-ac08-45b6-9e04-1fa8d7136fed",
   "metadata": {},
   "source": [
    "### Deadlock:\n",
    "Deadlock is a condition where a thread or threads waits for the condition that never occurs.\n",
    "Deadlock inclues:\n",
    " (i) A thread that waits on itself.\n",
    " (ii) Threads that wait for each other (A waits for B, B waits for A)\n",
    " (iii) Thread that fails to release the resources (mutex lock,semaphore,..etc)\n",
    " (iv) Threads that acquires mutex locks in differnt modes (ie: fails to perform lock ordering)\n",
    " \n",
    "### Race condition:\n",
    "Race condition occurs when two or more threads can access shared variable and try to change it at the same time. Due to this,the value of variable may be unpredicted and vary depending on thet timings of context switches of the process."
   ]
  }
 ],
 "metadata": {
  "kernelspec": {
   "display_name": "Python 3 (ipykernel)",
   "language": "python",
   "name": "python3"
  },
  "language_info": {
   "codemirror_mode": {
    "name": "ipython",
    "version": 3
   },
   "file_extension": ".py",
   "mimetype": "text/x-python",
   "name": "python",
   "nbconvert_exporter": "python",
   "pygments_lexer": "ipython3",
   "version": "3.10.8"
  }
 },
 "nbformat": 4,
 "nbformat_minor": 5
}
