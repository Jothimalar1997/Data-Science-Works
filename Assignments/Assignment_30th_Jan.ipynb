{
  "nbformat": 4,
  "nbformat_minor": 0,
  "metadata": {
    "colab": {
      "provenance": []
    },
    "kernelspec": {
      "name": "python3",
      "display_name": "Python 3"
    },
    "language_info": {
      "name": "python"
    }
  },
  "cells": [
    {
      "cell_type": "code",
      "execution_count": 1,
      "metadata": {
        "colab": {
          "base_uri": "https://localhost:8080/"
        },
        "id": "NvxIiIvyZxyv",
        "outputId": "eb4fb0a8-cf52-4326-dba7-2ea695dfd2e5"
      },
      "outputs": [
        {
          "output_type": "stream",
          "name": "stdout",
          "text": [
            "Enter the percentage: 76\n",
            "Grade:C\n"
          ]
        }
      ],
      "source": [
        "# 1) To display the grade\n",
        "percentage=int(input(\"Enter the percentage: \"))\n",
        "if(percentage>90): print(\"Grade:A\")\n",
        "elif(percentage>80 and percentage<=90): print(\"Grade:B\")\n",
        "elif(percentage>=60 and percentage<=80): print(\"Grade:C\")\n",
        "else: print(\"Grade:D\")"
      ]
    },
    {
      "cell_type": "code",
      "source": [
        "# 2) To display the road tax\n",
        "cost=int(input(\"Enter the bike price: \"))\n",
        "if(cost>100000): \n",
        "  tax=(cost*0.15)\n",
        "  print(f\"Raod Tax to pay: {tax}\")\n",
        "elif(cost>50000 and cost<=100000):\n",
        "   tax=(cost*0.10)\n",
        "   print(f\"Raod Tax to pay: {tax}\")\n",
        "else:\n",
        "  tax=(cost*0.05)\n",
        "  print(f\"Raod Tax to pay: {tax}\")\n",
        "\n"
      ],
      "metadata": {
        "colab": {
          "base_uri": "https://localhost:8080/"
        },
        "id": "Z-vRMoQIbW_1",
        "outputId": "6445532b-0949-4f5d-d122-e4d4efdeaaa0"
      },
      "execution_count": 2,
      "outputs": [
        {
          "output_type": "stream",
          "name": "stdout",
          "text": [
            "Enter the bike price: 85000\n",
            "Raod Tax to pay: 8500.0\n"
          ]
        }
      ]
    },
    {
      "cell_type": "code",
      "source": [
        "# 3) To display the monument of the city\n",
        "city=input(\"Enter the city: \")\n",
        "monument={\"Delhi\":\"Red Fort\",\"Agra\":\"Taj Mahal\",\"Jaipur\":\"Jal Mahal\"}\n",
        "print(\"The monument in the given city is\",monument[city])"
      ],
      "metadata": {
        "colab": {
          "base_uri": "https://localhost:8080/"
        },
        "id": "bLabHo_ydKb0",
        "outputId": "87b4368b-02d2-48a6-d2d1-805546e72cc9"
      },
      "execution_count": 3,
      "outputs": [
        {
          "output_type": "stream",
          "name": "stdout",
          "text": [
            "Enter the city: Agra\n",
            "The monument in the given city is Taj Mahal\n"
          ]
        }
      ]
    },
    {
      "cell_type": "code",
      "source": [
        "# 4) To find the number of times a number is divided by 3 before it is less than or equal to 10\n",
        "num=int(input(\"Enter the number: \"))\n",
        "temp=num\n",
        "temp1=0\n",
        "count=0\n",
        "while(temp>=10):\n",
        "   if(temp%3==0):\n",
        "     temp=temp//3\n",
        "     count+=1\n",
        "   else: \n",
        "     print(\"The number is not divisible by 3\")\n",
        "     break\n",
        "print(f\"Count: {count}\")"
      ],
      "metadata": {
        "colab": {
          "base_uri": "https://localhost:8080/"
        },
        "id": "ziR-CuCYeN1y",
        "outputId": "c75b7f95-817c-421d-9988-bd86f23414f3"
      },
      "execution_count": 4,
      "outputs": [
        {
          "output_type": "stream",
          "name": "stdout",
          "text": [
            "Enter the number: 99\n",
            "The number is not divisible by 3\n",
            "Count: 2\n"
          ]
        }
      ]
    },
    {
      "cell_type": "code",
      "source": [
        "# 5) Purpose of while loop:\n",
        "\"\"\"The while loop is used when we don't know the number of times the loop has to execute. \n",
        "It executes the statement as long as the condition is true.\n",
        "In the below example,the loop will run till the number is equal to 10\".\n",
        "    Intially if the number is 0 and we increment the number by 1, the loop will executes 11 times.\n",
        "    if the number is 0 and we increment the number by 2, the loop will executes 6 times\"\"\"\n",
        "number=0\n",
        "while(number<=10):\n",
        "  print(number)\n",
        "  number+=2\n",
        "\n"
      ],
      "metadata": {
        "colab": {
          "base_uri": "https://localhost:8080/"
        },
        "id": "EwBl5O0Cg4V3",
        "outputId": "b6fed847-6cc7-4324-82a1-ed5daf29ba44"
      },
      "execution_count": 5,
      "outputs": [
        {
          "output_type": "stream",
          "name": "stdout",
          "text": [
            "0\n",
            "2\n",
            "4\n",
            "6\n",
            "8\n",
            "10\n"
          ]
        }
      ]
    },
    {
      "cell_type": "code",
      "source": [
        "# 6) Nested while loop to print different pattern\n",
        "\"\"\" 1. Right angled triangle\n",
        "    2. Inverted Right angled triangle\n",
        "    3. Equilateral Triangle\"\"\" \n",
        "\n",
        "n=int(input(\"Enter the number: \"))\n",
        "m=1\n",
        "print(\"Right angled triangle\")\n",
        "i=j=1\n",
        "while i<=n:\n",
        "  while j<=i:\n",
        "    print(\"*\",end=\"\")\n",
        "    j+=1\n",
        "  print(\"\\r\")\n",
        "  i+=1\n",
        "  j=1\n",
        "print(\"-----------------------\")\n",
        "print(\"Inverted Right angled triangle\")\n",
        "i=1\n",
        "j=n\n",
        "while i<=n:\n",
        "  while j>=i:\n",
        "    print(\"*\",end=\"\")\n",
        "    j-=1\n",
        "  print(\"\\r\")\n",
        "  i+=1\n",
        "  j=n\n",
        "print(\"-----------------------\")\n",
        "print(\"Equilateral triangle\")\n",
        "i=j=1\n",
        "k=0\n",
        "while i<=n:\n",
        "  while k<=n-i:\n",
        "    print(\" \",end=\"\")\n",
        "    k+=1\n",
        "  while j<=2*i-1:\n",
        "    print(\"*\",end=\"\")\n",
        "    j+=1\n",
        "  print(\"\\r\")\n",
        "  i+=1\n",
        "  j=1\n",
        "  k=0\n",
        "\n",
        "  \n"
      ],
      "metadata": {
        "colab": {
          "base_uri": "https://localhost:8080/"
        },
        "id": "onat0dn1liHP",
        "outputId": "a4149cd4-cfd9-4367-fe1d-8e05fbd148d0"
      },
      "execution_count": 6,
      "outputs": [
        {
          "output_type": "stream",
          "name": "stdout",
          "text": [
            "Enter the number: 5\n",
            "Right angled triangle\n",
            "*\n",
            "**\n",
            "***\n",
            "****\n",
            "*****\n",
            "-----------------------\n",
            "Inverted Right angled triangle\n",
            "*****\n",
            "****\n",
            "***\n",
            "**\n",
            "*\n",
            "-----------------------\n",
            "Equilateral triangle\n",
            "     *\n",
            "    ***\n",
            "   *****\n",
            "  *******\n",
            " *********\n"
          ]
        }
      ]
    },
    {
      "cell_type": "code",
      "source": [
        "# 7) Reverse while loop to display number from 10 to 1\n",
        "n=10\n",
        "while(n>0):\n",
        "  print(n)\n",
        "  n-=1"
      ],
      "metadata": {
        "colab": {
          "base_uri": "https://localhost:8080/"
        },
        "id": "yrAQcTUXz-AU",
        "outputId": "18ee03cf-2984-48fa-be93-fdf67a4efed7"
      },
      "execution_count": 7,
      "outputs": [
        {
          "output_type": "stream",
          "name": "stdout",
          "text": [
            "10\n",
            "9\n",
            "8\n",
            "7\n",
            "6\n",
            "5\n",
            "4\n",
            "3\n",
            "2\n",
            "1\n"
          ]
        }
      ]
    },
    {
      "cell_type": "code",
      "source": [],
      "metadata": {
        "id": "1S3CZLhK0Ui4"
      },
      "execution_count": 7,
      "outputs": []
    }
  ]
}