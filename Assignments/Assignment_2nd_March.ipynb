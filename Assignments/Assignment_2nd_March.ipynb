{
  "nbformat": 4,
  "nbformat_minor": 0,
  "metadata": {
    "colab": {
      "provenance": []
    },
    "kernelspec": {
      "name": "python3",
      "display_name": "Python 3"
    },
    "language_info": {
      "name": "python"
    }
  },
  "cells": [
    {
      "cell_type": "code",
      "execution_count": 1,
      "metadata": {
        "colab": {
          "base_uri": "https://localhost:8080/",
          "height": 70
        },
        "id": "-UAITzeZpL9u",
        "outputId": "d4341ff1-c0f3-4316-c47a-567f73316175"
      },
      "outputs": [
        {
          "output_type": "execute_result",
          "data": {
            "text/plain": [
              "'Matplotlib is a visualizing library in Python. It is built on NumPy arrays and designed to work with the broader SciPy stack and consists of several plots like line, bar, scatter, histogram, etc. \\nIt is used for creating static, animated, and interactive visualizations in Python.\\nFive types of plots in Pyplot module of Matplotlib- Basic(x vs y), Plots of arrays and fields, Statistics plots, Unstructured coordinates, 3D plotas.\\nThe various plots we can utilize using Pyplot are Line Plot, Histogram, Scatter, 3D Plot, Image, Contour, and Polar'"
            ],
            "application/vnd.google.colaboratory.intrinsic+json": {
              "type": "string"
            }
          },
          "metadata": {},
          "execution_count": 1
        }
      ],
      "source": [
        "## 1) Matplotlib:\n",
        "'''Matplotlib is a visualizing library in Python. It is built on NumPy arrays and designed to work with the broader SciPy stack and consists of several plots like line, bar, scatter, histogram, etc. \n",
        "It is used for creating static, animated, and interactive visualizations in Python.\n",
        "Five types of plots in Pyplot module of Matplotlib- Basic(x vs y), Plots of arrays and fields, Statistics plots, Unstructured coordinates, 3D plotas.\n",
        "The various plots we can utilize using Pyplot are Line Plot, Histogram, Scatter, 3D Plot, Image, Contour, and Polar'''"
      ]
    },
    {
      "cell_type": "code",
      "source": [
        "## 2) Scatter plot:\n",
        "'''Scatter plots are used to observe relationship between variables and uses dots to represent the relationship between them. \n",
        "The scatter() method in the matplotlib library is used to draw a scatter plot. Scatter plots are widely used to represent relation among variables and how change in one affects the other.'''\n",
        "import numpy as np\n",
        "import matplotlib.pyplot as plt\n",
        "np.random.seed(3)\n",
        "x = 3 + np.random.normal(0, 2, 50)\n",
        "y = 3 + np.random.normal(0, 2, len(x))\n",
        "plt.scatter(x,y)\n",
        "plt.title(\"x vs y\")\n",
        "plt.xlabel(\"x normal\")\n",
        "plt.ylabel(\"y normal\")"
      ],
      "metadata": {
        "colab": {
          "base_uri": "https://localhost:8080/",
          "height": 312
        },
        "id": "XXYu25CazQtk",
        "outputId": "2e01bcce-b20b-40d3-b878-584d3456362c"
      },
      "execution_count": 2,
      "outputs": [
        {
          "output_type": "execute_result",
          "data": {
            "text/plain": [
              "Text(0, 0.5, 'y normal')"
            ]
          },
          "metadata": {},
          "execution_count": 2
        },
        {
          "output_type": "display_data",
          "data": {
            "text/plain": [
              "<Figure size 432x288 with 1 Axes>"
            ],
            "image/png": "[encoded data removed]"
          },
          "metadata": {
            "needs_background": "light"
          }
        }
      ]
    },
    {
      "cell_type": "code",
      "source": [
        "## 3) subplot () function:\n",
        "'''The subplot () function in MATLAB allows you to insert multiple plots on a grid within a single figure. \n",
        "The basic form of the subplot () command takes in three inputs: nRows, nCols, linearIndex. The first two arguments define the number of rows and columns that will be included in the grid.'''\n",
        "import numpy as np\n",
        "import matplotlib.pyplot as plt\n",
        "x = np.array([0, 1, 2, 3, 4, 5]) \n",
        "y = np.array([0, 100, 200, 300, 400, 500])\n",
        "plt.subplot(2,2,1)\n",
        "plt.plot(x,y)\n",
        "x = np.array([0, 1, 2, 3, 4, 5])\n",
        "y = np.array([50, 20, 40, 20, 60, 70])\n",
        "plt.subplot(2,2,2)\n",
        "plt.plot(x,y)\n",
        "x = np.array([0, 1, 2, 3, 4, 5]) \n",
        "y = np.array([10, 20, 30, 40, 50, 60])\n",
        "plt.subplot(2,2,3)\n",
        "plt.plot(x,y)\n",
        "x = np.array([0, 1, 2, 3, 4, 5]) \n",
        "y = np.array([200, 350, 250, 550, 450, 150])\n",
        "plt.subplot(2,2,4)\n",
        "plt.plot(x,y)"
      ],
      "metadata": {
        "colab": {
          "base_uri": "https://localhost:8080/",
          "height": 282
        },
        "id": "U7aXvz7M8LK-",
        "outputId": "3ad2f6a0-6183-4760-f607-e982c3567104"
      },
      "execution_count": 3,
      "outputs": [
        {
          "output_type": "execute_result",
          "data": {
            "text/plain": [
              "[<matplotlib.lines.Line2D at 0x7faad143df40>]"
            ]
          },
          "metadata": {},
          "execution_count": 3
        },
        {
          "output_type": "display_data",
          "data": {
            "text/plain": [
              "<Figure size 432x288 with 4 Axes>"
            ],
            "image/png": "[encoded data removed]"
          },
          "metadata": {
            "needs_background": "light"
          }
        }
      ]
    },
    {
      "cell_type": "code",
      "source": [
        "## 4) Bar plot:\n",
        "'''A bar plot or bar chart is a graph that represents the category of data with rectangular bars with lengths and heights that is proportional to the values which they represent. \n",
        "The bar plots can be plotted horizontally or vertically. A bar chart describes the comparisons between the discrete categories. \n",
        "One of the axis of the plot represents the specific categories being compared, while the other axis represents the measured values corresponding to those categories.'''\n",
        "import numpy as np\n",
        "import matplotlib.pyplot as plt\n",
        "company = np.array([\"Apple\", \"Microsoft\", \"Google\", \"AMD\"])\n",
        "profit = np.array([3000, 8000, 1000, 10000])\n",
        "plt.barh(company,profit) # creates horizontal bar"
      ],
      "metadata": {
        "colab": {
          "base_uri": "https://localhost:8080/",
          "height": 282
        },
        "id": "UWAQLjh8BQ7b",
        "outputId": "a15ffa3d-9179-4bb1-9ce9-cd932fe6fe9f"
      },
      "execution_count": 4,
      "outputs": [
        {
          "output_type": "execute_result",
          "data": {
            "text/plain": [
              "<BarContainer object of 4 artists>"
            ]
          },
          "metadata": {},
          "execution_count": 4
        },
        {
          "output_type": "display_data",
          "data": {
            "text/plain": [
              "<Figure size 432x288 with 1 Axes>"
            ],
            "image/png": "[encoded data removed]"
          },
          "metadata": {
            "needs_background": "light"
          }
        }
      ]
    },
    {
      "cell_type": "code",
      "source": [
        "## 5) Box plot:\n",
        "'''A Box Plot is also known as Whisker plot is created to display the summary of the set of data values having properties like minimum, first quartile, median, third quartile and maximum. \n",
        "In the box plot, a box is created from the first quartile to the third quartile, a vertical line is also there which goes through the box at the median. \n",
        "x-axis denotes the data to be plotted while the y-axis shows the frequency distribution.'''\n",
        "import numpy as np\n",
        "import matplotlib.pyplot as plt\n",
        "box1 = np.random.normal(100, 10, 200)\n",
        "box2 = np.random.normal(90, 20, 200)\n",
        "box=[box1,box2]\n",
        "plt.boxplot(box)"
      ],
      "metadata": {
        "colab": {
          "base_uri": "https://localhost:8080/",
          "height": 525
        },
        "id": "z-943f9qDD_8",
        "outputId": "2d66f19c-8f6a-431d-8460-2f258c447c52"
      },
      "execution_count": 5,
      "outputs": [
        {
          "output_type": "execute_result",
          "data": {
            "text/plain": [
              "{'whiskers': [<matplotlib.lines.Line2D at 0x7faad1345ca0>,\n",
              "  <matplotlib.lines.Line2D at 0x7faad1345f70>,\n",
              "  <matplotlib.lines.Line2D at 0x7faad13650d0>,\n",
              "  <matplotlib.lines.Line2D at 0x7faad13653d0>],\n",
              " 'caps': [<matplotlib.lines.Line2D at 0x7faad135a280>,\n",
              "  <matplotlib.lines.Line2D at 0x7faad135a550>,\n",
              "  <matplotlib.lines.Line2D at 0x7faad13656a0>,\n",
              "  <matplotlib.lines.Line2D at 0x7faad1365970>],\n",
              " 'boxes': [<matplotlib.lines.Line2D at 0x7faad13459d0>,\n",
              "  <matplotlib.lines.Line2D at 0x7faad135adc0>],\n",
              " 'medians': [<matplotlib.lines.Line2D at 0x7faad135a820>,\n",
              "  <matplotlib.lines.Line2D at 0x7faad1365c40>],\n",
              " 'fliers': [<matplotlib.lines.Line2D at 0x7faad135aaf0>,\n",
              "  <matplotlib.lines.Line2D at 0x7faad1365f10>],\n",
              " 'means': []}"
            ]
          },
          "metadata": {},
          "execution_count": 5
        },
        {
          "output_type": "display_data",
          "data": {
            "text/plain": [
              "<Figure size 432x288 with 1 Axes>"
            ],
            "image/png": "[encoded data removed]"
          },
          "metadata": {
            "needs_background": "light"
          }
        }
      ]
    }
  ]
}