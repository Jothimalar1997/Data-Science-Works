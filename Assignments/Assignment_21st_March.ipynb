{
  "nbformat": 4,
  "nbformat_minor": 0,
  "metadata": {
    "colab": {
      "provenance": []
    },
    "kernelspec": {
      "name": "python3",
      "display_name": "Python 3"
    },
    "language_info": {
      "name": "python"
    }
  },
  "cells": [
    {
      "cell_type": "code",
      "execution_count": 1,
      "metadata": {
        "colab": {
          "base_uri": "https://localhost:8080/",
          "height": 70
        },
        "id": "z26evL6T771i",
        "outputId": "6fae4227-5d73-4ed8-9710-00856a6e9eaa"
      },
      "outputs": [
        {
          "output_type": "execute_result",
          "data": {
            "text/plain": [
              "'OrdinalEncoder is for 2D data with the shape (n_samples, n_features) and LabelEncoder is for 1D data with the shape (n_samples,).\\n OrdinalEncoder is for the \"features\" (often a 2D array), whereas LabelEncoder is for the \"target variable\" (often a 1D array).\\nLabelEncoder learns classes_  and OrdinalEncoder learns categories_ .\\nOrdinal encoding should be used for ordinal variables (where order matters, like cold, warm, hot) vs Label encoding should be used for non-ordinal (aka nominal) variables (where order doesn\\'t matter, like blonde, brunette)'"
            ],
            "application/vnd.google.colaboratory.intrinsic+json": {
              "type": "string"
            }
          },
          "metadata": {},
          "execution_count": 1
        }
      ],
      "source": [
        "## Q1. What is the difference between Ordinal Encoding and Label Encoding? Provide an example of when you might choose one over the other.\n",
        "'''OrdinalEncoder is for 2D data with the shape (n_samples, n_features) and LabelEncoder is for 1D data with the shape (n_samples,).\n",
        " OrdinalEncoder is for the \"features\" (often a 2D array), whereas LabelEncoder is for the \"target variable\" (often a 1D array).\n",
        "LabelEncoder learns classes_  and OrdinalEncoder learns categories_ .\n",
        "Ordinal encoding should be used for ordinal variables (where order matters, like cold, warm, hot) vs Label encoding should be used for non-ordinal (aka nominal) variables (where order doesn't matter, like blonde, brunette)'''"
      ]
    },
    {
      "cell_type": "code",
      "source": [
        "## Q2. Explain how Target Guided Ordinal Encoding works and provide an example of when you might use it in a machine learning project.\n",
        "'''In Target Guided Ordinal Encoding, we will take help of our target variable to encode the categorical data.\n",
        "It is a simple and quick encoding method that doesn’t add to the dimensionality of the dataset. Therefore it may be used as a good first try encoding method.\n",
        "Target encoding involves replacing a categorical feature with average target value of all data points belonging to the category.\n",
        "It is dependent on the distribution of the target which means target encoding requires careful validation as it can be prone to overfitting. \n",
        "This method is also dataset-specific and will only show significant improvements some of the time.\n",
        "When to use Target Encoding:\n",
        "(i) When you have many categories, good to use target encoding over one-hot\n",
        "(ii) Target encoding cannot capture dependencies between different categorical features'''"
      ],
      "metadata": {
        "colab": {
          "base_uri": "https://localhost:8080/",
          "height": 87
        },
        "id": "vaDlcgBv9Zvy",
        "outputId": "4719aace-5b4e-4867-f7e1-e288238bc153"
      },
      "execution_count": 2,
      "outputs": [
        {
          "output_type": "execute_result",
          "data": {
            "text/plain": [
              "'In Target Guided Ordinal Encoding, we will take help of our target variable to encode the categorical data.\\nIt is a simple and quick encoding method that doesn’t add to the dimensionality of the dataset. Therefore it may be used as a good first try encoding method.\\nTarget encoding involves replacing a categorical feature with average target value of all data points belonging to the category.\\nIt is dependent on the distribution of the target which means target encoding requires careful validation as it can be prone to overfitting. \\nThis method is also dataset-specific and will only show significant improvements some of the time.\\nWhen to use Target Encoding:\\n(i) When you have many categories, good to use target encoding over one-hot\\n(ii) Target encoding cannot capture dependencies between different categorical features'"
            ],
            "application/vnd.google.colaboratory.intrinsic+json": {
              "type": "string"
            }
          },
          "metadata": {},
          "execution_count": 2
        }
      ]
    },
    {
      "cell_type": "code",
      "source": [
        "## Q3. Define covariance and explain why it is important in statistical analysis. How is covariance calculated?\n",
        "'''Covariance is a measure of the relationship between two random variables and to what extent, they change together. \n",
        "It defines the changes between the two variables, such that change in one variable is equal to change in another variable. \n",
        "This is the property of a function of maintaining its form when the variables are linearly transformed. \n",
        "Covariance is measured in units, which are calculated by multiplying the units of the two variables.\n",
        "Covariance = Σ [ ( Xi - Average of X ) * ( Yi - Average of Y ) ] ÷ [ Sample Size - 1 ] where i ranges from 1 to n.'''"
      ],
      "metadata": {
        "colab": {
          "base_uri": "https://localhost:8080/",
          "height": 70
        },
        "id": "NhGmvyhP-v1L",
        "outputId": "7265157b-4d65-4cb9-fad3-9869f379cd8d"
      },
      "execution_count": 3,
      "outputs": [
        {
          "output_type": "execute_result",
          "data": {
            "text/plain": [
              "'Covariance is a measure of the relationship between two random variables and to what extent, they change together. \\nIt defines the changes between the two variables, such that change in one variable is equal to change in another variable. \\nThis is the property of a function of maintaining its form when the variables are linearly transformed. \\nCovariance is measured in units, which are calculated by multiplying the units of the two variables.\\nCovariance = Σ [ ( Xi - Average of X ) * ( Yi - Average of Y ) ] ÷ [ Sample Size - 1 ] where i ranges from 1 to n.'"
            ],
            "application/vnd.google.colaboratory.intrinsic+json": {
              "type": "string"
            }
          },
          "metadata": {},
          "execution_count": 3
        }
      ]
    },
    {
      "cell_type": "code",
      "source": [
        "## Q4. For a dataset with the following categorical variables: Color (red, green, blue), Size (small, medium, large), and Material (wood, metal, plastic), perform label encoding using Python's scikit-learn library.\n",
        "from sklearn.preprocessing import LabelEncoder\n",
        "import pandas as pd\n",
        "encoder=LabelEncoder()\n",
        "df=pd.DataFrame({'Color':['red', 'green', 'blue'],'Size':['small', 'medium', 'large'],'Material':['wood', 'metal', 'plastic']})\n",
        "df['Size']=encoder.fit_transform(df[['Size']])\n",
        "df['Color']=encoder.fit_transform(df[['Color']])\n",
        "df['Material']=encoder.fit_transform(df[['Material']])\n",
        "df"
      ],
      "metadata": {
        "colab": {
          "base_uri": "https://localhost:8080/",
          "height": 268
        },
        "id": "K3K3rmwa_zib",
        "outputId": "b448ad94-2adc-45a7-97f1-a0b9c4bf8206"
      },
      "execution_count": 4,
      "outputs": [
        {
          "output_type": "stream",
          "name": "stderr",
          "text": [
            "/usr/local/lib/python3.9/dist-packages/sklearn/preprocessing/_label.py:116: DataConversionWarning: A column-vector y was passed when a 1d array was expected. Please change the shape of y to (n_samples, ), for example using ravel().\n",
            "  y = column_or_1d(y, warn=True)\n",
            "/usr/local/lib/python3.9/dist-packages/sklearn/preprocessing/_label.py:116: DataConversionWarning: A column-vector y was passed when a 1d array was expected. Please change the shape of y to (n_samples, ), for example using ravel().\n",
            "  y = column_or_1d(y, warn=True)\n",
            "/usr/local/lib/python3.9/dist-packages/sklearn/preprocessing/_label.py:116: DataConversionWarning: A column-vector y was passed when a 1d array was expected. Please change the shape of y to (n_samples, ), for example using ravel().\n",
            "  y = column_or_1d(y, warn=True)\n"
          ]
        },
        {
          "output_type": "execute_result",
          "data": {
            "text/plain": [
              "   Color  Size  Material\n",
              "0      2     2         2\n",
              "1      1     1         0\n",
              "2      0     0         1"
            ],
            "text/html": [
              "\n",
              "  <div id=\"df-dfbfcf2a-19d4-4c2c-b4c9-e14beff0a3b5\">\n",
              "    <div class=\"colab-df-container\">\n",
              "      <div>\n",
              "<style scoped>\n",
              "    .dataframe tbody tr th:only-of-type {\n",
              "        vertical-align: middle;\n",
              "    }\n",
              "\n",
              "    .dataframe tbody tr th {\n",
              "        vertical-align: top;\n",
              "    }\n",
              "\n",
              "    .dataframe thead th {\n",
              "        text-align: right;\n",
              "    }\n",
              "</style>\n",
              "<table border=\"1\" class=\"dataframe\">\n",
              "  <thead>\n",
              "    <tr style=\"text-align: right;\">\n",
              "      <th></th>\n",
              "      <th>Color</th>\n",
              "      <th>Size</th>\n",
              "      <th>Material</th>\n",
              "    </tr>\n",
              "  </thead>\n",
              "  <tbody>\n",
              "    <tr>\n",
              "      <th>0</th>\n",
              "      <td>2</td>\n",
              "      <td>2</td>\n",
              "      <td>2</td>\n",
              "    </tr>\n",
              "    <tr>\n",
              "      <th>1</th>\n",
              "      <td>1</td>\n",
              "      <td>1</td>\n",
              "      <td>0</td>\n",
              "    </tr>\n",
              "    <tr>\n",
              "      <th>2</th>\n",
              "      <td>0</td>\n",
              "      <td>0</td>\n",
              "      <td>1</td>\n",
              "    </tr>\n",
              "  </tbody>\n",
              "</table>\n",
              "</div>\n",
              "      <button class=\"colab-df-convert\" onclick=\"convertToInteractive('df-dfbfcf2a-19d4-4c2c-b4c9-e14beff0a3b5')\"\n",
              "              title=\"Convert this dataframe to an interactive table.\"\n",
              "              style=\"display:none;\">\n",
              "        \n",
              "  <svg xmlns=\"http://www.w3.org/2000/svg\" height=\"24px\"viewBox=\"0 0 24 24\"\n",
              "       width=\"24px\">\n",
              "    <path d=\"M0 0h24v24H0V0z\" fill=\"none\"/>\n",
              "    <path d=\"M18.56 5.44l.94 2.06.94-2.06 2.06-.94-2.06-.94-.94-2.06-.94 2.06-2.06.94zm-11 1L8.5 8.5l.94-2.06 2.06-.94-2.06-.94L8.5 2.5l-.94 2.06-2.06.94zm10 10l.94 2.06.94-2.06 2.06-.94-2.06-.94-.94-2.06-.94 2.06-2.06.94z\"/><path d=\"M17.41 7.96l-1.37-1.37c-.4-.4-.92-.59-1.43-.59-.52 0-1.04.2-1.43.59L10.3 9.45l-7.72 7.72c-.78.78-.78 2.05 0 2.83L4 21.41c.39.39.9.59 1.41.59.51 0 1.02-.2 1.41-.59l7.78-7.78 2.81-2.81c.8-.78.8-2.07 0-2.86zM5.41 20L4 18.59l7.72-7.72 1.47 1.35L5.41 20z\"/>\n",
              "  </svg>\n",
              "      </button>\n",
              "      \n",
              "  <style>\n",
              "    .colab-df-container {\n",
              "      display:flex;\n",
              "      flex-wrap:wrap;\n",
              "      gap: 12px;\n",
              "    }\n",
              "\n",
              "    .colab-df-convert {\n",
              "      background-color: #E8F0FE;\n",
              "      border: none;\n",
              "      border-radius: 50%;\n",
              "      cursor: pointer;\n",
              "      display: none;\n",
              "      fill: #1967D2;\n",
              "      height: 32px;\n",
              "      padding: 0 0 0 0;\n",
              "      width: 32px;\n",
              "    }\n",
              "\n",
              "    .colab-df-convert:hover {\n",
              "      background-color: #E2EBFA;\n",
              "      box-shadow: 0px 1px 2px rgba(60, 64, 67, 0.3), 0px 1px 3px 1px rgba(60, 64, 67, 0.15);\n",
              "      fill: #174EA6;\n",
              "    }\n",
              "\n",
              "    [theme=dark] .colab-df-convert {\n",
              "      background-color: #3B4455;\n",
              "      fill: #D2E3FC;\n",
              "    }\n",
              "\n",
              "    [theme=dark] .colab-df-convert:hover {\n",
              "      background-color: #434B5C;\n",
              "      box-shadow: 0px 1px 3px 1px rgba(0, 0, 0, 0.15);\n",
              "      filter: drop-shadow(0px 1px 2px rgba(0, 0, 0, 0.3));\n",
              "      fill: #FFFFFF;\n",
              "    }\n",
              "  </style>\n",
              "\n",
              "      <script>\n",
              "        const buttonEl =\n",
              "          document.querySelector('#df-dfbfcf2a-19d4-4c2c-b4c9-e14beff0a3b5 button.colab-df-convert');\n",
              "        buttonEl.style.display =\n",
              "          google.colab.kernel.accessAllowed ? 'block' : 'none';\n",
              "\n",
              "        async function convertToInteractive(key) {\n",
              "          const element = document.querySelector('#df-dfbfcf2a-19d4-4c2c-b4c9-e14beff0a3b5');\n",
              "          const dataTable =\n",
              "            await google.colab.kernel.invokeFunction('convertToInteractive',\n",
              "                                                     [key], {});\n",
              "          if (!dataTable) return;\n",
              "\n",
              "          const docLinkHtml = 'Like what you see? Visit the ' +\n",
              "            '<a target=\"_blank\" href=https://colab.research.google.com/notebooks/data_table.ipynb>data table notebook</a>'\n",
              "            + ' to learn more about interactive tables.';\n",
              "          element.innerHTML = '';\n",
              "          dataTable['output_type'] = 'display_data';\n",
              "          await google.colab.output.renderOutput(dataTable, element);\n",
              "          const docLink = document.createElement('div');\n",
              "          docLink.innerHTML = docLinkHtml;\n",
              "          element.appendChild(docLink);\n",
              "        }\n",
              "      </script>\n",
              "    </div>\n",
              "  </div>\n",
              "  "
            ]
          },
          "metadata": {},
          "execution_count": 4
        }
      ]
    },
    {
      "cell_type": "code",
      "source": [
        "## Q5. Calculate the covariance matrix for the following variables in a dataset: Age, Income, and Education level. Interpret the results.\n",
        "import pandas as pd\n",
        "import random\n",
        "edu_level=age=[random.randint(1,10) for i in range(10)]\n",
        "income=age=[random.randint(10000,50000) for i in range(10)]\n",
        "age=[random.randint(18,35) for i in range(10)]\n",
        "df=pd.DataFrame({'Age':age,'Edu_level':edu_level,'Income':income})\n",
        "print(df)\n",
        "df.cov()"
      ],
      "metadata": {
        "colab": {
          "base_uri": "https://localhost:8080/",
          "height": 334
        },
        "id": "bqOK2rEPC3tS",
        "outputId": "6558d9e2-97d4-4e98-98b8-b038318a2d00"
      },
      "execution_count": 5,
      "outputs": [
        {
          "output_type": "stream",
          "name": "stdout",
          "text": [
            "   Age  Edu_level  Income\n",
            "0   24          6   27999\n",
            "1   34          5   29585\n",
            "2   22         10   46779\n",
            "3   23          2   19514\n",
            "4   34          5   17982\n",
            "5   18          1   26009\n",
            "6   24          8   35414\n",
            "7   23          7   30618\n",
            "8   22          7   36532\n",
            "9   28          5   32111\n"
          ]
        },
        {
          "output_type": "execute_result",
          "data": {
            "text/plain": [
              "                    Age     Edu_level        Income\n",
              "Age           27.511111      0.422222 -1.463840e+04\n",
              "Edu_level      0.422222      7.155556  1.759247e+04\n",
              "Income    -14638.400000  17592.466667  7.024418e+07"
            ],
            "text/html": [
              "\n",
              "  <div id=\"df-4deed59e-8400-45ce-9648-8ca544190c6d\">\n",
              "    <div class=\"colab-df-container\">\n",
              "      <div>\n",
              "<style scoped>\n",
              "    .dataframe tbody tr th:only-of-type {\n",
              "        vertical-align: middle;\n",
              "    }\n",
              "\n",
              "    .dataframe tbody tr th {\n",
              "        vertical-align: top;\n",
              "    }\n",
              "\n",
              "    .dataframe thead th {\n",
              "        text-align: right;\n",
              "    }\n",
              "</style>\n",
              "<table border=\"1\" class=\"dataframe\">\n",
              "  <thead>\n",
              "    <tr style=\"text-align: right;\">\n",
              "      <th></th>\n",
              "      <th>Age</th>\n",
              "      <th>Edu_level</th>\n",
              "      <th>Income</th>\n",
              "    </tr>\n",
              "  </thead>\n",
              "  <tbody>\n",
              "    <tr>\n",
              "      <th>Age</th>\n",
              "      <td>27.511111</td>\n",
              "      <td>0.422222</td>\n",
              "      <td>-1.463840e+04</td>\n",
              "    </tr>\n",
              "    <tr>\n",
              "      <th>Edu_level</th>\n",
              "      <td>0.422222</td>\n",
              "      <td>7.155556</td>\n",
              "      <td>1.759247e+04</td>\n",
              "    </tr>\n",
              "    <tr>\n",
              "      <th>Income</th>\n",
              "      <td>-14638.400000</td>\n",
              "      <td>17592.466667</td>\n",
              "      <td>7.024418e+07</td>\n",
              "    </tr>\n",
              "  </tbody>\n",
              "</table>\n",
              "</div>\n",
              "      <button class=\"colab-df-convert\" onclick=\"convertToInteractive('df-4deed59e-8400-45ce-9648-8ca544190c6d')\"\n",
              "              title=\"Convert this dataframe to an interactive table.\"\n",
              "              style=\"display:none;\">\n",
              "        \n",
              "  <svg xmlns=\"http://www.w3.org/2000/svg\" height=\"24px\"viewBox=\"0 0 24 24\"\n",
              "       width=\"24px\">\n",
              "    <path d=\"M0 0h24v24H0V0z\" fill=\"none\"/>\n",
              "    <path d=\"M18.56 5.44l.94 2.06.94-2.06 2.06-.94-2.06-.94-.94-2.06-.94 2.06-2.06.94zm-11 1L8.5 8.5l.94-2.06 2.06-.94-2.06-.94L8.5 2.5l-.94 2.06-2.06.94zm10 10l.94 2.06.94-2.06 2.06-.94-2.06-.94-.94-2.06-.94 2.06-2.06.94z\"/><path d=\"M17.41 7.96l-1.37-1.37c-.4-.4-.92-.59-1.43-.59-.52 0-1.04.2-1.43.59L10.3 9.45l-7.72 7.72c-.78.78-.78 2.05 0 2.83L4 21.41c.39.39.9.59 1.41.59.51 0 1.02-.2 1.41-.59l7.78-7.78 2.81-2.81c.8-.78.8-2.07 0-2.86zM5.41 20L4 18.59l7.72-7.72 1.47 1.35L5.41 20z\"/>\n",
              "  </svg>\n",
              "      </button>\n",
              "      \n",
              "  <style>\n",
              "    .colab-df-container {\n",
              "      display:flex;\n",
              "      flex-wrap:wrap;\n",
              "      gap: 12px;\n",
              "    }\n",
              "\n",
              "    .colab-df-convert {\n",
              "      background-color: #E8F0FE;\n",
              "      border: none;\n",
              "      border-radius: 50%;\n",
              "      cursor: pointer;\n",
              "      display: none;\n",
              "      fill: #1967D2;\n",
              "      height: 32px;\n",
              "      padding: 0 0 0 0;\n",
              "      width: 32px;\n",
              "    }\n",
              "\n",
              "    .colab-df-convert:hover {\n",
              "      background-color: #E2EBFA;\n",
              "      box-shadow: 0px 1px 2px rgba(60, 64, 67, 0.3), 0px 1px 3px 1px rgba(60, 64, 67, 0.15);\n",
              "      fill: #174EA6;\n",
              "    }\n",
              "\n",
              "    [theme=dark] .colab-df-convert {\n",
              "      background-color: #3B4455;\n",
              "      fill: #D2E3FC;\n",
              "    }\n",
              "\n",
              "    [theme=dark] .colab-df-convert:hover {\n",
              "      background-color: #434B5C;\n",
              "      box-shadow: 0px 1px 3px 1px rgba(0, 0, 0, 0.15);\n",
              "      filter: drop-shadow(0px 1px 2px rgba(0, 0, 0, 0.3));\n",
              "      fill: #FFFFFF;\n",
              "    }\n",
              "  </style>\n",
              "\n",
              "      <script>\n",
              "        const buttonEl =\n",
              "          document.querySelector('#df-4deed59e-8400-45ce-9648-8ca544190c6d button.colab-df-convert');\n",
              "        buttonEl.style.display =\n",
              "          google.colab.kernel.accessAllowed ? 'block' : 'none';\n",
              "\n",
              "        async function convertToInteractive(key) {\n",
              "          const element = document.querySelector('#df-4deed59e-8400-45ce-9648-8ca544190c6d');\n",
              "          const dataTable =\n",
              "            await google.colab.kernel.invokeFunction('convertToInteractive',\n",
              "                                                     [key], {});\n",
              "          if (!dataTable) return;\n",
              "\n",
              "          const docLinkHtml = 'Like what you see? Visit the ' +\n",
              "            '<a target=\"_blank\" href=https://colab.research.google.com/notebooks/data_table.ipynb>data table notebook</a>'\n",
              "            + ' to learn more about interactive tables.';\n",
              "          element.innerHTML = '';\n",
              "          dataTable['output_type'] = 'display_data';\n",
              "          await google.colab.output.renderOutput(dataTable, element);\n",
              "          const docLink = document.createElement('div');\n",
              "          docLink.innerHTML = docLinkHtml;\n",
              "          element.appendChild(docLink);\n",
              "        }\n",
              "      </script>\n",
              "    </div>\n",
              "  </div>\n",
              "  "
            ]
          },
          "metadata": {},
          "execution_count": 5
        }
      ]
    },
    {
      "cell_type": "code",
      "source": [
        "'''Q6. You are working on a machine learning project with a dataset containing several categorical variables, including \"Gender\" (Male/Female), \"Education Level\" (High School/Bachelor's/Master's/PhD),\n",
        "and \"Employment Status\" (Unemployed/Part-Time/Full-Time). Which encoding method would you use for each variable, and why?'''\n",
        "'''For Gender, I will use binary encoding since we have only two categories.\n",
        "For Education Level, I will use ordinal encoding since the Education Level follows a specific order.\n",
        "For Employment Status, I will use label encoding since we consider that 1D data only.'''"
      ],
      "metadata": {
        "colab": {
          "base_uri": "https://localhost:8080/",
          "height": 53
        },
        "id": "esIfKCbQEeUq",
        "outputId": "30ba3ec4-f770-4d94-9eeb-9179f9495310"
      },
      "execution_count": 6,
      "outputs": [
        {
          "output_type": "execute_result",
          "data": {
            "text/plain": [
              "'For Gender, I will use binary encoding since we have only two categories.\\nFor Education Level, I will use ordinal encoding since the Education Level follows a specific order.\\nFor Employment Status, I will use label encoding since we consider that 1D data only.'"
            ],
            "application/vnd.google.colaboratory.intrinsic+json": {
              "type": "string"
            }
          },
          "metadata": {},
          "execution_count": 6
        }
      ]
    },
    {
      "cell_type": "code",
      "source": [
        "'''Q7. You are analyzing a dataset with two continuous variables, \"Temperature\" and \"Humidity\", and two categorical variables, \"Weather Condition\" (Sunny/Cloudy/Rainy) and \"Wind Direction\" (North/South/\n",
        "East/West). Calculate the covariance between each pair of variables and interpret the results.'''\n",
        "import pandas as pd\n",
        "from sklearn.preprocessing import LabelEncoder\n",
        "encoder=LabelEncoder()\n",
        "continuous=pd.DataFrame({'Temperature':[26.1,29.0,29.3,37.7],'Humidity':[70.0,66.3,66.7,79.3]})\n",
        "categorical=pd.DataFrame({'Weather Condition':['Sunny','Rainy','Cloudy','Cloudy'],'Wind Direction':['South','North','West','East']})\n",
        "print(\"continuous covariance:\")\n",
        "print(continuous.cov())\n",
        "categorical['Weather Condition']=encoder.fit_transform(categorical[['Weather Condition']])\n",
        "categorical['Wind Direction']=encoder.fit_transform(categorical[['Wind Direction']])\n",
        "print(\"categorical covariance:\")\n",
        "print(categorical.cov())"
      ],
      "metadata": {
        "colab": {
          "base_uri": "https://localhost:8080/"
        },
        "id": "TahRoaoxFxx5",
        "outputId": "d7efb3db-f83d-4e90-b7e2-f3ed23713826"
      },
      "execution_count": 7,
      "outputs": [
        {
          "output_type": "stream",
          "name": "stdout",
          "text": [
            "continuous covariance:\n",
            "             Temperature   Humidity\n",
            "Temperature    24.962500  25.470833\n",
            "Humidity       25.470833  36.582500\n",
            "categorical covariance:\n",
            "                   Weather Condition  Wind Direction\n",
            "Weather Condition           0.916667        0.166667\n",
            "Wind Direction              0.166667        1.666667\n"
          ]
        },
        {
          "output_type": "stream",
          "name": "stderr",
          "text": [
            "/usr/local/lib/python3.9/dist-packages/sklearn/preprocessing/_label.py:116: DataConversionWarning: A column-vector y was passed when a 1d array was expected. Please change the shape of y to (n_samples, ), for example using ravel().\n",
            "  y = column_or_1d(y, warn=True)\n",
            "/usr/local/lib/python3.9/dist-packages/sklearn/preprocessing/_label.py:116: DataConversionWarning: A column-vector y was passed when a 1d array was expected. Please change the shape of y to (n_samples, ), for example using ravel().\n",
            "  y = column_or_1d(y, warn=True)\n"
          ]
        }
      ]
    },
    {
      "cell_type": "code",
      "source": [
        "## continuous covariance:25.470833 and categorical covariance:0.166667"
      ],
      "metadata": {
        "id": "yrybCxt0JbVB"
      },
      "execution_count": 8,
      "outputs": []
    }
  ]
}