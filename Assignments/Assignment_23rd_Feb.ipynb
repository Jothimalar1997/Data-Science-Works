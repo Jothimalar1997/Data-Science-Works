{
  "nbformat": 4,
  "nbformat_minor": 0,
  "metadata": {
    "colab": {
      "provenance": []
    },
    "kernelspec": {
      "name": "python3",
      "display_name": "Python 3"
    },
    "language_info": {
      "name": "python"
    }
  },
  "cells": [
    {
      "cell_type": "code",
      "execution_count": 1,
      "metadata": {
        "id": "hzjOmVbx9Dy_"
      },
      "outputs": [],
      "source": [
        "import pandas as pd"
      ]
    },
    {
      "cell_type": "code",
      "source": [
        "## 1) To print a pandas series:\n",
        "df=pd.Series([4,8,15,16,23,42])\n",
        "print(df)"
      ],
      "metadata": {
        "colab": {
          "base_uri": "https://localhost:8080/"
        },
        "id": "4C95JZgG9tvh",
        "outputId": "3bd6e08b-4362-4d03-e9ef-feea50cbad51"
      },
      "execution_count": 2,
      "outputs": [
        {
          "output_type": "stream",
          "name": "stdout",
          "text": [
            "0     4\n",
            "1     8\n",
            "2    15\n",
            "3    16\n",
            "4    23\n",
            "5    42\n",
            "dtype: int64\n"
          ]
        }
      ]
    },
    {
      "cell_type": "code",
      "source": [
        "## 2) To create a variable of list type containing 10 elements in it, and apply pandas.Series function to print it:\n",
        "list1=list(range(0,10))\n",
        "print(pd.Series(list1))"
      ],
      "metadata": {
        "colab": {
          "base_uri": "https://localhost:8080/"
        },
        "id": "riueFU-r-y9b",
        "outputId": "39884c2d-5364-49b8-f32a-0045274db8e8"
      },
      "execution_count": 3,
      "outputs": [
        {
          "output_type": "stream",
          "name": "stdout",
          "text": [
            "0    0\n",
            "1    1\n",
            "2    2\n",
            "3    3\n",
            "4    4\n",
            "5    5\n",
            "6    6\n",
            "7    7\n",
            "8    8\n",
            "9    9\n",
            "dtype: int64\n"
          ]
        }
      ]
    },
    {
      "cell_type": "code",
      "source": [
        "## 3) To create a Pandas DataFrame\n",
        "df=pd.DataFrame({\"Name\":[\"Alice\",\"Bob\",\"Claire\"],\n",
        "                 \"Age\":[25,30,27],\n",
        "                 \"Gender\":[\"Female\",\"Male\",\"Female\"]})\n",
        "print(df)"
      ],
      "metadata": {
        "colab": {
          "base_uri": "https://localhost:8080/"
        },
        "id": "STwz_olA_YlV",
        "outputId": "fdfce8b8-a918-4d66-aa8d-30bd477cea9a"
      },
      "execution_count": 4,
      "outputs": [
        {
          "output_type": "stream",
          "name": "stdout",
          "text": [
            "     Name  Age  Gender\n",
            "0   Alice   25  Female\n",
            "1     Bob   30    Male\n",
            "2  Claire   27  Female\n"
          ]
        }
      ]
    },
    {
      "cell_type": "code",
      "source": [
        "## 4) DataFrame and pandas.Series:\n",
        "'''DataFrame is a two-dimensional, mutable and heterogenous data in tabular data structure that stores the values with labelled axis.\n",
        "It consists of data,rows and columns.\n",
        "pandas.Series is a one-dimesional array with homogenous data with labelled axis.'''\n",
        "df=pd.DataFrame({\"Name\":[\"Alice\",\"Bob\",\"Claire\"],\n",
        "                 \"Age\":[25,30,27],\n",
        "                 \"Gender\":[\"Female\",\"Male\",\"Female\"]})\n",
        "print(df) ## Prints the dataFrame\n",
        "print(\"-----------\")\n",
        "name=df[\"Name\"] ## Prints the Series\n",
        "print(name) "
      ],
      "metadata": {
        "colab": {
          "base_uri": "https://localhost:8080/"
        },
        "id": "31YNtxZtA68W",
        "outputId": "3755d257-0f02-4d02-d0af-b196f44e37ed"
      },
      "execution_count": 5,
      "outputs": [
        {
          "output_type": "stream",
          "name": "stdout",
          "text": [
            "     Name  Age  Gender\n",
            "0   Alice   25  Female\n",
            "1     Bob   30    Male\n",
            "2  Claire   27  Female\n",
            "-----------\n",
            "0     Alice\n",
            "1       Bob\n",
            "2    Claire\n",
            "Name: Name, dtype: object\n"
          ]
        }
      ]
    },
    {
      "cell_type": "code",
      "source": [
        "## 5) Functions used to manipulate data in a Pandas DataFrame:\n",
        "## Adding a new column, Dropping an existing column, Renaming the column name are some of the manipulation function used DataFrame.\n",
        "df=pd.DataFrame({\"Name\":[\"Alice\",\"Bob\",\"Claire\"],\n",
        "                 \"Age\":[25,30,27],\n",
        "                 \"Gender\":[\"Female\",\"Male\",\"Female\"]})\n",
        "print(df) ## Prints the dataFrame\n",
        "print(\"-----------------\")\n",
        "print(\"After adding a new column\")\n",
        "df[\"Course\"]=[\"Python\",\"Java\",\"R\"]\n",
        "print(df)\n",
        "print(\"-----------------\")\n",
        "print(\"After deleting an existing column\")\n",
        "df.drop(columns=\"Age\",inplace=True)\n",
        "print(df)\n",
        "print(\"-----------------\")\n",
        "print(\"After renaming a column\")\n",
        "df.rename(columns={\"Name\":\"Student\"},inplace=True)\n",
        "print(df)"
      ],
      "metadata": {
        "colab": {
          "base_uri": "https://localhost:8080/"
        },
        "id": "L_tmDXN_Gc-r",
        "outputId": "7a5a8302-57af-41f0-e3e9-8576dc86efda"
      },
      "execution_count": 6,
      "outputs": [
        {
          "output_type": "stream",
          "name": "stdout",
          "text": [
            "     Name  Age  Gender\n",
            "0   Alice   25  Female\n",
            "1     Bob   30    Male\n",
            "2  Claire   27  Female\n",
            "-----------------\n",
            "After adding a new column\n",
            "     Name  Age  Gender  Course\n",
            "0   Alice   25  Female  Python\n",
            "1     Bob   30    Male    Java\n",
            "2  Claire   27  Female       R\n",
            "-----------------\n",
            "After deleting an existing column\n",
            "     Name  Gender  Course\n",
            "0   Alice  Female  Python\n",
            "1     Bob    Male    Java\n",
            "2  Claire  Female       R\n",
            "-----------------\n",
            "After renaming a column\n",
            "  Student  Gender  Course\n",
            "0   Alice  Female  Python\n",
            "1     Bob    Male    Java\n",
            "2  Claire  Female       R\n"
          ]
        }
      ]
    },
    {
      "cell_type": "code",
      "source": [
        "## 6) Mutablitity of Series, DataFrame, Panel:\n",
        "'''Series is an one dimensional homogenous data structure in which size is immutable but data is mutable.\n",
        "DataFrame is a two dimensional heterogenous data structure in which both size and data is mutable.\n",
        "Panel is a three dimensional heterogenous data structure in which both size and data is mutable.'''"
      ],
      "metadata": {
        "colab": {
          "base_uri": "https://localhost:8080/",
          "height": 70
        },
        "id": "cQRNJSYXEu6-",
        "outputId": "b05e1439-457b-4e12-bd41-306991b6e230"
      },
      "execution_count": 7,
      "outputs": [
        {
          "output_type": "execute_result",
          "data": {
            "text/plain": [
              "'Series is an one dimensional homogenous data structure in which size is immutable but data is mutable.\\nDataFrame is a two dimensional heterogenous data structure in which both size and data is mutable.\\nPanel is a three dimensional heterogenous data structure in which both size and data is mutable.'"
            ],
            "application/vnd.google.colaboratory.intrinsic+json": {
              "type": "string"
            }
          },
          "metadata": {},
          "execution_count": 7
        }
      ]
    },
    {
      "cell_type": "code",
      "source": [
        "## 7) To create a DataFrame using multiple Series:\n",
        "s1=pd.Series([1,2,3,4,5])\n",
        "s2=pd.Series([6,7,8,9,10])\n",
        "df=pd.DataFrame({'col1':s1,'col2':s2})\n",
        "print(df)"
      ],
      "metadata": {
        "colab": {
          "base_uri": "https://localhost:8080/"
        },
        "id": "V_nRdnm9Cr9T",
        "outputId": "65a37cd0-d66f-490f-afda-6403018207ac"
      },
      "execution_count": 8,
      "outputs": [
        {
          "output_type": "stream",
          "name": "stdout",
          "text": [
            "   col1  col2\n",
            "0     1     6\n",
            "1     2     7\n",
            "2     3     8\n",
            "3     4     9\n",
            "4     5    10\n"
          ]
        }
      ]
    }
  ]
}