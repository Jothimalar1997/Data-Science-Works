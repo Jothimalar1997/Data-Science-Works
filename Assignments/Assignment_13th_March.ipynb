{
  "nbformat": 4,
  "nbformat_minor": 0,
  "metadata": {
    "colab": {
      "provenance": []
    },
    "kernelspec": {
      "name": "python3",
      "display_name": "Python 3"
    },
    "language_info": {
      "name": "python"
    }
  },
  "cells": [
    {
      "cell_type": "code",
      "execution_count": 1,
      "metadata": {
        "id": "wqzGHNf9yPsS",
        "colab": {
          "base_uri": "https://localhost:8080/",
          "height": 87
        },
        "outputId": "790cd75c-9253-4659-9ab8-e2581c0b7936"
      },
      "outputs": [
        {
          "output_type": "execute_result",
          "data": {
            "text/plain": [
              "'Assumptions of ANOVA:\\n(i) Normality of sampling distribution of mean:\\nThe distribution of sample means is normally distributed.\\n(ii) Absence of outliers:\\nOutlying scores need to be removed from the dataset.\\n(iii) Homogeneity of variance:\\nPopulation variance in different levels of each independent variables should be equal.\\n(iv) Samples should be independent and randomly selected.\\nPotential assumption violations include:\\nImplicit factors: lack of independence within a sample\\nOutliers: apparent nonnormality by a few data points\\nNonnormality: nonnormality of entire samples\\nUnequal population variances\\nPatterns in plots of data: detecting violation assumptions graphically\\nSpecial problems with small sample sizes\\nSpecial problems with unbalanced sample sizes\\nMultiple comparisons: effects of assumption violations on multiple comparison tests'"
            ],
            "application/vnd.google.colaboratory.intrinsic+json": {
              "type": "string"
            }
          },
          "metadata": {},
          "execution_count": 1
        }
      ],
      "source": [
        "## Q1. Explain the assumptions required to use ANOVA and provide examples of violations that could impact the validity of the results.\n",
        "'''Assumptions of ANOVA:\n",
        "(i) Normality of sampling distribution of mean:\n",
        "The distribution of sample means is normally distributed.\n",
        "(ii) Absence of outliers:\n",
        "Outlying scores need to be removed from the dataset.\n",
        "(iii) Homogeneity of variance:\n",
        "Population variance in different levels of each independent variables should be equal.\n",
        "(iv) Samples should be independent and randomly selected.\n",
        "Potential assumption violations include:\n",
        "Implicit factors: lack of independence within a sample\n",
        "Outliers: apparent nonnormality by a few data points\n",
        "Nonnormality: nonnormality of entire samples\n",
        "Unequal population variances\n",
        "Patterns in plots of data: detecting violation assumptions graphically\n",
        "Special problems with small sample sizes\n",
        "Special problems with unbalanced sample sizes\n",
        "Multiple comparisons: effects of assumption violations on multiple comparison tests'''"
      ]
    },
    {
      "cell_type": "code",
      "source": [
        "## Q2. What are the three types of ANOVA, and in what situations would each be used?\n",
        "'''(i) One-way ANOVA:\n",
        "It has one factor with at least two levels and these levels are independent.\n",
        "e.g.: Doctor wants to test a new medication to decrease the headache. He splits the participants in 3 conditions [10g,20mg,30mg] and ask them to rate the headache between 1 to 10.\n",
        "Here,\n",
        "Medication ---->Factor\n",
        "[10g,20mg,30mg] ---->Independent levels\n",
        "\n",
        "(ii) Repeated measures ANOVA:\n",
        "It has one factor with at least two levels where levels are dependent.\n",
        "e.g.: A person running on different days (day1, day2, day3) are measured.\n",
        "Here,\n",
        "Running ----> Factor\n",
        "(day1, day2, day3) ----> Dependent levels since same person runs on different days.\n",
        "\n",
        "(iii) Factorial ANOVA:\n",
        "It has two or more factors, each of which with at least two levels and this level can be independent and dependent.\n",
        "e.g.: Persons (Male, Female) running on different days (day1, day2, day3) are measured.\n",
        "Here,\n",
        "Running ----> Factor\n",
        "(day1, day2, day3) ----> Dependent levels since same person runs on different days.\n",
        "(Male, Female) ---->Independent levels.'''"
      ],
      "metadata": {
        "id": "wORdvOSO9Mdf",
        "colab": {
          "base_uri": "https://localhost:8080/",
          "height": 105
        },
        "outputId": "05d54ce8-107f-4972-c801-491f2b6d0dff"
      },
      "execution_count": 2,
      "outputs": [
        {
          "output_type": "execute_result",
          "data": {
            "text/plain": [
              "'(i) One-way ANOVA:\\nIt has one factor with at least two levels and these levels are independent.\\ne.g.: Doctor wants to test a new medication to decrease the headache. He splits the participants in 3 conditions [10g,20mg,30mg] and ask them to rate the headache between 1 to 10.\\nHere,\\nMedication ---->Factor\\n[10g,20mg,30mg] ---->Independent levels\\n\\n(ii) Repeated measures ANOVA:\\nIt has one factor with at least two levels where levels are dependent.\\ne.g.: A person running on different days (day1, day2, day3) are measured.\\nHere,\\nRunning ----> Factor\\n(day1, day2, day3) ----> Dependent levels since same person runs on different days.\\n\\n(iii) Factorial ANOVA:\\nIt has two or more factors, each of which with at least two levels and this level can be independent and dependent.\\ne.g.: Persons (Male, Female) running on different days (day1, day2, day3) are measured.\\nHere,\\nRunning ----> Factor\\n(day1, day2, day3) ----> Dependent levels since same person runs on different days.\\n(Male, Female) ---->Independent levels.'"
            ],
            "application/vnd.google.colaboratory.intrinsic+json": {
              "type": "string"
            }
          },
          "metadata": {},
          "execution_count": 2
        }
      ]
    },
    {
      "cell_type": "code",
      "source": [
        "## Q3. What is the partitioning of variance in ANOVA, and why is it important to understand this concept?\n",
        "''' Partitioning of variance in ANOVA is the hypothesis testing in ANOVA.\n",
        "A more important use of the F-distribution is in analyzing variance to see if three or more samples come from populations with equal means. \n",
        "This is an important statistical test, not so much because it is frequently used, \n",
        "but because it is a bridge between univariate statistics and multivariate statistics and because the strategy it uses is one which is used in many multivariate tests and procedures.'''"
      ],
      "metadata": {
        "id": "fmH4stUU9eg_",
        "colab": {
          "base_uri": "https://localhost:8080/",
          "height": 70
        },
        "outputId": "e942ac22-a2ec-448a-d7e5-ae98b48bc6fb"
      },
      "execution_count": 3,
      "outputs": [
        {
          "output_type": "execute_result",
          "data": {
            "text/plain": [
              "' Partitioning of variance in ANOVA is the hypothesis testing in ANOVA.\\nA more important use of the F-distribution is in analyzing variance to see if three or more samples come from populations with equal means. \\nThis is an important statistical test, not so much because it is frequently used, \\nbut because it is a bridge between univariate statistics and multivariate statistics and because the strategy it uses is one which is used in many multivariate tests and procedures.'"
            ],
            "application/vnd.google.colaboratory.intrinsic+json": {
              "type": "string"
            }
          },
          "metadata": {},
          "execution_count": 3
        }
      ]
    },
    {
      "cell_type": "code",
      "source": [
        "## Q4. How would you calculate the total sum of squares (SST), explained sum of squares (SSE), and residual sum of squares (SSR) in a one-way ANOVA using Python?\n",
        "'''1. Sum of Squares Total (SST) – The sum of squared differences between individual data points (yi) and the mean of the response variable (y).\n",
        "SST = Σ(yi – y)2\n",
        "2. Sum of Squares Regression (SSR) – The sum of squared differences between predicted data points (ŷi) and the mean of the response variable(y).\n",
        "SSR = Σ(ŷi – y)2\n",
        "3. Sum of Squares Error (SSE) – The sum of squared differences between predicted data points (ŷi) and observed data points (yi).\n",
        "SSE = Σ(ŷi – yi)2\n",
        "The following relationship exists between these three measures:\n",
        "SST = SSR + SSE'''"
      ],
      "metadata": {
        "colab": {
          "base_uri": "https://localhost:8080/",
          "height": 70
        },
        "id": "KdWj2K_eD-yb",
        "outputId": "b32209ac-2a98-430b-8793-2e36fba0f172"
      },
      "execution_count": 4,
      "outputs": [
        {
          "output_type": "execute_result",
          "data": {
            "text/plain": [
              "'1. Sum of Squares Total (SST) – The sum of squared differences between individual data points (yi) and the mean of the response variable (y).\\nSST = Σ(yi – y)2\\n2. Sum of Squares Regression (SSR) – The sum of squared differences between predicted data points (ŷi) and the mean of the response variable(y).\\nSSR = Σ(ŷi – y)2\\n3. Sum of Squares Error (SSE) – The sum of squared differences between predicted data points (ŷi) and observed data points (yi).\\nSSE = Σ(ŷi – yi)2\\nThe following relationship exists between these three measures:\\nSST = SSR + SSE'"
            ],
            "application/vnd.google.colaboratory.intrinsic+json": {
              "type": "string"
            }
          },
          "metadata": {},
          "execution_count": 4
        }
      ]
    },
    {
      "cell_type": "code",
      "source": [
        "## Q5. In a two-way ANOVA, how would you calculate the main effects and interaction effects using Python?\n",
        "'''Main effects deal with each factor separately.The interaction is the simultaneous changes in the levels of both factors.'''\n",
        "import statsmodels.api as sm\n",
        "from statsmodels.formula.api import ols\n",
        "import pandas as pd\n",
        "yellow_placebo = [2, 4, 3, 1, 5 ]\n",
        "yellow_fuel = [4, 7, 6, 6, 6]\n",
        "blue_placebo = [5, 6, 4, 2, 8 ]\n",
        "blue_fuel = [5, 6, 4, 7, 8]\n",
        "red_placebo = [1, 7, 5, 2, 4]\n",
        "red_fuel = [11, 13, 12, 14, 10]\n",
        "data = []\n",
        "for i in yellow_placebo:\n",
        "    data.append((i,\"yellow\",\"N\"))\n",
        "for i in yellow_fuel:\n",
        "    data.append((i, \"yellow\", \"Y\"))\n",
        "for i in blue_placebo:\n",
        "    data.append((i, \"blue\", \"N\"))\n",
        "for i in blue_fuel:\n",
        "    data.append((i, \"blue\",\"Y\"))\n",
        "for i in red_placebo:\n",
        "    data.append((i, \"red\",\"N\"))\n",
        "for i in red_fuel:\n",
        "    data.append((i, \"red\",\"Y\"))   \n",
        "columns = ['Percent_Muscle_Increase','Shell_Color','Snail_Fuel']\n",
        "snail_fuel_data = pd.DataFrame(data,columns=columns)\n",
        "#perform two-way ANOVA\n",
        "model = ols('Percent_Muscle_Increase ~ C(Snail_Fuel) + C(Shell_Color) + C(Snail_Fuel):C(Shell_Color)', data=snail_fuel_data).fit()\n",
        "sm.stats.anova_lm(model, typ=3)"
      ],
      "metadata": {
        "colab": {
          "base_uri": "https://localhost:8080/",
          "height": 206
        },
        "id": "UhIU59QiE8Ob",
        "outputId": "e09378ed-721e-49df-dfee-3a2b93ce5a03"
      },
      "execution_count": 5,
      "outputs": [
        {
          "output_type": "execute_result",
          "data": {
            "text/plain": [
              "                                  sum_sq    df          F    PR(>F)\n",
              "Intercept                     125.000000   1.0  38.659794  0.000002\n",
              "C(Snail_Fuel)                   2.500000   1.0   0.773196  0.387950\n",
              "C(Shell_Color)                 10.133333   2.0   1.567010  0.229279\n",
              "C(Snail_Fuel):C(Shell_Color)   70.200000   2.0  10.855670  0.000439\n",
              "Residual                       77.600000  24.0        NaN       NaN"
            ],
            "text/html": [
              "\n",
              "  <div id=\"df-7b9ce218-6385-48cf-89ee-bf542292aab4\">\n",
              "    <div class=\"colab-df-container\">\n",
              "      <div>\n",
              "<style scoped>\n",
              "    .dataframe tbody tr th:only-of-type {\n",
              "        vertical-align: middle;\n",
              "    }\n",
              "\n",
              "    .dataframe tbody tr th {\n",
              "        vertical-align: top;\n",
              "    }\n",
              "\n",
              "    .dataframe thead th {\n",
              "        text-align: right;\n",
              "    }\n",
              "</style>\n",
              "<table border=\"1\" class=\"dataframe\">\n",
              "  <thead>\n",
              "    <tr style=\"text-align: right;\">\n",
              "      <th></th>\n",
              "      <th>sum_sq</th>\n",
              "      <th>df</th>\n",
              "      <th>F</th>\n",
              "      <th>PR(&gt;F)</th>\n",
              "    </tr>\n",
              "  </thead>\n",
              "  <tbody>\n",
              "    <tr>\n",
              "      <th>Intercept</th>\n",
              "      <td>125.000000</td>\n",
              "      <td>1.0</td>\n",
              "      <td>38.659794</td>\n",
              "      <td>0.000002</td>\n",
              "    </tr>\n",
              "    <tr>\n",
              "      <th>C(Snail_Fuel)</th>\n",
              "      <td>2.500000</td>\n",
              "      <td>1.0</td>\n",
              "      <td>0.773196</td>\n",
              "      <td>0.387950</td>\n",
              "    </tr>\n",
              "    <tr>\n",
              "      <th>C(Shell_Color)</th>\n",
              "      <td>10.133333</td>\n",
              "      <td>2.0</td>\n",
              "      <td>1.567010</td>\n",
              "      <td>0.229279</td>\n",
              "    </tr>\n",
              "    <tr>\n",
              "      <th>C(Snail_Fuel):C(Shell_Color)</th>\n",
              "      <td>70.200000</td>\n",
              "      <td>2.0</td>\n",
              "      <td>10.855670</td>\n",
              "      <td>0.000439</td>\n",
              "    </tr>\n",
              "    <tr>\n",
              "      <th>Residual</th>\n",
              "      <td>77.600000</td>\n",
              "      <td>24.0</td>\n",
              "      <td>NaN</td>\n",
              "      <td>NaN</td>\n",
              "    </tr>\n",
              "  </tbody>\n",
              "</table>\n",
              "</div>\n",
              "      <button class=\"colab-df-convert\" onclick=\"convertToInteractive('df-7b9ce218-6385-48cf-89ee-bf542292aab4')\"\n",
              "              title=\"Convert this dataframe to an interactive table.\"\n",
              "              style=\"display:none;\">\n",
              "        \n",
              "  <svg xmlns=\"http://www.w3.org/2000/svg\" height=\"24px\"viewBox=\"0 0 24 24\"\n",
              "       width=\"24px\">\n",
              "    <path d=\"M0 0h24v24H0V0z\" fill=\"none\"/>\n",
              "    <path d=\"M18.56 5.44l.94 2.06.94-2.06 2.06-.94-2.06-.94-.94-2.06-.94 2.06-2.06.94zm-11 1L8.5 8.5l.94-2.06 2.06-.94-2.06-.94L8.5 2.5l-.94 2.06-2.06.94zm10 10l.94 2.06.94-2.06 2.06-.94-2.06-.94-.94-2.06-.94 2.06-2.06.94z\"/><path d=\"M17.41 7.96l-1.37-1.37c-.4-.4-.92-.59-1.43-.59-.52 0-1.04.2-1.43.59L10.3 9.45l-7.72 7.72c-.78.78-.78 2.05 0 2.83L4 21.41c.39.39.9.59 1.41.59.51 0 1.02-.2 1.41-.59l7.78-7.78 2.81-2.81c.8-.78.8-2.07 0-2.86zM5.41 20L4 18.59l7.72-7.72 1.47 1.35L5.41 20z\"/>\n",
              "  </svg>\n",
              "      </button>\n",
              "      \n",
              "  <style>\n",
              "    .colab-df-container {\n",
              "      display:flex;\n",
              "      flex-wrap:wrap;\n",
              "      gap: 12px;\n",
              "    }\n",
              "\n",
              "    .colab-df-convert {\n",
              "      background-color: #E8F0FE;\n",
              "      border: none;\n",
              "      border-radius: 50%;\n",
              "      cursor: pointer;\n",
              "      display: none;\n",
              "      fill: #1967D2;\n",
              "      height: 32px;\n",
              "      padding: 0 0 0 0;\n",
              "      width: 32px;\n",
              "    }\n",
              "\n",
              "    .colab-df-convert:hover {\n",
              "      background-color: #E2EBFA;\n",
              "      box-shadow: 0px 1px 2px rgba(60, 64, 67, 0.3), 0px 1px 3px 1px rgba(60, 64, 67, 0.15);\n",
              "      fill: #174EA6;\n",
              "    }\n",
              "\n",
              "    [theme=dark] .colab-df-convert {\n",
              "      background-color: #3B4455;\n",
              "      fill: #D2E3FC;\n",
              "    }\n",
              "\n",
              "    [theme=dark] .colab-df-convert:hover {\n",
              "      background-color: #434B5C;\n",
              "      box-shadow: 0px 1px 3px 1px rgba(0, 0, 0, 0.15);\n",
              "      filter: drop-shadow(0px 1px 2px rgba(0, 0, 0, 0.3));\n",
              "      fill: #FFFFFF;\n",
              "    }\n",
              "  </style>\n",
              "\n",
              "      <script>\n",
              "        const buttonEl =\n",
              "          document.querySelector('#df-7b9ce218-6385-48cf-89ee-bf542292aab4 button.colab-df-convert');\n",
              "        buttonEl.style.display =\n",
              "          google.colab.kernel.accessAllowed ? 'block' : 'none';\n",
              "\n",
              "        async function convertToInteractive(key) {\n",
              "          const element = document.querySelector('#df-7b9ce218-6385-48cf-89ee-bf542292aab4');\n",
              "          const dataTable =\n",
              "            await google.colab.kernel.invokeFunction('convertToInteractive',\n",
              "                                                     [key], {});\n",
              "          if (!dataTable) return;\n",
              "\n",
              "          const docLinkHtml = 'Like what you see? Visit the ' +\n",
              "            '<a target=\"_blank\" href=https://colab.research.google.com/notebooks/data_table.ipynb>data table notebook</a>'\n",
              "            + ' to learn more about interactive tables.';\n",
              "          element.innerHTML = '';\n",
              "          dataTable['output_type'] = 'display_data';\n",
              "          await google.colab.output.renderOutput(dataTable, element);\n",
              "          const docLink = document.createElement('div');\n",
              "          docLink.innerHTML = docLinkHtml;\n",
              "          element.appendChild(docLink);\n",
              "        }\n",
              "      </script>\n",
              "    </div>\n",
              "  </div>\n",
              "  "
            ]
          },
          "metadata": {},
          "execution_count": 5
        }
      ]
    },
    {
      "cell_type": "markdown",
      "source": [
        "#Observation:\n",
        "- The model tells us that the only significant effect in our ANOVA is the interaction of shell color and snail fuel. The p values (PR(>F)) for the snail fuel and shell color variables on their own would not meet the <.05 standard of significance.\n",
        "- Given these results, we can say that for the total population of snails in the study, there was no statistically significant difference in muscle increase between those who drank Snail Fuel and those who drank a placebo energy drink. However, there was a statistically significant interaction between shell color and drinking Snail Fuel, such that snails with red shells saw larger gains in muscle mass than snails with yellow and blue shells."
      ],
      "metadata": {
        "id": "p-grMPbrHf7r"
      }
    },
    {
      "cell_type": "code",
      "source": [
        "## Q6. Suppose you conducted a one-way ANOVA and obtained an F-statistic of 5.23 and a p-value of 0.02. What can you conclude about the differences between the groups, and how would you interpret these results?\n",
        "'''Since F-statistic of 5.23 is greater than p-value of 0.02, we reject the null hypothesis that states the difference of mean between the two group is same.'''"
      ],
      "metadata": {
        "colab": {
          "base_uri": "https://localhost:8080/",
          "height": 35
        },
        "id": "GCYcKBKzHp3x",
        "outputId": "c23b68dc-05a7-4083-af9e-5b76e9412585"
      },
      "execution_count": 6,
      "outputs": [
        {
          "output_type": "execute_result",
          "data": {
            "text/plain": [
              "'Since F-statistic of 5.23 is greater than p-value of 0.02, we reject the null hypothesis that states the difference of mean between the two group is same.'"
            ],
            "application/vnd.google.colaboratory.intrinsic+json": {
              "type": "string"
            }
          },
          "metadata": {},
          "execution_count": 6
        }
      ]
    },
    {
      "cell_type": "code",
      "source": [
        "## Q7. In a repeated measures ANOVA, how would you handle missing data, and what are the potential consequences of using different methods to handle missing data?\n",
        "'''Multiple imputation:\n",
        "One of the most effective ways of dealing with missing data is multiple imputation (MI). \n",
        "Using MI, we can create multiple plausible replacements of the missing data, given what we have observed and a statistical model (the imputation model).\n",
        "In the ANOVA, using MI has the additional benefit that it allows taking covariates into account that are relevant for the missing data but not for the analysis. \n",
        "Listwise deletion:\n",
        "The result is a direct consequence of how the missing data were simulated. Fortunately, there are statistical methods that can account for the missing data and help us obtain more trustworthy results.'''"
      ],
      "metadata": {
        "colab": {
          "base_uri": "https://localhost:8080/",
          "height": 70
        },
        "id": "uZ__YWe8IkKx",
        "outputId": "0d46c8a8-9a03-4b0e-f760-259e7da9eee9"
      },
      "execution_count": 7,
      "outputs": [
        {
          "output_type": "execute_result",
          "data": {
            "text/plain": [
              "'Multiple imputation:\\nOne of the most effective ways of dealing with missing data is multiple imputation (MI). \\nUsing MI, we can create multiple plausible replacements of the missing data, given what we have observed and a statistical model (the imputation model).\\nIn the ANOVA, using MI has the additional benefit that it allows taking covariates into account that are relevant for the missing data but not for the analysis. \\nListwise deletion:\\nThe result is a direct consequence of how the missing data were simulated. Fortunately, there are statistical methods that can account for the missing data and help us obtain more trustworthy results.'"
            ],
            "application/vnd.google.colaboratory.intrinsic+json": {
              "type": "string"
            }
          },
          "metadata": {},
          "execution_count": 7
        }
      ]
    },
    {
      "cell_type": "code",
      "source": [
        "## Q8. What are some common post-hoc tests used after ANOVA, and when would you use each one? Provide an example of a situation where a post-hoc test might be necessary.\n",
        "'''In order to find out exactly which groups are different from each other, \n",
        "we must conduct a post hoc test (also known as a multiple comparison test), which will allow us to explore the difference between multiple group means while also controlling for the family-wise error rate.\n",
        "It’s important to note that we only need to conduct a post hoc test when the p-value for the ANOVA is statistically significant. If the p-value is not statistically significant, \n",
        "this indicates that the means for all of the groups are not different from each other, so there is no need to conduct a post hoc test to find out which groups are different from each other.\n",
        "Post-hoc tests used after ANOVA:\n",
        "(i) Tukey’s Test – useful when you want to make every possible pairwise comparison.We can perform Tukey’s Test for multiple comparisons by using the built-in R function TukeyHSD()\n",
        "(ii) Holm’s Method – a slightly more conservative test compared to Tukey’s Test\n",
        "(iii) Dunnett’s Correction – useful when you want to compare every group mean to a control mean, and you’re not interested in comparing the treatment means with one another.\n",
        "Post hoc tests do a great job of controlling the family-wise error rate, but the tradeoff is that they reduce the statistical power of the comparisons. \n",
        "This is because the only way to lower the family-wise error rate is to use a lower significance level for all of the individual comparisons.\n",
        "The problem with this is that lower significance levels correspond to lower statistical power. \n",
        "This means that if a difference between group means actually does exist in the population, a study with lower power is less likely to detect it. '''"
      ],
      "metadata": {
        "colab": {
          "base_uri": "https://localhost:8080/",
          "height": 105
        },
        "id": "BFb0XglsNfaY",
        "outputId": "d6c0ec92-f750-4a41-99fe-cc21279c681b"
      },
      "execution_count": 8,
      "outputs": [
        {
          "output_type": "execute_result",
          "data": {
            "text/plain": [
              "'In order to find out exactly which groups are different from each other, \\nwe must conduct a post hoc test (also known as a multiple comparison test), which will allow us to explore the difference between multiple group means while also controlling for the family-wise error rate.\\nIt’s important to note that we only need to conduct a post hoc test when the p-value for the ANOVA is statistically significant. If the p-value is not statistically significant, \\nthis indicates that the means for all of the groups are not different from each other, so there is no need to conduct a post hoc test to find out which groups are different from each other.\\nPost-hoc tests used after ANOVA:\\n(i) Tukey’s Test – useful when you want to make every possible pairwise comparison.We can perform Tukey’s Test for multiple comparisons by using the built-in R function TukeyHSD()\\n(ii) Holm’s Method – a slightly more conservative test compared to Tukey’s Test\\n(iii) Dunnett’s Correction – useful when you want to compare every group mean to a control mean, and you’re not interested in comparing the treatment means with one another.\\nPost hoc tests do a great job of controlling the family-wise error rate, but the tradeoff is that they reduce the statistical power of the comparisons. \\nThis is because the only way to lower the family-wise error rate is to use a lower significance level for all of the individual comparisons.\\nThe problem with this is that lower significance levels correspond to lower statistical power. \\nThis means that if a difference between group means actually does exist in the population, a study with lower power is less likely to detect it. '"
            ],
            "application/vnd.google.colaboratory.intrinsic+json": {
              "type": "string"
            }
          },
          "metadata": {},
          "execution_count": 8
        }
      ]
    },
    {
      "cell_type": "code",
      "source": [
        "'''Q9. A researcher wants to compare the mean weight loss of three diets: A, B, and C. They collect data from 50 participants who were randomly assigned to one of the diets. Conduct a one-way ANOVA using Python\n",
        "to determine if there are any significant differences between the mean weight loss of the three diets. Report the F-statistic and p-value, and interpret the results.'''\n",
        "import pandas\n",
        "import random\n",
        "from scipy.stats import f_oneway\n",
        "random.seed(10)\n",
        "d1=[random.randint(10,32) for i in range(50)]\n",
        "d2=[random.randint(10,32) for i in range(50)]\n",
        "d3=[random.randint(10,32) for i in range(50)]\n",
        "f_oneway(d1,d2,d3)"
      ],
      "metadata": {
        "colab": {
          "base_uri": "https://localhost:8080/"
        },
        "id": "bjL6QpqLO3UK",
        "outputId": "40eef6b4-1522-4207-f225-571b60b6a89f"
      },
      "execution_count": 9,
      "outputs": [
        {
          "output_type": "execute_result",
          "data": {
            "text/plain": [
              "F_onewayResult(statistic=0.6579128003050717, pvalue=0.5194494896494897)"
            ]
          },
          "metadata": {},
          "execution_count": 9
        }
      ]
    },
    {
      "cell_type": "markdown",
      "source": [
        "#Observation:\n",
        "Since F statistic=0.6579128003050717is greater than pvalue=0.5194494896494897), we reject the null hypothesis that states all the mean weight loss of three diets are equal.\n"
      ],
      "metadata": {
        "id": "t38X79I0c8MA"
      }
    },
    {
      "cell_type": "code",
      "source": [
        "'''Q10. A company wants to know if there are any significant differences in the average time it takes to complete a task using three different software programs: Program A, Program B, and Program C. They\n",
        "randomly assign 30 employees to one of the programs and record the time it takes each employee to complete the task. Conduct a two-way ANOVA using Python to determine if there are any main effects or\n",
        "interaction effects between the software programs and employee experience level (novice vs experienced). Report the F-statistics and p-values, and interpret the results.'''\n",
        "import pandas as pd\n",
        "import statsmodels.api as sm\n",
        "from statsmodels.formula.api import ols\n",
        "# Load data\n",
        "data = pd.read_csv('Software_Data.csv')\n",
        "\n",
        "# Fit the model\n",
        "model = ols('time ~ C(program) + C(experience) + C(program):C(experience)', data=data).fit()\n",
        "# Perform two-way ANOVA\n",
        "aov_table = sm.stats.anova_lm(model, typ=2)\n",
        "# Print the results\n",
        "print(aov_table)"
      ],
      "metadata": {
        "id": "v8d6cYXw8VzM",
        "colab": {
          "base_uri": "https://localhost:8080/"
        },
        "outputId": "0f8eca6c-8861-45a8-ea36-16843bca0d00"
      },
      "execution_count": 10,
      "outputs": [
        {
          "output_type": "stream",
          "name": "stdout",
          "text": [
            "                            sum_sq    df          F        PR(>F)\n",
            "C(program)                4.394667   2.0  30.948357  2.263687e-07\n",
            "C(experience)             0.065333   1.0   0.920188  3.469906e-01\n",
            "C(program):C(experience)  0.082667   2.0   0.582160  5.663862e-01\n",
            "Residual                  1.704000  24.0        NaN           NaN\n"
          ]
        }
      ]
    },
    {
      "cell_type": "code",
      "source": [
        "'''Q11. An educational researcher is interested in whether a new teaching method improves student test scores. They randomly assign 100 students to either the control group (traditional teaching method) or the\n",
        "experimental group (new teaching method) and administer a test at the end of the semester. Conduct a two-sample t-test using Python to determine if there are any significant differences in test scores\n",
        "between the two groups. If the results are significant, follow up with a post-hoc test to determine whichgroup(s) differ significantly from each other.'''\n",
        "import numpy as np\n",
        "from scipy.stats import ttest_ind\n",
        "# Create two random samples\n",
        "sample1 = np.random.normal(0, 1, 100)\n",
        "sample2 = np.random.normal(1, 1, 100)\n",
        "# Conduct a two-sample t-test\n",
        "t_stat, p_val = ttest_ind(sample1, sample2)\n",
        "print('t-statistic:', t_stat)\n",
        "print('p-value:', p_val)"
      ],
      "metadata": {
        "colab": {
          "base_uri": "https://localhost:8080/"
        },
        "id": "gfbzKbPTlG5D",
        "outputId": "0ec65cb7-fd8a-4b99-cdb8-36c1988efaf0"
      },
      "execution_count": 11,
      "outputs": [
        {
          "output_type": "stream",
          "name": "stdout",
          "text": [
            "t-statistic: -7.603743227746189\n",
            "p-value: 1.131642205443929e-12\n"
          ]
        }
      ]
    },
    {
      "cell_type": "code",
      "source": [
        "'''Q12. A researcher wants to know if there are any significant differences in the average daily sales of three retail stores: Store A, Store B, and Store C. They randomly select 30 days and record the sales for each store\n",
        "on those days. Conduct a repeated measures ANOVA using Python to determine if there are any significant differences in sales between the three stores. If the results are significant, follow up with a post-\n",
        "hoc test to determine which store(s) differ significantly from each other.'''\n",
        "import pandas as pd\n",
        "from statsmodels.stats.anova import AnovaRM\n",
        "data = pd.read_csv('Store_sales.csv')\n",
        "anovarm = AnovaRM(data,'sales','store', within=['day'])\n",
        "fit = anovarm.fit()\n",
        "print(fit.summary())"
      ],
      "metadata": {
        "colab": {
          "base_uri": "https://localhost:8080/"
        },
        "id": "HSwcci8glHBh",
        "outputId": "268a19e0-a535-4128-aa08-938b1c7b6984"
      },
      "execution_count": 12,
      "outputs": [
        {
          "output_type": "stream",
          "name": "stdout",
          "text": [
            "              Anova\n",
            "==================================\n",
            "    F Value  Num DF  Den DF Pr > F\n",
            "----------------------------------\n",
            "day  0.8446 29.0000 58.0000 0.6847\n",
            "==================================\n",
            "\n"
          ]
        }
      ]
    }
  ]
}