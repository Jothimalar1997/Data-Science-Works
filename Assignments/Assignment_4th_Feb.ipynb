{
  "nbformat": 4,
  "nbformat_minor": 0,
  "metadata": {
    "colab": {
      "provenance": []
    },
    "kernelspec": {
      "name": "python3",
      "display_name": "Python 3"
    },
    "language_info": {
      "name": "python"
    }
  },
  "cells": [
    {
      "cell_type": "code",
      "execution_count": 1,
      "metadata": {
        "colab": {
          "base_uri": "https://localhost:8080/"
        },
        "id": "9961RmbZmc4K",
        "outputId": "808688e7-796f-43a9-956a-ea6e0afbb757"
      },
      "outputs": [
        {
          "output_type": "stream",
          "name": "stdout",
          "text": [
            "[('Virat Kohli', 24936), ('Jack Kallis', 25534), ('Ricky Ponting', 27483), ('Sachin Tendulkar', 34357)]\n"
          ]
        }
      ],
      "source": [
        "# 1) To sort the list based on Integer value using lambda function:\n",
        "list1=[('Sachin Tendulkar',34357),('Ricky Ponting',27483),('Jack Kallis',25534),('Virat Kohli',24936)]\n",
        "list1.sort(key=lambda list1:(list1[1]))\n",
        "print(list1)"
      ]
    },
    {
      "cell_type": "code",
      "source": [
        "# 2) To find the square of numbers in the given list using lambda and map function\n",
        "list1=[1,2,3,4,5,6,7,8,9,10]\n",
        "list2=list(map(lambda x:x**2,list1))\n",
        "print(list2)"
      ],
      "metadata": {
        "colab": {
          "base_uri": "https://localhost:8080/"
        },
        "id": "Jsu9f0rnJvjf",
        "outputId": "a9232fc2-df8a-4a9c-ab41-d50124bceef9"
      },
      "execution_count": 2,
      "outputs": [
        {
          "output_type": "stream",
          "name": "stdout",
          "text": [
            "[1, 4, 9, 16, 25, 36, 49, 64, 81, 100]\n"
          ]
        }
      ]
    },
    {
      "cell_type": "code",
      "source": [
        "# 3) To convert the given list of numbers into tuple of strings:\n",
        "list1=[1,2,3,4,5,6,7,8,9,10]\n",
        "tuple1=tuple(map(lambda x:str(x),list1))\n",
        "print(tuple1)"
      ],
      "metadata": {
        "colab": {
          "base_uri": "https://localhost:8080/"
        },
        "id": "Lno1YQV2K3cl",
        "outputId": "345ecc61-fc42-4f68-cc46-4621655afb24"
      },
      "execution_count": 3,
      "outputs": [
        {
          "output_type": "stream",
          "name": "stdout",
          "text": [
            "('1', '2', '3', '4', '5', '6', '7', '8', '9', '10')\n"
          ]
        }
      ]
    },
    {
      "cell_type": "code",
      "source": [
        "# 4) Reduce function to compute the product of numbers:\n",
        "from functools import reduce\n",
        "list1=range(1,26)\n",
        "product=reduce(lambda x,y:x*y,list1)\n",
        "print(product)"
      ],
      "metadata": {
        "colab": {
          "base_uri": "https://localhost:8080/"
        },
        "id": "6Ta3hN4OLdCx",
        "outputId": "26f9aaf0-18cc-41d4-9483-fe5d618ca194"
      },
      "execution_count": 4,
      "outputs": [
        {
          "output_type": "stream",
          "name": "stdout",
          "text": [
            "15511210043330985984000000\n"
          ]
        }
      ]
    },
    {
      "cell_type": "code",
      "source": [
        "# 5) Filter the numbers in given list that are divisible by both 2 and 3:\n",
        "list1=[2,3,6,9,27,60,90,120,55,46]\n",
        "list2=list(filter(lambda x: x%2==0 and x%3==0,list1))\n",
        "print(list2)"
      ],
      "metadata": {
        "colab": {
          "base_uri": "https://localhost:8080/"
        },
        "id": "_cAoJs2wFHkm",
        "outputId": "ccd29d18-86ed-4c82-b13d-8e9379885fd1"
      },
      "execution_count": 5,
      "outputs": [
        {
          "output_type": "stream",
          "name": "stdout",
          "text": [
            "[6, 60, 90, 120]\n"
          ]
        }
      ]
    },
    {
      "cell_type": "code",
      "source": [
        "# 6) To find palindromes in the given list using lambda and filter:\n",
        "list1=[\"python\",\"php\",\"aba\",\"radar\",\"level\"]\n",
        "list2=list(filter(lambda s: s==\"\".join(reversed(s)),list1))\n",
        "print(list2)\n"
      ],
      "metadata": {
        "colab": {
          "base_uri": "https://localhost:8080/"
        },
        "id": "5Jx1BjflFpfS",
        "outputId": "8b60cf1f-4258-4f71-9d74-72739c849efe"
      },
      "execution_count": 6,
      "outputs": [
        {
          "output_type": "stream",
          "name": "stdout",
          "text": [
            "['php', 'aba', 'radar', 'level']\n"
          ]
        }
      ]
    }
  ]
}