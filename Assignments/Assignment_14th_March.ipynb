{
  "nbformat": 4,
  "nbformat_minor": 0,
  "metadata": {
    "colab": {
      "provenance": []
    },
    "kernelspec": {
      "name": "python3",
      "display_name": "Python 3"
    },
    "language_info": {
      "name": "python"
    }
  },
  "cells": [
    {
      "cell_type": "code",
      "execution_count": 1,
      "metadata": {
        "colab": {
          "base_uri": "https://localhost:8080/"
        },
        "id": "_RaBvE2rK0Kd",
        "outputId": "bec7f81a-40c9-471f-e44c-ed0b5adb99dc"
      },
      "outputs": [
        {
          "output_type": "stream",
          "name": "stdout",
          "text": [
            "f value:1.3698630136986303  and p value:0.38389834747631046\n"
          ]
        }
      ],
      "source": [
        "## Q1. Write a Python function that takes in two arrays of data and calculates the F-value for a variance ratio test. The function should return the F-value and the corresponding p-value for the test.\n",
        "import numpy as np\n",
        "from scipy.stats import f\n",
        "def variance_ratio_test(arr1, arr2):\n",
        "    # Calculate variances\n",
        "    var1 = np.var(arr1, ddof=1)\n",
        "    var2 = np.var(arr2, ddof=1)\n",
        "    # Calculate F-value\n",
        "    f_value = var1 / var2\n",
        "    # Calculate degrees of freedom\n",
        "    df1 = len(arr1) - 1\n",
        "    df2 = len(arr2) - 1\n",
        "    # Calculate p-value\n",
        "    p_value = 1 - f.cdf(f_value, df1, df2)\n",
        "    return f_value, p_value\n",
        "arr1=np.array([12,14,16,18,10])\n",
        "arr2=np.array([22,24,26,27,29])\n",
        "fvalue,pvalue=variance_ratio_test(arr1, arr2)\n",
        "print(f\"f value:{fvalue}  and p value:{pvalue}\")"
      ]
    },
    {
      "cell_type": "code",
      "source": [
        "## Q2. Given a significance level of 0.05 and the degrees of freedom for the numerator and denominator of an F-distribution, write a Python function that returns the critical F-value for a two-tailed test.\n",
        "from scipy.stats import f\n",
        "def critical_f_value(alpha, dfn, dfd):\n",
        "    return f.ppf(alpha/2, dfn, dfd), f.ppf(1-alpha/2, dfn, dfd)\n",
        "dfn=3\n",
        "dfd=10\n",
        "alpha=0.5\n",
        "lower_cv,higher_cv=critical_f_value(alpha, dfn, dfd)\n",
        "print(f\"Lower critical value:{lower_cv}  and Higher critical value:{higher_cv}\")"
      ],
      "metadata": {
        "colab": {
          "base_uri": "https://localhost:8080/"
        },
        "id": "sDk_1wkpMdzY",
        "outputId": "39dcfcdf-fbdd-4afc-bdbb-1ce97d06de88"
      },
      "execution_count": 2,
      "outputs": [
        {
          "output_type": "stream",
          "name": "stdout",
          "text": [
            "Lower critical value:0.4090533620943785  and Higher critical value:1.6028488305554063\n"
          ]
        }
      ]
    },
    {
      "cell_type": "code",
      "source": [
        "'''Q3. Write a Python program that generates random samples from two normal distributions with known variances and uses an F-test to determine if the variances are equal. \n",
        "The program should output the F-value, degrees of freedom, and p-value for the test.'''\n",
        "import numpy as np\n",
        "from scipy.stats import f\n",
        "def f_test(var1, var2):\n",
        "    n1 = len(var1)\n",
        "    n2 = len(var2)\n",
        "    df1 = n1 - 1\n",
        "    df2 = n2 - 1\n",
        "    F = np.var(var1) / np.var(var2)\n",
        "    p_value = f.cdf(F, df1, df2)\n",
        "    return F, df1, df2, p_value\n",
        "var1 = np.random.normal(0, 1, 100)\n",
        "var2 = np.random.normal(0, 2, 100)\n",
        "F, df1, df2, p_value = f_test(var1, var2)\n",
        "print(\"F-value:\", F)\n",
        "print(\"Degrees of freedom:\", df1, \",\", df2)\n",
        "print(\"p-value:\", p_value)"
      ],
      "metadata": {
        "colab": {
          "base_uri": "https://localhost:8080/"
        },
        "id": "8MK363c2NafW",
        "outputId": "9576e9d8-352e-4637-f6b4-4b7977902768"
      },
      "execution_count": 3,
      "outputs": [
        {
          "output_type": "stream",
          "name": "stdout",
          "text": [
            "F-value: 0.22619226189129654\n",
            "Degrees of freedom: 99 , 99\n",
            "p-value: 7.53295486276873e-13\n"
          ]
        }
      ]
    },
    {
      "cell_type": "code",
      "source": [
        "'''Q4.The variances of two populations are known to be 10 and 15. A sample of 12 observations is taken from each population. Conduct an F-test at the 5% significance level to determine if the variances are\n",
        "significantly different.'''\n",
        "'''To test if the variances of two populations are significantly different, we use the F-test. \n",
        "(i) The null hypothesis is that the variances are equal.\n",
        "(ii) The alternative hypothesis is that they are not equal.\n",
        "(iii) F-test value:\n",
        "The formula for F-test is:\n",
        "F = s1^2 / s2^2\n",
        "where s1^2 and s2^2 are the sample variances of the two populations.\n",
        "Given that the sample size is 12 for each population, the degrees of freedom for each sample is 11.\n",
        "At 5% significance level, the critical value for F-distribution with 11 degrees of freedom in numerator and 11 degrees of freedom in denominator is 3.07.\n",
        "F-test value=3.07\n",
        "(iv) F-statistic\n",
        "Now, we can calculate the F-statistic as follows:\n",
        "F = 10 / 15 = 0.67\n",
        "(v) Conclusion:\n",
        "Since 0.67 < 3.07, we fail to reject the null hypothesis that the variances are equal at 5% significance level. \n",
        "Therefore, we can conclude that there is not enough evidence to suggest that the variances are significantly different.'''"
      ],
      "metadata": {
        "colab": {
          "base_uri": "https://localhost:8080/",
          "height": 105
        },
        "id": "5u-L-wv9N84T",
        "outputId": "42f41deb-b08b-4a5c-b911-ddd5a1a2827b"
      },
      "execution_count": 4,
      "outputs": [
        {
          "output_type": "execute_result",
          "data": {
            "text/plain": [
              "'To test if the variances of two populations are significantly different, we use the F-test. \\n(i) The null hypothesis is that the variances are equal.\\n(ii) The alternative hypothesis is that they are not equal.\\n(iii) F-test value:\\nThe formula for F-test is:\\nF = s1^2 / s2^2\\nwhere s1^2 and s2^2 are the sample variances of the two populations.\\nGiven that the sample size is 12 for each population, the degrees of freedom for each sample is 11.\\nAt 5% significance level, the critical value for F-distribution with 11 degrees of freedom in numerator and 11 degrees of freedom in denominator is 3.07.\\nF-test value=3.07\\n(iv) F-statistic\\nNow, we can calculate the F-statistic as follows:\\nF = 10 / 15 = 0.67\\n(v) Conclusion:\\nSince 0.67 < 3.07, we fail to reject the null hypothesis that the variances are equal at 5% significance level. \\nTherefore, we can conclude that there is not enough evidence to suggest that the variances are significantly different.'"
            ],
            "application/vnd.google.colaboratory.intrinsic+json": {
              "type": "string"
            }
          },
          "metadata": {},
          "execution_count": 4
        }
      ]
    },
    {
      "cell_type": "code",
      "source": [
        "'''Q5. A manufacturer claims that the variance of the diameter of a certain product is 0.005. A sample of 25 products is taken, and the sample variance is found to be 0.006. Conduct an F-test at the 1% significance\n",
        "level to determine if the claim is justified.'''\n",
        "'''(i) The null hypothesis is that the variance of the diameter of the product is 0.005.\n",
        "(ii) The alternative hypothesis is that it is greater than 0.005.\n",
        "(iii) F-test value:\n",
        "F = (sample variance / population variance) = (0.006 / 0.005) = 1.2\n",
        "F-test value=1.2\n",
        "(iv) F-statistics:\n",
        "The degrees of freedom for the numerator are 24 and for the denominator are 24.\n",
        "At a significance level of 1%, the critical value for F with 24 and 24 degrees of freedom is 2.75.\n",
        "F=2.75\n",
        "(v) Conclusion:\n",
        "Since our test statistic (1.2) is less than the critical value (2.75), we fail to reject the null hypothesis at the 1% significance level.\n",
        "Therefore, we do not have sufficient evidence to conclude that the variance of the diameter of the product is greater than 0.005.'''"
      ],
      "metadata": {
        "colab": {
          "base_uri": "https://localhost:8080/",
          "height": 87
        },
        "id": "PtgFmyPVPSLM",
        "outputId": "b5ee7983-9d0b-474f-b44c-20559861bf77"
      },
      "execution_count": 5,
      "outputs": [
        {
          "output_type": "execute_result",
          "data": {
            "text/plain": [
              "'(i) The null hypothesis is that the variance of the diameter of the product is 0.005.\\n(ii) The alternative hypothesis is that it is greater than 0.005.\\n(iii) F-test value:\\nF = (sample variance / population variance) = (0.006 / 0.005) = 1.2\\nF-test value=1.2\\n(iv) F-statistics:\\nThe degrees of freedom for the numerator are 24 and for the denominator are 24.\\nAt a significance level of 1%, the critical value for F with 24 and 24 degrees of freedom is 2.75.\\nF=2.75\\n(v) Conclusion:\\nSince our test statistic (1.2) is less than the critical value (2.75), we fail to reject the null hypothesis at the 1% significance level.\\nTherefore, we do not have sufficient evidence to conclude that the variance of the diameter of the product is greater than 0.005.'"
            ],
            "application/vnd.google.colaboratory.intrinsic+json": {
              "type": "string"
            }
          },
          "metadata": {},
          "execution_count": 5
        }
      ]
    },
    {
      "cell_type": "code",
      "source": [
        "'''Q6. Write a Python function that takes in the degrees of freedom for the numerator and denominator of an F-distribution and calculates the mean and variance of the distribution. The function should return the\n",
        "mean and variance as a tuple.'''\n",
        "def f_distribution(numerator_df, denominator_df):\n",
        "    mean = denominator_df / (denominator_df - 2)\n",
        "    variance = (2 * (denominator_df ** 2) * (numerator_df + denominator_df - 2)) / ((numerator_df * (denominator_df - 2) ** 2) * (denominator_df - 4))\n",
        "    return mean, variance\n",
        "dfn=4\n",
        "dfd=10\n",
        "m,v=f_distribution(dfn,dfd)\n",
        "print(f\"Mean value:{m}  and Variance value:{v}\")"
      ],
      "metadata": {
        "colab": {
          "base_uri": "https://localhost:8080/"
        },
        "id": "J5wz2FCzQaC8",
        "outputId": "320f4fbf-59a3-4871-d0a2-6b95603e9c87"
      },
      "execution_count": 6,
      "outputs": [
        {
          "output_type": "stream",
          "name": "stdout",
          "text": [
            "Mean value:1.25  and Variance value:1.5625\n"
          ]
        }
      ]
    },
    {
      "cell_type": "code",
      "source": [
        "'''Q7. A random sample of 10 measurements is taken from a normal population with unknown variance. The sample variance is found to be 25. Another random sample of 15 measurements is taken from another\n",
        "normal population with unknown variance, and the sample variance is found to be 20. Conduct an F-test at the 10% significance level to determine if the variances are significantly different.'''\n",
        "'''The F-test is used to determine whether two variances are significantly different from each other. \n",
        "(i) The null hypothesis is that the two variances are equal. \n",
        "(ii) The alternative hypothesis is that they are not equal. \n",
        "(iii) F-Statistics:\n",
        "The test statistic is calculated as the ratio of the sample variances. \n",
        "In this case, we have two samples with sample variances of 25 and 20 respectively. \n",
        "The degrees of freedom for the numerator and denominator are 9 and 14 respectively.\n",
        "At a significance level of 10%, the critical value for this test is 2.71.\n",
        "F-test=2.71\n",
        "(iv) F-value:\n",
        "The calculated F-value is 1.251. \n",
        "F-value=1.251\n",
        "(v) Conclusion:\n",
        "Since F value is less than the critical value, we fail to reject the null hypothesis that the two variances are equal at a significance level of 10%. \n",
        "Therefore, we can conclude that there is not enough evidence to suggest that the variances are significantly different from each other.'''"
      ],
      "metadata": {
        "colab": {
          "base_uri": "https://localhost:8080/",
          "height": 105
        },
        "id": "O1pbwhvgRCG4",
        "outputId": "fe68b55e-2636-448a-f68c-11a767f80852"
      },
      "execution_count": 7,
      "outputs": [
        {
          "output_type": "execute_result",
          "data": {
            "text/plain": [
              "'The F-test is used to determine whether two variances are significantly different from each other. \\n(i) The null hypothesis is that the two variances are equal. \\n(ii) The alternative hypothesis is that they are not equal. \\n(iii) F-Statistics:\\nThe test statistic is calculated as the ratio of the sample variances. \\nIn this case, we have two samples with sample variances of 25 and 20 respectively. \\nThe degrees of freedom for the numerator and denominator are 9 and 14 respectively.\\nAt a significance level of 10%, the critical value for this test is 2.71.\\nF-test=2.71\\n(iv) F-value:\\nThe calculated F-value is 1.251. \\nF-value=1.251\\n(v) Conclusion:\\nSince F value is less than the critical value, we fail to reject the null hypothesis that the two variances are equal at a significance level of 10%. \\nTherefore, we can conclude that there is not enough evidence to suggest that the variances are significantly different from each other.'"
            ],
            "application/vnd.google.colaboratory.intrinsic+json": {
              "type": "string"
            }
          },
          "metadata": {},
          "execution_count": 7
        }
      ]
    },
    {
      "cell_type": "code",
      "source": [
        "'''Q8. The following data represent the waiting times in minutes at two different restaurants on a Saturday night: Restaurant A: 24, 25, 28, 23, 22, 20, 27; Restaurant B: 31, 33, 35, 30, 32, 36. Conduct an F-test at the 5%\n",
        "significance level to determine if the variances are significantly different.'''\n",
        "'''The F-test is used to compare two variances from two samples. \n",
        "(i) The null hypothesis is that the variances are equal. \n",
        "(ii) The alternative hypothesis is that the variances are not equal. \n",
        "(iii) F-statistics:\n",
        "The test statistic is calculated as F = s1^2 / s2^2 where s1^2 and s2^2 are the sample variances of the two samples.\n",
        "The degrees of freedom for this test are n1 - 1 and n2 - 1 where n1 and n2 are the sample sizes of the two samples. \n",
        "At a 5% significance level, we reject the null hypothesis if F > F(0.025, n1-1, n2-1) or if F < F(0.975, n1-1, n2-1).\n",
        "Using this formula, we can calculate the sample variances for Restaurant A and Restaurant B as follows:\n",
        "s1^2 = 8.2857\n",
        "s2^2 = 6.6667\n",
        "where s1^2 and s2^2 are the sample variances for Restaurant A and Restaurant B respectively.\n",
        "Now we can calculate the test statistic as follows:\n",
        "F = s1^2 / s2^2 = 8.2857 / 6.6667 = 1.2429\n",
        "The degrees of freedom for this test are n1 - 1 = 6 and n2 - 1 = 5 where n1 and n2 are the sample sizes of Restaurant A and Restaurant B respectively.\n",
        "(iv) F value:\n",
        "Using an F-distribution table with a significance level of 5%, we find that F(0.025, 6, 5) = 4.747 and F(0.975, 6, 5) = 0.224.\n",
        "(v) Coclusion:\n",
        "Since our calculated value of F (i.e., 1.2429) falls between these two values (i.e., 0.224 < 1.2429 < 4.747), \n",
        "we fail to reject the null hypothesis that the variances are equal at a significance level of 5%. \n",
        "Therefore, we can conclude that there is not enough evidence to suggest that the variances of waiting times at Restaurant A and Restaurant B are significantly different at a significance level of 5%.'''"
      ],
      "metadata": {
        "colab": {
          "base_uri": "https://localhost:8080/",
          "height": 105
        },
        "id": "ahKIXSW_R5bG",
        "outputId": "f280bcd7-0667-402a-8804-82c6e72a88a2"
      },
      "execution_count": 8,
      "outputs": [
        {
          "output_type": "execute_result",
          "data": {
            "text/plain": [
              "'The F-test is used to compare two variances from two samples. \\n(i) The null hypothesis is that the variances are equal. \\n(ii) The alternative hypothesis is that the variances are not equal. \\n(iii) F-statistics:\\nThe test statistic is calculated as F = s1^2 / s2^2 where s1^2 and s2^2 are the sample variances of the two samples.\\nThe degrees of freedom for this test are n1 - 1 and n2 - 1 where n1 and n2 are the sample sizes of the two samples. \\nAt a 5% significance level, we reject the null hypothesis if F > F(0.025, n1-1, n2-1) or if F < F(0.975, n1-1, n2-1).\\nUsing this formula, we can calculate the sample variances for Restaurant A and Restaurant B as follows:\\ns1^2 = 8.2857\\ns2^2 = 6.6667\\nwhere s1^2 and s2^2 are the sample variances for Restaurant A and Restaurant B respectively.\\nNow we can calculate the test statistic as follows:\\nF = s1^2 / s2^2 = 8.2857 / 6.6667 = 1.2429\\nThe degrees of freedom for this test are n1 - 1 = 6 and n2 - 1 = 5 where n1 and n2 are the sample sizes of Restaurant A and Restaurant B respectively.\\n(iv) F value:\\nUsing an F-distribution table with a significance level of 5%, we find that F(0.025, 6, 5) = 4.747 and F(0.975, 6, 5) = 0.224.\\n(v) Coclusion:\\nSince our calculated value of F (i.e., 1.2429) falls between these two values (i.e., 0.224 < 1.2429 < 4.747), \\nwe fail to reject the null hypothesis that the variances are equal at a significance level of 5%. \\nTherefore, we can conclude that there is not enough evidence to suggest that the variances of waiting times at Restaurant A and Restaurant B are significantly different at a significance level of 5%.'"
            ],
            "application/vnd.google.colaboratory.intrinsic+json": {
              "type": "string"
            }
          },
          "metadata": {},
          "execution_count": 8
        }
      ]
    },
    {
      "cell_type": "code",
      "source": [
        "'''Q9. The following data represent the test scores of two groups of students: Group A: 80, 85, 90, 92, 87, 83; Group B: 75, 78, 82, 79, 81, 84. Conduct an F-test at the 1% significance level to determine if the variances\n",
        "are significantly different.'''\n",
        "'''To conduct an F-test at the 1% significance level to determine if the variances are significantly different, we can use the following formula:\n",
        "F = s1^2 / s2^2\n",
        "where s1^2 is the variance of Group A and s2^2 is the variance of Group B.\n",
        "\n",
        "(i) The null hypothesis is that the variances are equal. \n",
        "(ii) The alternative hypothesis is that the variances are not equal.\n",
        "(iii) F-statistics:\n",
        "At the 1% significance level, we reject the null hypothesis if F > F(0.01, 5, 5) = 7.71.\n",
        "(iv)F-test value:\n",
        "s1^2 = 21.3 \n",
        "s2^2 = 6.8 \n",
        "F = 3.14\n",
        "(v) Conclusion:\n",
        "Since F < F(0.01, 5, 5), we fail to reject the null hypothesis and conclude that there is not enough evidence to suggest that the variances are significantly different at the 1% significance level.'''"
      ],
      "metadata": {
        "colab": {
          "base_uri": "https://localhost:8080/",
          "height": 87
        },
        "id": "hyeuX7lNTCKk",
        "outputId": "2516799c-51e1-4290-db51-117dce310517"
      },
      "execution_count": 9,
      "outputs": [
        {
          "output_type": "execute_result",
          "data": {
            "text/plain": [
              "'To conduct an F-test at the 1% significance level to determine if the variances are significantly different, we can use the following formula:\\nF = s1^2 / s2^2\\nwhere s1^2 is the variance of Group A and s2^2 is the variance of Group B.\\n\\n(i) The null hypothesis is that the variances are equal. \\n(ii) The alternative hypothesis is that the variances are not equal.\\n(iii) F-statistics:\\nAt the 1% significance level, we reject the null hypothesis if F > F(0.01, 5, 5) = 7.71.\\n(iv)F-test value:\\ns1^2 = 21.3 \\ns2^2 = 6.8 \\nF = 3.14\\n(v) Conclusion:\\nSince F < F(0.01, 5, 5), we fail to reject the null hypothesis and conclude that there is not enough evidence to suggest that the variances are significantly different at the 1% significance level.'"
            ],
            "application/vnd.google.colaboratory.intrinsic+json": {
              "type": "string"
            }
          },
          "metadata": {},
          "execution_count": 9
        }
      ]
    }
  ]
}