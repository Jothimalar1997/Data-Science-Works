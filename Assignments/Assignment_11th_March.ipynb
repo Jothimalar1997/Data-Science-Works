{
  "nbformat": 4,
  "nbformat_minor": 0,
  "metadata": {
    "colab": {
      "provenance": []
    },
    "kernelspec": {
      "name": "python3",
      "display_name": "Python 3"
    },
    "language_info": {
      "name": "python"
    }
  },
  "cells": [
    {
      "cell_type": "code",
      "execution_count": 1,
      "metadata": {
        "id": "nf55Tvf593C2",
        "colab": {
          "base_uri": "https://localhost:8080/",
          "height": 87
        },
        "outputId": "145e7841-ec98-4492-b2b9-26894d48e9ed"
      },
      "outputs": [
        {
          "output_type": "execute_result",
          "data": {
            "text/plain": [
              "'The main thing is that t tests are used when you don’t know the population variance. You use the Student’s t distribution instead of the standard normal distribution. \\nThe main difference between a t-test and a z-test is that the former uses a small sample size while the latter uses a large sample size. \\nThe t-test is applicable when the population variance is unknown while the z-test is ideal when the population variance is known\\nFor example, if you want to test whether the mean weight of a sample of apples is different from the mean weight of a sample of oranges, \\nyou would use a t-test if you have a small sample size and don’t know the population variance. On the other hand, if you have a large sample size and know the population variance, you would use a z-test.'"
            ],
            "application/vnd.google.colaboratory.intrinsic+json": {
              "type": "string"
            }
          },
          "metadata": {},
          "execution_count": 1
        }
      ],
      "source": [
        "## Q1: What is the difference between a t-test and a z-test? Provide an example scenario where you would use each type of test.\n",
        "'''The main thing is that t tests are used when you don’t know the population variance. You use the Student’s t distribution instead of the standard normal distribution. \n",
        "The main difference between a t-test and a z-test is that the former uses a small sample size while the latter uses a large sample size. \n",
        "The t-test is applicable when the population variance is unknown while the z-test is ideal when the population variance is known\n",
        "For example, if you want to test whether the mean weight of a sample of apples is different from the mean weight of a sample of oranges, \n",
        "you would use a t-test if you have a small sample size and don’t know the population variance. On the other hand, if you have a large sample size and know the population variance, you would use a z-test.'''"
      ]
    },
    {
      "cell_type": "code",
      "source": [
        "## Q2: Differentiate between one-tailed and two-tailed tests.\n",
        "'''One-Tailed Test:\n",
        "A one-tailed test is based on a uni-directional hypothesis where the area of rejection is on only one side of the sampling distribution. \n",
        "we use either > or < sign for the alternative hypothesis.\n",
        "It determines whether a particular population parameter is larger or smaller than the predefined parameter. It uses one single critical value to test the data.\n",
        "The Entire level of significance (α) i.e. 5% has either in the left tail or right tail.\n",
        "Critical region lies entirely on either the right side or left side of the sampling distribution.\n",
        "Rejection region is either from the left side or right side of the sampling distribution. \n",
        "It is used to check whether the one mean is different from another mean or not.\n",
        "Two-Tailed Test:\n",
        "A two-tailed test is also called a nondirectional hypothesis. For checking whether the sample is greater or less than a range of values, we use the two-tailed. It is used for null hypothesis testing.\n",
        "we use ≠ sign for the alternative hypothesis.\n",
        "It splits the level of significance (α) into half.\n",
        "Critical region lies entirely on either the right side or left side of the sampling distribution.\n",
        "Rejection region is from both sides i.e. left and right of the sampling distribution. \n",
        "It is used to check whether the two mean different from one another or not.'''"
      ],
      "metadata": {
        "colab": {
          "base_uri": "https://localhost:8080/",
          "height": 105
        },
        "id": "V8rdAw10thb4",
        "outputId": "9be8823f-a701-4b29-c461-e683bff052ab"
      },
      "execution_count": 2,
      "outputs": [
        {
          "output_type": "execute_result",
          "data": {
            "text/plain": [
              "'One-Tailed Test:\\nA one-tailed test is based on a uni-directional hypothesis where the area of rejection is on only one side of the sampling distribution. \\nwe use either > or < sign for the alternative hypothesis.\\nIt determines whether a particular population parameter is larger or smaller than the predefined parameter. It uses one single critical value to test the data.\\nThe Entire level of significance (α) i.e. 5% has either in the left tail or right tail.\\nCritical region lies entirely on either the right side or left side of the sampling distribution.\\nRejection region is either from the left side or right side of the sampling distribution. \\nIt is used to check whether the one mean is different from another mean or not.\\nTwo-Tailed Test:\\nA two-tailed test is also called a nondirectional hypothesis. For checking whether the sample is greater or less than a range of values, we use the two-tailed. It is used for null hypothesis testing.\\nwe use ≠ sign for the alternative hypothesis.\\nIt splits the level of significance (α) into half.\\nCritical region lies entirely on either the right side or left side of the sampling distribution.\\nRejection region is from both sides i.e. left and right of the sampling distribution. \\nIt is used to check whether the two mean different from one another or not.'"
            ],
            "application/vnd.google.colaboratory.intrinsic+json": {
              "type": "string"
            }
          },
          "metadata": {},
          "execution_count": 2
        }
      ]
    },
    {
      "cell_type": "code",
      "source": [
        "## Q3: Explain the concept of Type 1 and Type 2 errors in hypothesis testing. Provide an example scenario for each type of error.\n",
        "'''Type 1 and Type 2 errors are two types of errors that can occur in hypothesis testing. \n",
        "In statistical hypothesis testing, a Type 1 error is the mistaken rejection of an actually true null hypothesis (also known as a “false positive” finding or conclusion).\n",
        "i.e.: A Type I error means rejecting the null hypothesis when it’s actually true.\n",
        "An example of a Type 1 error is when an innocent person is convicted. \n",
        "On the other hand, a Type 2 error is the failure to reject a null hypothesis that is actually false (also known as a “false negative” finding or conclusion).\n",
        "i.e.: A Type II error means not rejecting the null hypothesis when it’s actually false.\n",
        "An example of a Type 2 error is when a guilty person is not convicted.'''"
      ],
      "metadata": {
        "colab": {
          "base_uri": "https://localhost:8080/",
          "height": 87
        },
        "id": "QQfUe75w6NjP",
        "outputId": "83b74489-774f-4559-e876-d684b6452350"
      },
      "execution_count": 3,
      "outputs": [
        {
          "output_type": "execute_result",
          "data": {
            "text/plain": [
              "'Type 1 and Type 2 errors are two types of errors that can occur in hypothesis testing. \\nIn statistical hypothesis testing, a Type 1 error is the mistaken rejection of an actually true null hypothesis (also known as a “false positive” finding or conclusion).\\ni.e.: A Type I error means rejecting the null hypothesis when it’s actually true.\\nAn example of a Type 1 error is when an innocent person is convicted. \\nOn the other hand, a Type 2 error is the failure to reject a null hypothesis that is actually false (also known as a “false negative” finding or conclusion).\\ni.e.: A Type II error means not rejecting the null hypothesis when it’s actually false.\\nAn example of a Type 2 error is when a guilty person is not convicted.'"
            ],
            "application/vnd.google.colaboratory.intrinsic+json": {
              "type": "string"
            }
          },
          "metadata": {},
          "execution_count": 3
        }
      ]
    },
    {
      "cell_type": "code",
      "source": [
        "## Q4: Explain Bayes's theorem with an example.\n",
        "'''Bayes’ theorem describes the probability of occurrence of an event related to any condition. \n",
        "It is also considered for the case of conditional probability. Bayes theorem is also known as the formula for the probability of “causes”. \n",
        "For example: if we have to calculate the probability of taking a blue ball from the second bag out of three different bags of balls, where each bag contains three different colour balls viz. red, blue, black. \n",
        "In this case, the probability of occurrence of an event is calculated depending on other conditions is known as conditional probability. '''"
      ],
      "metadata": {
        "colab": {
          "base_uri": "https://localhost:8080/",
          "height": 70
        },
        "id": "bKfbWVyX7Jdc",
        "outputId": "7eb57c3b-a569-4c61-e719-cc528092c860"
      },
      "execution_count": 4,
      "outputs": [
        {
          "output_type": "execute_result",
          "data": {
            "text/plain": [
              "'Bayes’ theorem describes the probability of occurrence of an event related to any condition. \\nIt is also considered for the case of conditional probability. Bayes theorem is also known as the formula for the probability of “causes”. \\nFor example: if we have to calculate the probability of taking a blue ball from the second bag out of three different bags of balls, where each bag contains three different colour balls viz. red, blue, black. \\nIn this case, the probability of occurrence of an event is calculated depending on other conditions is known as conditional probability. '"
            ],
            "application/vnd.google.colaboratory.intrinsic+json": {
              "type": "string"
            }
          },
          "metadata": {},
          "execution_count": 4
        }
      ]
    },
    {
      "cell_type": "code",
      "source": [
        "## Q5: What is a confidence interval? How to calculate the confidence interval, explain with an example.\n",
        "'''n Statistics, a confidence interval is a kind of interval calculation, obtained from the observed data that holds the actual value of the unknown parameter. \n",
        "It is associated with the confidence level that quantifies the confidence level in which the interval estimates the deterministic parameter.\n",
        "Confidence Interval Formula\n",
        "The confidence interval is based on the mean and standard deviation. Thus, the formula to find CI is\n",
        "X̄ ± Zα/2 × [ σ / √n ]\n",
        "Where\n",
        "X̄ = Mean\n",
        "Z = Confidence coefficient\n",
        "α = Confidence level\n",
        "σ = Standard deviation\n",
        "N = sample space\n",
        "The value after the ± symbol is known as the margin of error.\n",
        "Eg:\n",
        "In a tree, there are hundreds of apples. You are randomly choosing 46 apples with a mean of 86 and a standard deviation of 6.2. Determine that the apples are big enough.\n",
        "Solution:\n",
        "Given: Mean, X̄ = 86\n",
        "Standard deviation, σ = 6.2\n",
        "Number of observations, n = 46\n",
        "Take the confidence level as 95%. Therefore, the value of z = 1.960 (from the table)\n",
        "The formula to find the confidence interval is\n",
        "X̄ ± Zα/2 × [ σ / √n ]\n",
        "Now, substitute the values in the formula, we get\n",
        "86 ± 1.960 × [ 6.2 / √46 ]\n",
        "86 ± 1.960 × [ 6.2 / 6.78]\n",
        "86 ± 1.960 × 0.914\n",
        "86 ± 1.79\n",
        "Here, the margin of error is 1.79\n",
        "Therefore, all the hundreds of apples are likely to be between in the range of 84. 21 and 87.79.'''"
      ],
      "metadata": {
        "colab": {
          "base_uri": "https://localhost:8080/",
          "height": 105
        },
        "id": "JObeCmgfHiuH",
        "outputId": "9985d43b-a4d4-4ae9-cdaa-2235db6eb271"
      },
      "execution_count": 5,
      "outputs": [
        {
          "output_type": "execute_result",
          "data": {
            "text/plain": [
              "'n Statistics, a confidence interval is a kind of interval calculation, obtained from the observed data that holds the actual value of the unknown parameter. \\nIt is associated with the confidence level that quantifies the confidence level in which the interval estimates the deterministic parameter.\\nConfidence Interval Formula\\nThe confidence interval is based on the mean and standard deviation. Thus, the formula to find CI is\\nX̄ ± Zα/2 × [ σ / √n ]\\nWhere\\nX̄ = Mean\\nZ = Confidence coefficient\\nα = Confidence level\\nσ = Standard deviation\\nN = sample space\\nThe value after the ± symbol is known as the margin of error.\\nEg:\\nIn a tree, there are hundreds of apples. You are randomly choosing 46 apples with a mean of 86 and a standard deviation of 6.2. Determine that the apples are big enough.\\nSolution:\\nGiven: Mean, X̄ = 86\\nStandard deviation, σ = 6.2\\nNumber of observations, n = 46\\nTake the confidence level as 95%. Therefore, the value of z = 1.960 (from the table)\\nThe formula to find the confidence interval is\\nX̄ ± Zα/2 × [ σ / √n ]\\nNow, substitute the values in the formula, we get\\n86 ± 1.960 × [ 6.2 / √46 ]\\n86 ± 1.960 × [ 6.2 / 6.78]\\n86 ± 1.960 × 0.914\\n86 ± 1.79\\nHere, the margin of error is 1.79\\nTherefore, all the hundreds of apples are likely to be between in the range of 84. 21 and 87.79.'"
            ],
            "application/vnd.google.colaboratory.intrinsic+json": {
              "type": "string"
            }
          },
          "metadata": {},
          "execution_count": 5
        }
      ]
    },
    {
      "cell_type": "code",
      "source": [
        "## Q6. Use Bayes' Theorem to calculate the probability of an event occurring given prior knowledge of the event's probability and new evidence. Provide a sample problem and solution.\n",
        "'''Suppose that a certain disease affects 1% of the population. A test for the disease is 95% accurate, meaning that the probability of a false positive is 5%. \n",
        "If a patient tests positive, what is the probability that they actually have the disease?\n",
        "\n",
        "Using Bayes’ Theorem, we can calculate the probability of a patient having the disease given a positive test result. \n",
        "Let A be the event that the patient has the disease, and B be the event that the patient tests positive. Then, we have:\n",
        "P(A|B) = P(B|A) * P(A) / P(B)\n",
        "where P(A) is the prior probability of the patient having the disease (1%), \n",
        "P(B|A) is the probability of testing positive given that the patient has the disease (95%), and P(B) is the probability of testing positive overall.\n",
        "To calculate P(B), we use the law of total probability:\n",
        "P(B) = P(B|A) * P(A) + P(B|not A) * P(not A)\n",
        "where P(B|not A) is the probability of testing positive given that the patient does not have the disease (false positive rate, 5%), and P(not A) is the probability of the patient not having the disease (99%).\n",
        "P(A|B) = 0.95 * 0.01 / (0.95 * 0.01 + 0.05 * 0.99) = 0.161\n",
        "So, given a positive test result, the probability of the patient actually having the disease is only 16.1%.'''"
      ],
      "metadata": {
        "colab": {
          "base_uri": "https://localhost:8080/",
          "height": 105
        },
        "id": "l6lqsXA1IdOZ",
        "outputId": "50e92e70-a011-4310-9db4-59b49f0aae41"
      },
      "execution_count": 6,
      "outputs": [
        {
          "output_type": "execute_result",
          "data": {
            "text/plain": [
              "'Suppose that a certain disease affects 1% of the population. A test for the disease is 95% accurate, meaning that the probability of a false positive is 5%. \\nIf a patient tests positive, what is the probability that they actually have the disease?\\n\\nUsing Bayes’ Theorem, we can calculate the probability of a patient having the disease given a positive test result. \\nLet A be the event that the patient has the disease, and B be the event that the patient tests positive. Then, we have:\\nP(A|B) = P(B|A) * P(A) / P(B)\\nwhere P(A) is the prior probability of the patient having the disease (1%), \\nP(B|A) is the probability of testing positive given that the patient has the disease (95%), and P(B) is the probability of testing positive overall.\\nTo calculate P(B), we use the law of total probability:\\nP(B) = P(B|A) * P(A) + P(B|not A) * P(not A)\\nwhere P(B|not A) is the probability of testing positive given that the patient does not have the disease (false positive rate, 5%), and P(not A) is the probability of the patient not having the disease (99%).\\nP(A|B) = 0.95 * 0.01 / (0.95 * 0.01 + 0.05 * 0.99) = 0.161\\nSo, given a positive test result, the probability of the patient actually having the disease is only 16.1%.'"
            ],
            "application/vnd.google.colaboratory.intrinsic+json": {
              "type": "string"
            }
          },
          "metadata": {},
          "execution_count": 6
        }
      ]
    },
    {
      "cell_type": "code",
      "source": [
        "## Q7. Calculate the 95% confidence interval for a sample of data with a mean of 50 and a standard deviation of 5. Interpret the results.\n",
        "'''The formula for calculating the 95% confidence interval is:\n",
        "CI = X̄ ± Zα/2 * σ/√n\n",
        "where CI is the confidence interval, X̄ is the sample mean, Zα/2 is the Z-score for the level of confidence, σ is the population standard deviation, and n is the sample size.\n",
        "For a 95% confidence interval, Zα/2 is 1.96.\n",
        "Substituting the values given in the problem, we get:\n",
        "CI = 50 ± 1.96 * 5/√n\n",
        "Since the sample size is not given, we cannot calculate the exact confidence interval. However, we can interpret the results for different sample sizes.\n",
        "For a sample size of 10, the confidence interval is approximately 40.2 to 59.8.\n",
        "For a sample size of 100, the confidence interval is approximately 47.1 to 52.9.\n",
        "The confidence interval represents the range of values within which we can be 95% confident that the true population mean lies. \n",
        "In other words, if we were to take many samples of the same size from the same population and calculate the 95% confidence interval for each sample,\n",
        "we would expect 95% of those intervals to contain the true population mean.'''"
      ],
      "metadata": {
        "colab": {
          "base_uri": "https://localhost:8080/",
          "height": 105
        },
        "id": "G29uIYtHIrP6",
        "outputId": "0b4dff84-76e5-4632-d3d0-dad5245a8f2d"
      },
      "execution_count": 7,
      "outputs": [
        {
          "output_type": "execute_result",
          "data": {
            "text/plain": [
              "'The formula for calculating the 95% confidence interval is:\\nCI = X̄ ± Zα/2 * σ/√n\\nwhere CI is the confidence interval, X̄ is the sample mean, Zα/2 is the Z-score for the level of confidence, σ is the population standard deviation, and n is the sample size.\\nFor a 95% confidence interval, Zα/2 is 1.96.\\nSubstituting the values given in the problem, we get:\\nCI = 50 ± 1.96 * 5/√n\\nSince the sample size is not given, we cannot calculate the exact confidence interval. However, we can interpret the results for different sample sizes.\\nFor a sample size of 10, the confidence interval is approximately 40.2 to 59.8.\\nFor a sample size of 100, the confidence interval is approximately 47.1 to 52.9.\\nThe confidence interval represents the range of values within which we can be 95% confident that the true population mean lies. \\nIn other words, if we were to take many samples of the same size from the same population and calculate the 95% confidence interval for each sample,\\nwe would expect 95% of those intervals to contain the true population mean.'"
            ],
            "application/vnd.google.colaboratory.intrinsic+json": {
              "type": "string"
            }
          },
          "metadata": {},
          "execution_count": 7
        }
      ]
    },
    {
      "cell_type": "code",
      "source": [
        "## Q8. What is the margin of error in a confidence interval? How does sample size affect the margin of error? Provide an example of a scenario where a larger sample size would result in a smaller margin of error.\n",
        "'''The margin of error is half the width of the confidence interval 12. The larger the sample size, the smaller the margin of error 1. \n",
        "This is because a larger sample size reduces the variability of the sample mean, which in turn reduces the standard error of the mean.\n",
        "i.e.: There is an inverse relationship between the sample size and the margin of error. \n",
        "Eg:\n",
        "For example, suppose we collect a simple random sample of data with the following information:\n",
        "p: 0.6\n",
        "n: 25\n",
        "Here’s how to calculate a 95% confidence interval for the population proportion:\n",
        "Confidence Interval = p  ±  z*√p(1-p) / n\n",
        "Confidence Interval = .6 ±  1.96*√.6(1-.6) / 25 = .6 ± 0.192\n",
        "Confidence Interval = [.408, .792]\n",
        "Now consider if we instead used a sample size of 200. Here’s how we would calculate the 95% confidence interval for the population proportion:\n",
        "Confidence Interval = p  ±  z*√p(1-p) / n\n",
        "Confidence Interval = .6 ±  1.96*√.6(1-.6) / 200 = .6 ± 0.068\n",
        "Confidence Interval = [.532, .668]\n",
        "Notice that just by increasing the sample size we were able to reduce the margin of error and produce a much more narrow confidence interval.'''"
      ],
      "metadata": {
        "colab": {
          "base_uri": "https://localhost:8080/",
          "height": 105
        },
        "id": "Gn9GxcHTJZY7",
        "outputId": "bd348d51-d3ea-49c3-f6c1-4ea1e48ee032"
      },
      "execution_count": 8,
      "outputs": [
        {
          "output_type": "execute_result",
          "data": {
            "text/plain": [
              "'The margin of error is half the width of the confidence interval 12. The larger the sample size, the smaller the margin of error 1. \\nThis is because a larger sample size reduces the variability of the sample mean, which in turn reduces the standard error of the mean.\\ni.e.: There is an inverse relationship between the sample size and the margin of error. \\nEg:\\nFor example, suppose we collect a simple random sample of data with the following information:\\np: 0.6\\nn: 25\\nHere’s how to calculate a 95% confidence interval for the population proportion:\\nConfidence Interval = p  ±  z*√p(1-p) / n\\nConfidence Interval = .6 ±  1.96*√.6(1-.6) / 25 = .6 ± 0.192\\nConfidence Interval = [.408, .792]\\nNow consider if we instead used a sample size of 200. Here’s how we would calculate the 95% confidence interval for the population proportion:\\nConfidence Interval = p  ±  z*√p(1-p) / n\\nConfidence Interval = .6 ±  1.96*√.6(1-.6) / 200 = .6 ± 0.068\\nConfidence Interval = [.532, .668]\\nNotice that just by increasing the sample size we were able to reduce the margin of error and produce a much more narrow confidence interval.'"
            ],
            "application/vnd.google.colaboratory.intrinsic+json": {
              "type": "string"
            }
          },
          "metadata": {},
          "execution_count": 8
        }
      ]
    },
    {
      "cell_type": "code",
      "source": [
        "## Q9. Calculate the z-score for a data point with a value of 75, a population mean of 70, and a population standard deviation of 5. Interpret the results.\n",
        "'''The formula to calculate the z-score is:\n",
        "z = (x - μ) / σ\n",
        "where x is the data point, μ is the population mean, and σ is the population standard deviation.\n",
        "Substituting the values in the formula, we get:\n",
        "z = (75 - 70) / 5 = 1\n",
        "The z-score is 1.\n",
        "The z-score indicates that the data point is 1 standard deviation above the mean. Since the z-score is positive, the data point is above the mean. \n",
        "The larger the z-score, the farther the data point is from the mean. A z-score of 1 indicates that the data point is 1 standard deviation above the mean.'''"
      ],
      "metadata": {
        "colab": {
          "base_uri": "https://localhost:8080/",
          "height": 70
        },
        "id": "deDDoIAjKb3T",
        "outputId": "d2a851f8-d173-4798-dcc6-a29313c805fb"
      },
      "execution_count": 9,
      "outputs": [
        {
          "output_type": "execute_result",
          "data": {
            "text/plain": [
              "'The formula to calculate the z-score is:\\nz = (x - μ) / σ\\nwhere x is the data point, μ is the population mean, and σ is the population standard deviation.\\nSubstituting the values in the formula, we get:\\nz = (75 - 70) / 5 = 1\\nThe z-score is 1.\\nThe z-score indicates that the data point is 1 standard deviation above the mean. Since the z-score is positive, the data point is above the mean. \\nThe larger the z-score, the farther the data point is from the mean. A z-score of 1 indicates that the data point is 1 standard deviation above the mean.'"
            ],
            "application/vnd.google.colaboratory.intrinsic+json": {
              "type": "string"
            }
          },
          "metadata": {},
          "execution_count": 9
        }
      ]
    },
    {
      "cell_type": "code",
      "source": [
        "'''Q10. In a study of the effectiveness of a new weight loss drug, a sample of 50 participants lost an average of 6 pounds with a standard deviation of 2.5 pounds. Conduct a hypothesis test to determine if the drug is\n",
        "significantly effective at a 95% confidence level using a t-test.'''\n",
        "'''The null hypothesis is that the drug is not significantly effective, and the alternative hypothesis is that the drug is significantly effective.\n",
        "The test statistic is calculated as follows:\n",
        "t = (x̄ - μ) / (s / sqrt(n))\n",
        "where x̄ is the sample mean, μ is the hypothesized population mean, s is the sample standard deviation, and n is the sample size.\n",
        "In this case, x̄ = 6, μ = 0, s = 2.5, and n = 50.\n",
        "The t-value is calculated as follows:\n",
        "t = (6 - 0) / (2.5 / sqrt(50)) = 12\n",
        "The degrees of freedom for this test are n - 1 = 49.\n",
        "Using a t-table, we find that the critical value for a two-tailed test with 49 degrees of freedom and a 95% confidence level is approximately 2.009.\n",
        "Since our calculated t-value of 12 is greater than the critical value of 2.009, we reject the null hypothesis and conclude that the drug is significantly effective at a 95% confidence level.\n",
        "Therefore, we can say that the drug is effective in weight loss.'''"
      ],
      "metadata": {
        "colab": {
          "base_uri": "https://localhost:8080/",
          "height": 105
        },
        "id": "iRFkNTCxLKnp",
        "outputId": "d339fe64-e94b-4a0b-b661-2a0d70068a54"
      },
      "execution_count": 10,
      "outputs": [
        {
          "output_type": "execute_result",
          "data": {
            "text/plain": [
              "'The null hypothesis is that the drug is not significantly effective, and the alternative hypothesis is that the drug is significantly effective.\\nThe test statistic is calculated as follows:\\nt = (x̄ - μ) / (s / sqrt(n))\\nwhere x̄ is the sample mean, μ is the hypothesized population mean, s is the sample standard deviation, and n is the sample size.\\nIn this case, x̄ = 6, μ = 0, s = 2.5, and n = 50.\\nThe t-value is calculated as follows:\\nt = (6 - 0) / (2.5 / sqrt(50)) = 12\\nThe degrees of freedom for this test are n - 1 = 49.\\nUsing a t-table, we find that the critical value for a two-tailed test with 49 degrees of freedom and a 95% confidence level is approximately 2.009.\\nSince our calculated t-value of 12 is greater than the critical value of 2.009, we reject the null hypothesis and conclude that the drug is significantly effective at a 95% confidence level.\\nTherefore, we can say that the drug is effective in weight loss.'"
            ],
            "application/vnd.google.colaboratory.intrinsic+json": {
              "type": "string"
            }
          },
          "metadata": {},
          "execution_count": 10
        }
      ]
    },
    {
      "cell_type": "code",
      "source": [
        "## Q11. In a survey of 500 people, 65% reported being satisfied with their current job. Calculate the 95% confidence interval for the true proportion of people who are satisfied with their job.\n",
        "'''To calculate the 95% confidence interval for the true proportion of people who are satisfied with their job, we can use the following formula:\n",
        "CI = p ± zsqrt((p(1-p))/n)\n",
        "where:\n",
        "CI is the confidence interval\n",
        "p is the sample proportion\n",
        "z is the z-score associated with the desired confidence level (95% in this case)\n",
        "n is the sample size\n",
        "Substituting the given values, we get:\n",
        "CI = 0.65 ± 1.96sqrt((0.65(1-0.65))/500)\n",
        "CI = 0.65 ± 0.062\n",
        "CI = (0.588, 0.712)\n",
        "Therefore, we can say with 95% confidence that the true proportion of people who are satisfied with their job is between 58.8% and 71.2%.'''"
      ],
      "metadata": {
        "colab": {
          "base_uri": "https://localhost:8080/",
          "height": 70
        },
        "id": "CHpN0eHeLVTh",
        "outputId": "87d80701-132a-4570-8e95-ee4cc5cb2963"
      },
      "execution_count": 11,
      "outputs": [
        {
          "output_type": "execute_result",
          "data": {
            "text/plain": [
              "'To calculate the 95% confidence interval for the true proportion of people who are satisfied with their job, we can use the following formula:\\nCI = p ± zsqrt((p(1-p))/n)\\nwhere:\\nCI is the confidence interval\\np is the sample proportion\\nz is the z-score associated with the desired confidence level (95% in this case)\\nn is the sample size\\nSubstituting the given values, we get:\\nCI = 0.65 ± 1.96sqrt((0.65(1-0.65))/500)\\nCI = 0.65 ± 0.062\\nCI = (0.588, 0.712)\\nTherefore, we can say with 95% confidence that the true proportion of people who are satisfied with their job is between 58.8% and 71.2%.'"
            ],
            "application/vnd.google.colaboratory.intrinsic+json": {
              "type": "string"
            }
          },
          "metadata": {},
          "execution_count": 11
        }
      ]
    },
    {
      "cell_type": "code",
      "source": [
        "'''Q12. A researcher is testing the effectiveness of two different teaching methods on student performance.Sample A has a mean score of 85 with a standard deviation of 6, while sample B has a mean score of 82\n",
        "with a standard deviation of 5. Conduct a hypothesis test to determine if the two teaching methods have a significant difference in student performance using a t-test with a significance level of 0.01.'''\n",
        "'''To conduct a hypothesis test to determine if the two teaching methods have a significant difference in student performance using a t-test with a significance level of 0.01, we can follow the following steps:\n",
        "1.State the null and alternative hypotheses.\n",
        "2.Determine the level of significance.\n",
        "3.Calculate the test statistic.\n",
        "4.Determine the critical value.\n",
        "5.Compare the test statistic with the critical value.\n",
        "6.Make a decision and interpret the results.\n",
        "\n",
        "Step 1:\n",
        "The null hypothesis is that there is no significant difference between the two teaching methods. \n",
        "The alternative hypothesis is that there is a significant difference between the two teaching methods.\n",
        "Step 2:\n",
        "The level of significance is 0.01.\n",
        "Step 3:\n",
        "The test statistic can be calculated using the formula:\n",
        "t = (x1 - x2) / sqrt((s1^2 / n1) + (s2^2 / n2))\n",
        "where x1 and x2 are the sample means, s1 and s2 are the sample standard deviations, and n1 and n2 are the sample sizes.\n",
        "t = (85 - 82) / sqrt((6^2 / 1) + (5^2 / 1)) t = 3 / sqrt(61) \n",
        "t = 0.387\n",
        "Step4:\n",
        "The critical value can be found using a t-distribution table with degrees of freedom equal to the sum of the sample sizes minus 2 (df = n1 + n2 - 2) and a significance level of 0.01. \n",
        "Degrees of freedom are 2.\n",
        "The critical value is 4.303.\n",
        "Step 5:\n",
        "Since the test statistic (0.387) is less than the critical value (4.303), we fail to reject the null hypothesis. \n",
        "Step 6:\n",
        "Therefore, we can conclude that there is no significant difference between the two teaching methods. '''"
      ],
      "metadata": {
        "colab": {
          "base_uri": "https://localhost:8080/",
          "height": 105
        },
        "id": "r73X-57SLVYo",
        "outputId": "c2b84b6f-2b73-4f61-ada8-848434d096cb"
      },
      "execution_count": 12,
      "outputs": [
        {
          "output_type": "execute_result",
          "data": {
            "text/plain": [
              "'To conduct a hypothesis test to determine if the two teaching methods have a significant difference in student performance using a t-test with a significance level of 0.01, we can follow the following steps:\\n1.State the null and alternative hypotheses.\\n2.Determine the level of significance.\\n3.Calculate the test statistic.\\n4.Determine the critical value.\\n5.Compare the test statistic with the critical value.\\n6.Make a decision and interpret the results.\\n\\nStep 1:\\nThe null hypothesis is that there is no significant difference between the two teaching methods. \\nThe alternative hypothesis is that there is a significant difference between the two teaching methods.\\nStep 2:\\nThe level of significance is 0.01.\\nStep 3:\\nThe test statistic can be calculated using the formula:\\nt = (x1 - x2) / sqrt((s1^2 / n1) + (s2^2 / n2))\\nwhere x1 and x2 are the sample means, s1 and s2 are the sample standard deviations, and n1 and n2 are the sample sizes.\\nt = (85 - 82) / sqrt((6^2 / 1) + (5^2 / 1)) t = 3 / sqrt(61) \\nt = 0.387\\nStep4:\\nThe critical value can be found using a t-distribution table with degrees of freedom equal to the sum of the sample sizes minus 2 (df = n1 + n2 - 2) and a significance level of 0.01. \\nDegrees of freedom are 2.\\nThe critical value is 4.303.\\nStep 5:\\nSince the test statistic (0.387) is less than the critical value (4.303), we fail to reject the null hypothesis. \\nStep 6:\\nTherefore, we can conclude that there is no significant difference between the two teaching methods. '"
            ],
            "application/vnd.google.colaboratory.intrinsic+json": {
              "type": "string"
            }
          },
          "metadata": {},
          "execution_count": 12
        }
      ]
    },
    {
      "cell_type": "code",
      "source": [
        "## Q13. A population has a mean of 60 and a standard deviation of 8. A sample of 50 observations has a mean of 65. Calculate the 90% confidence interval for the true population mean.\n",
        "'''The formula for calculating the confidence interval is:\n",
        "CI = X̄ ± Zα/2 * σ/√n\n",
        "Where:\n",
        "X̄ is the sample mean\n",
        "Zα/2 is the z-score for the level of confidence\n",
        "σ is the population standard deviation\n",
        "n is the sample size\n",
        "Substituting the given values, we get:\n",
        "CI = 65 ± Zα/2 * 8/√50\n",
        "At 90% confidence level, the z-score for α/2 is 1.645. Substituting this value, we get:\n",
        "CI = 65 ± 1.645 * 8/√50\n",
        "Simplifying the expression, we get:\n",
        "CI = [62.2, 67.8]\n",
        "Therefore, the 90% confidence interval for the true population mean is [62.2, 67.8].'''"
      ],
      "metadata": {
        "colab": {
          "base_uri": "https://localhost:8080/",
          "height": 70
        },
        "id": "EAAvpiRtLVfp",
        "outputId": "adf2694f-69c4-4f1c-b16a-f950e5838c56"
      },
      "execution_count": 13,
      "outputs": [
        {
          "output_type": "execute_result",
          "data": {
            "text/plain": [
              "'The formula for calculating the confidence interval is:\\nCI = X̄ ± Zα/2 * σ/√n\\nWhere:\\nX̄ is the sample mean\\nZα/2 is the z-score for the level of confidence\\nσ is the population standard deviation\\nn is the sample size\\nSubstituting the given values, we get:\\nCI = 65 ± Zα/2 * 8/√50\\nAt 90% confidence level, the z-score for α/2 is 1.645. Substituting this value, we get:\\nCI = 65 ± 1.645 * 8/√50\\nSimplifying the expression, we get:\\nCI = [62.2, 67.8]\\nTherefore, the 90% confidence interval for the true population mean is [62.2, 67.8].'"
            ],
            "application/vnd.google.colaboratory.intrinsic+json": {
              "type": "string"
            }
          },
          "metadata": {},
          "execution_count": 13
        }
      ]
    },
    {
      "cell_type": "code",
      "source": [
        "'''Q14. In a study of the effects of caffeine on reaction time, a sample of 30 participants had an average reaction time of 0.25 seconds with a standard deviation of 0.05 seconds. Conduct a hypothesis test to\n",
        "determine if the caffeine has a significant effect on reaction time at a 90% confidence level using a t-test.'''\n",
        "'''Step 1:\n",
        "The null hypothesis is that there is no significant difference between the reaction time of the participants who consumed caffeine and those who did not. \n",
        "The alternative hypothesis is that  is greater than the critical t-value.\n",
        "Step 2:\n",
        "For a 90% confidence level, alpha is 0.10 and df is 29.\n",
        "Step 3:\n",
        "Calculate the t-value using the formula: \n",
        "t = (x̄- μ) / (s / √n)=(0.25-0)/(0.05/ √30)=27.47\n",
        "Step 4:\n",
        "Determine the critical t-value using a t-distribution table with df = 29 and alpha = 0.10.\n",
        "critical t-value=1.311\n",
        "Step 5:\n",
        "If the calculated t-value is greater than the critical t-value, reject the null hypothesis. Otherwise, fail to reject the null hypothesis.\n",
        "t-value=27.38\n",
        "since t-value=27.38  is greater than the critical t-value=1.311, we reject the null hypothesis.\n",
        "Step 6:\n",
        "There is a significant difference between the reaction time of the participants who consumed caffeine and those who did not.'''"
      ],
      "metadata": {
        "colab": {
          "base_uri": "https://localhost:8080/",
          "height": 105
        },
        "id": "6C6z0tviLVnx",
        "outputId": "866a7391-aba8-4ca7-90d7-42bf37faeb5b"
      },
      "execution_count": 14,
      "outputs": [
        {
          "output_type": "execute_result",
          "data": {
            "text/plain": [
              "'Step 1:\\nThe null hypothesis is that there is no significant difference between the reaction time of the participants who consumed caffeine and those who did not. \\nThe alternative hypothesis is that  is greater than the critical t-value.\\nStep 2:\\nFor a 90% confidence level, alpha is 0.10 and df is 29.\\nStep 3:\\nCalculate the t-value using the formula: \\nt = (x̄- μ) / (s / √n)=(0.25-0)/(0.05/ √30)=27.47\\nStep 4:\\nDetermine the critical t-value using a t-distribution table with df = 29 and alpha = 0.10.\\ncritical t-value=1.311\\nStep 5:\\nIf the calculated t-value is greater than the critical t-value, reject the null hypothesis. Otherwise, fail to reject the null hypothesis.\\nt-value=27.38\\nsince t-value=27.38  is greater than the critical t-value=1.311, we reject the null hypothesis.\\nStep 6:\\nThere is a significant difference between the reaction time of the participants who consumed caffeine and those who did not.'"
            ],
            "application/vnd.google.colaboratory.intrinsic+json": {
              "type": "string"
            }
          },
          "metadata": {},
          "execution_count": 14
        }
      ]
    }
  ]
}