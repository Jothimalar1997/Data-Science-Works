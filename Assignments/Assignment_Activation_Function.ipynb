{
  "nbformat": 4,
  "nbformat_minor": 0,
  "metadata": {
    "colab": {
      "provenance": []
    },
    "kernelspec": {
      "name": "python3",
      "display_name": "Python 3"
    },
    "language_info": {
      "name": "python"
    }
  },
  "cells": [
    {
      "cell_type": "code",
      "execution_count": 1,
      "metadata": {
        "colab": {
          "base_uri": "https://localhost:8080/",
          "height": 90
        },
        "id": "3CuDjrvrZ2Eh",
        "outputId": "ad90febd-a654-485c-943c-7d41384c8394"
      },
      "outputs": [
        {
          "output_type": "execute_result",
          "data": {
            "text/plain": [
              "'In the context of artificial neural networks, an activation function is a mathematical function that determines the output of a neuron. \\nIt decides whether a neuron should be activated or not by calculating the weighted sum and further adding bias to it. \\nThe purpose of the activation function is to introduce non-linearity into the output of a neuron.\\nActivation functions also have a major effect on the neural network’s ability to converge and the convergence speed, or in some cases, activation functions might prevent neural networks from \\nconverging in the first place.\\nThere are several types of activation functions used in neural networks such as Sigmoid, Tanh, ReLU (Rectified Linear Unit), Leaky ReLU, Softmax and more.'"
            ],
            "application/vnd.google.colaboratory.intrinsic+json": {
              "type": "string"
            }
          },
          "metadata": {},
          "execution_count": 1
        }
      ],
      "source": [
        "## Q1. What is an activation function in the context of artificial neural networks?\n",
        "'''In the context of artificial neural networks, an activation function is a mathematical function that determines the output of a neuron.\n",
        "It decides whether a neuron should be activated or not by calculating the weighted sum and further adding bias to it.\n",
        "The purpose of the activation function is to introduce non-linearity into the output of a neuron.\n",
        "Activation functions also have a major effect on the neural network’s ability to converge and the convergence speed, or in some cases, activation functions might prevent neural networks from\n",
        "converging in the first place.\n",
        "There are several types of activation functions used in neural networks such as Sigmoid, Tanh, ReLU (Rectified Linear Unit), Leaky ReLU, Softmax and more.'''"
      ]
    },
    {
      "cell_type": "code",
      "source": [
        "## Q2. What are some common types of activation functions used in neural networks?\n",
        "'''Some common types of activation functions used in neural networks are Sigmoid, Tanh, ReLU (Rectified Linear Unit), Leaky ReLU, Softmax and more .'''"
      ],
      "metadata": {
        "colab": {
          "base_uri": "https://localhost:8080/",
          "height": 36
        },
        "id": "xgvDdXU_aQzO",
        "outputId": "67f34ffe-fce3-4af6-f723-8861766974e6"
      },
      "execution_count": 2,
      "outputs": [
        {
          "output_type": "execute_result",
          "data": {
            "text/plain": [
              "'Some common types of activation functions used in neural networks are Sigmoid, Tanh, ReLU (Rectified Linear Unit), Leaky ReLU, Softmax and more .'"
            ],
            "application/vnd.google.colaboratory.intrinsic+json": {
              "type": "string"
            }
          },
          "metadata": {},
          "execution_count": 2
        }
      ]
    },
    {
      "cell_type": "code",
      "source": [
        "## Q3. How do activation functions affect the training process and performance of a neural network?\n",
        "'''Activation functions are a critical part of the design of a neural network.\n",
        "The choice of activation function in the hidden layer will control how well the network model learns the training dataset.\n",
        "The choice of activation function in the output layer will define the type of predictions the model can make.\n",
        "Activation functions add a non-linear property to the neural network, which allows the network to model more complex data.\n",
        "In general, ReLU is used as an activation function in the hidden layers. Regarding the output layer, we must always consider the expected value range of the predictions.\n",
        "Different activation functions have different effects on the training process and performance of a neural network.\n",
        "For example, Sigmoid and Tanh functions are prone to vanishing gradients which can slow down or even stop training.\n",
        "ReLU is computationally efficient and has been shown to work well in practice.\n",
        "Leaky ReLU is an improved version of ReLU that solves some of its problems1. Softmax is used for multi-class classification problems.'''"
      ],
      "metadata": {
        "colab": {
          "base_uri": "https://localhost:8080/",
          "height": 109
        },
        "id": "kC6s3eeZaQ1-",
        "outputId": "c04bba5b-a39c-4a4d-c3b4-45a926773767"
      },
      "execution_count": 3,
      "outputs": [
        {
          "output_type": "execute_result",
          "data": {
            "text/plain": [
              "'Activation functions are a critical part of the design of a neural network. \\nThe choice of activation function in the hidden layer will control how well the network model learns the training dataset. \\nThe choice of activation function in the output layer will define the type of predictions the model can make.\\nActivation functions add a non-linear property to the neural network, which allows the network to model more complex data. \\nIn general, ReLU is used as an activation function in the hidden layers. Regarding the output layer, we must always consider the expected value range of the predictions.\\nDifferent activation functions have different effects on the training process and performance of a neural network. \\nFor example, Sigmoid and Tanh functions are prone to vanishing gradients which can slow down or even stop training. \\nReLU is computationally efficient and has been shown to work well in practice. \\nLeaky ReLU is an improved version of ReLU that solves some of its problems1. Softmax is used for multi-class classification problems.'"
            ],
            "application/vnd.google.colaboratory.intrinsic+json": {
              "type": "string"
            }
          },
          "metadata": {},
          "execution_count": 3
        }
      ]
    },
    {
      "cell_type": "code",
      "source": [
        "## Q4. How does the sigmoid activation function work? What are its advantages and disadvantages?\n",
        "'''The sigmoid activation function is a mathematical function that maps any input value to a value between 0 and 1.\n",
        "It is used in neural networks to introduce non-linearity in the output of a neuron. The sigmoid function is defined as follows:\n",
        "f(x)=1+e−x1​\n",
        "The sigmoid function has some advantages such as it gives smooth gradient, thereby preventing jumps in output values.\n",
        "However, one of the major disadvantages of using sigmoid is the problem of vanishing gradient.\n",
        "For a very high or very low value of x, the derivative of the sigmoid is very low. The highest value of the derivative is 0.25.'''"
      ],
      "metadata": {
        "colab": {
          "base_uri": "https://localhost:8080/",
          "height": 72
        },
        "id": "KDI-_MwzaQ4o",
        "outputId": "b1c51dd8-9b14-4849-accc-914e12ae00c5"
      },
      "execution_count": 4,
      "outputs": [
        {
          "output_type": "execute_result",
          "data": {
            "text/plain": [
              "'The sigmoid activation function is a mathematical function that maps any input value to a value between 0 and 1. \\nIt is used in neural networks to introduce non-linearity in the output of a neuron. The sigmoid function is defined as follows:\\nf(x)=1+e−x1\\u200b\\nThe sigmoid function has some advantages such as it gives smooth gradient, thereby preventing jumps in output values. \\nHowever, one of the major disadvantages of using sigmoid is the problem of vanishing gradient. \\nFor a very high or very low value of x, the derivative of the sigmoid is very low. The highest value of the derivative is 0.25.'"
            ],
            "application/vnd.google.colaboratory.intrinsic+json": {
              "type": "string"
            }
          },
          "metadata": {},
          "execution_count": 4
        }
      ]
    },
    {
      "cell_type": "code",
      "source": [
        "## Q5.What is the rectified linear unit (ReLU) activation function? How does it differ from the sigmoid function?\n",
        "'''The rectified linear unit (ReLU) activation function is a piecewise linear function that returns the input if it is positive, and zero otherwise.\n",
        "It is defined as follows:\n",
        "f(x)=max(0,x)\n",
        "ReLU is computationally efficient and has been shown to work well in practice.\n",
        "It is used as an activation function in the hidden layers of neural networks.\n",
        "ReLU has some advantages such as it does not suffer from the vanishing gradient problem that sigmoid and tanh functions have.\n",
        "The sigmoid function maps any input value to a value between 0 and 1. It is used in neural networks to introduce non-linearity in the output of a neuron.\n",
        "The sigmoid function has some advantages such as it gives smooth gradient, thereby preventing jumps in output values.\n",
        "However, one of the major disadvantages of using sigmoid is the problem of vanishing gradient.\n",
        "For a very high or very low value of x, the derivative of the sigmoid is very low. The highest value of the derivative is 0.25.'''"
      ],
      "metadata": {
        "colab": {
          "base_uri": "https://localhost:8080/",
          "height": 109
        },
        "id": "jXI_P_uVaQ60",
        "outputId": "95852db7-1422-4565-b0ea-345667e3f9fb"
      },
      "execution_count": 5,
      "outputs": [
        {
          "output_type": "execute_result",
          "data": {
            "text/plain": [
              "'The rectified linear unit (ReLU) activation function is a piecewise linear function that returns the input if it is positive, and zero otherwise. \\nIt is defined as follows:\\nf(x)=max(0,x)\\nReLU is computationally efficient and has been shown to work well in practice. \\nIt is used as an activation function in the hidden layers of neural networks. \\nReLU has some advantages such as it does not suffer from the vanishing gradient problem that sigmoid and tanh functions have.\\nThe sigmoid function maps any input value to a value between 0 and 1. It is used in neural networks to introduce non-linearity in the output of a neuron. \\nThe sigmoid function has some advantages such as it gives smooth gradient, thereby preventing jumps in output values. \\nHowever, one of the major disadvantages of using sigmoid is the problem of vanishing gradient. \\nFor a very high or very low value of x, the derivative of the sigmoid is very low. The highest value of the derivative is 0.25.'"
            ],
            "application/vnd.google.colaboratory.intrinsic+json": {
              "type": "string"
            }
          },
          "metadata": {},
          "execution_count": 5
        }
      ]
    },
    {
      "cell_type": "code",
      "source": [
        "## Q6. What are the benefits of using the ReLU activation function over the sigmoid function?\n",
        "'''ReLU has some advantages over the sigmoid function. One of the major advantages of using ReLU is that it does not suffer from the vanishing gradient problem that sigmoid and tanh functions have.\n",
        "The vanishing gradient problem occurs when the gradient becomes very small during backpropagation, which can slow down or even stop training.\n",
        "Another advantage of using ReLU is that it is computationally efficient and has been shown to work well in practice.'''"
      ],
      "metadata": {
        "colab": {
          "base_uri": "https://localhost:8080/",
          "height": 72
        },
        "id": "bjwgbvHtaRBO",
        "outputId": "68561eed-036a-4fd0-d7ab-2fb33b2a8498"
      },
      "execution_count": 6,
      "outputs": [
        {
          "output_type": "execute_result",
          "data": {
            "text/plain": [
              "'ReLU has some advantages over the sigmoid function. One of the major advantages of using ReLU is that it does not suffer from the vanishing gradient problem that sigmoid and tanh functions have. \\nThe vanishing gradient problem occurs when the gradient becomes very small during backpropagation, which can slow down or even stop training.\\nAnother advantage of using ReLU is that it is computationally efficient and has been shown to work well in practice.'"
            ],
            "application/vnd.google.colaboratory.intrinsic+json": {
              "type": "string"
            }
          },
          "metadata": {},
          "execution_count": 6
        }
      ]
    },
    {
      "cell_type": "code",
      "source": [
        "## Q7. Explain the concept of \"leaky ReLU\" and how it addresses the vanishing gradient problem.\n",
        "'''Leaky ReLU is a variant of the ReLU activation function that addresses the vanishing gradient problem.\n",
        "The vanishing gradient problem occurs when the gradient becomes very small during backpropagation, which can slow down or even stop training.\n",
        "Leaky ReLU is defined as follows:\n",
        "f(x)=max(αx,x)\n",
        "where α is a small positive constant (e.g., 0.01).\n",
        "Leaky ReLU introduces a small slope for negative values of x, which allows gradients to flow backwards through the network during backpropagation.\n",
        "This helps to prevent the vanishing gradient problem.'''"
      ],
      "metadata": {
        "colab": {
          "base_uri": "https://localhost:8080/",
          "height": 72
        },
        "id": "V5Id-FEObfn3",
        "outputId": "f6d8ea2a-c371-4227-da6d-b25a3c901d61"
      },
      "execution_count": 7,
      "outputs": [
        {
          "output_type": "execute_result",
          "data": {
            "text/plain": [
              "'Leaky ReLU is a variant of the ReLU activation function that addresses the vanishing gradient problem. \\nThe vanishing gradient problem occurs when the gradient becomes very small during backpropagation, which can slow down or even stop training.\\nLeaky ReLU is defined as follows:\\nf(x)=max(αx,x)\\nwhere α is a small positive constant (e.g., 0.01). \\nLeaky ReLU introduces a small slope for negative values of x, which allows gradients to flow backwards through the network during backpropagation. \\nThis helps to prevent the vanishing gradient problem.'"
            ],
            "application/vnd.google.colaboratory.intrinsic+json": {
              "type": "string"
            }
          },
          "metadata": {},
          "execution_count": 7
        }
      ]
    },
    {
      "cell_type": "code",
      "source": [
        "## Q8. What is the purpose of the softmax activation function? When is it commonly used?\n",
        "'''The softmax activation function is used in the output layer of neural network models that predict a multinomial probability distribution.\n",
        "That is, softmax is used as the activation function for multi-class classification problems where class membership is required on more than two class labels.\n",
        "The purpose of the softmax function is to transform the raw outputs of the neural network into a vector of probabilities, essentially a probability distribution over the input classes.\n",
        "This makes the neural network’s outputs easier to interpret.'''"
      ],
      "metadata": {
        "colab": {
          "base_uri": "https://localhost:8080/",
          "height": 72
        },
        "id": "yI8EHPb6bfqf",
        "outputId": "a45264b0-62bd-471a-8a54-3111d24b0c18"
      },
      "execution_count": 8,
      "outputs": [
        {
          "output_type": "execute_result",
          "data": {
            "text/plain": [
              "'The softmax activation function is used in the output layer of neural network models that predict a multinomial probability distribution. \\nThat is, softmax is used as the activation function for multi-class classification problems where class membership is required on more than two class labels.\\nThe purpose of the softmax function is to transform the raw outputs of the neural network into a vector of probabilities, essentially a probability distribution over the input classes. \\nThis makes the neural network’s outputs easier to interpret.'"
            ],
            "application/vnd.google.colaboratory.intrinsic+json": {
              "type": "string"
            }
          },
          "metadata": {},
          "execution_count": 8
        }
      ]
    },
    {
      "cell_type": "code",
      "source": [
        "## Q9. What is the hyperbolic tangent (tanh) activation function? How does it compare to the sigmoid function?\n",
        "'''The hyperbolic tangent (tanh) activation function is another possible function that can be used as a nonlinear activation function between layers of a neural network.\n",
        "It shares a few things in common with the sigmoid activation function. They both look very similar.\n",
        "The tanh activation function is superior to the sigmoid activation function because the range of this activation function is higher than the sigmoid activation function.'''"
      ],
      "metadata": {
        "colab": {
          "base_uri": "https://localhost:8080/",
          "height": 72
        },
        "id": "4GEvrtnobftl",
        "outputId": "f38ca8d8-daa1-4758-fd25-6c56d6db298d"
      },
      "execution_count": 9,
      "outputs": [
        {
          "output_type": "execute_result",
          "data": {
            "text/plain": [
              "'The hyperbolic tangent (tanh) activation function is another possible function that can be used as a nonlinear activation function between layers of a neural network. \\nIt shares a few things in common with the sigmoid activation function. They both look very similar.\\nThe tanh activation function is superior to the sigmoid activation function because the range of this activation function is higher than the sigmoid activation function.'"
            ],
            "application/vnd.google.colaboratory.intrinsic+json": {
              "type": "string"
            }
          },
          "metadata": {},
          "execution_count": 9
        }
      ]
    }
  ]
}