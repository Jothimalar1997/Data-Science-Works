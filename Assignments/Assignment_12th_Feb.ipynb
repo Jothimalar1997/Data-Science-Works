{
  "nbformat": 4,
  "nbformat_minor": 0,
  "metadata": {
    "colab": {
      "provenance": []
    },
    "kernelspec": {
      "name": "python3",
      "display_name": "Python 3"
    },
    "language_info": {
      "name": "python"
    }
  },
  "cells": [
    {
      "cell_type": "code",
      "execution_count": 1,
      "metadata": {
        "colab": {
          "base_uri": "https://localhost:8080/",
          "height": 70
        },
        "id": "eDo0Ri7Ejr_G",
        "outputId": "2e6317a9-04bb-428d-a919-f6f261ac45ba"
      },
      "outputs": [
        {
          "output_type": "execute_result",
          "data": {
            "text/plain": [
              "'Errors are two types in python- Exception and syntax error.\\nError occurs when there is a problem in program while exception are raised when some internal error occurs.\\nDifference between Exception and Syntax error:\\nSyntax Error occurs when there is some syntactic error in the code which leads to termination of the problem.\\nException occurs when the code is syntactically correct but it results in error. It does not stop the execution of the program but changes the normal flow of the program.'"
            ],
            "application/vnd.google.colaboratory.intrinsic+json": {
              "type": "string"
            }
          },
          "metadata": {},
          "execution_count": 1
        }
      ],
      "source": [
        "# 1) Exception and Syntax error:\n",
        "'''Errors are two types in python- Exception and syntax error.\n",
        "Error occurs when there is a problem in program while exception are raised when some internal error occurs.\n",
        "Difference between Exception and Syntax error:\n",
        "Syntax Error occurs when there is some syntactic error in the code which leads to termination of the problem.\n",
        "Exception occurs when the code is syntactically correct but it results in error. It does not stop the execution of the program but changes the normal flow of the program.'''"
      ]
    },
    {
      "cell_type": "code",
      "source": [
        "# 2) Exception not handled?\n",
        "'''When exception is not handled it leads to abrupt termination of the program.\n",
        "when it occurs, python interpreter stops the current process and passes it to the calling process until it is handled.\n",
        "If not handled the program will crash.'''\n",
        "age=100\n",
        "print(age/0)"
      ],
      "metadata": {
        "colab": {
          "base_uri": "https://localhost:8080/",
          "height": 200
        },
        "id": "tFQpx1kDn3PN",
        "outputId": "b7d82e17-cdb9-4392-febe-411998b8b3f1"
      },
      "execution_count": 2,
      "outputs": [
        {
          "output_type": "error",
          "ename": "ZeroDivisionError",
          "evalue": "ignored",
          "traceback": [
            "\u001b[0;31m---------------------------------------------------------------------------\u001b[0m",
            "\u001b[0;31mZeroDivisionError\u001b[0m                         Traceback (most recent call last)",
            "\u001b[0;32m<ipython-input-2-948cd59d95df>\u001b[0m in \u001b[0;36m<module>\u001b[0;34m\u001b[0m\n\u001b[1;32m      4\u001b[0m If not handled the program will crash.'''\n\u001b[1;32m      5\u001b[0m \u001b[0mage\u001b[0m\u001b[0;34m=\u001b[0m\u001b[0;36m100\u001b[0m\u001b[0;34m\u001b[0m\u001b[0;34m\u001b[0m\u001b[0m\n\u001b[0;32m----> 6\u001b[0;31m \u001b[0mprint\u001b[0m\u001b[0;34m(\u001b[0m\u001b[0mage\u001b[0m\u001b[0;34m/\u001b[0m\u001b[0;36m0\u001b[0m\u001b[0;34m)\u001b[0m\u001b[0;34m\u001b[0m\u001b[0;34m\u001b[0m\u001b[0m\n\u001b[0m",
            "\u001b[0;31mZeroDivisionError\u001b[0m: division by zero"
          ]
        }
      ]
    },
    {
      "cell_type": "code",
      "source": [
        "# 3) To catch and handle exceptions:\n",
        "'''try and except statements are used to catch and handle exceptions in python'''\n",
        "age=100\n",
        "try:\n",
        "  print(age/0)\n",
        "except Exception as e:\n",
        "  print(\"Exception occurs:\",e)"
      ],
      "metadata": {
        "colab": {
          "base_uri": "https://localhost:8080/"
        },
        "id": "m9ybwqz7pjix",
        "outputId": "22a9a599-5b0b-4a61-fad6-4cd5c427502f"
      },
      "execution_count": 3,
      "outputs": [
        {
          "output_type": "stream",
          "name": "stdout",
          "text": [
            "Exception occurs: division by zero\n"
          ]
        }
      ]
    },
    {
      "cell_type": "code",
      "source": [
        "# 4)(a) try and else:\n",
        "age=100\n",
        "try:\n",
        "  print(age/10)\n",
        "except Exception as e:\n",
        "  print(\"Exception occurs:\",e)\n",
        "else:\n",
        "  print(\"Program executed successfully without any exception\")\n"
      ],
      "metadata": {
        "colab": {
          "base_uri": "https://localhost:8080/"
        },
        "id": "YDUz6in6qVsq",
        "outputId": "eeb083ce-0b4e-4fb4-ecb2-0c5f16319704"
      },
      "execution_count": 4,
      "outputs": [
        {
          "output_type": "stream",
          "name": "stdout",
          "text": [
            "10.0\n",
            "Program executed successfully without any exception\n"
          ]
        }
      ]
    },
    {
      "cell_type": "code",
      "source": [
        "# 4)(b) finally:\n",
        "#finally is always executed irrespective of whether the exception occurs or not.\n",
        "try:\n",
        "  f=open(\"text1.txt\",\"w\")\n",
        "  f.write(\"Im in text1 file\")\n",
        "except Exception as e:\n",
        "  print(\"Exception occured:\",e)\n",
        "else:\n",
        "  print(\"program executed without exception\")\n",
        "finally:\n",
        "  f.close()\n",
        "  print(\"File is closed in the finally block\")"
      ],
      "metadata": {
        "colab": {
          "base_uri": "https://localhost:8080/"
        },
        "id": "41wVE4ImqxqE",
        "outputId": "c89c1e67-16e7-4aa9-db16-b2c029a1f421"
      },
      "execution_count": 5,
      "outputs": [
        {
          "output_type": "stream",
          "name": "stdout",
          "text": [
            "program executed without exception\n",
            "File is closed in the finally block\n"
          ]
        }
      ]
    },
    {
      "cell_type": "code",
      "source": [
        "# 4)(c) raise:\n",
        "class amountexception(Exception):\n",
        "  def __init__(self,msg):\n",
        "    self.msg=msg\n",
        "def amount_exception(amt,balance):\n",
        "  if(balance>=amt):\n",
        "    balance-=amt\n",
        "    return balance\n",
        "  else:\n",
        "    raise amountexception(\"Balance is very low for withdrawal.\")\n",
        "balance=5000\n",
        "amt=int(input(\"Enter the amount for withdrawal: \"))\n",
        "try:\n",
        "  bal=amount_exception(amt,balance)\n",
        "  print(\"available balance after withdrawal: \",bal)\n",
        "except amountexception as e:\n",
        "  print(e)"
      ],
      "metadata": {
        "colab": {
          "base_uri": "https://localhost:8080/"
        },
        "id": "mOmZbqBprzUv",
        "outputId": "f4fe84ed-6fde-47e5-e0f4-030b66097a3a"
      },
      "execution_count": 6,
      "outputs": [
        {
          "output_type": "stream",
          "name": "stdout",
          "text": [
            "Enter the amount for withdrawal: 6000\n",
            "Balance is very low for withdrawal.\n"
          ]
        }
      ]
    },
    {
      "cell_type": "code",
      "source": [
        "# 5) Custom Exceptions:\n",
        "'''Other than standard exceptions like ZeroDivisionError, IndexError,IOError..etc, we can also define other type of exception know as Custom exception.\n",
        "Custom exceptions are User-Defined exceptions that are derived from the Exception class.'''\n",
        "class amountexception(Exception):\n",
        "  def __init__(self,msg):\n",
        "    self.msg=msg\n",
        "def amount_exception(amt,balance):\n",
        "  if(balance>=amt):\n",
        "    balance-=amt\n",
        "    return balance\n",
        "  else:\n",
        "    raise amountexception(\"Balance is very low for withdrawal.\")\n",
        "balance=5000\n",
        "amt=int(input(\"Enter the amount for withdrawal: \"))\n",
        "try:\n",
        "  bal=amount_exception(amt,balance)\n",
        "  print(\"available balance after withdrawal: \",bal)\n",
        "except amountexception as e:\n",
        "  print(e)"
      ],
      "metadata": {
        "colab": {
          "base_uri": "https://localhost:8080/"
        },
        "id": "Ie2S27u0r9MG",
        "outputId": "de944d49-c798-495a-ccc4-6db3b8c38775"
      },
      "execution_count": 7,
      "outputs": [
        {
          "output_type": "stream",
          "name": "stdout",
          "text": [
            "Enter the amount for withdrawal: 2000\n",
            "available balance after withdrawal:  3000\n"
          ]
        }
      ]
    },
    {
      "cell_type": "code",
      "source": [
        "# 6)To create custom exception class and handle it:\n",
        "class ageexception(Exception):\n",
        "  def __init__(self,msg):\n",
        "    self.msg=msg\n",
        "def age_exception(age):\n",
        "  if((age>100) or (age<=0)):\n",
        "    raise ageexception(\"Please enter the valid age.\")\n",
        "  else:\n",
        "    print(\"Your age is valid.\")\n",
        "try:\n",
        "  age=int(input(\"Enter your age: \"))\n",
        "  age_exception(age)\n",
        "except ageexception as e:\n",
        "  print(e)"
      ],
      "metadata": {
        "colab": {
          "base_uri": "https://localhost:8080/"
        },
        "id": "K07my34_CzKt",
        "outputId": "b1220f11-8fd8-4ec5-8310-3f7ccca152c8"
      },
      "execution_count": 9,
      "outputs": [
        {
          "output_type": "stream",
          "name": "stdout",
          "text": [
            "Enter your age: 120\n",
            "Please enter the valid age.\n"
          ]
        }
      ]
    }
  ]
}