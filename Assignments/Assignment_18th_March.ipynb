{
  "nbformat": 4,
  "nbformat_minor": 0,
  "metadata": {
    "colab": {
      "provenance": []
    },
    "kernelspec": {
      "name": "python3",
      "display_name": "Python 3"
    },
    "language_info": {
      "name": "python"
    }
  },
  "cells": [
    {
      "cell_type": "code",
      "execution_count": 1,
      "metadata": {
        "colab": {
          "base_uri": "https://localhost:8080/",
          "height": 70
        },
        "id": "81Hozc3ZTVlS",
        "outputId": "d0fe42fd-4814-41aa-c078-7790259020e8"
      },
      "outputs": [
        {
          "output_type": "execute_result",
          "data": {
            "text/plain": [
              "'The filter method is a feature selection technique that selects a subset of features based on their relationship with the target variable. \\nIt is a statistical method that measures the relevance of each feature with the output variable via statistical tests. \\nThe filter method ranks each feature based on some uni-variate metric and then selects the highest-ranking features. \\nSome of the uni-variate metrics are variance (removing constant and quasi-constant features) and chi-square (used for classification).'"
            ],
            "application/vnd.google.colaboratory.intrinsic+json": {
              "type": "string"
            }
          },
          "metadata": {},
          "execution_count": 1
        }
      ],
      "source": [
        "## Q1. What is the Filter method in feature selection, and how does it work?\n",
        "'''The filter method is a feature selection technique that selects a subset of features based on their relationship with the target variable. \n",
        "It is a statistical method that measures the relevance of each feature with the output variable via statistical tests. \n",
        "The filter method ranks each feature based on some uni-variate metric and then selects the highest-ranking features. \n",
        "Some of the uni-variate metrics are variance (removing constant and quasi-constant features) and chi-square (used for classification).'''"
      ]
    },
    {
      "cell_type": "code",
      "source": [
        "## Q2. How does the Wrapper method differ from the Filter method in feature selection?\n",
        "'''The main differences between filter and wrapper methods for feature selection are:\n",
        "(i) Filter methods measure the relevance of features by their correlation with dependent variable while wrapper methods measure the usefulness of a subset of feature by actually training a model on it.\n",
        "(ii) Filter methods use statistical methods for evaluation of a subset of features while wrapper methods use cross validation.\n",
        "(iii) Filter methods might fail to find the best subset of features in many occasions but wrapper methods can always provide the best subset of features.'''"
      ],
      "metadata": {
        "colab": {
          "base_uri": "https://localhost:8080/",
          "height": 70
        },
        "id": "cqbNKKCxTtOS",
        "outputId": "17043b3c-3ff8-4720-c419-29ecd87cb23e"
      },
      "execution_count": 2,
      "outputs": [
        {
          "output_type": "execute_result",
          "data": {
            "text/plain": [
              "'The main differences between filter and wrapper methods for feature selection are:\\n(i) Filter methods measure the relevance of features by their correlation with dependent variable while wrapper methods measure the usefulness of a subset of feature by actually training a model on it.\\n(ii) Filter methods use statistical methods for evaluation of a subset of features while wrapper methods use cross validation.\\n(iii) Filter methods might fail to find the best subset of features in many occasions but wrapper methods can always provide the best subset of features.'"
            ],
            "application/vnd.google.colaboratory.intrinsic+json": {
              "type": "string"
            }
          },
          "metadata": {},
          "execution_count": 2
        }
      ]
    },
    {
      "cell_type": "code",
      "source": [
        "## Q3. What are some common techniques used in Embedded feature selection methods?\n",
        "'''Embedded methods are one of the three types of feature selection methods used in machine learning. \n",
        "They use algorithms that have their own built-in feature selection methods.\n",
        "Some of the most popular examples of these methods are LASSO and RIDGE regression which have inbuilt penalization functions to reduce overfitting.\n",
        "Lasso regularizer forces a lot of feature weights to be zero. \n",
        "We can also use RandomForest to select features based on feature importance. \n",
        "Hybrid Methods combine the strengths of filter and wrapper methods. For Example- SelectFromMode.'''"
      ],
      "metadata": {
        "colab": {
          "base_uri": "https://localhost:8080/",
          "height": 70
        },
        "id": "Cwyw3cybUDrR",
        "outputId": "0af4bb19-0fd1-483e-a5ed-172465c9446c"
      },
      "execution_count": 3,
      "outputs": [
        {
          "output_type": "execute_result",
          "data": {
            "text/plain": [
              "'Embedded methods are one of the three types of feature selection methods used in machine learning. \\nThey use algorithms that have their own built-in feature selection methods.\\nSome of the most popular examples of these methods are LASSO and RIDGE regression which have inbuilt penalization functions to reduce overfitting.\\nLasso regularizer forces a lot of feature weights to be zero. \\nWe can also use RandomForest to select features based on feature importance. \\nHybrid Methods combine the strengths of filter and wrapper methods. For Example- SelectFromMode.'"
            ],
            "application/vnd.google.colaboratory.intrinsic+json": {
              "type": "string"
            }
          },
          "metadata": {},
          "execution_count": 3
        }
      ]
    },
    {
      "cell_type": "code",
      "source": [
        "## Q4. What are some drawbacks of using the Filter method for feature selection?\n",
        "'''Filter methods for feature selection are computationally inexpensive and easily human-interpretable as they assess the inclusion of an attribute based on some scoring metric, rather than in-situ. \n",
        "However, filter methods have some disadvantages such as not taking into account the interaction of features between them. T\n",
        "hey may also miss important features that are not useful on their own but may be an important influencer when combined with other features. \n",
        "One thing that should be kept in mind is that the filter method does not remove multicollinearity'''"
      ],
      "metadata": {
        "colab": {
          "base_uri": "https://localhost:8080/",
          "height": 70
        },
        "id": "E2OhrDEJUb6a",
        "outputId": "8f7d7bf0-ad80-4276-af38-02b2138a172f"
      },
      "execution_count": 4,
      "outputs": [
        {
          "output_type": "execute_result",
          "data": {
            "text/plain": [
              "'Filter methods for feature selection are computationally inexpensive and easily human-interpretable as they assess the inclusion of an attribute based on some scoring metric, rather than in-situ. \\nHowever, filter methods have some disadvantages such as not taking into account the interaction of features between them. T\\nhey may also miss important features that are not useful on their own but may be an important influencer when combined with other features. \\nOne thing that should be kept in mind is that the filter method does not remove multicollinearity'"
            ],
            "application/vnd.google.colaboratory.intrinsic+json": {
              "type": "string"
            }
          },
          "metadata": {},
          "execution_count": 4
        }
      ]
    },
    {
      "cell_type": "code",
      "source": [
        "## Q5. In which situations would you prefer using the Filter method over the Wrapper method for feature selection?\n",
        "'''Filter methods are usually preferred over wrapper methods when the number of features is huge. \n",
        "They are faster and avoid overfitting but sometimes may fail to select best features. \n",
        "Wrapper methods, on the other hand, are less prone to overfitting but more computationally expensive than filter methods.'''"
      ],
      "metadata": {
        "colab": {
          "base_uri": "https://localhost:8080/",
          "height": 53
        },
        "id": "IWWqm6NfUwpK",
        "outputId": "aa5a685e-29d6-431e-fa26-5b20a031baae"
      },
      "execution_count": 5,
      "outputs": [
        {
          "output_type": "execute_result",
          "data": {
            "text/plain": [
              "'Filter methods are usually preferred over wrapper methods when the number of features is huge. \\nThey are faster and avoid overfitting but sometimes may fail to select best features. \\nWrapper methods, on the other hand, are less prone to overfitting but more computationally expensive than filter methods.'"
            ],
            "application/vnd.google.colaboratory.intrinsic+json": {
              "type": "string"
            }
          },
          "metadata": {},
          "execution_count": 5
        }
      ]
    },
    {
      "cell_type": "code",
      "source": [
        "'''Q6. In a telecom company, you are working on a project to develop a predictive model for customer churn.You are unsure of which features to include in the model because the dataset contains several different\n",
        "ones. Describe how you would choose the most pertinent attributes for the model using the Filter Method.'''\n",
        "'''The Filter Method is a feature selection technique that uses statistical measures to score the correlation or dependence between input variables that can be filtered to choose the most relevant features. \n",
        "The Filter Method uses statistical techniques to evaluate the relationship between each input variable and the target variable, and these scores are used as the basis to choose (filter) those input variables \n",
        "that will be used in the model.\n",
        "Filter methods can be broadly categorized into two categories: Univariate Filter Methods and Multivariate filter methods. \n",
        "The univariate filter methods are the type of methods where individual features are ranked according to specific criteria.\n",
        "In order to choose the most pertinent attributes for your predictive model for customer churn using the Filter Method, \n",
        "you can use statistical measures for feature selection that must be carefully chosen based on the data type of the input variable and the output or response variable.\n",
        " You can use Univariate Filter Methods where individual features are ranked according to specific criteria.'''"
      ],
      "metadata": {
        "colab": {
          "base_uri": "https://localhost:8080/",
          "height": 105
        },
        "id": "f42beJVYVBX6",
        "outputId": "4b4906e3-e190-435e-abe6-028419d99e4f"
      },
      "execution_count": 6,
      "outputs": [
        {
          "output_type": "execute_result",
          "data": {
            "text/plain": [
              "'The Filter Method is a feature selection technique that uses statistical measures to score the correlation or dependence between input variables that can be filtered to choose the most relevant features. \\nThe Filter Method uses statistical techniques to evaluate the relationship between each input variable and the target variable, and these scores are used as the basis to choose (filter) those input variables \\nthat will be used in the model.\\nFilter methods can be broadly categorized into two categories: Univariate Filter Methods and Multivariate filter methods. \\nThe univariate filter methods are the type of methods where individual features are ranked according to specific criteria.\\nIn order to choose the most pertinent attributes for your predictive model for customer churn using the Filter Method, \\nyou can use statistical measures for feature selection that must be carefully chosen based on the data type of the input variable and the output or response variable.\\n You can use Univariate Filter Methods where individual features are ranked according to specific criteria.'"
            ],
            "application/vnd.google.colaboratory.intrinsic+json": {
              "type": "string"
            }
          },
          "metadata": {},
          "execution_count": 6
        }
      ]
    },
    {
      "cell_type": "code",
      "source": [
        "'''Q7. You are working on a project to predict the outcome of a soccer match. You have a large dataset with many features, including player statistics and team rankings. Explain how you would use the Embedded\n",
        "method to select the most relevant features for the model.'''\n",
        "'''The Embedded method is a feature selection technique that combines the qualities of filter and wrapper methods. \n",
        "In this method, feature selection process is embedded in the learning or the model building phase. \n",
        "It is less computationally expensive than wrapper method and less prone to overfitting. \n",
        "Some of the most popular examples of these methods are LASSO and RIDGE regression which have inbuilt penalization functions to reduce overfitting.\n",
        "To select the most relevant features for predicting the outcome of a soccer match using Embedded method, you can use an algorithm that has its own built-in feature selection methods. \n",
        "This algorithm will take care of each iteration of the model training process and carefully extract those features which contribute the most to the training for a particular iteration.'''"
      ],
      "metadata": {
        "colab": {
          "base_uri": "https://localhost:8080/",
          "height": 87
        },
        "id": "5OoVZWYwV42T",
        "outputId": "83e069a1-5632-468b-ed35-859e12b1e42e"
      },
      "execution_count": 7,
      "outputs": [
        {
          "output_type": "execute_result",
          "data": {
            "text/plain": [
              "'The Embedded method is a feature selection technique that combines the qualities of filter and wrapper methods. \\nIn this method, feature selection process is embedded in the learning or the model building phase. \\nIt is less computationally expensive than wrapper method and less prone to overfitting. \\nSome of the most popular examples of these methods are LASSO and RIDGE regression which have inbuilt penalization functions to reduce overfitting.\\nTo select the most relevant features for predicting the outcome of a soccer match using Embedded method, you can use an algorithm that has its own built-in feature selection methods. \\nThis algorithm will take care of each iteration of the model training process and carefully extract those features which contribute the most to the training for a particular iteration.'"
            ],
            "application/vnd.google.colaboratory.intrinsic+json": {
              "type": "string"
            }
          },
          "metadata": {},
          "execution_count": 7
        }
      ]
    },
    {
      "cell_type": "code",
      "source": [
        "'''Q8. You are working on a project to predict the price of a house based on its features, such as size, location and age. You have a limited number of features, and you want to ensure that you select the most important\n",
        "ones for the model. Explain how you would use the Wrapper method to select the best set of features for the predictor.'''\n",
        "'''Wrapper method is a feature selection technique that selects a set of features by preparing different combinations of features, then each combination is evaluated and compared to other combinations. \n",
        "Next, a predictive model is used to assign a score based on model accuracy and to evaluate the combinations of these features.\n",
        "In wrapper methods, the feature selection process is based on a specific machine learning algorithm that we are trying to fit on a given dataset. \n",
        "It follows a greedy search approach by evaluating all the possible combinations of features against the evaluation criterion.\n",
        "The wrapper method is computationally expensive and prone to overfitting but gives better performance3.\n",
        "To use the wrapper method for feature selection in your project, you can follow these steps:\n",
        "1) Choose a machine learning algorithm that you want to use for your project.\n",
        "2) Prepare different combinations of features.\n",
        "3) Train your machine learning algorithm using each combination of features.\n",
        "4) Evaluate each combination of features using an evaluation criterion.\n",
        "5) Select the combination of features that gives the best performance.'''"
      ],
      "metadata": {
        "colab": {
          "base_uri": "https://localhost:8080/",
          "height": 105
        },
        "id": "uWo1-EpBWO44",
        "outputId": "cf98821d-289e-44b2-daa9-b4714ebcbf0a"
      },
      "execution_count": 8,
      "outputs": [
        {
          "output_type": "execute_result",
          "data": {
            "text/plain": [
              "'Wrapper method is a feature selection technique that selects a set of features by preparing different combinations of features, then each combination is evaluated and compared to other combinations. \\nNext, a predictive model is used to assign a score based on model accuracy and to evaluate the combinations of these features.\\nIn wrapper methods, the feature selection process is based on a specific machine learning algorithm that we are trying to fit on a given dataset. \\nIt follows a greedy search approach by evaluating all the possible combinations of features against the evaluation criterion.\\nThe wrapper method is computationally expensive and prone to overfitting but gives better performance3.\\nTo use the wrapper method for feature selection in your project, you can follow these steps:\\n1) Choose a machine learning algorithm that you want to use for your project.\\n2) Prepare different combinations of features.\\n3) Train your machine learning algorithm using each combination of features.\\n4) Evaluate each combination of features using an evaluation criterion.\\n5) Select the combination of features that gives the best performance.'"
            ],
            "application/vnd.google.colaboratory.intrinsic+json": {
              "type": "string"
            }
          },
          "metadata": {},
          "execution_count": 8
        }
      ]
    }
  ]
}