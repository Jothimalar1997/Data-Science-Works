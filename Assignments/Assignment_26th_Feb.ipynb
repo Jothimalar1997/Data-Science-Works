{
  "nbformat": 4,
  "nbformat_minor": 0,
  "metadata": {
    "colab": {
      "provenance": []
    },
    "kernelspec": {
      "name": "python3",
      "display_name": "Python 3"
    },
    "language_info": {
      "name": "python"
    }
  },
  "cells": [
    {
      "cell_type": "code",
      "execution_count": 1,
      "metadata": {
        "id": "feOWnW8pkGRN"
      },
      "outputs": [],
      "source": [
        "import numpy as np\n",
        "list_ = [ \"1\" , \"2\" , \"3\" , \"4\" , \"5\" ]\n",
        "array_list = np.array(object = list_)"
      ]
    },
    {
      "cell_type": "code",
      "source": [
        "## Q1. Is there any difference in the data type of variables list_ and array_list? If there is then write a code to print the data types of both the variables:\n",
        "'''Yes, there is a difference in the data type of variables list_ and array_list.'''\n",
        "print(\"Datatype of given list: \",type(list_))\n",
        "print(\"Datatype of array_list: \",type(array_list))"
      ],
      "metadata": {
        "colab": {
          "base_uri": "https://localhost:8080/"
        },
        "id": "IffDuTHtlgCC",
        "outputId": "407baea4-8ff3-4794-894f-3c4d7510d9c9"
      },
      "execution_count": 2,
      "outputs": [
        {
          "output_type": "stream",
          "name": "stdout",
          "text": [
            "Datatype of given list:  <class 'list'>\n",
            "Datatype of array_list:  <class 'numpy.ndarray'>\n"
          ]
        }
      ]
    },
    {
      "cell_type": "code",
      "source": [
        "## Q2. Write a code to print the data type of each and every element of both the variables list_ and array_list:\n",
        "print(\"Datatype of each and every element in the list_ variable:\")\n",
        "for i in list_:\n",
        "  print(f\"Datatype of {i} is :{type(i)}\")\n",
        "print(\"Datatype of each and every element in the array_list variable:\")\n",
        "for i in array_list:\n",
        "  print(f\"Datatype of {i} is :{type(i)}\")"
      ],
      "metadata": {
        "colab": {
          "base_uri": "https://localhost:8080/"
        },
        "id": "RQtScHIRmJsh",
        "outputId": "4adfe526-4e37-4bd8-9c26-f850e89fd793"
      },
      "execution_count": 3,
      "outputs": [
        {
          "output_type": "stream",
          "name": "stdout",
          "text": [
            "Datatype of each and every element in the list_ variable:\n",
            "Datatype of 1 is :<class 'str'>\n",
            "Datatype of 2 is :<class 'str'>\n",
            "Datatype of 3 is :<class 'str'>\n",
            "Datatype of 4 is :<class 'str'>\n",
            "Datatype of 5 is :<class 'str'>\n",
            "Datatype of each and every element in the array_list variable:\n",
            "Datatype of 1 is :<class 'numpy.str_'>\n",
            "Datatype of 2 is :<class 'numpy.str_'>\n",
            "Datatype of 3 is :<class 'numpy.str_'>\n",
            "Datatype of 4 is :<class 'numpy.str_'>\n",
            "Datatype of 5 is :<class 'numpy.str_'>\n"
          ]
        }
      ]
    },
    {
      "cell_type": "code",
      "source": [
        "'''Q3. Considering the following changes in the variable, array_list: array_list = np.array(object = list_, dtype = int) Will there be any difference in the data type of the elements present in both the variables, list_ and\n",
        "array_list? If so then print the data types of each and every element present in both the variables, list_ and array_list.'''\n",
        "## For the change made in array_list variable, the data type of it is changed to integer, while list_ variable has string as its datatype.\n",
        "array_list = np.array(object = list_, dtype = int)\n",
        "print(\"Datatype of each and every element in the list_ variable:\")\n",
        "for i in list_:\n",
        "  print(f\"Datatype of {i} is :{type(i)}\")\n",
        "print(\"Datatype of each and every element in the array_list variable:\")\n",
        "for i in array_list:\n",
        "  print(f\"Datatype of {i} is :{type(i)}\")"
      ],
      "metadata": {
        "colab": {
          "base_uri": "https://localhost:8080/"
        },
        "id": "3UESygQ4nDlL",
        "outputId": "f0909e1d-1396-464e-9df5-a854e6de3dd4"
      },
      "execution_count": 4,
      "outputs": [
        {
          "output_type": "stream",
          "name": "stdout",
          "text": [
            "Datatype of each and every element in the list_ variable:\n",
            "Datatype of 1 is :<class 'str'>\n",
            "Datatype of 2 is :<class 'str'>\n",
            "Datatype of 3 is :<class 'str'>\n",
            "Datatype of 4 is :<class 'str'>\n",
            "Datatype of 5 is :<class 'str'>\n",
            "Datatype of each and every element in the array_list variable:\n",
            "Datatype of 1 is :<class 'numpy.int64'>\n",
            "Datatype of 2 is :<class 'numpy.int64'>\n",
            "Datatype of 3 is :<class 'numpy.int64'>\n",
            "Datatype of 4 is :<class 'numpy.int64'>\n",
            "Datatype of 5 is :<class 'numpy.int64'>\n"
          ]
        }
      ]
    },
    {
      "cell_type": "code",
      "source": [
        "import numpy as np\n",
        "num_list = [ [ 1 , 2 , 3 ] , [ 4 , 5 , 6 ] ]\n",
        "num_array = np.array(object = num_list)"
      ],
      "metadata": {
        "id": "L9EVO7cUoBNN"
      },
      "execution_count": 5,
      "outputs": []
    },
    {
      "cell_type": "code",
      "source": [
        "## Q4. Write a code to find the following characteristics of variable, num_array: (i) shape (ii) size :\n",
        "print(\"Shape of the given array: \",np.shape(num_array))\n",
        "print(\"Size of the given array: \",np.size(num_array))"
      ],
      "metadata": {
        "colab": {
          "base_uri": "https://localhost:8080/"
        },
        "id": "4_wp0wsFoMXl",
        "outputId": "87d4008b-3626-4207-ddf0-a70ecda8d796"
      },
      "execution_count": 6,
      "outputs": [
        {
          "output_type": "stream",
          "name": "stdout",
          "text": [
            "Shape of the given array:  (2, 3)\n",
            "Size of the given array:  6\n"
          ]
        }
      ]
    },
    {
      "cell_type": "code",
      "source": [
        "## Q5. Q5. Write a code to create numpy array of 3*3 matrix containing zeros only, using a numpy array creation function:\n",
        "arr1=np.zeros((3,3))\n",
        "arr1"
      ],
      "metadata": {
        "colab": {
          "base_uri": "https://localhost:8080/"
        },
        "id": "-0az1iVKonet",
        "outputId": "23402a00-308f-497e-d1a1-ea761a05ee2f"
      },
      "execution_count": 7,
      "outputs": [
        {
          "output_type": "execute_result",
          "data": {
            "text/plain": [
              "array([[0., 0., 0.],\n",
              "       [0., 0., 0.],\n",
              "       [0., 0., 0.]])"
            ]
          },
          "metadata": {},
          "execution_count": 7
        }
      ]
    },
    {
      "cell_type": "code",
      "source": [
        "## Q6. Create an identity matrix of shape (5,5) using numpy functions:\n",
        "arr1=np.eye((5))\n",
        "arr1"
      ],
      "metadata": {
        "colab": {
          "base_uri": "https://localhost:8080/"
        },
        "id": "gZyIXRrvpR8F",
        "outputId": "34ed41f9-eb99-4656-b150-b631f42c88dc"
      },
      "execution_count": 8,
      "outputs": [
        {
          "output_type": "execute_result",
          "data": {
            "text/plain": [
              "array([[1., 0., 0., 0., 0.],\n",
              "       [0., 1., 0., 0., 0.],\n",
              "       [0., 0., 1., 0., 0.],\n",
              "       [0., 0., 0., 1., 0.],\n",
              "       [0., 0., 0., 0., 1.]])"
            ]
          },
          "metadata": {},
          "execution_count": 8
        }
      ]
    }
  ]
}