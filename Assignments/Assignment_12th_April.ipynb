{
  "nbformat": 4,
  "nbformat_minor": 0,
  "metadata": {
    "colab": {
      "provenance": []
    },
    "kernelspec": {
      "name": "python3",
      "display_name": "Python 3"
    },
    "language_info": {
      "name": "python"
    }
  },
  "cells": [
    {
      "cell_type": "code",
      "execution_count": 1,
      "metadata": {
        "colab": {
          "base_uri": "https://localhost:8080/",
          "height": 87
        },
        "id": "Kf2IiH3i4Rw3",
        "outputId": "c81feb54-b44a-46a5-f756-27a786d733e4"
      },
      "outputs": [
        {
          "output_type": "execute_result",
          "data": {
            "text/plain": [
              "'Bagging is a technique used with decision trees that significantly raises the stability of models in improving accuracy and reducing variance, which eliminates the challenge of overfitting. \\nBagging offers the advantage of allowing many weak learners to combine efforts to outdo a single strong learner. \\nIt also helps in the reduction of variance, hence eliminating the overfitting of models in the procedure.\\nIn other words, bagging reduces overfitting by creating multiple samples of data from the original dataset and then training each sample on a different decision tree model. \\nThe final prediction is then made by averaging the predictions of all decision trees. This helps to reduce variance and improve accuracy.'"
            ],
            "application/vnd.google.colaboratory.intrinsic+json": {
              "type": "string"
            }
          },
          "metadata": {},
          "execution_count": 1
        }
      ],
      "source": [
        "## Q1. How does bagging reduce overfitting in decision trees?\n",
        "'''Bagging is a technique used with decision trees that significantly raises the stability of models in improving accuracy and reducing variance, which eliminates the challenge of overfitting. \n",
        "Bagging offers the advantage of allowing many weak learners to combine efforts to outdo a single strong learner. \n",
        "It also helps in the reduction of variance, hence eliminating the overfitting of models in the procedure.\n",
        "In other words, bagging reduces overfitting by creating multiple samples of data from the original dataset and then training each sample on a different decision tree model. \n",
        "The final prediction is then made by averaging the predictions of all decision trees. This helps to reduce variance and improve accuracy.'''"
      ]
    },
    {
      "cell_type": "code",
      "source": [
        "## Q2. What are the advantages and disadvantages of using different types of base learners in bagging?\n",
        "'''Bagging offers the advantage of allowing many weak learners to combine efforts to outdo a single strong learner. \n",
        "It also helps in reducing variance, i.e., it avoids overfitting. \n",
        "The biggest advantage of bagging is that multiple weak learners can work better than a single strong learner. \n",
        "Bagging significantly decreases the variance without increasing bias.\n",
        "One disadvantage of bagging is that it introduces a loss of interpretability of a model. \n",
        "The application of either bagging or boosting requires the selection of a base learner algorithm first. \n",
        "For example, if one chooses a classification tree, then boosting and bagging would be a pool of trees with a size equal to the user’s preference.'''"
      ],
      "metadata": {
        "colab": {
          "base_uri": "https://localhost:8080/",
          "height": 87
        },
        "id": "4tQpd5O84r0N",
        "outputId": "f9181d58-e1cb-437f-a9ed-59264e49f0d5"
      },
      "execution_count": 2,
      "outputs": [
        {
          "output_type": "execute_result",
          "data": {
            "text/plain": [
              "'Bagging offers the advantage of allowing many weak learners to combine efforts to outdo a single strong learner. \\nIt also helps in reducing variance, i.e., it avoids overfitting. \\nThe biggest advantage of bagging is that multiple weak learners can work better than a single strong learner. \\nBagging significantly decreases the variance without increasing bias.\\nOne disadvantage of bagging is that it introduces a loss of interpretability of a model. \\nThe application of either bagging or boosting requires the selection of a base learner algorithm first. \\nFor example, if one chooses a classification tree, then boosting and bagging would be a pool of trees with a size equal to the user’s preference.'"
            ],
            "application/vnd.google.colaboratory.intrinsic+json": {
              "type": "string"
            }
          },
          "metadata": {},
          "execution_count": 2
        }
      ]
    },
    {
      "cell_type": "code",
      "source": [
        "## Q3. How does the choice of base learner affect the bias-variance tradeoff in bagging?\n",
        "'''The choice of base learner can affect the bias-variance tradeoff in bagging. \n",
        "Balancing the bias and variance tradeoff in machine learning is an important step in achieving good model performance. \n",
        "Different algorithms have different levels of bias and variance, so choosing an appropriate algorithm for the problem at hand is an important step. \n",
        "Bagging can be used with any type of base learner algorithm.'''"
      ],
      "metadata": {
        "colab": {
          "base_uri": "https://localhost:8080/",
          "height": 53
        },
        "id": "M23HfjWe4_0c",
        "outputId": "fbb6b9c6-015e-4c70-ba79-04d1c19f488d"
      },
      "execution_count": 3,
      "outputs": [
        {
          "output_type": "execute_result",
          "data": {
            "text/plain": [
              "'The choice of base learner can affect the bias-variance tradeoff in bagging. \\nBalancing the bias and variance tradeoff in machine learning is an important step in achieving good model performance. \\nDifferent algorithms have different levels of bias and variance, so choosing an appropriate algorithm for the problem at hand is an important step. \\nBagging can be used with any type of base learner algorithm.'"
            ],
            "application/vnd.google.colaboratory.intrinsic+json": {
              "type": "string"
            }
          },
          "metadata": {},
          "execution_count": 3
        }
      ]
    },
    {
      "cell_type": "code",
      "source": [
        "## Q4. Can bagging be used for both classification and regression tasks? How does it differ in each case?\n",
        "'''Yes, bagging can be used for both classification and regression tasks. \n",
        "In bagging, either a regression or classification algorithm is applied to each sample. \n",
        "Finally, depending on the task (i.e. regression or classification), an average or a majority of the predictions are taken to compute a more accurate estimate.'''"
      ],
      "metadata": {
        "colab": {
          "base_uri": "https://localhost:8080/",
          "height": 53
        },
        "id": "8LZnes8L5Xak",
        "outputId": "6448f286-88f8-44a5-b05c-42cc93538add"
      },
      "execution_count": 4,
      "outputs": [
        {
          "output_type": "execute_result",
          "data": {
            "text/plain": [
              "'Yes, bagging can be used for both classification and regression tasks. \\nIn bagging, either a regression or classification algorithm is applied to each sample. \\nFinally, depending on the task (i.e. regression or classification), an average or a majority of the predictions are taken to compute a more accurate estimate.'"
            ],
            "application/vnd.google.colaboratory.intrinsic+json": {
              "type": "string"
            }
          },
          "metadata": {},
          "execution_count": 4
        }
      ]
    },
    {
      "cell_type": "code",
      "source": [
        "## Q5. What is the role of ensemble size in bagging? How many models should be included in the ensemble?\n",
        "'''The ensemble size in bagging plays an important role in determining the accuracy of the model. \n",
        "The simplest approach with bagging is to use a couple of small subsamples and bag them. \n",
        "If the ensemble accuracy is much higher than the base models, it’s working! But there is a tradeoff between base model accuracy and the gain you get through bagging.\n",
        "There is no fixed number of models that should be included in the ensemble as it depends on various factors such as data size, complexity of the problem, and computational resources.\n",
        " However, increasing the number of models in an ensemble can lead to better performance up to a certain point.'''"
      ],
      "metadata": {
        "colab": {
          "base_uri": "https://localhost:8080/",
          "height": 70
        },
        "id": "2NpslK_t5lKU",
        "outputId": "908a809d-7fff-4edd-f25c-9859f8e5b932"
      },
      "execution_count": 5,
      "outputs": [
        {
          "output_type": "execute_result",
          "data": {
            "text/plain": [
              "'The ensemble size in bagging plays an important role in determining the accuracy of the model. \\nThe simplest approach with bagging is to use a couple of small subsamples and bag them. \\nIf the ensemble accuracy is much higher than the base models, it’s working! But there is a tradeoff between base model accuracy and the gain you get through bagging.\\nThere is no fixed number of models that should be included in the ensemble as it depends on various factors such as data size, complexity of the problem, and computational resources.\\n However, increasing the number of models in an ensemble can lead to better performance up to a certain point.'"
            ],
            "application/vnd.google.colaboratory.intrinsic+json": {
              "type": "string"
            }
          },
          "metadata": {},
          "execution_count": 5
        }
      ]
    },
    {
      "cell_type": "code",
      "source": [
        "## Q6. Can you provide an example of a real-world application of bagging in machine learning?\n",
        "'''Bagging has been used in various real-world applications such as credit scoring, fraud detection, and medical diagnosis. \n",
        "For example, in credit scoring, bagging has been used to improve the accuracy of credit scoring models.'''"
      ],
      "metadata": {
        "colab": {
          "base_uri": "https://localhost:8080/",
          "height": 53
        },
        "id": "32uxYOLi5za0",
        "outputId": "e095b975-5190-40b7-945e-39f449fccbe6"
      },
      "execution_count": 6,
      "outputs": [
        {
          "output_type": "execute_result",
          "data": {
            "text/plain": [
              "'Bagging has been used in various real-world applications such as credit scoring, fraud detection, and medical diagnosis. \\nFor example, in credit scoring, bagging has been used to improve the accuracy of credit scoring models.'"
            ],
            "application/vnd.google.colaboratory.intrinsic+json": {
              "type": "string"
            }
          },
          "metadata": {},
          "execution_count": 6
        }
      ]
    }
  ]
}