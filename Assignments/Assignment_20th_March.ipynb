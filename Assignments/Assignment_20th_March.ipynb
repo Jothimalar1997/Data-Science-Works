{
  "nbformat": 4,
  "nbformat_minor": 0,
  "metadata": {
    "colab": {
      "provenance": []
    },
    "kernelspec": {
      "name": "python3",
      "display_name": "Python 3"
    },
    "language_info": {
      "name": "python"
    }
  },
  "cells": [
    {
      "cell_type": "code",
      "execution_count": 1,
      "metadata": {
        "colab": {
          "base_uri": "https://localhost:8080/",
          "height": 53
        },
        "id": "qHq0gYZ6tpkR",
        "outputId": "9354ea02-6b47-4487-ede8-1ed9c9fe39bb"
      },
      "outputs": [
        {
          "output_type": "execute_result",
          "data": {
            "text/plain": [
              "'Models only work with numerical values. For this reason, it is necessary to convert the categorical values of the features into numerical ones, \\nSo the machine can learn from those data and gives the right model. This process of converting categorical data into numerical data is called Data encoding.'"
            ],
            "application/vnd.google.colaboratory.intrinsic+json": {
              "type": "string"
            }
          },
          "metadata": {},
          "execution_count": 1
        }
      ],
      "source": [
        "## Q1. What is data encoding? How is it useful in data science?\n",
        "'''Models only work with numerical values. For this reason, it is necessary to convert the categorical values of the features into numerical ones, \n",
        "So the machine can learn from those data and gives the right model. This process of converting categorical data into numerical data is called Data encoding.'''"
      ]
    },
    {
      "cell_type": "code",
      "source": [
        "## Q2. What is nominal encoding? Provide an example of how you would use it in a real-world scenario.\n",
        "'''Encoding is a required pre-processing step when working with categorical data.\n",
        "When we have a feature where variables are just names and there is no order or rank to this variable's feature is known as nominal features and the process of converting this \n",
        "categorical values of the features into numerical ones is known as nominal encoding.\n",
        "For example: City of person lives in, Gender of person, Marital Status, etc…\n",
        "In the above example, We do not have any order or rank, or sequence. All the variables in the respective feature are equal. We can't give them any orders or ranks. Those features are called Nominal features.'''"
      ],
      "metadata": {
        "colab": {
          "base_uri": "https://localhost:8080/",
          "height": 70
        },
        "id": "VpQgsgHSv8h_",
        "outputId": "2e52e0c5-33b5-41c0-95d6-d0ea3400855a"
      },
      "execution_count": 2,
      "outputs": [
        {
          "output_type": "execute_result",
          "data": {
            "text/plain": [
              "\"Encoding is a required pre-processing step when working with categorical data.\\nWhen we have a feature where variables are just names and there is no order or rank to this variable's feature is known as nominal features and the process of converting this \\ncategorical values of the features into numerical ones is known as nominal encoding.\\nFor example: City of person lives in, Gender of person, Marital Status, etc…\\nIn the above example, We do not have any order or rank, or sequence. All the variables in the respective feature are equal. We can't give them any orders or ranks. Those features are called Nominal features.\""
            ],
            "application/vnd.google.colaboratory.intrinsic+json": {
              "type": "string"
            }
          },
          "metadata": {},
          "execution_count": 2
        }
      ]
    },
    {
      "cell_type": "code",
      "source": [
        "## Q3. In what situations is nominal encoding preferred over one-hot encoding? Provide a practical example.\n",
        "'''We can use Ordinal Encoding provided in Scikit learn class to encode Ordinal features. It ensures that ordinal nature of the variables is sustained AND\n",
        "when the number of categories is quite large as one-hot encoding can lead to high memory consumption.\n",
        "'''"
      ],
      "metadata": {
        "colab": {
          "base_uri": "https://localhost:8080/",
          "height": 53
        },
        "id": "ML3EL7juxlgQ",
        "outputId": "76e3e622-0aa9-4a88-a9b0-11cf8f9ac3ad"
      },
      "execution_count": 3,
      "outputs": [
        {
          "output_type": "execute_result",
          "data": {
            "text/plain": [
              "'We can use Ordinal Encoding provided in Scikit learn class to encode Ordinal features. It ensures that ordinal nature of the variables is sustained AND\\nwhen the number of categories is quite large as one-hot encoding can lead to high memory consumption.\\n'"
            ],
            "application/vnd.google.colaboratory.intrinsic+json": {
              "type": "string"
            }
          },
          "metadata": {},
          "execution_count": 3
        }
      ]
    },
    {
      "cell_type": "code",
      "source": [
        "'''Q4. Suppose you have a dataset containing categorical data with 5 unique values. Which encoding technique would you use to transform this data into a format suitable for machine learning algorithms?\n",
        "Explain why you made this choice.'''\n",
        "'''One Hot Encoding is the technique I wouldu se to transform this data into a format suitable for machine learning algorithms.\n",
        "One-hot encoding is appropriate when the categories do not have an intrinsic ordering or relationship with each other. \n",
        "This is because one-hot encoding treats each category as a separate entity with no relation to the other categories. \n",
        "One-hot encoding is also useful when the number of categories is relatively small, as the number of columns can become unwieldy for very large numbers of categories.'''"
      ],
      "metadata": {
        "colab": {
          "base_uri": "https://localhost:8080/",
          "height": 70
        },
        "id": "tdFSAFKY0UpR",
        "outputId": "c4123942-ba24-43b7-8e8e-41bc5a861dbf"
      },
      "execution_count": 4,
      "outputs": [
        {
          "output_type": "execute_result",
          "data": {
            "text/plain": [
              "'One Hot Encoding is the technique I wouldu se to transform this data into a format suitable for machine learning algorithms.\\nOne-hot encoding is appropriate when the categories do not have an intrinsic ordering or relationship with each other. \\nThis is because one-hot encoding treats each category as a separate entity with no relation to the other categories. \\nOne-hot encoding is also useful when the number of categories is relatively small, as the number of columns can become unwieldy for very large numbers of categories.'"
            ],
            "application/vnd.google.colaboratory.intrinsic+json": {
              "type": "string"
            }
          },
          "metadata": {},
          "execution_count": 4
        }
      ]
    },
    {
      "cell_type": "code",
      "source": [
        "'''Q5. In a machine learning project, you have a dataset with 1000 rows and 5 columns. Two of the columns are categorical, and the remaining three columns are numerical. If you were to use nominal encoding to\n",
        "transform the categorical data, how many new columns would be created? Show your calculations.'''\n",
        "## Let x be the no of levels in one categorical column and y be the no of levels in another categorical column. so we will have (3+x+y) columns since columns will be createf for each levels separetely. "
      ],
      "metadata": {
        "colab": {
          "base_uri": "https://localhost:8080/",
          "height": 53
        },
        "id": "Szrvhcjt3R5f",
        "outputId": "294c2f97-1671-4f48-d064-3b60595ca1c2"
      },
      "execution_count": 5,
      "outputs": [
        {
          "output_type": "execute_result",
          "data": {
            "text/plain": [
              "'Q5. In a machine learning project, you have a dataset with 1000 rows and 5 columns. Two of the columns are categorical, and the remaining three columns are numerical. If you were to use nominal encoding to\\ntransform the categorical data, how many new columns would be created? Show your calculations.'"
            ],
            "application/vnd.google.colaboratory.intrinsic+json": {
              "type": "string"
            }
          },
          "metadata": {},
          "execution_count": 5
        }
      ]
    },
    {
      "cell_type": "code",
      "source": [
        "'''Q6. You are working with a dataset containing information about different types of animals, including their species, habitat, and diet. Which encoding technique would you use to transform the categorical data into\n",
        "a format suitable for machine learning algorithms? Justify your answer.'''\n",
        "## I will use target specific guided ordinal encoding to transform the categorical data into numerical values since many sub-features are categorised."
      ],
      "metadata": {
        "colab": {
          "base_uri": "https://localhost:8080/",
          "height": 53
        },
        "id": "nh8ieaT7aR4v",
        "outputId": "cc02b834-1fa4-4130-f751-debca76877e8"
      },
      "execution_count": 6,
      "outputs": [
        {
          "output_type": "execute_result",
          "data": {
            "text/plain": [
              "'Q6. You are working with a dataset containing information about different types of animals, including their species, habitat, and diet. Which encoding technique would you use to transform the categorical data into\\na format suitable for machine learning algorithms? Justify your answer.'"
            ],
            "application/vnd.google.colaboratory.intrinsic+json": {
              "type": "string"
            }
          },
          "metadata": {},
          "execution_count": 6
        }
      ]
    },
    {
      "cell_type": "code",
      "source": [
        "'''Q7.You are working on a project that involves predicting customer churn for a telecommunications company. You have a dataset with 5 features, including the customer's gender, age, contract type,\n",
        "monthly charges, and tenure. Which encoding technique(s) would you use to transform the categorical data into numerical data? Provide a step-by-step explanation of how you would implement the encoding.'''\n",
        "## For customer's gender, I will use nominal encoding and for contract type, I will use label encoding or ordinal encoding."
      ],
      "metadata": {
        "colab": {
          "base_uri": "https://localhost:8080/",
          "height": 53
        },
        "id": "gj40JULoazjG",
        "outputId": "96a184b5-dc8e-4bbb-a3b0-a127149a5f48"
      },
      "execution_count": 7,
      "outputs": [
        {
          "output_type": "execute_result",
          "data": {
            "text/plain": [
              "\"Q7.You are working on a project that involves predicting customer churn for a telecommunications company. You have a dataset with 5 features, including the customer's gender, age, contract type,\\nmonthly charges, and tenure. Which encoding technique(s) would you use to transform the categorical data into numerical data? Provide a step-by-step explanation of how you would implement the encoding.\""
            ],
            "application/vnd.google.colaboratory.intrinsic+json": {
              "type": "string"
            }
          },
          "metadata": {},
          "execution_count": 7
        }
      ]
    }
  ]
}