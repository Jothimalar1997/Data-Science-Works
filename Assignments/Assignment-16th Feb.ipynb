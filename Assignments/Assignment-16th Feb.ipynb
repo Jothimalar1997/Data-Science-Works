{
 "cells": [
  {
   "cell_type": "markdown",
   "id": "d10865a0-bc16-4187-a9fb-88843b5b1a70",
   "metadata": {},
   "source": [
    "## 1) Database and difference between sql and nosql:"
   ]
  },
  {
   "cell_type": "markdown",
   "id": "11791887-f8ec-45e8-b313-94bccfcd0ec6",
   "metadata": {},
   "source": [
    "### Database:\n",
    "(i) Database is an organised collection of structured information that is stored electronically in computer which can be easily accessed and managed.\n",
    "(ii) It is controlled by Database Management System(DBMS).\n",
    "(iii) The main purpose of database is to operate large amount of information by storing,retreiving and managing data.\n",
    "### Difference between sql and nosql:\n",
    "(i) sql database is also called as relational database, nosql is called as non-relational or distributed database.\n",
    "(ii) sql db has pre-defined or fixed schema, nosql has dynamic schema.\n",
    "(iii) sql db is not suited for hierarchial data storage, nosql db is best suited for hierarchial data storage.\n",
    "(iv) sql db is suited for complex queries, nosql db is not suited for complex queries.\n",
    "(v) sql db is verically scalable, nosql db is horiontally scalable.\n",
    "(vi) sql db follows ACID(Atomicity,Consistency,Isolation,Durability) property, nosql follows CAP(Consistency,Avai"
   ]
  },
  {
   "cell_type": "markdown",
   "id": "c2e331db-72a8-400f-8d0c-3e14260670df",
   "metadata": {},
   "source": [
    "## 2) DDL:"
   ]
  },
  {
   "cell_type": "markdown",
   "id": "a17eb140-923a-40f9-acdc-b6ddad4d7a17",
   "metadata": {},
   "source": [
    "DDL is the Data Definition Language used to define database schema.It deals with the description of database schema.\n",
    "It is used to create and modify the structure of database objects in the database.\n",
    "DDL is a set of commands used to create,modify and delete the database structure but not the data."
   ]
  },
  {
   "cell_type": "markdown",
   "id": "745d8deb-fc2f-460f-8eca-137ee5da29dd",
   "metadata": {},
   "source": [
    "### DDL COMMANDS:\n",
    "create- It is used to create the database or its objects.\n",
    "drop- It is used to delete the objects from the database.\n",
    "alter- It is used to alter the structure of the database.\n",
    "truncate- It is used to remove all the records from the table including the space allocated for it.\n",
    "\n",
    "### Example:\n",
    "(i) create table student(name varchar(20), age int(2), course varchar(20))\n",
    "(ii) alter table student add year int(4)\n",
    "(iii) drop table student\n",
    "(iv) drop table student"
   ]
  },
  {
   "cell_type": "markdown",
   "id": "31d6a81b-3a2f-4b23-8f8b-007bdfc50af9",
   "metadata": {},
   "source": [
    "## 3) DML:"
   ]
  },
  {
   "cell_type": "markdown",
   "id": "cd3cff9c-2fe0-4f32-9352-fcf2cea928a6",
   "metadata": {},
   "source": [
    "DML is the Data Manipulation Language that is used to manipulate the data present in the database. It consists of insert,delete,update and lock commands\n",
    "\n",
    "### Example:\n",
    "(i) insert into student('jothi',24,'data science')\n",
    "(ii) update student set(age=25) where name='jothi';\n",
    "(iii) delete from student where course='data science'"
   ]
  },
  {
   "cell_type": "markdown",
   "id": "df27dd40-0279-4950-97d3-5c1d1201a256",
   "metadata": {},
   "source": [
    "### DML commands:"
   ]
  },
  {
   "cell_type": "markdown",
   "id": "e37ce6c3-e5f0-4e80-ac7b-c2f86a71e006",
   "metadata": {},
   "source": [
    "insert- Used to insert data into the table.\n",
    "update- Used to update existing data within the table.\n",
    "delete- Used to delete data from the table."
   ]
  },
  {
   "cell_type": "markdown",
   "id": "afd2a868-34a8-4350-8ac5-bed9f7f4717f",
   "metadata": {},
   "source": [
    "## 4) DQL:"
   ]
  },
  {
   "cell_type": "markdown",
   "id": "b175d903-8918-4dbc-bb69-0f954faaa064",
   "metadata": {},
   "source": [
    "DQL is the Data Query Language used to retreive data from the user with the help of Select command.\n",
    "\n",
    "### Example:\n",
    "SELECT * from student;"
   ]
  },
  {
   "cell_type": "markdown",
   "id": "e132160c-aba9-415f-ac34-2bc64cd84eaf",
   "metadata": {},
   "source": [
    "## 5) Primary key and Foreign key:"
   ]
  },
  {
   "cell_type": "markdown",
   "id": "51aaa8a2-b7c3-44a2-89d1-f5dee44b9fec",
   "metadata": {},
   "source": [
    "Primary key is used to ensure data in the specific column is unique.It uniquely identifies the data in the table. Only one primary key is allowed in the table. It is a combination of Unique and Not null constraints. It does not allow Null values. It's value cannot be deleted from the parent table. Its constraint can be implicity defined on the temporary tables. Foreignn key is a column or a group of columns in a relational database table that provides a link between data in two tables. It refers to the field in a table which is the primary key of another table. More than one foreign key is allowed. It can contains duplicate values and table in database. It can also contains null value. Its value can be deleted from the child table. Its contraint cannot be defined on the local or global temporary tables."
   ]
  },
  {
   "cell_type": "markdown",
   "id": "5407ff33-8757-475b-8212-dac97e60f31d",
   "metadata": {},
   "source": [
    "## 6) cursor() and execute() methods:"
   ]
  },
  {
   "cell_type": "markdown",
   "id": "a30eeac2-5e02-4684-851d-515e11969e48",
   "metadata": {},
   "source": [
    "cursor() enables the python script to use database session to run. Connection class is used to create curson().\n",
    "execute() is used to execute sql commands."
   ]
  },
  {
   "cell_type": "code",
   "execution_count": null,
   "id": "7de4050d-c228-4eec-8d9d-a347c36ab474",
   "metadata": {},
   "outputs": [],
   "source": [
    "import mysql.connector\n",
    "mydb=mqsql.connector.connect(host=\"localhost\",user='abc',password='password')\n",
    "mycursor=mydb.cursor()\n",
    "mycursor.execute('show databases')\n",
    "for x in mycursor:\n",
    "    print(x)"
   ]
  },
  {
   "cell_type": "markdown",
   "id": "47ad2e30-3def-41ce-9d29-9699a8019514",
   "metadata": {},
   "source": [
    "## 7) Order of execution of SQL clauses in an SQL query:"
   ]
  },
  {
   "cell_type": "markdown",
   "id": "4b8942a7-0914-4c73-9d02-40e578d6c605",
   "metadata": {},
   "source": [
    "The order of execution of sql cluases in an sql query process as follows:\n",
    "1) FROM\n",
    "2) ON\n",
    "3) OUTER\n",
    "4) WHERE\n",
    "5) GROUP BY\n",
    "6) HAVING \n",
    "7) SELECT\n",
    "8) DISTINCT\n",
    "9) ORDER BY\n",
    "10) TOP"
   ]
  }
 ],
 "metadata": {
  "kernelspec": {
   "display_name": "Python 3 (ipykernel)",
   "language": "python",
   "name": "python3"
  },
  "language_info": {
   "codemirror_mode": {
    "name": "ipython",
    "version": 3
   },
   "file_extension": ".py",
   "mimetype": "text/x-python",
   "name": "python",
   "nbconvert_exporter": "python",
   "pygments_lexer": "ipython3",
   "version": "3.10.8"
  }
 },
 "nbformat": 4,
 "nbformat_minor": 5
}
