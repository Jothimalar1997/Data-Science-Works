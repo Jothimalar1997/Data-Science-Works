{
  "nbformat": 4,
  "nbformat_minor": 0,
  "metadata": {
    "colab": {
      "provenance": []
    },
    "kernelspec": {
      "name": "python3",
      "display_name": "Python 3"
    },
    "language_info": {
      "name": "python"
    }
  },
  "cells": [
    {
      "cell_type": "code",
      "execution_count": 1,
      "metadata": {
        "colab": {
          "base_uri": "https://localhost:8080/",
          "height": 105
        },
        "id": "wXF6mKu7iC6k",
        "outputId": "834ca03c-9edf-47cd-d896-a9f094ce8603"
      },
      "outputs": [
        {
          "output_type": "execute_result",
          "data": {
            "text/plain": [
              "' Deep learning is a branch of machine learning which is completely based on artificial neural networks, as neural network is going to mimic the human brain so deep learning is also a kind of mimic of human brain. \\nIn deep learning, we don’t need to explicitly program everything. \\nIt is a subset of Machine Learning that is based on artificial neural networks (ANNs) with multiple layers, also known as deep neural networks (DNNs). These neural networks are inspired by the structure and function of \\nthe human brain, and they are designed to learn from large amounts of data in an unsupervised or semi-supervised manner.\\nDeep Learning models are able to automatically learn features from the data, which makes them well-suited for tasks such as image recognition, speech recognition, and natural language processing. \\nThe most widely used architectures in deep learning are feedforward neural networks, convolutional neural networks (CNNs), and recurrent neural networks (RNNs).'"
            ],
            "application/vnd.google.colaboratory.intrinsic+json": {
              "type": "string"
            }
          },
          "metadata": {},
          "execution_count": 1
        }
      ],
      "source": [
        "## Q1) (i) Artificial Intelligence:\n",
        "'''Artificial intelligence (AI) is intelligence—perceiving, synthesizing, and inferring information—demonstrated by machines, as opposed to intelligence displayed by non-human animals and humans. \n",
        "Example tasks in which this is done include speech recognition, computer vision, translation between (natural) languages, as well as other mappings of inputs.'''\n",
        "## (ii) Machine Learning:\n",
        "'''Machine learning is a branch of artificial intelligence (AI) and computer science which focuses on the use of data and algorithms to imitate the way that humans learn, gradually improving its accuracy.\n",
        "It is the field of study that gives computers the capability to learn without being explicitly programmed.\n",
        "As it is evident from the name, it gives the computer that makes it more similar to humans: The ability to learn.'''\n",
        "## (iii) Deep Learning:\n",
        "''' Deep learning is a branch of machine learning which is completely based on artificial neural networks, as neural network is going to mimic the human brain so deep learning is also a kind of mimic of human brain. \n",
        "In deep learning, we don’t need to explicitly program everything. \n",
        "It is a subset of Machine Learning that is based on artificial neural networks (ANNs) with multiple layers, also known as deep neural networks (DNNs). These neural networks are inspired by the structure and function of \n",
        "the human brain, and they are designed to learn from large amounts of data in an unsupervised or semi-supervised manner.\n",
        "Deep Learning models are able to automatically learn features from the data, which makes them well-suited for tasks such as image recognition, speech recognition, and natural language processing. \n",
        "The most widely used architectures in deep learning are feedforward neural networks, convolutional neural networks (CNNs), and recurrent neural networks (RNNs).'''"
      ]
    },
    {
      "cell_type": "code",
      "source": [
        "## Q2) What is supervised learning? List some examples of supervised learning.\n",
        "'''Supervised learning, also known as supervised machine learning, is a subcategory of machine learning and artificial intelligence. \n",
        "It is defined by its use of labeled datasets to train algorithms that to classify data or predict outcomes accurately. \n",
        "As input data is fed into the model, it adjusts its weights until the model has been fitted appropriately, which occurs as part of the cross validation process. \n",
        "Supervised learning helps organizations solve for a variety of real-world problems at scale, such as \n",
        "(i) classifying spam in a separate folder from your inbox.\n",
        "i.e.:Spam detection:organizations can train databases to recognize patterns or anomalies in new data to organize spam and non-spam-related correspondences effectively.\n",
        "(ii) Image- and object-recognition: Supervised learning algorithms can be used to locate, isolate, and categorize objects out of videos or images, making them useful when \n",
        "applied to various computer vision techniques and imagery analysis.\n",
        "(iii) Predictive analytics: A widespread use case for supervised learning models is in creating predictive analytics systems to provide deep insights into various business data points.\n",
        "This allows enterprises to anticipate certain results based on a given output variable, helping business leaders justify decisions or pivot for the benefit of the organization.'''"
      ],
      "metadata": {
        "colab": {
          "base_uri": "https://localhost:8080/",
          "height": 105
        },
        "id": "1sOvwCrtujQy",
        "outputId": "c7ac37ba-4072-4085-970e-bea56293201d"
      },
      "execution_count": 2,
      "outputs": [
        {
          "output_type": "execute_result",
          "data": {
            "text/plain": [
              "'Supervised learning, also known as supervised machine learning, is a subcategory of machine learning and artificial intelligence. \\nIt is defined by its use of labeled datasets to train algorithms that to classify data or predict outcomes accurately. \\nAs input data is fed into the model, it adjusts its weights until the model has been fitted appropriately, which occurs as part of the cross validation process. \\nSupervised learning helps organizations solve for a variety of real-world problems at scale, such as \\n(i) classifying spam in a separate folder from your inbox.\\ni.e.:Spam detection:organizations can train databases to recognize patterns or anomalies in new data to organize spam and non-spam-related correspondences effectively.\\n(ii) Image- and object-recognition: Supervised learning algorithms can be used to locate, isolate, and categorize objects out of videos or images, making them useful when \\napplied to various computer vision techniques and imagery analysis.\\n(iii) Predictive analytics: A widespread use case for supervised learning models is in creating predictive analytics systems to provide deep insights into various business data points.\\nThis allows enterprises to anticipate certain results based on a given output variable, helping business leaders justify decisions or pivot for the benefit of the organization.'"
            ],
            "application/vnd.google.colaboratory.intrinsic+json": {
              "type": "string"
            }
          },
          "metadata": {},
          "execution_count": 2
        }
      ]
    },
    {
      "cell_type": "code",
      "source": [
        "## Q3) What is unsupervised learning? List some examples of unsupervised learning.\n",
        "'''Unsupervised learning, also known as unsupervised machine learning, uses machine learning algorithms to analyze and cluster unlabeled datasets. \n",
        "These algorithms discover hidden patterns or data groupings without the need for human intervention. \n",
        "Its ability to discover similarities and differences in information make it the ideal solution for exploratory data analysis, cross-selling strategies, customer segmentation, and image recognition.\n",
        "eg:\n",
        "(i) Anomaly detection: Unsupervised learning models can comb through large amounts of data and discover atypical data points within a dataset. These anomalies can raise awareness around faulty equipment, human error, \n",
        "or breaches in security.\n",
        "(ii) Customer personas: Defining customer personas makes it easier to understand common traits and business clients' purchasing habits. Unsupervised learning allows businesses to build better buyer persona profiles, \n",
        "enabling organizations to align their product messaging more appropriately.\n",
        "(iii) Recommendation Engines: Using past purchase behavior data, unsupervised learning can help to discover data trends that can be used to develop more effective cross-selling strategies. \n",
        "This is used to make relevant add-on recommendations to customers during the checkout process for online retailers.'''"
      ],
      "metadata": {
        "colab": {
          "base_uri": "https://localhost:8080/",
          "height": 105
        },
        "id": "XhN88BgTvPJ1",
        "outputId": "4fa2b227-e74c-4584-b76b-d632f905a519"
      },
      "execution_count": 3,
      "outputs": [
        {
          "output_type": "execute_result",
          "data": {
            "text/plain": [
              "\"Unsupervised learning, also known as unsupervised machine learning, uses machine learning algorithms to analyze and cluster unlabeled datasets. \\nThese algorithms discover hidden patterns or data groupings without the need for human intervention. \\nIts ability to discover similarities and differences in information make it the ideal solution for exploratory data analysis, cross-selling strategies, customer segmentation, and image recognition.\\neg:\\n(i) Anomaly detection: Unsupervised learning models can comb through large amounts of data and discover atypical data points within a dataset. These anomalies can raise awareness around faulty equipment, human error, \\nor breaches in security.\\n(ii) Customer personas: Defining customer personas makes it easier to understand common traits and business clients' purchasing habits. Unsupervised learning allows businesses to build better buyer persona profiles, \\nenabling organizations to align their product messaging more appropriately.\\n(iii) Recommendation Engines: Using past purchase behavior data, unsupervised learning can help to discover data trends that can be used to develop more effective cross-selling strategies. \\nThis is used to make relevant add-on recommendations to customers during the checkout process for online retailers.\""
            ],
            "application/vnd.google.colaboratory.intrinsic+json": {
              "type": "string"
            }
          },
          "metadata": {},
          "execution_count": 3
        }
      ]
    },
    {
      "cell_type": "code",
      "source": [
        "## Q4) What is the difference between AI, ML, DL, and DS?\n",
        "'''(i) Artificial Intelligence is a smart application that can perform its own task without any human intervention. Eg: self driving cars, Robots.\n",
        "(ii) Machine Learning is the subset of artificail intelligence that provides statstool to learn, analyse, visualize and develop predictive models from the data. Eg: Recommendation system in Netfix, Amazon.\n",
        "(iii) Deep Learning is the subset of machine Learning that mimic human brainwhich is completely based on artificial neural networks. Eg: Image Recognition,ChatBot,Object Detection.\n",
        "(iv) Data science is an interdisciplinary field that involves various methods, tools, and techniques to analyze and extract knowledge and insight from data.\n",
        "It also involves using mathematical approaches, such as statistics and probabilities.\n",
        "Data science combines various fields. For example Statistics, Computer Science, Domain Specific Knowledge, Visualization, data engineering techniques, data quality techniques, and data profiling techniques to \n",
        "analyze and interpret complex data sets.\n",
        "It involves tasks such as data cleaning, data preprocessing, data analysis, data visualization, and data interpretation.'''"
      ],
      "metadata": {
        "colab": {
          "base_uri": "https://localhost:8080/",
          "height": 105
        },
        "id": "5P1RAzQtwKek",
        "outputId": "ce35d7c1-464b-4bda-a3c1-32ce47d5f28c"
      },
      "execution_count": 4,
      "outputs": [
        {
          "output_type": "execute_result",
          "data": {
            "text/plain": [
              "'(i) Artificial Intelligence is a smart application that can perform its own task without any human intervention. Eg: self driving cars, Robots.\\n(ii) Machine Learning is the subset of artificail intelligence that provides statstool to learn, analyse, visualize and develop predictive models from the data. Eg: Recommendation system in Netfix, Amazon.\\n(iii) Deep Learning is the subset of machine Learning that mimic human brainwhich is completely based on artificial neural networks. Eg: Image Recognition,ChatBot,Object Detection.\\n(iv) Data science is an interdisciplinary field that involves various methods, tools, and techniques to analyze and extract knowledge and insight from data.\\nIt also involves using mathematical approaches, such as statistics and probabilities.\\nData science combines various fields. For example Statistics, Computer Science, Domain Specific Knowledge, Visualization, data engineering techniques, data quality techniques, and data profiling techniques to \\nanalyze and interpret complex data sets.\\nIt involves tasks such as data cleaning, data preprocessing, data analysis, data visualization, and data interpretation.'"
            ],
            "application/vnd.google.colaboratory.intrinsic+json": {
              "type": "string"
            }
          },
          "metadata": {},
          "execution_count": 4
        }
      ]
    },
    {
      "cell_type": "code",
      "source": [
        "## Q5) What are the main differences between supervised, unsupervised, and semi-supervised learning?\n",
        "'''(i) Supervised learning is a category in which we feed the labeled data as input to the machine learning models. Here, the input and output values are already known and the ML model will learn the mapping function.\n",
        "Eg: Classification and Regression problems.\n",
        "(ii) Unsupervised learning is a category in which we have only the input data to feed the machine learning models but no corresponding output data. Here, the input values are already known but the output and mapping function\n",
        "both are unknown.\n",
        "Eg: Clustering and Association problems.\n",
        "(iii) Semi-supervised learning is a category in which we have the input data and only some of the input data are labeled. Based on its input data, we find the pattern and mappinhg function...'''"
      ],
      "metadata": {
        "colab": {
          "base_uri": "https://localhost:8080/",
          "height": 87
        },
        "id": "e-Ne5cGRy7sE",
        "outputId": "fd168b93-c66a-404b-c009-e1249dc8bdf0"
      },
      "execution_count": 5,
      "outputs": [
        {
          "output_type": "execute_result",
          "data": {
            "text/plain": [
              "'(i) Supervised learning is a category in which we feed the labeled data as input to the machine learning models. Here, the input and output values are already known and the ML model will learn the mapping function.\\nEg: Classification and Regression problems.\\n(ii) Unsupervised learning is a category in which we have only the input data to feed the machine learning models but no corresponding output data. Here, the input values are already known but the output and mapping function\\nboth are unknown.\\nEg: Clustering and Association problems.\\n(iii) Semi-supervised learning is a category in which we have the input data and only some of the input data are labeled. Based on its input data, we find the pattern and mappinhg function...'"
            ],
            "application/vnd.google.colaboratory.intrinsic+json": {
              "type": "string"
            }
          },
          "metadata": {},
          "execution_count": 5
        }
      ]
    },
    {
      "cell_type": "code",
      "source": [
        "##  Q6) What is train, test and validation split? Explain the importance of each term.\n",
        "'''\n",
        "(i) Training Set:\n",
        "This is the actual dataset from which a model trains .i.e. the model sees and learns from this data to predict the outcome or to make the right decisions. \n",
        "Most of the training data is collected from several resources and then preprocessed and organized to provide proper performance of the model. Type of training data hugely determines the ability of the model to generalize .\n",
        "i.e. the better the quality and diversity of training data, the better will be the performance of the model. This data is more than 60% of the total data available for the project.\n",
        "(ii) Testing Set:\n",
        "This dataset is independent of the training set but has a somewhat similar type of probability distribution of classes and is used as a benchmark to evaluate the model, used only after the training of the model is complete. \n",
        "Testing set is usually a properly organized dataset having all kinds of data for scenarios that the model would probably be facing when used in the real world. Often the validation and testing set combined is used as a \n",
        "testing set which is not considered a good practice. If the accuracy of the model on training data is greater than that on testing data then the model is said to have overfitting. \n",
        "This data is approximately 20-25% of the total data available for the project.\n",
        "(iii) Validation Set:\n",
        "The validation set is used to fine-tune the hyperparameters of the model and is considered a part of the training of the model. \n",
        "The model only sees this data for evaluation but does not learn from this data, providing an objective unbiased evaluation of the model. \n",
        "Validation dataset can be utilized for regression as well by interrupting training of model when loss of validation dataset becomes greater than loss of training dataset .i.e. reducing bias and variance. \n",
        "This data is approximately 10-15% of the total data available for the project but this can change depending upon the number of hyperparameters.\n",
        "i.e. if model has quite many hyperparameters then using large validation set will give better results. \n",
        "Now, whenever the accuracy of model on validation data is greater than that on training data then the model is said to have generalized well.'''"
      ],
      "metadata": {
        "colab": {
          "base_uri": "https://localhost:8080/",
          "height": 105
        },
        "id": "XRXej2-O1_Z7",
        "outputId": "9d159d30-5b62-4099-83f4-7d4b4b5c854f"
      },
      "execution_count": 6,
      "outputs": [
        {
          "output_type": "execute_result",
          "data": {
            "text/plain": [
              "'\\n(i) Training Set:\\nThis is the actual dataset from which a model trains .i.e. the model sees and learns from this data to predict the outcome or to make the right decisions. \\nMost of the training data is collected from several resources and then preprocessed and organized to provide proper performance of the model. Type of training data hugely determines the ability of the model to generalize .\\ni.e. the better the quality and diversity of training data, the better will be the performance of the model. This data is more than 60% of the total data available for the project.\\n(ii) Testing Set:\\nThis dataset is independent of the training set but has a somewhat similar type of probability distribution of classes and is used as a benchmark to evaluate the model, used only after the training of the model is complete. \\nTesting set is usually a properly organized dataset having all kinds of data for scenarios that the model would probably be facing when used in the real world. Often the validation and testing set combined is used as a \\ntesting set which is not considered a good practice. If the accuracy of the model on training data is greater than that on testing data then the model is said to have overfitting. \\nThis data is approximately 20-25% of the total data available for the project.\\n(iii) Validation Set:\\nThe validation set is used to fine-tune the hyperparameters of the model and is considered a part of the training of the model. \\nThe model only sees this data for evaluation but does not learn from this data, providing an objective unbiased evaluation of the model. \\nValidation dataset can be utilized for regression as well by interrupting training of model when loss of validation dataset becomes greater than loss of training dataset .i.e. reducing bias and variance. \\nThis data is approximately 10-15% of the total data available for the project but this can change depending upon the number of hyperparameters.\\ni.e. if model has quite many hyperparameters then using large validation set will give better results. \\nNow, whenever the accuracy of model on validation data is greater than that on training data then the model is said to have generalized well.'"
            ],
            "application/vnd.google.colaboratory.intrinsic+json": {
              "type": "string"
            }
          },
          "metadata": {},
          "execution_count": 6
        }
      ]
    },
    {
      "cell_type": "code",
      "source": [
        "## Q7) How can unsupervised learning be used in anomaly detection?\n",
        "'''Unsupervised machine learning is one of the main branches of machine learning and it has a multitude of applications. \n",
        "One of the most important is anomaly detection: identifying normal patterns within a data sample and then detecting outliers based on the natural characteristics of the data set itself.\n",
        "(i) Isolation Forest:\n",
        "One of the typical algorithm for anomaly detection is Isolation Forest. \n",
        "The logic it follows is different from other known methods and revolves around the idea that abnormal points within datasets are easier to isolate than normal points. \n",
        "To achieve this, the algorithm generates partitions of the dataset by randomly selecting an attribute, \n",
        "then takes a random value of that attribute and splits the sample into two parts, grouping those above and below that value. These operations are repeated until all observations are isolated.\n",
        "The main differentiation of this algorithm is that it requires less processing power than other methods, which makes it particularly suitable for large datasets (high-dimensional data).\n",
        "(ii) Density Based Scan Clustering (DBSCAN):\n",
        "DBSCAN (Density-Based Spatial Clustering of Applications with Noise) is a very useful algorithm for identifying noise in data. \n",
        "The logic of this algorithm is based on identifying a series of central points determined by the neighbouring points of each data within a defined radius. \n",
        "These 'neighbourhoods' of data will form clusters, so that data outside of them will be identified as noise.\n",
        "The main advantage of this algorithm is that it specifies the number of clusters itself and can group them in many different shapes and sizes. This makes it a very useful algorithm for working with noisy data and outliers.'''"
      ],
      "metadata": {
        "colab": {
          "base_uri": "https://localhost:8080/",
          "height": 105
        },
        "id": "L1hIsYIH4SHK",
        "outputId": "e7b9a6b0-8616-452d-9b7a-ffb2be2cead0"
      },
      "execution_count": 7,
      "outputs": [
        {
          "output_type": "execute_result",
          "data": {
            "text/plain": [
              "\"Unsupervised machine learning is one of the main branches of machine learning and it has a multitude of applications. \\nOne of the most important is anomaly detection: identifying normal patterns within a data sample and then detecting outliers based on the natural characteristics of the data set itself.\\n(i) Isolation Forest:\\nOne of the typical algorithm for anomaly detection is Isolation Forest. \\nThe logic it follows is different from other known methods and revolves around the idea that abnormal points within datasets are easier to isolate than normal points. \\nTo achieve this, the algorithm generates partitions of the dataset by randomly selecting an attribute, \\nthen takes a random value of that attribute and splits the sample into two parts, grouping those above and below that value. These operations are repeated until all observations are isolated.\\nThe main differentiation of this algorithm is that it requires less processing power than other methods, which makes it particularly suitable for large datasets (high-dimensional data).\\n(ii) Density Based Scan Clustering (DBSCAN):\\nDBSCAN (Density-Based Spatial Clustering of Applications with Noise) is a very useful algorithm for identifying noise in data. \\nThe logic of this algorithm is based on identifying a series of central points determined by the neighbouring points of each data within a defined radius. \\nThese 'neighbourhoods' of data will form clusters, so that data outside of them will be identified as noise.\\nThe main advantage of this algorithm is that it specifies the number of clusters itself and can group them in many different shapes and sizes. This makes it a very useful algorithm for working with noisy data and outliers.\""
            ],
            "application/vnd.google.colaboratory.intrinsic+json": {
              "type": "string"
            }
          },
          "metadata": {},
          "execution_count": 7
        }
      ]
    },
    {
      "cell_type": "code",
      "source": [
        "## Q8) List down some commonly used supervised learning algorithms and unsupervised learning algorithms.\n",
        "'''Some popular examples of \n",
        "(i) Supervised machine learning algorithms are:\n",
        "   - Linear regression for regression problems. \n",
        "   - Random forest for classification and regression problems.\n",
        "   - Support vector machines for classification problems.\n",
        "(ii) Unsupervised machine learning algorithms are:\n",
        "   - k-means for clustering problems.\n",
        "   - Apriori algorithm for association rule learning problems.'''"
      ],
      "metadata": {
        "colab": {
          "base_uri": "https://localhost:8080/",
          "height": 53
        },
        "id": "yYPab9Kd4k6R",
        "outputId": "2ff9b61d-fa05-4ed3-ecd4-970600d06c0d"
      },
      "execution_count": 8,
      "outputs": [
        {
          "output_type": "execute_result",
          "data": {
            "text/plain": [
              "'Some popular examples of \\n(i) Supervised machine learning algorithms are:\\n   - Linear regression for regression problems. \\n   - Random forest for classification and regression problems.\\n   - Support vector machines for classification problems.\\n(ii) Unsupervised machine learning algorithms are:\\n   - k-means for clustering problems.\\n   - Apriori algorithm for association rule learning problems.'"
            ],
            "application/vnd.google.colaboratory.intrinsic+json": {
              "type": "string"
            }
          },
          "metadata": {},
          "execution_count": 8
        }
      ]
    }
  ]
}