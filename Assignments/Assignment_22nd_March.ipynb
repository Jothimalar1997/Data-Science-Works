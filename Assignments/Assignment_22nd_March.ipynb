{
  "nbformat": 4,
  "nbformat_minor": 0,
  "metadata": {
    "colab": {
      "provenance": []
    },
    "kernelspec": {
      "name": "python3",
      "display_name": "Python 3"
    },
    "language_info": {
      "name": "python"
    }
  },
  "cells": [
    {
      "cell_type": "code",
      "execution_count": 1,
      "metadata": {
        "colab": {
          "base_uri": "https://localhost:8080/",
          "height": 216
        },
        "id": "yyrgkiZt5JGX",
        "outputId": "55a0ab6b-4b00-4d05-ff58-b48f3a3c4aa1"
      },
      "outputs": [
        {
          "output_type": "stream",
          "name": "stdout",
          "text": [
            "   Hrs of study  Results\n",
            "0             3       60\n",
            "1             5      100\n",
            "2             4       80\n",
            "3             2       40\n",
            "4             1       20\n"
          ]
        },
        {
          "output_type": "execute_result",
          "data": {
            "text/plain": [
              "              Hrs of study  Results\n",
              "Hrs of study           1.0      1.0\n",
              "Results                1.0      1.0"
            ],
            "text/html": [
              "\n",
              "  <div id=\"df-7be6cdbd-c560-40fa-a928-1ffc4a407145\">\n",
              "    <div class=\"colab-df-container\">\n",
              "      <div>\n",
              "<style scoped>\n",
              "    .dataframe tbody tr th:only-of-type {\n",
              "        vertical-align: middle;\n",
              "    }\n",
              "\n",
              "    .dataframe tbody tr th {\n",
              "        vertical-align: top;\n",
              "    }\n",
              "\n",
              "    .dataframe thead th {\n",
              "        text-align: right;\n",
              "    }\n",
              "</style>\n",
              "<table border=\"1\" class=\"dataframe\">\n",
              "  <thead>\n",
              "    <tr style=\"text-align: right;\">\n",
              "      <th></th>\n",
              "      <th>Hrs of study</th>\n",
              "      <th>Results</th>\n",
              "    </tr>\n",
              "  </thead>\n",
              "  <tbody>\n",
              "    <tr>\n",
              "      <th>Hrs of study</th>\n",
              "      <td>1.0</td>\n",
              "      <td>1.0</td>\n",
              "    </tr>\n",
              "    <tr>\n",
              "      <th>Results</th>\n",
              "      <td>1.0</td>\n",
              "      <td>1.0</td>\n",
              "    </tr>\n",
              "  </tbody>\n",
              "</table>\n",
              "</div>\n",
              "      <button class=\"colab-df-convert\" onclick=\"convertToInteractive('df-7be6cdbd-c560-40fa-a928-1ffc4a407145')\"\n",
              "              title=\"Convert this dataframe to an interactive table.\"\n",
              "              style=\"display:none;\">\n",
              "        \n",
              "  <svg xmlns=\"http://www.w3.org/2000/svg\" height=\"24px\"viewBox=\"0 0 24 24\"\n",
              "       width=\"24px\">\n",
              "    <path d=\"M0 0h24v24H0V0z\" fill=\"none\"/>\n",
              "    <path d=\"M18.56 5.44l.94 2.06.94-2.06 2.06-.94-2.06-.94-.94-2.06-.94 2.06-2.06.94zm-11 1L8.5 8.5l.94-2.06 2.06-.94-2.06-.94L8.5 2.5l-.94 2.06-2.06.94zm10 10l.94 2.06.94-2.06 2.06-.94-2.06-.94-.94-2.06-.94 2.06-2.06.94z\"/><path d=\"M17.41 7.96l-1.37-1.37c-.4-.4-.92-.59-1.43-.59-.52 0-1.04.2-1.43.59L10.3 9.45l-7.72 7.72c-.78.78-.78 2.05 0 2.83L4 21.41c.39.39.9.59 1.41.59.51 0 1.02-.2 1.41-.59l7.78-7.78 2.81-2.81c.8-.78.8-2.07 0-2.86zM5.41 20L4 18.59l7.72-7.72 1.47 1.35L5.41 20z\"/>\n",
              "  </svg>\n",
              "      </button>\n",
              "      \n",
              "  <style>\n",
              "    .colab-df-container {\n",
              "      display:flex;\n",
              "      flex-wrap:wrap;\n",
              "      gap: 12px;\n",
              "    }\n",
              "\n",
              "    .colab-df-convert {\n",
              "      background-color: #E8F0FE;\n",
              "      border: none;\n",
              "      border-radius: 50%;\n",
              "      cursor: pointer;\n",
              "      display: none;\n",
              "      fill: #1967D2;\n",
              "      height: 32px;\n",
              "      padding: 0 0 0 0;\n",
              "      width: 32px;\n",
              "    }\n",
              "\n",
              "    .colab-df-convert:hover {\n",
              "      background-color: #E2EBFA;\n",
              "      box-shadow: 0px 1px 2px rgba(60, 64, 67, 0.3), 0px 1px 3px 1px rgba(60, 64, 67, 0.15);\n",
              "      fill: #174EA6;\n",
              "    }\n",
              "\n",
              "    [theme=dark] .colab-df-convert {\n",
              "      background-color: #3B4455;\n",
              "      fill: #D2E3FC;\n",
              "    }\n",
              "\n",
              "    [theme=dark] .colab-df-convert:hover {\n",
              "      background-color: #434B5C;\n",
              "      box-shadow: 0px 1px 3px 1px rgba(0, 0, 0, 0.15);\n",
              "      filter: drop-shadow(0px 1px 2px rgba(0, 0, 0, 0.3));\n",
              "      fill: #FFFFFF;\n",
              "    }\n",
              "  </style>\n",
              "\n",
              "      <script>\n",
              "        const buttonEl =\n",
              "          document.querySelector('#df-7be6cdbd-c560-40fa-a928-1ffc4a407145 button.colab-df-convert');\n",
              "        buttonEl.style.display =\n",
              "          google.colab.kernel.accessAllowed ? 'block' : 'none';\n",
              "\n",
              "        async function convertToInteractive(key) {\n",
              "          const element = document.querySelector('#df-7be6cdbd-c560-40fa-a928-1ffc4a407145');\n",
              "          const dataTable =\n",
              "            await google.colab.kernel.invokeFunction('convertToInteractive',\n",
              "                                                     [key], {});\n",
              "          if (!dataTable) return;\n",
              "\n",
              "          const docLinkHtml = 'Like what you see? Visit the ' +\n",
              "            '<a target=\"_blank\" href=https://colab.research.google.com/notebooks/data_table.ipynb>data table notebook</a>'\n",
              "            + ' to learn more about interactive tables.';\n",
              "          element.innerHTML = '';\n",
              "          dataTable['output_type'] = 'display_data';\n",
              "          await google.colab.output.renderOutput(dataTable, element);\n",
              "          const docLink = document.createElement('div');\n",
              "          docLink.innerHTML = docLinkHtml;\n",
              "          element.appendChild(docLink);\n",
              "        }\n",
              "      </script>\n",
              "    </div>\n",
              "  </div>\n",
              "  "
            ]
          },
          "metadata": {},
          "execution_count": 1
        }
      ],
      "source": [
        "''' Q1. Pearson correlation coefficient is a measure of the linear relationship between two variables. Suppose you have collected data on the amount of time students spend studying for an exam and their final exam\n",
        "scores. Calculate the Pearson correlation coefficient between these two variables and interpret the result.'''\n",
        "import pandas as pd\n",
        "df=pd.DataFrame({'Hrs of study':[3,5,4,2,1],'Results':[60,100,80,40,20]})\n",
        "print(df)\n",
        "df.corr(method='pearson')"
      ]
    },
    {
      "cell_type": "markdown",
      "source": [
        "##since the correlation coefficient is 1,the amount of time students spend studying for an exam and their final exam scores is positively correlated."
      ],
      "metadata": {
        "id": "mg6eWU-57bZl"
      }
    },
    {
      "cell_type": "code",
      "source": [
        "'''Q2. Spearman's rank correlation is a measure of the monotonic relationship between two variables.Suppose you have collected data on the amount of sleep individuals get each night and their overall job\n",
        "satisfaction level on a scale of 1 to 10. Calculate the Spearman's rank correlation between these two variables and interpret the result.'''\n",
        "df=pd.DataFrame({'Hrs of sleep':[8,5,3,10,6],'Job satisfaction':[6,4,2,10,7]})\n",
        "print(df)\n",
        "df.corr(method='spearman')"
      ],
      "metadata": {
        "colab": {
          "base_uri": "https://localhost:8080/",
          "height": 216
        },
        "id": "Fbmth32K7yG8",
        "outputId": "a513b47a-f0b8-452d-8299-de084311ad75"
      },
      "execution_count": 2,
      "outputs": [
        {
          "output_type": "stream",
          "name": "stdout",
          "text": [
            "   Hrs of sleep  Job satisfaction\n",
            "0             8                 6\n",
            "1             5                 4\n",
            "2             3                 2\n",
            "3            10                10\n",
            "4             6                 7\n"
          ]
        },
        {
          "output_type": "execute_result",
          "data": {
            "text/plain": [
              "                  Hrs of sleep  Job satisfaction\n",
              "Hrs of sleep               1.0               0.9\n",
              "Job satisfaction           0.9               1.0"
            ],
            "text/html": [
              "\n",
              "  <div id=\"df-f5a870a6-300e-4a5a-b2a4-ad8ed54a2f81\">\n",
              "    <div class=\"colab-df-container\">\n",
              "      <div>\n",
              "<style scoped>\n",
              "    .dataframe tbody tr th:only-of-type {\n",
              "        vertical-align: middle;\n",
              "    }\n",
              "\n",
              "    .dataframe tbody tr th {\n",
              "        vertical-align: top;\n",
              "    }\n",
              "\n",
              "    .dataframe thead th {\n",
              "        text-align: right;\n",
              "    }\n",
              "</style>\n",
              "<table border=\"1\" class=\"dataframe\">\n",
              "  <thead>\n",
              "    <tr style=\"text-align: right;\">\n",
              "      <th></th>\n",
              "      <th>Hrs of sleep</th>\n",
              "      <th>Job satisfaction</th>\n",
              "    </tr>\n",
              "  </thead>\n",
              "  <tbody>\n",
              "    <tr>\n",
              "      <th>Hrs of sleep</th>\n",
              "      <td>1.0</td>\n",
              "      <td>0.9</td>\n",
              "    </tr>\n",
              "    <tr>\n",
              "      <th>Job satisfaction</th>\n",
              "      <td>0.9</td>\n",
              "      <td>1.0</td>\n",
              "    </tr>\n",
              "  </tbody>\n",
              "</table>\n",
              "</div>\n",
              "      <button class=\"colab-df-convert\" onclick=\"convertToInteractive('df-f5a870a6-300e-4a5a-b2a4-ad8ed54a2f81')\"\n",
              "              title=\"Convert this dataframe to an interactive table.\"\n",
              "              style=\"display:none;\">\n",
              "        \n",
              "  <svg xmlns=\"http://www.w3.org/2000/svg\" height=\"24px\"viewBox=\"0 0 24 24\"\n",
              "       width=\"24px\">\n",
              "    <path d=\"M0 0h24v24H0V0z\" fill=\"none\"/>\n",
              "    <path d=\"M18.56 5.44l.94 2.06.94-2.06 2.06-.94-2.06-.94-.94-2.06-.94 2.06-2.06.94zm-11 1L8.5 8.5l.94-2.06 2.06-.94-2.06-.94L8.5 2.5l-.94 2.06-2.06.94zm10 10l.94 2.06.94-2.06 2.06-.94-2.06-.94-.94-2.06-.94 2.06-2.06.94z\"/><path d=\"M17.41 7.96l-1.37-1.37c-.4-.4-.92-.59-1.43-.59-.52 0-1.04.2-1.43.59L10.3 9.45l-7.72 7.72c-.78.78-.78 2.05 0 2.83L4 21.41c.39.39.9.59 1.41.59.51 0 1.02-.2 1.41-.59l7.78-7.78 2.81-2.81c.8-.78.8-2.07 0-2.86zM5.41 20L4 18.59l7.72-7.72 1.47 1.35L5.41 20z\"/>\n",
              "  </svg>\n",
              "      </button>\n",
              "      \n",
              "  <style>\n",
              "    .colab-df-container {\n",
              "      display:flex;\n",
              "      flex-wrap:wrap;\n",
              "      gap: 12px;\n",
              "    }\n",
              "\n",
              "    .colab-df-convert {\n",
              "      background-color: #E8F0FE;\n",
              "      border: none;\n",
              "      border-radius: 50%;\n",
              "      cursor: pointer;\n",
              "      display: none;\n",
              "      fill: #1967D2;\n",
              "      height: 32px;\n",
              "      padding: 0 0 0 0;\n",
              "      width: 32px;\n",
              "    }\n",
              "\n",
              "    .colab-df-convert:hover {\n",
              "      background-color: #E2EBFA;\n",
              "      box-shadow: 0px 1px 2px rgba(60, 64, 67, 0.3), 0px 1px 3px 1px rgba(60, 64, 67, 0.15);\n",
              "      fill: #174EA6;\n",
              "    }\n",
              "\n",
              "    [theme=dark] .colab-df-convert {\n",
              "      background-color: #3B4455;\n",
              "      fill: #D2E3FC;\n",
              "    }\n",
              "\n",
              "    [theme=dark] .colab-df-convert:hover {\n",
              "      background-color: #434B5C;\n",
              "      box-shadow: 0px 1px 3px 1px rgba(0, 0, 0, 0.15);\n",
              "      filter: drop-shadow(0px 1px 2px rgba(0, 0, 0, 0.3));\n",
              "      fill: #FFFFFF;\n",
              "    }\n",
              "  </style>\n",
              "\n",
              "      <script>\n",
              "        const buttonEl =\n",
              "          document.querySelector('#df-f5a870a6-300e-4a5a-b2a4-ad8ed54a2f81 button.colab-df-convert');\n",
              "        buttonEl.style.display =\n",
              "          google.colab.kernel.accessAllowed ? 'block' : 'none';\n",
              "\n",
              "        async function convertToInteractive(key) {\n",
              "          const element = document.querySelector('#df-f5a870a6-300e-4a5a-b2a4-ad8ed54a2f81');\n",
              "          const dataTable =\n",
              "            await google.colab.kernel.invokeFunction('convertToInteractive',\n",
              "                                                     [key], {});\n",
              "          if (!dataTable) return;\n",
              "\n",
              "          const docLinkHtml = 'Like what you see? Visit the ' +\n",
              "            '<a target=\"_blank\" href=https://colab.research.google.com/notebooks/data_table.ipynb>data table notebook</a>'\n",
              "            + ' to learn more about interactive tables.';\n",
              "          element.innerHTML = '';\n",
              "          dataTable['output_type'] = 'display_data';\n",
              "          await google.colab.output.renderOutput(dataTable, element);\n",
              "          const docLink = document.createElement('div');\n",
              "          docLink.innerHTML = docLinkHtml;\n",
              "          element.appendChild(docLink);\n",
              "        }\n",
              "      </script>\n",
              "    </div>\n",
              "  </div>\n",
              "  "
            ]
          },
          "metadata": {},
          "execution_count": 2
        }
      ]
    },
    {
      "cell_type": "markdown",
      "source": [
        "## since the correlation cofficient is 0.9 and it is positive,the amount of sleep individuals get each night and their overall job satisfaction level is positively correlated."
      ],
      "metadata": {
        "id": "0dlHiUsn8tZI"
      }
    },
    {
      "cell_type": "code",
      "source": [
        "'''Q3. Suppose you are conducting a study to examine the relationship between the number of hours of exercise per week and body mass index (BMI) in a sample of adults. You collected data on both variables\n",
        "for 50 participants. Calculate the Pearson correlation coefficient and the Spearman's rank correlation between these two variables and compare the results.'''\n",
        "import random\n",
        "import pandas as pd\n",
        "sleep_hrs=[random.randint(3,10) for i in range(50)]\n",
        "BMI=[random.randint(16,32) for i in range(50)]\n",
        "df=pd.DataFrame({'Hours_of_sleep':sleep_hrs,'BMI values':BMI})\n",
        "print('Using pearson correlation technique')\n",
        "print(df.corr(method='pearson'))\n",
        "print('Using spearman correlation technique')\n",
        "print(df.corr(method='spearman'))"
      ],
      "metadata": {
        "colab": {
          "base_uri": "https://localhost:8080/"
        },
        "id": "zy0j26BU9Ixr",
        "outputId": "ee9fd269-3f19-4b50-d07b-2eed9f7653b9"
      },
      "execution_count": 3,
      "outputs": [
        {
          "output_type": "stream",
          "name": "stdout",
          "text": [
            "Using pearson correlation technique\n",
            "                Hours_of_sleep  BMI values\n",
            "Hours_of_sleep        1.000000   -0.041543\n",
            "BMI values           -0.041543    1.000000\n",
            "Using spearman correlation technique\n",
            "                Hours_of_sleep  BMI values\n",
            "Hours_of_sleep        1.000000   -0.011674\n",
            "BMI values           -0.011674    1.000000\n"
          ]
        }
      ]
    },
    {
      "cell_type": "markdown",
      "source": [
        "## Correlation calculated using pearson correlation technique is smaller than the correlation calculated using spearman correlation technique.\n",
        "- pearson correlation coefficient-0.029011\n",
        "- spearman correlation coefficient-0.034277    "
      ],
      "metadata": {
        "id": "NGHqyWUwAw0N"
      }
    },
    {
      "cell_type": "code",
      "source": [
        "'''Q4. A researcher is interested in examining the relationship between the number of hours individuals spend watching television per day and their level of physical activity. The researcher collected data on\n",
        "both variables from a sample of 50 participants. Calculate the Pearson correlation coefficient between these two variables.'''\n",
        "import random\n",
        "import pandas as pd\n",
        "tv_hrs=[random.randint(1,8) for i in range(50)]\n",
        "pa=[random.randint(1,10) for i in range(50)]\n",
        "df=pd.DataFrame({'Hours_of_Tv':tv_hrs,'Level pf pysical activity':pa})\n",
        "print('Using pearson correlation technique')\n",
        "print(df.corr(method='pearson'))"
      ],
      "metadata": {
        "colab": {
          "base_uri": "https://localhost:8080/"
        },
        "id": "pn3nsj4tBAIl",
        "outputId": "f2c36fdd-f249-440c-c746-4ce4156b827d"
      },
      "execution_count": 4,
      "outputs": [
        {
          "output_type": "stream",
          "name": "stdout",
          "text": [
            "Using pearson correlation technique\n",
            "                           Hours_of_Tv  Level pf pysical activity\n",
            "Hours_of_Tv                   1.000000                  -0.117414\n",
            "Level pf pysical activity    -0.117414                   1.000000\n"
          ]
        }
      ]
    },
    {
      "cell_type": "markdown",
      "source": [
        "0.019124 is the pearson correlation coefficient."
      ],
      "metadata": {
        "id": "tEw6bXsTCW4T"
      }
    },
    {
      "cell_type": "code",
      "source": [
        "## Q5. A survey was conducted to examine the relationship between age and preference for a particular brand of soft drink.\n",
        "import pandas as pd\n",
        "import seaborn as sns\n",
        "df=pd.DataFrame({'age':[25,42,37,19,31,28],'Soft_drink_Preference':['Coke','Pepsi','Mountain dew','Coke','Pepsi','Coke']})\n",
        "sns.catplot(data=df,x='age',y='Soft_drink_Preference')"
      ],
      "metadata": {
        "colab": {
          "base_uri": "https://localhost:8080/",
          "height": 386
        },
        "id": "QFR1eFzeC0p1",
        "outputId": "462a6f20-ebbe-4b98-9d32-dfd99d44f06c"
      },
      "execution_count": 5,
      "outputs": [
        {
          "output_type": "execute_result",
          "data": {
            "text/plain": [
              "<seaborn.axisgrid.FacetGrid at 0x7f03ff8f8fd0>"
            ]
          },
          "metadata": {},
          "execution_count": 5
        },
        {
          "output_type": "display_data",
          "data": {
            "text/plain": [
              "<Figure size 360x360 with 1 Axes>"
            ],
            "image/png": "[encoded data removed]"
          },
          "metadata": {
            "needs_background": "light"
          }
        }
      ]
    },
    {
      "cell_type": "markdown",
      "source": [
        "#Observation\n",
        "- People from age 19 to 31 prefer coke, Greter than 31 perfers other soft drinks."
      ],
      "metadata": {
        "id": "NY6GbjAqIXIr"
      }
    },
    {
      "cell_type": "code",
      "source": [
        "'''Q6. A company is interested in examining the relationship between the number of sales calls made per day and the number of sales made per week. The company collected data on both variables from a sample of\n",
        "30 sales representatives. Calculate the Pearson correlation coefficient between these two variables.'''\n",
        "import random\n",
        "import pandas as pd\n",
        "no_of_calls=[random.randint(1,10) for i in range(30)]\n",
        "no_of_sales=[random.randint(1,20) for i in range(30)]\n",
        "df=pd.DataFrame({'Calls':no_of_calls,'sales':no_of_sales})\n",
        "print('Using pearson correlation technique')\n",
        "print(df.corr(method='pearson'))"
      ],
      "metadata": {
        "colab": {
          "base_uri": "https://localhost:8080/"
        },
        "id": "qrSpzL8LBoF9",
        "outputId": "ad46b1da-6537-4ee3-ac9b-a58e4748606c"
      },
      "execution_count": 6,
      "outputs": [
        {
          "output_type": "stream",
          "name": "stdout",
          "text": [
            "Using pearson correlation technique\n",
            "          Calls     sales\n",
            "Calls  1.000000  0.133347\n",
            "sales  0.133347  1.000000\n"
          ]
        }
      ]
    },
    {
      "cell_type": "markdown",
      "source": [
        " 0.287528 is the pearson correlation coefficient."
      ],
      "metadata": {
        "id": "iqu5ywCqCNHu"
      }
    }
  ]
}