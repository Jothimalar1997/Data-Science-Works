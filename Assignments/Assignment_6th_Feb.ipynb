{
  "nbformat": 4,
  "nbformat_minor": 0,
  "metadata": {
    "colab": {
      "provenance": []
    },
    "kernelspec": {
      "name": "python3",
      "display_name": "Python 3"
    },
    "language_info": {
      "name": "python"
    }
  },
  "cells": [
    {
      "cell_type": "code",
      "execution_count": 1,
      "metadata": {
        "colab": {
          "base_uri": "https://localhost:8080/"
        },
        "id": "eahulkqwqfJl",
        "outputId": "8329545e-7309-4e51-b50f-371c4198b07c"
      },
      "outputs": [
        {
          "output_type": "stream",
          "name": "stdout",
          "text": [
            "[1, 2, 3, 4, 44, 55, 66, 34, 56, 78, 89, 34, 1, 2, 3, 1, 4, 34, 55, 67, 78, 89, 45, 22, 61, 34, 56]\n",
            "4134711838987085478833841242112000\n"
          ]
        }
      ],
      "source": [
        "# 1) Product of all numbers in the list:\n",
        "from functools import reduce\n",
        "list1=[1,2,3,4,[44,55,66,True],False,(34,56,78,89,34),{1,2,3,3,2,1},{1:34,\"key2\":[55,67,78,89],4:(45,22,61,34)},[56,'data science'],'Machine Learning']\n",
        "list2=[]     # To create flat list\n",
        "for i in list1:\n",
        "  if(type(i)==int):\n",
        "    list2.append(i)\n",
        "  elif(type(i)==list or type(i)==set or type(i)==tuple):\n",
        "    list3=list(i)\n",
        "    for j in list3:\n",
        "       if(type(j)==int):\n",
        "           list2.append(j)\n",
        "  elif(type(i)==dict):\n",
        "    list4=list(i.keys())\n",
        "    for k in i.values():\n",
        "      if(type(k)==int):\n",
        "         list4.append(k)\n",
        "      elif(type(k)==list or type(k)==set or type(k)==tuple):\n",
        "         list5=list(k)\n",
        "         for p in list5:\n",
        "            if(type(p)==int):\n",
        "                list4.append(p)\n",
        "    for j in list4:\n",
        "       if(type(j)==int):\n",
        "           list2.append(j)\n",
        "print(list2)   # Print flat list\n",
        "product=(reduce(lambda x,y:x*y,list2))\n",
        "print(product) # Print product of all numbers in the flat list"
      ]
    },
    {
      "cell_type": "code",
      "source": [
        "sentence=input(\"Enter the sentence: \")\n",
        "list1=list(chr(i) for i in range(97,123)) # Stores elements from a to z\n",
        "list2=list(reversed(list1))               # Stores elements from a to z in reverse order\n",
        "sentence1=sentence.lower()\n",
        "output=\"\"\n",
        "for i in sentence1:\n",
        "  if i==\" \":\n",
        "    output+='$'\n",
        "  elif i in list1:\n",
        "    index_position=list1.index(i)\n",
        "    output+=list2[index_position]\n",
        "  else:\n",
        "    output+=i\n",
        "print(\"Encrypted message: \",output)"
      ],
      "metadata": {
        "colab": {
          "base_uri": "https://localhost:8080/"
        },
        "id": "ESLDukFQvcv5",
        "outputId": "10bf1a95-2511-4927-e715-b289a7bcd445"
      },
      "execution_count": 2,
      "outputs": [
        {
          "output_type": "stream",
          "name": "stdout",
          "text": [
            "Enter the sentence: I want to become a Data Scientist\n",
            "Encrypted message:  r$dzmg$gl$yvxlnv$z$wzgz$hxrvmgrhg\n"
          ]
        }
      ]
    }
  ]
}