{
  "nbformat": 4,
  "nbformat_minor": 0,
  "metadata": {
    "colab": {
      "provenance": []
    },
    "kernelspec": {
      "name": "python3",
      "display_name": "Python 3"
    },
    "language_info": {
      "name": "python"
    }
  },
  "cells": [
    {
      "cell_type": "code",
      "execution_count": 1,
      "metadata": {
        "colab": {
          "base_uri": "https://localhost:8080/",
          "height": 35
        },
        "id": "SFyYLZ20vJhg",
        "outputId": "f99537aa-6bca-4cc1-d24d-e30a9e9b1299"
      },
      "outputs": [
        {
          "output_type": "execute_result",
          "data": {
            "text/plain": [
              "'The three measures of central tendency are mean,median and mode.'"
            ],
            "application/vnd.google.colaboratory.intrinsic+json": {
              "type": "string"
            }
          },
          "metadata": {},
          "execution_count": 1
        }
      ],
      "source": [
        "## Q1. What are the three measures of central tendency?\n",
        "'''The three measures of central tendency are mean,median and mode.'''"
      ]
    },
    {
      "cell_type": "code",
      "source": [
        "## Q2. What is the difference between the mean, median, and mode? How are they used to measure the central tendency of a dataset?\n",
        "'''Mean is the average number you get by dividing the sum of a set of values by the number of values in the set.\n",
        "Median is the middle number in a set of values when those values are arranged from smallest to largest. \n",
        "Mode is the the most frequently repeated value in the set.\n",
        "Uses:\n",
        "The mode can be used for any level of measurement, but it’s most meaningful for nominal and ordinal levels.\n",
        "The median can only be used on data that can be ordered – that is, from ordinal, interval and ratio levels of measurement.\n",
        "The mean can only be used on interval and ratio levels of measurement because it requires equal spacing between adjacent values or scores in the scale.'''"
      ],
      "metadata": {
        "colab": {
          "base_uri": "https://localhost:8080/",
          "height": 70
        },
        "id": "vzD4P1UVwL9M",
        "outputId": "ffda8b56-5fbf-44c6-90c8-7e7d063367e8"
      },
      "execution_count": 2,
      "outputs": [
        {
          "output_type": "execute_result",
          "data": {
            "text/plain": [
              "'Mean is the average number you get by dividing the sum of a set of values by the number of values in the set.\\nMedian is the middle number in a set of values when those values are arranged from smallest to largest. \\nMode is the the most frequently repeated value in the set.\\nUses:\\nThe mode can be used for any level of measurement, but it’s most meaningful for nominal and ordinal levels.\\nThe median can only be used on data that can be ordered – that is, from ordinal, interval and ratio levels of measurement.\\nThe mean can only be used on interval and ratio levels of measurement because it requires equal spacing between adjacent values or scores in the scale.'"
            ],
            "application/vnd.google.colaboratory.intrinsic+json": {
              "type": "string"
            }
          },
          "metadata": {},
          "execution_count": 2
        }
      ]
    },
    {
      "cell_type": "code",
      "source": [
        "## Q3. Measure the three measures of central tendency for the given height data:\n",
        "import numpy as np\n",
        "from scipy import stats\n",
        "data=[178,177,176,177,178.2,178,175,179,180,175,178.9,176.2,177,172.5,178,176.5]\n",
        "mean=np.mean(data)\n",
        "median=np.median(data)\n",
        "mode=stats.mode(data)\n",
        "print(f\"Mean is {mean}, Median is {median} and Mode is {mode}\")"
      ],
      "metadata": {
        "colab": {
          "base_uri": "https://localhost:8080/"
        },
        "id": "OzTP2amBxtVl",
        "outputId": "53be27b8-2885-4228-8015-526df30e66eb"
      },
      "execution_count": 3,
      "outputs": [
        {
          "output_type": "stream",
          "name": "stdout",
          "text": [
            "Mean is 177.01875, Median is 177.0 and Mode is ModeResult(mode=array([177.]), count=array([3]))\n"
          ]
        },
        {
          "output_type": "stream",
          "name": "stderr",
          "text": [
            "<ipython-input-3-91959d3404df>:7: FutureWarning: Unlike other reduction functions (e.g. `skew`, `kurtosis`), the default behavior of `mode` typically preserves the axis it acts along. In SciPy 1.11.0, this behavior will change: the default value of `keepdims` will become False, the `axis` over which the statistic is taken will be eliminated, and the value None will no longer be accepted. Set `keepdims` to True or False to avoid this warning.\n",
            "  mode=stats.mode(data)\n"
          ]
        }
      ]
    },
    {
      "cell_type": "code",
      "source": [
        "## Q4. Find the standard deviation for the given data:\n",
        "data=[178,177,176,177,178.2,178,175,179,180,175,178.9,176.2,177,172.5,178,176.5]\n",
        "std=np.std(data)\n",
        "print(f\"Standard deviation is {std}\")"
      ],
      "metadata": {
        "colab": {
          "base_uri": "https://localhost:8080/"
        },
        "id": "wCtn6XDhypNb",
        "outputId": "7e51df4b-42a9-49ce-f3f6-536a994cf482"
      },
      "execution_count": 4,
      "outputs": [
        {
          "output_type": "stream",
          "name": "stdout",
          "text": [
            "Standard deviation is 1.7885814036548633\n"
          ]
        }
      ]
    },
    {
      "cell_type": "code",
      "source": [
        "## Q5. How are measures of dispersion such as range, variance, and standard deviation used to describe the spread of a dataset? Provide an example.\n",
        "'''The measure of dispersion shows the scatterings of the data. It tells the variation of the data from one another and gives a clear idea about the distribution of the data. \n",
        "The measure of dispersion shows the homogeneity or the heterogeneity of the distribution of the observations.\n",
        "(i) Range refers to the difference between each series’ minimum and maximum values. \n",
        "The range offers us a good indication of how dispersed the data is, but we need other measures of variability to discover the dispersion of data from central tendency measurements. \n",
        "A range is the most common and easily understandable measure of dispersion. It is the difference between two extreme observations of the data set. If X max and X min are the two extreme observations then\n",
        "Range = X max – X min.(the difference between the largest and smallest data points in a set)\n",
        "(ii) Standard deviation is the square root of the variance. Standard deviation is a measure of how spread out the data is from its mean. \n",
        "(iii) Variance is a measure of how spread out a group of data points is. Specifically, it quantifies the average squared deviation from the mean. \n",
        "So, if all data points are very close to the mean, the variance will be small; if data points are spread out over a wide range, the variance will be larger.'''\n",
        "data=[178,177,176,177,178.2,178,175,179,180,175,178.9,176.2,177,172.5,178,176.5]\n",
        "range=np.max(data)-np.min(data)\n",
        "var=np.var(data)\n",
        "std=np.std(data)\n",
        "print(f\"Range is {range}, variance is {var} and standard deviation is {std}\")"
      ],
      "metadata": {
        "colab": {
          "base_uri": "https://localhost:8080/"
        },
        "id": "Rvyf6YnDzDUd",
        "outputId": "08d1a24e-b533-488a-9ed7-b212763eb63f"
      },
      "execution_count": 5,
      "outputs": [
        {
          "output_type": "stream",
          "name": "stdout",
          "text": [
            "Range is 7.5, variance is 3.199023437500001 and standard deviation is 1.7885814036548633\n"
          ]
        }
      ]
    },
    {
      "cell_type": "code",
      "source": [
        "## Q6. What is a Venn diagram?\n",
        "'''A Venn diagram is an illustration that uses circles to show the relationships among things or finite groups of things. \n",
        "Circles that overlap have a commonality while circles that do not overlap do not share those traits. \n",
        "Venn diagrams help to visually represent the similarities and differences between two concepts.\n",
        "These are the diagrams that are used to represent the sets, relation between the sets and operation performed on them, in a pictorial way.'''"
      ],
      "metadata": {
        "colab": {
          "base_uri": "https://localhost:8080/",
          "height": 70
        },
        "id": "1Ke9DwMf1ZlF",
        "outputId": "eff8e14a-f536-4a66-b819-ece93dbb46c2"
      },
      "execution_count": 6,
      "outputs": [
        {
          "output_type": "execute_result",
          "data": {
            "text/plain": [
              "'A Venn diagram is an illustration that uses circles to show the relationships among things or finite groups of things. \\nCircles that overlap have a commonality while circles that do not overlap do not share those traits. \\nVenn diagrams help to visually represent the similarities and differences between two concepts.\\nThese are the diagrams that are used to represent the sets, relation between the sets and operation performed on them, in a pictorial way.'"
            ],
            "application/vnd.google.colaboratory.intrinsic+json": {
              "type": "string"
            }
          },
          "metadata": {},
          "execution_count": 6
        }
      ]
    },
    {
      "cell_type": "code",
      "source": [
        "## Q7. For the two given sets A = (2,3,4,5,6,7) & B = (0,2,6,8,10). Find: (i) A ⋂ B (ii) A ⋃ B\n",
        "A = {2,3,4,5,6,7}\n",
        "B = {0,2,6,8,10}\n",
        "union= A|B\n",
        "intersection= A&B\n",
        "print(f\"union is {union} and intersection is {intersection}\")"
      ],
      "metadata": {
        "colab": {
          "base_uri": "https://localhost:8080/"
        },
        "id": "EDfucCUq10eI",
        "outputId": "f868a45e-977c-4d97-ecfd-506eb7d69ea1"
      },
      "execution_count": 7,
      "outputs": [
        {
          "output_type": "stream",
          "name": "stdout",
          "text": [
            "union is {0, 2, 3, 4, 5, 6, 7, 8, 10} and intersection is {2, 6}\n"
          ]
        }
      ]
    },
    {
      "cell_type": "code",
      "source": [
        "## Q8. What do you understand about skewness in data?\n",
        "'''Skewness describes how much statistical data distribution is asymmetrical from the normal distribution, where distribution is equally divided on each side. \n",
        "If a distribution is not symmetrical or normal, it is skewed, i.e., the frequency distribution skewed to the left or right.\n",
        "Types of Skewness:\n",
        "If the distribution is symmetric, it has a skewness of 0 and its Mean = Median = Mode.\n",
        "There are two types of skewness:\n",
        "(i) Positive: The distribution is positively skewed, when most of the distribution frequency lies on the right side and has a longer and fatter right tail where the distribution’s Mean > median > Mode.\n",
        "(ii) Negative: The distribution is negatively skewed when most of the distribution frequency lies on the left side and has a longer and fatter left tail. Where the distribution’s Mean < Median < Mode.'''"
      ],
      "metadata": {
        "colab": {
          "base_uri": "https://localhost:8080/",
          "height": 87
        },
        "id": "qcf_mKBK2xrm",
        "outputId": "0aedd6d3-2470-4023-cc4e-db2092654e2b"
      },
      "execution_count": 8,
      "outputs": [
        {
          "output_type": "execute_result",
          "data": {
            "text/plain": [
              "'Skewness describes how much statistical data distribution is asymmetrical from the normal distribution, where distribution is equally divided on each side. \\nIf a distribution is not symmetrical or normal, it is skewed, i.e., the frequency distribution skewed to the left or right.\\nTypes of Skewness:\\nIf the distribution is symmetric, it has a skewness of 0 and its Mean = Median = Mode.\\nThere are two types of skewness:\\n(i) Positive: The distribution is positively skewed, when most of the distribution frequency lies on the right side and has a longer and fatter right tail where the distribution’s Mean > median > Mode.\\n(ii) Negative: The distribution is negatively skewed when most of the distribution frequency lies on the left side and has a longer and fatter left tail. Where the distribution’s Mean < Median < Mode.'"
            ],
            "application/vnd.google.colaboratory.intrinsic+json": {
              "type": "string"
            }
          },
          "metadata": {},
          "execution_count": 8
        }
      ]
    },
    {
      "cell_type": "code",
      "source": [
        "## Q9. If a data is right skewed then what will be the position of median with respect to mean?\n",
        "'''The distribution is positively skewed, when most of the distribution frequency lies on the right side and has a longer and fatter right tail where the distribution’s Mean > median > Mode.\n",
        "The position of median with respect to mean is right'''"
      ],
      "metadata": {
        "colab": {
          "base_uri": "https://localhost:8080/",
          "height": 53
        },
        "id": "Vja1rSUx3ZAE",
        "outputId": "632ab1d4-34cd-486a-eb2b-2da17f6a9f26"
      },
      "execution_count": 9,
      "outputs": [
        {
          "output_type": "execute_result",
          "data": {
            "text/plain": [
              "'The distribution is positively skewed, when most of the distribution frequency lies on the right side and has a longer and fatter right tail where the distribution’s Mean > median > Mode.\\nThe position of median with respect to mean is right'"
            ],
            "application/vnd.google.colaboratory.intrinsic+json": {
              "type": "string"
            }
          },
          "metadata": {},
          "execution_count": 9
        }
      ]
    },
    {
      "cell_type": "code",
      "source": [
        "## Q10. Explain the difference between covariance and correlation. How are these measures used in statistical analysis?\n",
        "'''Covariance indicates the extent of the variable being dependent on each other. Higher value denotes higher dependency.Correlation signifies the strength of association between the variables when the other things are constant.\n",
        "Correlation can be gathered from covariance.Correlation gives the value of covariance on a standard scale.\n",
        "The function of covariance is correlation. The values of correlation are standardized but covariance values are not.\n",
        "Covariance value lies between -∞ and +∞. But Correlation value lies between 1 and +1.\n",
        "Covariance will have a definite unit as it is concluded from the multiplication of numbers and their units.Correlation is a number without units but includes decimal values.\n",
        "Uses of these measures in statistical analysis:\n",
        "Covariance and correlation are two terms that are exactly opposite to each other. These are two statistical concepts used to determine the relationship between two random variables. \n",
        "However, they both are used in statistics and regression analysis. \n",
        "(i) Covariance shows us how the two variables vary, whereas correlation shows us the relationship and how they are related.\n",
        "(ii) Correlation defines how a change in one variable will impact the other, while covariance defines how two items vary together.'''"
      ],
      "metadata": {
        "colab": {
          "base_uri": "https://localhost:8080/",
          "height": 105
        },
        "id": "nTj4tGFB3uH9",
        "outputId": "c2849f62-1eca-4a4b-d7f0-edbd3d10a18a"
      },
      "execution_count": 10,
      "outputs": [
        {
          "output_type": "execute_result",
          "data": {
            "text/plain": [
              "'Covariance indicates the extent of the variable being dependent on each other. Higher value denotes higher dependency.Correlation signifies the strength of association between the variables when the other things are constant.\\nCorrelation can be gathered from covariance.Correlation gives the value of covariance on a standard scale.\\nThe function of covariance is correlation. The values of correlation are standardized but covariance values are not.\\nCovariance value lies between -∞ and +∞. But Correlation value lies between 1 and +1.\\nCovariance will have a definite unit as it is concluded from the multiplication of numbers and their units.Correlation is a number without units but includes decimal values.\\nUses of these measures in statistical analysis:\\nCovariance and correlation are two terms that are exactly opposite to each other. These are two statistical concepts used to determine the relationship between two random variables. \\nHowever, they both are used in statistics and regression analysis. \\n(i) Covariance shows us how the two variables vary, whereas correlation shows us the relationship and how they are related.\\n(ii) Correlation defines how a change in one variable will impact the other, while covariance defines how two items vary together.'"
            ],
            "application/vnd.google.colaboratory.intrinsic+json": {
              "type": "string"
            }
          },
          "metadata": {},
          "execution_count": 10
        }
      ]
    },
    {
      "cell_type": "code",
      "source": [
        "## Q11. What is the formula for calculating the sample mean? Provide an example calculation for a dataset.\n",
        "'''Sample mean is the average mean of the sample values considered.\n",
        "Let us consider a sample dataset where x={1,2,3,4,5}\n",
        "The mean for the given dataset is calculated by summing up all the data values and divide it by total number of sample elements present in the dataset.\n",
        "sample mean(s)=Σxi / n (where i ranges from o to n)\n",
        "s=(1+2+3+4+5)/5=15/5\n",
        "s=3'''"
      ],
      "metadata": {
        "colab": {
          "base_uri": "https://localhost:8080/",
          "height": 53
        },
        "id": "zAp-zfpt6JCs",
        "outputId": "64c300cf-b4fe-43d6-f754-dcf0134db518"
      },
      "execution_count": 11,
      "outputs": [
        {
          "output_type": "execute_result",
          "data": {
            "text/plain": [
              "'Sample mean is the average mean of the sample values considered.\\nLet us consider a sample dataset where x={1,2,3,4,5}\\nThe mean for the given dataset is calculated by summing up all the data values and divide it by total number of sample elements present in the dataset.\\nsample mean(s)=Σxi / n (where i ranges from o to n)\\ns=(1+2+3+4+5)/5=15/5\\ns=3'"
            ],
            "application/vnd.google.colaboratory.intrinsic+json": {
              "type": "string"
            }
          },
          "metadata": {},
          "execution_count": 11
        }
      ]
    },
    {
      "cell_type": "code",
      "source": [
        "## Q12. For a normal distribution data what is the relationship between its measure of central tendency?\n",
        "'''For a normal distribution data, the relationship between its measure of central tendency is mean=median=mode.'''"
      ],
      "metadata": {
        "colab": {
          "base_uri": "https://localhost:8080/",
          "height": 35
        },
        "id": "maqyrXn-7YhJ",
        "outputId": "c81f72e5-0303-4974-e0c6-5593c47018ab"
      },
      "execution_count": 12,
      "outputs": [
        {
          "output_type": "execute_result",
          "data": {
            "text/plain": [
              "'For a normal distribution data, the relationship between its measure of central tendency is mean=median=mode.'"
            ],
            "application/vnd.google.colaboratory.intrinsic+json": {
              "type": "string"
            }
          },
          "metadata": {},
          "execution_count": 12
        }
      ]
    },
    {
      "cell_type": "code",
      "source": [
        "## Q13. How is covariance different from correlation?\n",
        "'''(i) Covariance shows us how the two variables vary, whereas correlation shows us the relationship and how they are related.\n",
        "(ii) Correlation defines how a change in one variable will impact the other, while covariance defines how two items vary together.\n",
        "(iii) Covariance value lies between -∞ and +∞. But Correlation value lies between 1 and +1.\n",
        "(iv) The values of correlation are standardized but covariance values are not.\n",
        "Covariance indicates the extent of the variable being dependent on each other. Higher value denotes higher dependency.Correlation signifies the strength of association between the variables when the other things are constant.'''"
      ],
      "metadata": {
        "colab": {
          "base_uri": "https://localhost:8080/",
          "height": 70
        },
        "id": "sp8UpyXp7n3z",
        "outputId": "88d3363f-d320-4d88-e046-b4396158903d"
      },
      "execution_count": 13,
      "outputs": [
        {
          "output_type": "execute_result",
          "data": {
            "text/plain": [
              "'(i) Covariance shows us how the two variables vary, whereas correlation shows us the relationship and how they are related.\\n(ii) Correlation defines how a change in one variable will impact the other, while covariance defines how two items vary together.\\n(iii) Covariance value lies between -∞ and +∞. But Correlation value lies between 1 and +1.\\n(iv) The values of correlation are standardized but covariance values are not.\\nCovariance indicates the extent of the variable being dependent on each other. Higher value denotes higher dependency.Correlation signifies the strength of association between the variables when the other things are constant.'"
            ],
            "application/vnd.google.colaboratory.intrinsic+json": {
              "type": "string"
            }
          },
          "metadata": {},
          "execution_count": 13
        }
      ]
    },
    {
      "cell_type": "code",
      "source": [
        "## Q14. How do outliers affect measures of central tendency and dispersion? Provide an example.\n",
        "'''A outlier, which is a value vastly different from the majority of data, causes a skewed or misleading distribution in certain measures of central tendency within a data set, namely the mean and range.\n",
        "When a outlier is present it can effect the shape of the graph, if we have outliers to the right of the graph. \n",
        "These outliers are causing the mean to increase, but if we have outliers to the left of the graph these outliers are dragging down the mean. \n",
        "The affected mean or range incorrectly displays a bias toward the outlier value.\n",
        "This causes a conflict because the mean no longer provides a good representation of the data, alternatively we would much rather use the median. \n",
        "The median on the other hand is less likely to be affect by outliers.\n",
        "The median and mode values, which express other measures of central tendency, are largely unaffected by an outlier.\n",
        "Thus the measures of dispersion where mean is used to calculate their value also get affected.\n",
        "\n",
        "consider the dataset, x={1,2,3,4,5} where mean=3\n",
        "consider the dataset, x={1,2,3,4,5,100} where the presence of a outlier gives mean=38.333 which differs in value largely when compared to previous calculation which in turn affects the measure of dispersion.'''"
      ],
      "metadata": {
        "colab": {
          "base_uri": "https://localhost:8080/",
          "height": 105
        },
        "id": "NmITACuj8Jm7",
        "outputId": "75441fd9-2d99-4142-8efc-433bfa787fe7"
      },
      "execution_count": 14,
      "outputs": [
        {
          "output_type": "execute_result",
          "data": {
            "text/plain": [
              "'A outlier, which is a value vastly different from the majority of data, causes a skewed or misleading distribution in certain measures of central tendency within a data set, namely the mean and range.\\nWhen a outlier is present it can effect the shape of the graph, if we have outliers to the right of the graph. \\nThese outliers are causing the mean to increase, but if we have outliers to the left of the graph these outliers are dragging down the mean. \\nThe affected mean or range incorrectly displays a bias toward the outlier value.\\nThis causes a conflict because the mean no longer provides a good representation of the data, alternatively we would much rather use the median. \\nThe median on the other hand is less likely to be affect by outliers.\\nThe median and mode values, which express other measures of central tendency, are largely unaffected by an outlier.\\nThus the measures of dispersion where mean is used to calculate their value also get affected.\\n\\nconsider the dataset, x={1,2,3,4,5} where mean=3\\nconsider the dataset, x={1,2,3,4,5,100} where the presence of a outlier gives mean=38.333 which differs in value largely when compared to previous calculation which in turn affects the measure of dispersion.'"
            ],
            "application/vnd.google.colaboratory.intrinsic+json": {
              "type": "string"
            }
          },
          "metadata": {},
          "execution_count": 14
        }
      ]
    }
  ]
}